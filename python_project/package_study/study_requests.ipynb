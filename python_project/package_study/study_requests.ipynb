{
 "cells": [
  {
   "cell_type": "code",
   "execution_count": 1,
   "id": "82c080a4",
   "metadata": {
    "scrolled": true
   },
   "outputs": [
    {
     "name": "stdout",
     "output_type": "stream",
     "text": [
      "2.31.0\n"
     ]
    }
   ],
   "source": [
    "import requests\n",
    "print(requests.__version__)\n",
    "import urllib"
   ]
  },
  {
   "cell_type": "code",
   "execution_count": 2,
   "id": "b097eca5",
   "metadata": {},
   "outputs": [
    {
     "name": "stdout",
     "output_type": "stream",
     "text": [
      "<http.client.HTTPResponse object at 0x0000026B2A9BC310>\n",
      "[{\"id\":\"41315567503\",\"type\":\"PushEvent\",\"actor\":{\"id\":41898282,\"login\":\"github-actions[bot]\",\"displa\n"
     ]
    }
   ],
   "source": [
    "url = \"https://api.github.com/events\"\n",
    "resp = urllib.request.urlopen(url)\n",
    "print(resp)\n",
    "print(resp.read().decode('utf-8')[:100])"
   ]
  },
  {
   "cell_type": "code",
   "execution_count": 5,
   "id": "cf098eb8",
   "metadata": {
    "scrolled": false
   },
   "outputs": [
    {
     "name": "stdout",
     "output_type": "stream",
     "text": [
      "200\n",
      "[{\"id\":\"41315567647\",\"type\":\"PushEvent\",\"actor\":{\"id\":62459196,\"login\":\"egg528\",\"display_login\":\"egg\n"
     ]
    }
   ],
   "source": [
    "# GET请求\n",
    "proxy = {'http': '127.0.0.1:10809', 'https': '127.0.0.1:10809'}\n",
    "url = \"https://api.github.com/events\"\n",
    "resp = requests.get(url, proxies=proxy)\n",
    "print(resp.status_code)  # 打印状态码\n",
    "print(resp.text[:100])   # 打印响应内容"
   ]
  },
  {
   "cell_type": "code",
   "execution_count": 6,
   "id": "b19a9ee4",
   "metadata": {},
   "outputs": [
    {
     "name": "stdout",
     "output_type": "stream",
     "text": [
      "200\n",
      "{\n",
      "  \"args\": {}, \n",
      "  \"data\": \"\", \n",
      "  \"files\": {}, \n",
      "  \"form\": {\n",
      "    \"key\": \"value\"\n",
      "  }, \n",
      "  \"headers\": {\n",
      "\n"
     ]
    }
   ],
   "source": [
    "# POST请求：\n",
    "url = \"https://httpbin.org/post\"\n",
    "data = {'key':'value'}\n",
    "proxy = {'http': '127.0.0.1:10809', 'https': '127.0.0.1:10809'}\n",
    "resp = requests.post(url, data=data , proxies=proxy)\n",
    "print(resp.status_code)  # 打印状态码\n",
    "print(resp.text[:100])         # 打印响应内容"
   ]
  },
  {
   "cell_type": "code",
   "execution_count": 9,
   "id": "75ad7731",
   "metadata": {},
   "outputs": [
    {
     "name": "stdout",
     "output_type": "stream",
     "text": [
      "200\n",
      "{\"current_user_url\":\"https://api.github.com/user\",\"current_user_authorizations_html_url\":\"https://gi\n"
     ]
    }
   ],
   "source": [
    "# 传递请求头\n",
    "url = 'https://api.github.com'\n",
    "headers = {'User-Agent': 'my-app/0.0.1'}\n",
    "proxy = {'http': '127.0.0.1:10809', 'https': '127.0.0.1:10809'}\n",
    "resp = requests.get(url, headers=headers, proxies=proxy)\n",
    "print(resp.status_code)  # 打印状态码\n",
    "print(resp.text[:100])   # 打印响应内容"
   ]
  },
  {
   "cell_type": "code",
   "execution_count": 10,
   "id": "91e5219d",
   "metadata": {},
   "outputs": [
    {
     "name": "stdout",
     "output_type": "stream",
     "text": [
      "{\"current_user_url\":\"https://api.github.com/user\",\"current_user_authorizations_html_url\":\"https://gi\n",
      "{'current_user_url': 'https://api.github.com/user', 'current_user_authorizations_html_url': 'https://github.com/settings/connections/applications{/client_id}', 'authorizations_url': 'https://api.github.com/authorizations', 'code_search_url': 'https://api.github.com/search/code?q={query}{&page,per_page,sort,order}', 'commit_search_url': 'https://api.github.com/search/commits?q={query}{&page,per_page,sort,order}', 'emails_url': 'https://api.github.com/user/emails', 'emojis_url': 'https://api.github.com/emojis', 'events_url': 'https://api.github.com/events', 'feeds_url': 'https://api.github.com/feeds', 'followers_url': 'https://api.github.com/user/followers', 'following_url': 'https://api.github.com/user/following{/target}', 'gists_url': 'https://api.github.com/gists{/gist_id}', 'hub_url': 'https://api.github.com/hub', 'issue_search_url': 'https://api.github.com/search/issues?q={query}{&page,per_page,sort,order}', 'issues_url': 'https://api.github.com/issues', 'keys_url': 'https://api.github.com/user/keys', 'label_search_url': 'https://api.github.com/search/labels?q={query}&repository_id={repository_id}{&page,per_page}', 'notifications_url': 'https://api.github.com/notifications', 'organization_url': 'https://api.github.com/orgs/{org}', 'organization_repositories_url': 'https://api.github.com/orgs/{org}/repos{?type,page,per_page,sort}', 'organization_teams_url': 'https://api.github.com/orgs/{org}/teams', 'public_gists_url': 'https://api.github.com/gists/public', 'rate_limit_url': 'https://api.github.com/rate_limit', 'repository_url': 'https://api.github.com/repos/{owner}/{repo}', 'repository_search_url': 'https://api.github.com/search/repositories?q={query}{&page,per_page,sort,order}', 'current_user_repositories_url': 'https://api.github.com/user/repos{?type,page,per_page,sort}', 'starred_url': 'https://api.github.com/user/starred{/owner}{/repo}', 'starred_gists_url': 'https://api.github.com/gists/starred', 'topic_search_url': 'https://api.github.com/search/topics?q={query}{&page,per_page}', 'user_url': 'https://api.github.com/users/{user}', 'user_organizations_url': 'https://api.github.com/user/orgs', 'user_repositories_url': 'https://api.github.com/users/{user}/repos{?type,page,per_page,sort}', 'user_search_url': 'https://api.github.com/search/users?q={query}{&page,per_page,sort,order}'}\n",
      "b'{\"current_user_url\":\"https://api.github.com/user\",\"current_user_authorizations_html_url\":\"https://gi'\n"
     ]
    }
   ],
   "source": [
    "# 获取响应内容\n",
    "url = 'https://api.github.com'\n",
    "proxy = {'http': '127.0.0.1:10809', 'https': '127.0.0.1:10809'}\n",
    "resp = requests.get(url, proxies=proxy)\n",
    "\n",
    "print(resp.text[:100])\n",
    "print(resp.json())\n",
    "print(resp.content[:100])"
   ]
  },
  {
   "cell_type": "code",
   "execution_count": 11,
   "id": "d6ba87d5",
   "metadata": {},
   "outputs": [
    {
     "name": "stdout",
     "output_type": "stream",
     "text": [
      "{'Date': 'Sun, 25 Aug 2024 10:02:33 GMT', 'Content-Type': 'application/json; charset=utf-8', 'Cache-Control': 'public, max-age=60, s-maxage=60', 'Vary': 'Accept,Accept-Encoding, Accept, X-Requested-With', 'ETag': 'W/\"4f825cc84e1c733059d46e76e6df9db557ae5254f9625dfe8e1b09499c449438\"', 'X-GitHub-Media-Type': 'github.v3; format=json', 'x-github-api-version-selected': '2022-11-28', 'Access-Control-Expose-Headers': 'ETag, Link, Location, Retry-After, X-GitHub-OTP, X-RateLimit-Limit, X-RateLimit-Remaining, X-RateLimit-Used, X-RateLimit-Resource, X-RateLimit-Reset, X-OAuth-Scopes, X-Accepted-OAuth-Scopes, X-Poll-Interval, X-GitHub-Media-Type, X-GitHub-SSO, X-GitHub-Request-Id, Deprecation, Sunset', 'Access-Control-Allow-Origin': '*', 'Strict-Transport-Security': 'max-age=31536000; includeSubdomains; preload', 'X-Frame-Options': 'deny', 'X-Content-Type-Options': 'nosniff', 'X-XSS-Protection': '0', 'Referrer-Policy': 'origin-when-cross-origin, strict-origin-when-cross-origin', 'Content-Security-Policy': \"default-src 'none'\", 'Content-Encoding': 'gzip', 'Server': 'github.com', 'X-RateLimit-Limit': '60', 'X-RateLimit-Remaining': '44', 'X-RateLimit-Reset': '1724580170', 'X-RateLimit-Resource': 'core', 'X-RateLimit-Used': '16', 'Accept-Ranges': 'bytes', 'Content-Length': '510', 'X-GitHub-Request-Id': '8846:2FCD54:99BF08:A1278D:66CB0139'}\n"
     ]
    }
   ],
   "source": [
    "# 获取响应头\n",
    "url = 'https://api.github.com'\n",
    "proxy = {'http': '127.0.0.1:10809', 'https': '127.0.0.1:10809'}\n",
    "resp = requests.get(url, proxies=proxy)\n",
    "print(resp.headers)"
   ]
  },
  {
   "cell_type": "code",
   "execution_count": 15,
   "id": "0c825b96",
   "metadata": {},
   "outputs": [
    {
     "name": "stdout",
     "output_type": "stream",
     "text": [
      "{\n",
      "  \"cookies\": {\n",
      "    \"sessioncookie\": \"123456789\"\n",
      "  }\n",
      "}\n",
      "\n",
      "{\n",
      "  \"cookies\": {\n",
      "    \"sessioncookie\": \"123456789\"\n",
      "  }\n",
      "}\n",
      "\n"
     ]
    }
   ],
   "source": [
    "# 创建session\n",
    "# 会话对象允许我们在多个请求之间保持某些参数\n",
    "# 例如cookies、headers等。使用会话对象可以简化代码，提高效率\n",
    "session = requests.Session()\n",
    "session.headers.update({'User-Agent': 'my-app/0.0.1'})\n",
    "url = \"https://httpbin.org/cookies/set/sessioncookie/123456789\"\n",
    "# 发送第一请求，设置一个cookie\n",
    "response1 = session.get(url, proxies=proxy)\n",
    "print(response1.text[:100])\n",
    "\n",
    "# 发送第二个请求，获取之前设置的cookie\n",
    "response2 = session.get('https://httpbin.org/cookies', proxies=proxy)\n",
    "print(response2.text[:100])"
   ]
  },
  {
   "cell_type": "code",
   "execution_count": 16,
   "id": "ae9fc6e2",
   "metadata": {},
   "outputs": [
    {
     "name": "stdout",
     "output_type": "stream",
     "text": [
      "301\n",
      "https://github.com/\n"
     ]
    }
   ],
   "source": [
    "# 处理重定向\n",
    "# 通过allow_redirects参数来控制是否允许重定向\n",
    "\n",
    "url = \"http://github.com\"\n",
    "proxy = {'http': '127.0.0.1:10809', 'https': '127.0.0.1:10809'}\n",
    "resp = requests.get(url, allow_redirects=False, proxies=proxy)\n",
    "print(resp.status_code)  # 打印状态码\n",
    "print(resp.headers['Location'])  # 打印重定向的URL"
   ]
  },
  {
   "cell_type": "code",
   "execution_count": 19,
   "id": "612c7502",
   "metadata": {},
   "outputs": [
    {
     "name": "stdout",
     "output_type": "stream",
     "text": [
      "The request timed out.\n"
     ]
    }
   ],
   "source": [
    "url = \"https://httpbin.org/delay/10\"\n",
    "proxy = {'http': '127.0.0.1:10809', 'https': '127.0.0.1:10809'}\n",
    "try:\n",
    "    resp = requests.get(url, proxies=proxy, timeout=(3, 5))\n",
    "    print(resp.status_code)  # 打印状态码\n",
    "except requests.exceptions.Timeout:\n",
    "    print(\"The request timed out.\")"
   ]
  },
  {
   "cell_type": "code",
   "execution_count": 22,
   "id": "16851e2f",
   "metadata": {},
   "outputs": [
    {
     "name": "stdout",
     "output_type": "stream",
     "text": [
      "200\n",
      "{\n",
      "  \"args\": {}, \n",
      "  \"data\": \"\", \n",
      "  \"files\": {\n",
      "    \"file\": \"This is an example.txt.\"\n",
      "  }, \n",
      "  \"form\": {\n"
     ]
    }
   ],
   "source": [
    "files = {\n",
    "    \"file\": open(\"./data/example.txt\", \"rb\")\n",
    "}\n",
    "\n",
    "url = \"https://httpbin.org/post\"\n",
    "proxy = {'http': '127.0.0.1:10809', 'https': '127.0.0.1:10809'}\n",
    "resp = requests.post(url, proxies=proxy, files=files)\n",
    "print(resp.status_code)  # 打印状态码\n",
    "print(resp.text[:100])"
   ]
  },
  {
   "cell_type": "code",
   "execution_count": 23,
   "id": "32865f90",
   "metadata": {},
   "outputs": [
    {
     "name": "stdout",
     "output_type": "stream",
     "text": [
      "{\n",
      "  \"args\": {}, \n",
      "  \"headers\": {\n",
      "    \"Accept\": \"*/*\", \n",
      "    \"Accept-Encoding\": \"gzip, deflate\", \n",
      "    \"\n"
     ]
    }
   ],
   "source": [
    "from requests.auth import AuthBase\n",
    "\n",
    "# 自定义身份验证类\n",
    "class TokenAuth(AuthBase):\n",
    "    def __init__(self, token):\n",
    "        self.token = token\n",
    "\n",
    "    def __call__(self, r):\n",
    "        r.headers['Authorization'] = f'Bearer {self.token}'\n",
    "        return r\n",
    "\n",
    "# 使用自定义身份验证发送请求\n",
    "proxy = {'http': '127.0.0.1:10809', 'https': '127.0.0.1:10809'}\n",
    "response = requests.get('https://httpbin.org/get', proxies=proxy, auth=TokenAuth('my-token'))\n",
    "print(response.text[:100])\n"
   ]
  },
  {
   "cell_type": "code",
   "execution_count": 25,
   "id": "9f1dd19c",
   "metadata": {},
   "outputs": [
    {
     "name": "stdout",
     "output_type": "stream",
     "text": [
      "<RequestsCookieJar[<Cookie sessioncookie=123456789 for httpbin.org/>]>\n",
      "<RequestsCookieJar[<Cookie sessioncookie=123456789 for httpbin.org/>]>\n"
     ]
    }
   ],
   "source": [
    "\n",
    "\n",
    "# 创建一个会话对象\n",
    "session = requests.Session()\n",
    "\n",
    "# 设置一个cookie\n",
    "proxy = {'http': '127.0.0.1:10809', 'https': '127.0.0.1:10809'}\n",
    "session.get('https://httpbin.org/cookies/set/sessioncookie/123456789', proxies=proxy)\n",
    "\n",
    "# 获取所有cookies\n",
    "cookies = session.cookies\n",
    "print(cookies)\n",
    "\n",
    "# 删除一个cookie\n",
    "cookies.clear_expired_cookies()\n",
    "print(cookies)\n"
   ]
  }
 ],
 "metadata": {
  "kernelspec": {
   "display_name": "wz_py_3_8",
   "language": "python",
   "name": "wz_py_3_8"
  },
  "language_info": {
   "codemirror_mode": {
    "name": "ipython",
    "version": 3
   },
   "file_extension": ".py",
   "mimetype": "text/x-python",
   "name": "python",
   "nbconvert_exporter": "python",
   "pygments_lexer": "ipython3",
   "version": "3.8.16"
  }
 },
 "nbformat": 4,
 "nbformat_minor": 5
}
