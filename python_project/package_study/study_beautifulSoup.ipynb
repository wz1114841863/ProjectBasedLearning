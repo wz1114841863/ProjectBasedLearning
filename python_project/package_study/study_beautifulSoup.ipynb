{
 "cells": [
  {
   "cell_type": "code",
   "execution_count": 1,
   "id": "47bfcc74",
   "metadata": {},
   "outputs": [],
   "source": [
    "from bs4 import BeautifulSoup as bs"
   ]
  },
  {
   "cell_type": "code",
   "execution_count": 2,
   "id": "1c44be8c",
   "metadata": {},
   "outputs": [
    {
     "name": "stdout",
     "output_type": "stream",
     "text": [
      "<html><body><p>data</p></body></html>\n"
     ]
    }
   ],
   "source": [
    "soup = bs(\"<html>data</html>\")\n",
    "print(soup)"
   ]
  },
  {
   "cell_type": "code",
   "execution_count": 7,
   "id": "d8ef7e5d",
   "metadata": {},
   "outputs": [
    {
     "name": "stdout",
     "output_type": "stream",
     "text": [
      "<class 'bs4.element.Tag'>\n",
      "<b class=\"oldeat\">Extremely Bold</b>\n"
     ]
    }
   ],
   "source": [
    "# Tag\n",
    "soup = bs(\"<b class='oldeat'>Extremely Bold</b>\")\n",
    "tag = soup.b\n",
    "print(type(tag))\n",
    "print(tag)"
   ]
  },
  {
   "cell_type": "code",
   "execution_count": 9,
   "id": "622dd570",
   "metadata": {},
   "outputs": [
    {
     "name": "stdout",
     "output_type": "stream",
     "text": [
      "b\n",
      "{'class': ['oldeat']}\n",
      "['oldeat']\n"
     ]
    }
   ],
   "source": [
    "print(tag.name)\n",
    "print(tag.attrs)\n",
    "print(tag['class'])"
   ]
  },
  {
   "cell_type": "code",
   "execution_count": 10,
   "id": "d69af99a",
   "metadata": {},
   "outputs": [
    {
     "name": "stdout",
     "output_type": "stream",
     "text": [
      "<b class=\"verybold\" id=\"1\">Extremely Bold</b>\n"
     ]
    }
   ],
   "source": [
    "tag['class'] = 'verybold'\n",
    "tag['id'] = 1\n",
    "print(tag)"
   ]
  },
  {
   "cell_type": "code",
   "execution_count": 15,
   "id": "adac0b06",
   "metadata": {},
   "outputs": [
    {
     "name": "stdout",
     "output_type": "stream",
     "text": [
      "{'class': ['body', 'strikeout']}\n",
      "['body', 'strikeout']\n"
     ]
    }
   ],
   "source": [
    "css_soup = bs('<p class=\"body strikeout\"></p>')\n",
    "tag = css_soup.p\n",
    "print(tag.attrs)\n",
    "print(tag['class'])"
   ]
  },
  {
   "cell_type": "code",
   "execution_count": 16,
   "id": "3556cdc6",
   "metadata": {},
   "outputs": [
    {
     "data": {
      "text/plain": [
       "'my id'"
      ]
     },
     "execution_count": 16,
     "metadata": {},
     "output_type": "execute_result"
    }
   ],
   "source": [
    "id_soup = bs('<p id=\"my id\"></p>')\n",
    "id_soup.p['id']"
   ]
  },
  {
   "cell_type": "code",
   "execution_count": 17,
   "id": "a8c1a4a7",
   "metadata": {},
   "outputs": [
    {
     "name": "stdout",
     "output_type": "stream",
     "text": [
      "Extremely Bold\n"
     ]
    }
   ],
   "source": [
    "# NavigableString\n",
    "soup = bs(\"<b class='oldeat'>Extremely Bold</b>\")\n",
    "tag = soup.b\n",
    "print(tag.string)"
   ]
  },
  {
   "cell_type": "code",
   "execution_count": 19,
   "id": "7e1a01fe",
   "metadata": {},
   "outputs": [
    {
     "name": "stdout",
     "output_type": "stream",
     "text": [
      "<b class=\"oldeat\">No longer bold</b>\n"
     ]
    }
   ],
   "source": [
    "# tag中包含的字符串不能编辑,但是可以被替换成其它的字符串,\n",
    "tag.string.replace_with(\"No longer bold\")\n",
    "print(tag)"
   ]
  },
  {
   "cell_type": "code",
   "execution_count": 21,
   "id": "0be437a3",
   "metadata": {},
   "outputs": [
    {
     "name": "stdout",
     "output_type": "stream",
     "text": [
      "<html><body><b class=\"oldeat\">No longer bold</b></body></html>\n",
      "[document]\n"
     ]
    }
   ],
   "source": [
    "# BeautifulSoup 对象表示的是一个文档的全部内容\n",
    "# 大部分时候,可以把它当作 Tag 对象\n",
    "print(soup)\n",
    "print(soup.name)"
   ]
  },
  {
   "cell_type": "code",
   "execution_count": 23,
   "id": "64e7e684",
   "metadata": {},
   "outputs": [
    {
     "data": {
      "text/plain": [
       "bs4.element.Comment"
      ]
     },
     "execution_count": 23,
     "metadata": {},
     "output_type": "execute_result"
    }
   ],
   "source": [
    "# 注释部分comment\n",
    "# 一个特殊的NavigableString的子类\n",
    "soup = bs(\"<b><!--Hey, buddy. Want to buy a used parser?--></b>\")\n",
    "comment = soup.b.string\n",
    "type(comment)"
   ]
  },
  {
   "cell_type": "code",
   "execution_count": 25,
   "id": "5710a8df",
   "metadata": {},
   "outputs": [],
   "source": [
    "html_doc = \"\"\"\n",
    "    <html><head><title>The Dormouse's story</title></head>\n",
    "        <body>\n",
    "    <p class=\"title\"><b>The Dormouse's story</b></p>\n",
    "\n",
    "    <p class=\"story\">Once upon a time there were three little sisters; and their names were\n",
    "    <a href=\"http://example.com/elsie\" class=\"sister\" id=\"link1\">Elsie</a>,\n",
    "    <a href=\"http://example.com/lacie\" class=\"sister\" id=\"link2\">Lacie</a> and\n",
    "    <a href=\"http://example.com/tillie\" class=\"sister\" id=\"link3\">Tillie</a>;\n",
    "    and they lived at the bottom of a well.</p>\n",
    "\n",
    "    <p class=\"story\">...</p>\n",
    "\"\"\"\n",
    "soup = bs(html_doc, \"html.parser\")"
   ]
  },
  {
   "cell_type": "code",
   "execution_count": 28,
   "id": "b4c07b5e",
   "metadata": {},
   "outputs": [
    {
     "name": "stdout",
     "output_type": "stream",
     "text": [
      "<head><title>The Dormouse's story</title></head>\n",
      "<body>\n",
      "<p class=\"title\"><b>The Dormouse's story</b></p>\n",
      "<p class=\"story\">Once upon a time there were three little sisters; and their names were\n",
      "    <a class=\"sister\" href=\"http://example.com/elsie\" id=\"link1\">Elsie</a>,\n",
      "    <a class=\"sister\" href=\"http://example.com/lacie\" id=\"link2\">Lacie</a> and\n",
      "    <a class=\"sister\" href=\"http://example.com/tillie\" id=\"link3\">Tillie</a>;\n",
      "    and they lived at the bottom of a well.</p>\n",
      "<p class=\"story\">...</p>\n",
      "</body>\n",
      "<title>The Dormouse's story</title>\n",
      "<a class=\"sister\" href=\"http://example.com/elsie\" id=\"link1\">Elsie</a>\n"
     ]
    }
   ],
   "source": [
    "# 通过点取属性只能获得当前名字的第一个tag\n",
    "print(soup.head)\n",
    "print(soup.body)\n",
    "print(soup.title)\n",
    "print(soup.a)"
   ]
  },
  {
   "cell_type": "code",
   "execution_count": 29,
   "id": "1d6d8ed7",
   "metadata": {},
   "outputs": [
    {
     "data": {
      "text/plain": [
       "[<a class=\"sister\" href=\"http://example.com/elsie\" id=\"link1\">Elsie</a>,\n",
       " <a class=\"sister\" href=\"http://example.com/lacie\" id=\"link2\">Lacie</a>,\n",
       " <a class=\"sister\" href=\"http://example.com/tillie\" id=\"link3\">Tillie</a>]"
      ]
     },
     "execution_count": 29,
     "metadata": {},
     "output_type": "execute_result"
    }
   ],
   "source": [
    "# 获取所有同样tag的内容\n",
    "soup.find_all(\"a\")"
   ]
  },
  {
   "cell_type": "code",
   "execution_count": 35,
   "id": "7ec3de05",
   "metadata": {},
   "outputs": [
    {
     "name": "stdout",
     "output_type": "stream",
     "text": [
      "['\\n', <p class=\"title\"><b>The Dormouse's story</b></p>, '\\n', <p class=\"story\">Once upon a time there were three little sisters; and their names were\n",
      "    <a class=\"sister\" href=\"http://example.com/elsie\" id=\"link1\">Elsie</a>,\n",
      "    <a class=\"sister\" href=\"http://example.com/lacie\" id=\"link2\">Lacie</a> and\n",
      "    <a class=\"sister\" href=\"http://example.com/tillie\" id=\"link3\">Tillie</a>;\n",
      "    and they lived at the bottom of a well.</p>, '\\n', <p class=\"story\">...</p>, '\\n']\n",
      "\n",
      "\n",
      "<p class=\"title\"><b>The Dormouse's story</b></p>\n",
      "\n",
      "\n",
      "<p class=\"story\">Once upon a time there were three little sisters; and their names were\n",
      "    <a class=\"sister\" href=\"http://example.com/elsie\" id=\"link1\">Elsie</a>,\n",
      "    <a class=\"sister\" href=\"http://example.com/lacie\" id=\"link2\">Lacie</a> and\n",
      "    <a class=\"sister\" href=\"http://example.com/tillie\" id=\"link3\">Tillie</a>;\n",
      "    and they lived at the bottom of a well.</p>\n",
      "\n",
      "\n",
      "<p class=\"story\">...</p>\n",
      "\n",
      "\n"
     ]
    }
   ],
   "source": [
    "# 将tag的子节点以列表的形式输出\n",
    "print(soup.body.contents)\n",
    "for child in soup.body.children:\n",
    "    print(child)"
   ]
  },
  {
   "cell_type": "code",
   "execution_count": 36,
   "id": "4af9963d",
   "metadata": {},
   "outputs": [
    {
     "name": "stdout",
     "output_type": "stream",
     "text": [
      "<title>The Dormouse's story</title>\n",
      "The Dormouse's story\n"
     ]
    }
   ],
   "source": [
    "# .descendants 属性可以对所有tag的子孙节点进行递归循环\n",
    "for child in soup.head.descendants:\n",
    "    print(child)"
   ]
  },
  {
   "cell_type": "code",
   "execution_count": 37,
   "id": "6c022e29",
   "metadata": {},
   "outputs": [
    {
     "name": "stdout",
     "output_type": "stream",
     "text": [
      "'\\n'\n",
      "\"The Dormouse's story\"\n",
      "'\\n'\n",
      "'\\n'\n",
      "\"The Dormouse's story\"\n",
      "'\\n'\n",
      "'Once upon a time there were three little sisters; and their names were\\n    '\n",
      "'Elsie'\n",
      "',\\n    '\n",
      "'Lacie'\n",
      "' and\\n    '\n",
      "'Tillie'\n",
      "';\\n    and they lived at the bottom of a well.'\n",
      "'\\n'\n",
      "'...'\n",
      "'\\n'\n"
     ]
    }
   ],
   "source": [
    "for string in soup.strings:\n",
    "    print(repr(string))"
   ]
  },
  {
   "cell_type": "code",
   "execution_count": 39,
   "id": "0ba9985e",
   "metadata": {},
   "outputs": [
    {
     "name": "stdout",
     "output_type": "stream",
     "text": [
      "\"The Dormouse's story\"\n",
      "\"The Dormouse's story\"\n",
      "'Once upon a time there were three little sisters; and their names were'\n",
      "'Elsie'\n",
      "','\n",
      "'Lacie'\n",
      "'and'\n",
      "'Tillie'\n",
      "';\\n    and they lived at the bottom of a well.'\n",
      "'...'\n"
     ]
    }
   ],
   "source": [
    "# 去掉换行\n",
    "# 全部是空格的行会被忽略掉,段首和段末的空白会被删除\n",
    "for string in soup.stripped_strings:\n",
    "    print(repr(string))"
   ]
  },
  {
   "cell_type": "code",
   "execution_count": 41,
   "id": "0cdc6833",
   "metadata": {},
   "outputs": [
    {
     "name": "stdout",
     "output_type": "stream",
     "text": [
      "<title>The Dormouse's story</title>\n",
      "<head><title>The Dormouse's story</title></head>\n"
     ]
    }
   ],
   "source": [
    "# 使用parten, parents 得到父节点\n",
    "title_tag = soup.title\n",
    "print(title_tag)\n",
    "print(title_tag.parent)"
   ]
  },
  {
   "cell_type": "code",
   "execution_count": 46,
   "id": "b2f3a9c0",
   "metadata": {},
   "outputs": [
    {
     "name": "stdout",
     "output_type": "stream",
     "text": [
      "<a class=\"sister\" href=\"http://example.com/tillie\" id=\"link3\">Tillie</a>\n",
      ";\n",
      "    and they lived at the bottom of a well.\n",
      "Tillie\n",
      "'Tillie'\n",
      "';\\n    and they lived at the bottom of a well.'\n",
      "'\\n'\n",
      "<p class=\"story\">...</p>\n",
      "'...'\n",
      "'\\n'\n"
     ]
    }
   ],
   "source": [
    "# 回退和前进\n",
    "last_a_tag = soup.find(\"a\", id=\"link3\")\n",
    "print(last_a_tag)\n",
    "print(last_a_tag.next_sibling)  # 兄弟节点\n",
    "print(last_a_tag.next_element)  # 下一个解析对象、\n",
    "for element in last_a_tag.next_elements:\n",
    "    print(repr(element))"
   ]
  },
  {
   "cell_type": "code",
   "execution_count": 47,
   "id": "5d059a5d",
   "metadata": {},
   "outputs": [
    {
     "data": {
      "text/plain": [
       "[<b>The Dormouse's story</b>]"
      ]
     },
     "execution_count": 47,
     "metadata": {},
     "output_type": "execute_result"
    }
   ],
   "source": [
    "# 搜索文档树\n",
    "soup.find_all('b')"
   ]
  },
  {
   "cell_type": "code",
   "execution_count": 48,
   "id": "6c146f58",
   "metadata": {},
   "outputs": [
    {
     "name": "stdout",
     "output_type": "stream",
     "text": [
      "body\n",
      "b\n"
     ]
    }
   ],
   "source": [
    "import re\n",
    "for tag in soup.find_all(re.compile(\"^b\")):\n",
    "    print(tag.name)"
   ]
  },
  {
   "cell_type": "code",
   "execution_count": 49,
   "id": "316083f2",
   "metadata": {},
   "outputs": [
    {
     "data": {
      "text/plain": [
       "[<b>The Dormouse's story</b>,\n",
       " <a class=\"sister\" href=\"http://example.com/elsie\" id=\"link1\">Elsie</a>,\n",
       " <a class=\"sister\" href=\"http://example.com/lacie\" id=\"link2\">Lacie</a>,\n",
       " <a class=\"sister\" href=\"http://example.com/tillie\" id=\"link3\">Tillie</a>]"
      ]
     },
     "execution_count": 49,
     "metadata": {},
     "output_type": "execute_result"
    }
   ],
   "source": [
    "soup.find_all([\"a\", \"b\"])"
   ]
  },
  {
   "cell_type": "code",
   "execution_count": 51,
   "id": "ecec486b",
   "metadata": {},
   "outputs": [
    {
     "name": "stdout",
     "output_type": "stream",
     "text": [
      "html\n",
      "head\n",
      "title\n",
      "body\n",
      "p\n",
      "b\n",
      "p\n",
      "a\n",
      "a\n",
      "a\n",
      "p\n"
     ]
    }
   ],
   "source": [
    "for tag in soup.find_all(True):  # 不会返回字符节点\n",
    "    print(tag.name)"
   ]
  },
  {
   "cell_type": "code",
   "execution_count": 52,
   "id": "b9e3bb69",
   "metadata": {},
   "outputs": [
    {
     "data": {
      "text/plain": [
       "[<p class=\"title\"><b>The Dormouse's story</b></p>,\n",
       " <p class=\"story\">Once upon a time there were three little sisters; and their names were\n",
       "     <a class=\"sister\" href=\"http://example.com/elsie\" id=\"link1\">Elsie</a>,\n",
       "     <a class=\"sister\" href=\"http://example.com/lacie\" id=\"link2\">Lacie</a> and\n",
       "     <a class=\"sister\" href=\"http://example.com/tillie\" id=\"link3\">Tillie</a>;\n",
       "     and they lived at the bottom of a well.</p>,\n",
       " <p class=\"story\">...</p>]"
      ]
     },
     "execution_count": 52,
     "metadata": {},
     "output_type": "execute_result"
    }
   ],
   "source": [
    "def has_class_but_no_id(tag):\n",
    "    return tag.has_attr('class') and not tag.has_attr('id')\n",
    "\n",
    "soup.find_all(has_class_but_no_id)"
   ]
  },
  {
   "cell_type": "markdown",
   "id": "a63d7f1d",
   "metadata": {},
   "source": [
    "find_all: \n",
    "\n",
    "支持tag、属性、css、函数等方式搜索。\n",
    "\n",
    "通过 string 参数可以搜搜文档中的字符串内容.与 name 参数的可选值一样, string 参数接受 字符串 , 正则表达式 , 列表, True . \n",
    "\n",
    "如果只想搜索tag的直接子节点,可以使用参数 recursive=False"
   ]
  },
  {
   "cell_type": "code",
   "execution_count": 55,
   "id": "a1f6daea",
   "metadata": {
    "scrolled": true
   },
   "outputs": [
    {
     "name": "stdout",
     "output_type": "stream",
     "text": [
      "[<title>The Dormouse's story</title>]\n",
      "[<a class=\"sister\" href=\"http://example.com/elsie\" id=\"link1\">Elsie</a>, <a class=\"sister\" href=\"http://example.com/lacie\" id=\"link2\">Lacie</a>, <a class=\"sister\" href=\"http://example.com/tillie\" id=\"link3\">Tillie</a>]\n"
     ]
    }
   ],
   "source": [
    "# CSS选择器\n",
    "# Beautiful Soup支持大部分的CSS选择器\n",
    "# 在 Tag 或 BeautifulSoup 对象的 .select() 方法中传入字符串参数\n",
    "# 即可使用CSS选择器的语法找到tag\n",
    "print(soup.select(\"title\"))\n",
    "print(soup.select(\"body a\"))"
   ]
  },
  {
   "cell_type": "code",
   "execution_count": 60,
   "id": "06ae8185",
   "metadata": {},
   "outputs": [
    {
     "name": "stdout",
     "output_type": "stream",
     "text": [
      "<blockquote class=\"verybold\" id=\"1\">The Dormouse's story</blockquote>\n",
      "blockquote\n",
      "<title class=\"verybold\" id=\"1\">The Dormouse's story</title>\n",
      "<title class=\"verybold\" id=\"1\">New link text.</title>\n"
     ]
    }
   ],
   "source": [
    "# 修改文档树\n",
    "tag = soup.blockquote\n",
    "print(tag)\n",
    "print(tag.name)\n",
    "tag.name = \"title\"\n",
    "tag['class'] = 'verybold'\n",
    "tag['id'] = 1\n",
    "print(tag)\n",
    "tag.string = \"New link text.\"\n",
    "print(tag)"
   ]
  },
  {
   "cell_type": "code",
   "execution_count": 63,
   "id": "a20ea15b",
   "metadata": {},
   "outputs": [
    {
     "data": {
      "text/plain": [
       "<a href=\"http://example.com/\"></a>"
      ]
     },
     "execution_count": 63,
     "metadata": {},
     "output_type": "execute_result"
    }
   ],
   "source": [
    "# Tag.clear() 方法移除当前tag的内容:\n",
    "markup = '<a href=\"http://example.com/\">I linked to <i>example.com</i></a>'\n",
    "soup = bs(markup)\n",
    "tag = soup.a\n",
    "\n",
    "tag.clear()\n",
    "tag"
   ]
  },
  {
   "cell_type": "code",
   "execution_count": 65,
   "id": "94ae61f1",
   "metadata": {
    "scrolled": true
   },
   "outputs": [
    {
     "name": "stdout",
     "output_type": "stream",
     "text": [
      "<html>\n",
      " <body>\n",
      "  <a href=\"http://example.com/\">\n",
      "   I linked to\n",
      "   <i>\n",
      "    example.com\n",
      "   </i>\n",
      "  </a>\n",
      " </body>\n",
      "</html>\n",
      "\n"
     ]
    }
   ],
   "source": [
    "# 输出\n",
    "# prettify() 方法\n",
    "# 将Beautiful Soup的文档树格式化后以Unicode编码输出\n",
    "# 每个XML/HTML标签都独占一行\n",
    "markup = '<a href=\"http://example.com/\">I linked to <i>example.com</i></a>'\n",
    "soup = bs(markup)\n",
    "print(soup.prettify())"
   ]
  },
  {
   "cell_type": "code",
   "execution_count": 67,
   "id": "46ff9bae",
   "metadata": {},
   "outputs": [
    {
     "data": {
      "text/plain": [
       "<h1>SacrÃ© bleu!</h1>"
      ]
     },
     "execution_count": 67,
     "metadata": {},
     "output_type": "execute_result"
    }
   ],
   "source": [
    "# 编码\n",
    "# 任何HTML或XML文档都有自己的编码方式\n",
    "# 比如ASCII 或 UTF-8\n",
    "# 但是使用Beautiful Soup解析后,文档都被转换成了Unicode:\n",
    "markup = \"<h1>Sacr\\xc3\\xa9 bleu!</h1>\"\n",
    "soup = bs(markup)\n",
    "soup.h1"
   ]
  }
 ],
 "metadata": {
  "kernelspec": {
   "display_name": "wz_py_3_8",
   "language": "python",
   "name": "wz_py_3_8"
  },
  "language_info": {
   "codemirror_mode": {
    "name": "ipython",
    "version": 3
   },
   "file_extension": ".py",
   "mimetype": "text/x-python",
   "name": "python",
   "nbconvert_exporter": "python",
   "pygments_lexer": "ipython3",
   "version": "3.8.16"
  }
 },
 "nbformat": 4,
 "nbformat_minor": 5
}
