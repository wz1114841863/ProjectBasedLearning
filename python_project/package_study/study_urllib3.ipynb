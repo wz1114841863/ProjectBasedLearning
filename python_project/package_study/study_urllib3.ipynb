{
 "cells": [
  {
   "cell_type": "code",
   "execution_count": 4,
   "id": "54d75126",
   "metadata": {},
   "outputs": [
    {
     "name": "stdout",
     "output_type": "stream",
     "text": [
      "1.26.13\n"
     ]
    }
   ],
   "source": [
    "import urllib3\n",
    "print(urllib3.__version__)  # 已经有新版本"
   ]
  },
  {
   "cell_type": "code",
   "execution_count": 6,
   "id": "9642775e",
   "metadata": {},
   "outputs": [
    {
     "name": "stdout",
     "output_type": "stream",
     "text": [
      "b'User-agent: *\\nDisallow: /deny\\n'\n"
     ]
    }
   ],
   "source": [
    "# Creating a PoolManager instance for sending requests\n",
    "http = urllib3.PoolManager()\n",
    "#  Sending a GET request and getting back response as HTTPResponse object.\n",
    "resp = http.request(\"GET\", \"https://httpbin.org/robots.txt\")\n",
    "# print the resp\n",
    "print(resp.data)"
   ]
  },
  {
   "cell_type": "code",
   "execution_count": 9,
   "id": "53a89b77",
   "metadata": {},
   "outputs": [
    {
     "name": "stdout",
     "output_type": "stream",
     "text": [
      "<urllib3.poolmanager.PoolManager object at 0x00000144F9750DC0>\n",
      "<urllib3.response.HTTPResponse object at 0x00000144F9750520>\n",
      "b'{\\n  \"args\": {}, \\n  \"data\": \"\", \\n  \"files\": {}, \\n  \"form\": {\\n    \"hello\": \"world\"\\n  }, \\n  \"headers\": {\\n    \"Accept-Encoding\": \"identity\", \\n    \"Content-Length\": \"129\", \\n    \"Content-Type\": \"multipart/form-data; boundary=86744b6065c0630e2e5cc95a43645ac7\", \\n    \"Host\": \"httpbin.org\", \\n    \"User-Agent\": \"python-urllib3/1.26.13\", \\n    \"X-Amzn-Trace-Id\": \"Root=1-66cae097-129f7af81e0e335817447865\"\\n  }, \\n  \"json\": null, \\n  \"origin\": \"223.104.204.111\", \\n  \"url\": \"https://httpbin.org/post\"\\n}\\n'\n"
     ]
    }
   ],
   "source": [
    "http = urllib3.PoolManager()\n",
    "print(http)\n",
    "resp = http.request(\n",
    "    \"POST\",\n",
    "    \"https://httpbin.org/post\",\n",
    "    fields={\"hello\": \"world\"} #  Add custom form fields\n",
    ")\n",
    "print(resp)\n",
    "print(resp.data)"
   ]
  },
  {
   "cell_type": "code",
   "execution_count": 13,
   "id": "315c482d",
   "metadata": {},
   "outputs": [
    {
     "name": "stdout",
     "output_type": "stream",
     "text": [
      "200\n",
      "b'{\\n  \"origin\": \"223.104.204.111\"\\n}\\n'\n",
      "HTTPHeaderDict({'Date': 'Sun, 25 Aug 2024 07:47:20 GMT', 'Content-Type': 'application/json', 'Content-Length': '34', 'Connection': 'keep-alive', 'Server': 'gunicorn/19.9.0', 'Access-Control-Allow-Origin': '*', 'Access-Control-Allow-Credentials': 'true'})\n"
     ]
    }
   ],
   "source": [
    "# The HTTPResponse object provides status, data, and headers attributes\n",
    "http = urllib3.PoolManager()\n",
    "resp = http.request(\"GET\", \"https://httpbin.org/ip\")\n",
    "print(resp.status)\n",
    "print(resp.data)\n",
    "print(resp.headers)\n",
    "# print(resp.json())  # version2.0 later"
   ]
  },
  {
   "cell_type": "code",
   "execution_count": 14,
   "id": "c6d90e54",
   "metadata": {
    "scrolled": true
   },
   "outputs": [
    {
     "name": "stdout",
     "output_type": "stream",
     "text": [
      "<!doctype html>\n",
      "\n",
      "<html>\n",
      "\n",
      "<head>\n",
      "\n",
      "    <title>Example Domain</title>\n",
      "\n",
      "\n",
      "\n",
      "    <meta charset=\"utf-8\" />\n",
      "\n",
      "    <meta http-equiv=\"Content-type\" content=\"text/html; charset=utf-8\" />\n",
      "\n",
      "    <meta name=\"viewport\" content=\"width=device-width, initial-scale=1\" />\n",
      "\n",
      "    <style type=\"text/css\">\n",
      "\n",
      "    body {\n",
      "\n",
      "        background-color: #f0f0f2;\n",
      "\n",
      "        margin: 0;\n",
      "\n",
      "        padding: 0;\n",
      "\n",
      "        font-family: -apple-system, system-ui, BlinkMacSystemFont, \"Segoe UI\", \"Open Sans\", \"Helvetica Neue\", Helvetica, Arial, sans-serif;\n",
      "\n",
      "        \n",
      "\n",
      "    }\n",
      "\n",
      "    div {\n",
      "\n",
      "        width: 600px;\n",
      "\n",
      "        margin: 5em auto;\n",
      "\n",
      "        padding: 2em;\n",
      "\n",
      "        background-color: #fdfdff;\n",
      "\n",
      "        border-radius: 0.5em;\n",
      "\n",
      "        box-shadow: 2px 3px 7px 2px rgba(0,0,0,0.02);\n",
      "\n",
      "    }\n",
      "\n",
      "    a:link, a:visited {\n",
      "\n",
      "        color: #38488f;\n",
      "\n",
      "        text-decoration: none;\n",
      "\n",
      "    }\n",
      "\n",
      "    @media (max-width: 700px) {\n",
      "\n",
      "        div {\n",
      "\n",
      "            margin: 0 auto;\n",
      "\n",
      "            width: auto;\n",
      "\n",
      "        }\n",
      "\n",
      "    }\n",
      "\n",
      "    </style>    \n",
      "\n",
      "</head>\n",
      "\n",
      "\n",
      "\n",
      "<body>\n",
      "\n",
      "<div>\n",
      "\n",
      "    <h1>Example Domain</h1>\n",
      "\n",
      "    <p>This domain is for use in illustrative examples in documents. You may use this\n",
      "\n",
      "    domain in literature without prior coordination or asking for permission.</p>\n",
      "\n",
      "    <p><a href=\"https://www.iana.org/domains/example\">More information...</a></p>\n",
      "\n",
      "</div>\n",
      "\n",
      "</body>\n",
      "\n",
      "</html>\n",
      "\n"
     ]
    }
   ],
   "source": [
    "import io\n",
    "\n",
    "http = urllib3.PoolManager()\n",
    "resp = http.request(\"GET\", \"https://example.com\", preload_content=False)\n",
    "resp.auto_close = False\n",
    "\n",
    "for line in io.TextIOWrapper(resp):\n",
    "    print(line)"
   ]
  },
  {
   "cell_type": "code",
   "execution_count": 16,
   "id": "aeb0a2f0",
   "metadata": {},
   "outputs": [
    {
     "name": "stdout",
     "output_type": "stream",
     "text": [
      "b'{\\n  \"headers\": {\\n    \"Accept-Encoding\": \"identity\", \\n    \"Host\": \"httpbin.org\", \\n    \"User-Agent\": \"python-urllib3/1.26.13\", \\n    \"X-Amzn-Trace-Id\": \"Root=1-66cae391-4dc38a8b3edbcb6d036ba766\", \\n    \"X-Something\": \"value\"\\n  }\\n}\\n'\n"
     ]
    }
   ],
   "source": [
    "# Request data\n",
    "http = urllib3.PoolManager()\n",
    "resp = http.request(\n",
    "    \"GET\", \n",
    "    \"https://httpbin.org/headers\", \n",
    "    headers={\n",
    "        \"X-Something\": \"value\"\n",
    "    },\n",
    ")\n",
    "print(resp.data)"
   ]
  },
  {
   "cell_type": "code",
   "execution_count": 18,
   "id": "048619e9",
   "metadata": {},
   "outputs": [
    {
     "name": "stdout",
     "output_type": "stream",
     "text": [
      "b'{\\n  \"headers\": {\\n    \"Accept-Encoding\": \"identity\", \\n    \"Host\": \"httpbin.org\", \\n    \"User-Agent\": \"python-urllib3/1.26.13\", \\n    \"X-Amzn-Trace-Id\": \"Root=1-66cae3f0-0ec699f674a4c00b5e9604dd\", \\n    \"X-Something\": \"value\"\\n  }\\n}\\n'\n"
     ]
    }
   ],
   "source": [
    "# Create an HTTPHeaderDict and add headers\n",
    "\n",
    "# headers = urllib3.HTTPHeaderDict()  # version2.0 later\n",
    "# headers.add(\"Accept\", \"application/json\")\n",
    "# headers.add(\"Accept\", \"text/plain\")\n",
    "\n",
    "resp = http.request(\n",
    "    \"GET\", \n",
    "    \"https://httpbin.org/headers\", \n",
    "    headers={\n",
    "        \"X-Something\": \"value\"\n",
    "    },\n",
    ")\n",
    "print(resp.data)"
   ]
  },
  {
   "cell_type": "code",
   "execution_count": 19,
   "id": "91d8ad48",
   "metadata": {},
   "outputs": [
    {
     "name": "stdout",
     "output_type": "stream",
     "text": [
      "b'{\\n  \"headers\": {\\n    \"Accept-Encoding\": \"identity\", \\n    \"Cookie\": \"session=f3efe9db; id=30\", \\n    \"Host\": \"httpbin.org\", \\n    \"User-Agent\": \"python-urllib3/1.26.13\", \\n    \"X-Amzn-Trace-Id\": \"Root=1-66cae78c-1d7ac35466539b64188df9f6\", \\n    \"X-Something\": \"value\"\\n  }\\n}\\n'\n"
     ]
    }
   ],
   "source": [
    "# Cookies\n",
    "resp = http.request(\n",
    "    \"GET\", \n",
    "    \"https://httpbin.org/headers\", \n",
    "    headers={\n",
    "        \"X-Something\": \"value\",\n",
    "        \"Cookie\": \"session=f3efe9db; id=30\"\n",
    "    },\n",
    ")\n",
    "print(resp.data)"
   ]
  },
  {
   "cell_type": "code",
   "execution_count": 20,
   "id": "e78bde10",
   "metadata": {},
   "outputs": [
    {
     "name": "stdout",
     "output_type": "stream",
     "text": [
      "session=f3efe9db; Path=/\n"
     ]
    }
   ],
   "source": [
    "resp = http.request(\n",
    "    \"GET\",\n",
    "    \"https://httpbin.org/cookies/set/session/f3efe9db\",\n",
    "    redirect=False\n",
    ")\n",
    "\n",
    "print(resp.headers[\"Set-Cookie\"])\n",
    "# session=f3efe9db; Path=/"
   ]
  },
  {
   "cell_type": "code",
   "execution_count": 21,
   "id": "098cea9a",
   "metadata": {},
   "outputs": [
    {
     "name": "stdout",
     "output_type": "stream",
     "text": [
      "HTTPHeaderDict({'Date': 'Sun, 25 Aug 2024 08:16:56 GMT', 'Content-Type': 'application/json', 'Content-Length': '269', 'Connection': 'keep-alive', 'Server': 'gunicorn/19.9.0', 'Access-Control-Allow-Origin': '*', 'Access-Control-Allow-Credentials': 'true'})\n"
     ]
    }
   ],
   "source": [
    "# query parameters\n",
    "resp = http.request(\n",
    "    \"GET\", \n",
    "    \"https://httpbin.org/headers\", \n",
    "    headers={\n",
    "        \"X-Something\": \"value\",\n",
    "        \"Cookie\": \"session=f3efe9db; id=30\"\n",
    "    },\n",
    "    fields={\n",
    "        \"arg\": \"value\",\n",
    "    }\n",
    ")\n",
    "print(resp.headers)"
   ]
  },
  {
   "cell_type": "code",
   "execution_count": 22,
   "id": "d2d37761",
   "metadata": {},
   "outputs": [
    {
     "name": "stdout",
     "output_type": "stream",
     "text": [
      "HTTPHeaderDict({'Date': 'Sun, 25 Aug 2024 08:19:16 GMT', 'Content-Type': 'text/html', 'Content-Length': '178', 'Connection': 'keep-alive', 'Server': 'gunicorn/19.9.0', 'Allow': 'POST, OPTIONS', 'Access-Control-Allow-Origin': '*', 'Access-Control-Allow-Credentials': 'true'})\n"
     ]
    }
   ],
   "source": [
    "# For POST and PUT requests\n",
    "# you need to manually encode query parameters in the URL\n",
    "from urllib.parse import urlencode\n",
    "\n",
    "# Encode the args into url grammar.\n",
    "encoded_args = urlencode({\"arg\": \"value\"})\n",
    "# Create a URL with args encoded.\n",
    "url = \"https://httpbin.org/post?\" + encoded_args\n",
    "\n",
    "resp = http.request(\n",
    "    \"GET\", \n",
    "    url, \n",
    "    headers={\n",
    "        \"X-Something\": \"value\",\n",
    "        \"Cookie\": \"session=f3efe9db; id=30\"\n",
    "    },\n",
    "    fields={\n",
    "        \"arg\": \"value\",\n",
    "    }\n",
    ")\n",
    "print(resp.headers)"
   ]
  },
  {
   "cell_type": "code",
   "execution_count": 24,
   "id": "fc891f80",
   "metadata": {
    "scrolled": true
   },
   "outputs": [
    {
     "name": "stdout",
     "output_type": "stream",
     "text": [
      "b'{\\n  \"args\": {}, \\n  \"data\": \"\", \\n  \"files\": {}, \\n  \"form\": {\\n    \"field\": \"value\"\\n  }, \\n  \"headers\": {\\n    \"Accept-Encoding\": \"identity\", \\n    \"Content-Length\": \"129\", \\n    \"Content-Type\": \"multipart/form-data; boundary=6840a638cd0205b49197ca7e49ae6d13\", \\n    \"Host\": \"httpbin.org\", \\n    \"User-Agent\": \"python-urllib3/1.26.13\", \\n    \"X-Amzn-Trace-Id\": \"Root=1-66cae9ea-70ec983f7194d6697bfee55d\"\\n  }, \\n  \"json\": null, \\n  \"origin\": \"223.104.204.111\", \\n  \"url\": \"https://httpbin.org/post\"\\n}\\n'\n"
     ]
    }
   ],
   "source": [
    "resp = http.request(\n",
    "    \"POST\",\n",
    "    \"https://httpbin.org/post\",\n",
    "    fields = {\n",
    "        \"field\": \"value\"\n",
    "    },\n",
    ")\n",
    "print(resp.data)"
   ]
  },
  {
   "cell_type": "code",
   "execution_count": 26,
   "id": "dad9363a",
   "metadata": {},
   "outputs": [
    {
     "name": "stdout",
     "output_type": "stream",
     "text": [
      "b'{\\n  \"args\": {}, \\n  \"data\": \"\", \\n  \"files\": {}, \\n  \"form\": {\\n    \"field\": \"value\"\\n  }, \\n  \"headers\": {\\n    \"Accept-Encoding\": \"identity\", \\n    \"Content-Length\": \"129\", \\n    \"Content-Type\": \"multipart/form-data; boundary=e3ee29b7750ba49ef2c2a442f81ae53e\", \\n    \"Host\": \"httpbin.org\", \\n    \"User-Agent\": \"python-urllib3/1.26.13\", \\n    \"X-Amzn-Trace-Id\": \"Root=1-66caeaa9-59e8d6623afdfac5092791f8\"\\n  }, \\n  \"json\": null, \\n  \"origin\": \"223.104.204.111\", \\n  \"url\": \"https://httpbin.org/post\"\\n}\\n'\n"
     ]
    }
   ],
   "source": [
    "# Send Json ,  version2.0 later\n",
    "resp = http.request(\n",
    "    \"POST\",\n",
    "    \"https://httpbin.org/post\",\n",
    "#     json = {\n",
    "#         \"attribute\": \"value\",\n",
    "#     },\n",
    "    fields = {\n",
    "        \"field\": \"value\",\n",
    "    },\n",
    ")\n",
    "print(resp.data)"
   ]
  },
  {
   "cell_type": "code",
   "execution_count": 28,
   "id": "9ccef817",
   "metadata": {},
   "outputs": [
    {
     "name": "stdout",
     "output_type": "stream",
     "text": [
      "b'{\\n  \"args\": {}, \\n  \"data\": \"\", \\n  \"files\": {\\n    \"filefield\": \"This is an example.txt.\"\\n  }, \\n  \"form\": {\\n    \"field\": \"value\", \\n    \"testform\": \"test_data\"\\n  }, \\n  \"headers\": {\\n    \"Accept-Encoding\": \"identity\", \\n    \"Content-Length\": \"390\", \\n    \"Content-Type\": \"multipart/form-data; boundary=18a71c63a22a7b9ecb49ed159bd96eaf\", \\n    \"Host\": \"httpbin.org\", \\n    \"User-Agent\": \"python-urllib3/1.26.13\", \\n    \"X-Amzn-Trace-Id\": \"Root=1-66caebb7-12159bf15b8ea7f5224f0090\"\\n  }, \\n  \"json\": null, \\n  \"origin\": \"223.104.204.111\", \\n  \"url\": \"https://httpbin.org/post\"\\n}\\n'\n"
     ]
    }
   ],
   "source": [
    "# Reading the text file from local storage.\n",
    "with open(\"./data/example.txt\") as fp:\n",
    "    file_data = fp.read()\n",
    "\n",
    "resp = http.request(\n",
    "    \"POST\",\n",
    "    \"https://httpbin.org/post\",\n",
    "    fields = {\n",
    "        \"field\": \"value\",\n",
    "        \"testform\": \"test_data\",\n",
    "        \"filefield\": (\"example.txt\", file_data),\n",
    "    },\n",
    ")\n",
    "print(resp.data)"
   ]
  },
  {
   "cell_type": "code",
   "execution_count": 33,
   "id": "ccee9c7b",
   "metadata": {},
   "outputs": [
    {
     "name": "stdout",
     "output_type": "stream",
     "text": [
      "b'{\\n  \"args\": {}, \\n  \"data\": \"data:application/octet-stream;base64,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\", \\n  \"files\": {}, \\n  \"form\": {}, \\n  \"headers\": {\\n    \"Accept-Encoding\": \"identity\", \\n    \"Content-Length\": \"55742\", \\n    \"Content-Type\": \"image/jpeg\", \\n    \"Host\": \"httpbin.org\", \\n    \"User-Agent\": \"python-urllib3/1.26.13\", \\n    \"X-Amzn-Trace-Id\": \"Root=1-66caecd5-44b3ed15008dd5b9318597e0\"\\n  }, \\n  \"json\": null, \\n  \"origin\": \"223.104.204.111\", \\n  \"url\": \"https://httpbin.org/post\"\\n}\\n'\n"
     ]
    }
   ],
   "source": [
    "# Send binary data\n",
    "with open(\"./data/example.jpg\", \"rb\") as fp:\n",
    "    binary_data = fp.read()\n",
    "\n",
    "resp = http.request(\n",
    "    \"POST\",\n",
    "    \"https://httpbin.org/post\",\n",
    "    body=binary_data,\n",
    "    headers={\"Content-Type\": \"image/jpeg\"},\n",
    ")\n",
    "print(resp.data)"
   ]
  },
  {
   "cell_type": "code",
   "execution_count": 37,
   "id": "ac733615",
   "metadata": {},
   "outputs": [],
   "source": [
    "# 证书验证\n",
    "import certifi\n",
    "\n",
    "http = urllib3.PoolManager(\n",
    "    cert_reqs=\"CERT_REQUIRED\",\n",
    "    ca_certs=certifi.where()\n",
    ")"
   ]
  },
  {
   "cell_type": "code",
   "execution_count": 38,
   "id": "1f1126df",
   "metadata": {},
   "outputs": [
    {
     "data": {
      "text/plain": [
       "<urllib3.response.HTTPResponse at 0x144f84a8700>"
      ]
     },
     "execution_count": 38,
     "metadata": {},
     "output_type": "execute_result"
    }
   ],
   "source": [
    "http.request(\"GET\", \"https://httpbin.org/\")"
   ]
  },
  {
   "cell_type": "code",
   "execution_count": 41,
   "id": "74bef470",
   "metadata": {},
   "outputs": [
    {
     "name": "stdout",
     "output_type": "stream",
     "text": [
      "<class 'urllib3.response.HTTPResponse'>\n"
     ]
    }
   ],
   "source": [
    "# Time Out\n",
    "resp = http.request(\n",
    "    \"GET\",\n",
    "    \"https://httpbin.org/delay/3\",\n",
    "    timeout=4.0\n",
    ")\n",
    "\n",
    "print(type(resp))"
   ]
  },
  {
   "cell_type": "code",
   "execution_count": 42,
   "id": "a651df11",
   "metadata": {},
   "outputs": [
    {
     "ename": "MaxRetryError",
     "evalue": "HTTPSConnectionPool(host='httpbin.org', port=443): Max retries exceeded with url: /delay/3 (Caused by ReadTimeoutError(\"HTTPSConnectionPool(host='httpbin.org', port=443): Read timed out. (read timeout=1.0)\"))",
     "output_type": "error",
     "traceback": [
      "\u001b[1;31m---------------------------------------------------------------------------\u001b[0m",
      "\u001b[1;31mtimeout\u001b[0m                                   Traceback (most recent call last)",
      "File \u001b[1;32mD:\\Anaconda\\envs\\wz_py_3_8\\lib\\site-packages\\urllib3\\connectionpool.py:449\u001b[0m, in \u001b[0;36mHTTPConnectionPool._make_request\u001b[1;34m(self, conn, method, url, timeout, chunked, **httplib_request_kw)\u001b[0m\n\u001b[0;32m    445\u001b[0m         \u001b[38;5;28;01mexcept\u001b[39;00m \u001b[38;5;167;01mBaseException\u001b[39;00m \u001b[38;5;28;01mas\u001b[39;00m e:\n\u001b[0;32m    446\u001b[0m             \u001b[38;5;66;03m# Remove the TypeError from the exception chain in\u001b[39;00m\n\u001b[0;32m    447\u001b[0m             \u001b[38;5;66;03m# Python 3 (including for exceptions like SystemExit).\u001b[39;00m\n\u001b[0;32m    448\u001b[0m             \u001b[38;5;66;03m# Otherwise it looks like a bug in the code.\u001b[39;00m\n\u001b[1;32m--> 449\u001b[0m             \u001b[43msix\u001b[49m\u001b[38;5;241;43m.\u001b[39;49m\u001b[43mraise_from\u001b[49m\u001b[43m(\u001b[49m\u001b[43me\u001b[49m\u001b[43m,\u001b[49m\u001b[43m \u001b[49m\u001b[38;5;28;43;01mNone\u001b[39;49;00m\u001b[43m)\u001b[49m\n\u001b[0;32m    450\u001b[0m \u001b[38;5;28;01mexcept\u001b[39;00m (SocketTimeout, BaseSSLError, SocketError) \u001b[38;5;28;01mas\u001b[39;00m e:\n",
      "File \u001b[1;32m<string>:3\u001b[0m, in \u001b[0;36mraise_from\u001b[1;34m(value, from_value)\u001b[0m\n",
      "File \u001b[1;32mD:\\Anaconda\\envs\\wz_py_3_8\\lib\\site-packages\\urllib3\\connectionpool.py:444\u001b[0m, in \u001b[0;36mHTTPConnectionPool._make_request\u001b[1;34m(self, conn, method, url, timeout, chunked, **httplib_request_kw)\u001b[0m\n\u001b[0;32m    443\u001b[0m \u001b[38;5;28;01mtry\u001b[39;00m:\n\u001b[1;32m--> 444\u001b[0m     httplib_response \u001b[38;5;241m=\u001b[39m \u001b[43mconn\u001b[49m\u001b[38;5;241;43m.\u001b[39;49m\u001b[43mgetresponse\u001b[49m\u001b[43m(\u001b[49m\u001b[43m)\u001b[49m\n\u001b[0;32m    445\u001b[0m \u001b[38;5;28;01mexcept\u001b[39;00m \u001b[38;5;167;01mBaseException\u001b[39;00m \u001b[38;5;28;01mas\u001b[39;00m e:\n\u001b[0;32m    446\u001b[0m     \u001b[38;5;66;03m# Remove the TypeError from the exception chain in\u001b[39;00m\n\u001b[0;32m    447\u001b[0m     \u001b[38;5;66;03m# Python 3 (including for exceptions like SystemExit).\u001b[39;00m\n\u001b[0;32m    448\u001b[0m     \u001b[38;5;66;03m# Otherwise it looks like a bug in the code.\u001b[39;00m\n",
      "File \u001b[1;32mD:\\Anaconda\\envs\\wz_py_3_8\\lib\\http\\client.py:1348\u001b[0m, in \u001b[0;36mHTTPConnection.getresponse\u001b[1;34m(self)\u001b[0m\n\u001b[0;32m   1347\u001b[0m \u001b[38;5;28;01mtry\u001b[39;00m:\n\u001b[1;32m-> 1348\u001b[0m     \u001b[43mresponse\u001b[49m\u001b[38;5;241;43m.\u001b[39;49m\u001b[43mbegin\u001b[49m\u001b[43m(\u001b[49m\u001b[43m)\u001b[49m\n\u001b[0;32m   1349\u001b[0m \u001b[38;5;28;01mexcept\u001b[39;00m \u001b[38;5;167;01mConnectionError\u001b[39;00m:\n",
      "File \u001b[1;32mD:\\Anaconda\\envs\\wz_py_3_8\\lib\\http\\client.py:316\u001b[0m, in \u001b[0;36mHTTPResponse.begin\u001b[1;34m(self)\u001b[0m\n\u001b[0;32m    315\u001b[0m \u001b[38;5;28;01mwhile\u001b[39;00m \u001b[38;5;28;01mTrue\u001b[39;00m:\n\u001b[1;32m--> 316\u001b[0m     version, status, reason \u001b[38;5;241m=\u001b[39m \u001b[38;5;28;43mself\u001b[39;49m\u001b[38;5;241;43m.\u001b[39;49m\u001b[43m_read_status\u001b[49m\u001b[43m(\u001b[49m\u001b[43m)\u001b[49m\n\u001b[0;32m    317\u001b[0m     \u001b[38;5;28;01mif\u001b[39;00m status \u001b[38;5;241m!=\u001b[39m CONTINUE:\n",
      "File \u001b[1;32mD:\\Anaconda\\envs\\wz_py_3_8\\lib\\http\\client.py:277\u001b[0m, in \u001b[0;36mHTTPResponse._read_status\u001b[1;34m(self)\u001b[0m\n\u001b[0;32m    276\u001b[0m \u001b[38;5;28;01mdef\u001b[39;00m \u001b[38;5;21m_read_status\u001b[39m(\u001b[38;5;28mself\u001b[39m):\n\u001b[1;32m--> 277\u001b[0m     line \u001b[38;5;241m=\u001b[39m \u001b[38;5;28mstr\u001b[39m(\u001b[38;5;28;43mself\u001b[39;49m\u001b[38;5;241;43m.\u001b[39;49m\u001b[43mfp\u001b[49m\u001b[38;5;241;43m.\u001b[39;49m\u001b[43mreadline\u001b[49m\u001b[43m(\u001b[49m\u001b[43m_MAXLINE\u001b[49m\u001b[43m \u001b[49m\u001b[38;5;241;43m+\u001b[39;49m\u001b[43m \u001b[49m\u001b[38;5;241;43m1\u001b[39;49m\u001b[43m)\u001b[49m, \u001b[38;5;124m\"\u001b[39m\u001b[38;5;124miso-8859-1\u001b[39m\u001b[38;5;124m\"\u001b[39m)\n\u001b[0;32m    278\u001b[0m     \u001b[38;5;28;01mif\u001b[39;00m \u001b[38;5;28mlen\u001b[39m(line) \u001b[38;5;241m>\u001b[39m _MAXLINE:\n",
      "File \u001b[1;32mD:\\Anaconda\\envs\\wz_py_3_8\\lib\\socket.py:669\u001b[0m, in \u001b[0;36mSocketIO.readinto\u001b[1;34m(self, b)\u001b[0m\n\u001b[0;32m    668\u001b[0m \u001b[38;5;28;01mtry\u001b[39;00m:\n\u001b[1;32m--> 669\u001b[0m     \u001b[38;5;28;01mreturn\u001b[39;00m \u001b[38;5;28;43mself\u001b[39;49m\u001b[38;5;241;43m.\u001b[39;49m\u001b[43m_sock\u001b[49m\u001b[38;5;241;43m.\u001b[39;49m\u001b[43mrecv_into\u001b[49m\u001b[43m(\u001b[49m\u001b[43mb\u001b[49m\u001b[43m)\u001b[49m\n\u001b[0;32m    670\u001b[0m \u001b[38;5;28;01mexcept\u001b[39;00m timeout:\n",
      "File \u001b[1;32mD:\\Anaconda\\envs\\wz_py_3_8\\lib\\ssl.py:1241\u001b[0m, in \u001b[0;36mSSLSocket.recv_into\u001b[1;34m(self, buffer, nbytes, flags)\u001b[0m\n\u001b[0;32m   1238\u001b[0m         \u001b[38;5;28;01mraise\u001b[39;00m \u001b[38;5;167;01mValueError\u001b[39;00m(\n\u001b[0;32m   1239\u001b[0m           \u001b[38;5;124m\"\u001b[39m\u001b[38;5;124mnon-zero flags not allowed in calls to recv_into() on \u001b[39m\u001b[38;5;132;01m%s\u001b[39;00m\u001b[38;5;124m\"\u001b[39m \u001b[38;5;241m%\u001b[39m\n\u001b[0;32m   1240\u001b[0m           \u001b[38;5;28mself\u001b[39m\u001b[38;5;241m.\u001b[39m\u001b[38;5;18m__class__\u001b[39m)\n\u001b[1;32m-> 1241\u001b[0m     \u001b[38;5;28;01mreturn\u001b[39;00m \u001b[38;5;28;43mself\u001b[39;49m\u001b[38;5;241;43m.\u001b[39;49m\u001b[43mread\u001b[49m\u001b[43m(\u001b[49m\u001b[43mnbytes\u001b[49m\u001b[43m,\u001b[49m\u001b[43m \u001b[49m\u001b[43mbuffer\u001b[49m\u001b[43m)\u001b[49m\n\u001b[0;32m   1242\u001b[0m \u001b[38;5;28;01melse\u001b[39;00m:\n",
      "File \u001b[1;32mD:\\Anaconda\\envs\\wz_py_3_8\\lib\\ssl.py:1099\u001b[0m, in \u001b[0;36mSSLSocket.read\u001b[1;34m(self, len, buffer)\u001b[0m\n\u001b[0;32m   1098\u001b[0m \u001b[38;5;28;01mif\u001b[39;00m buffer \u001b[38;5;129;01mis\u001b[39;00m \u001b[38;5;129;01mnot\u001b[39;00m \u001b[38;5;28;01mNone\u001b[39;00m:\n\u001b[1;32m-> 1099\u001b[0m     \u001b[38;5;28;01mreturn\u001b[39;00m \u001b[38;5;28;43mself\u001b[39;49m\u001b[38;5;241;43m.\u001b[39;49m\u001b[43m_sslobj\u001b[49m\u001b[38;5;241;43m.\u001b[39;49m\u001b[43mread\u001b[49m\u001b[43m(\u001b[49m\u001b[38;5;28;43mlen\u001b[39;49m\u001b[43m,\u001b[49m\u001b[43m \u001b[49m\u001b[43mbuffer\u001b[49m\u001b[43m)\u001b[49m\n\u001b[0;32m   1100\u001b[0m \u001b[38;5;28;01melse\u001b[39;00m:\n",
      "\u001b[1;31mtimeout\u001b[0m: The read operation timed out",
      "\nDuring handling of the above exception, another exception occurred:\n",
      "\u001b[1;31mReadTimeoutError\u001b[0m                          Traceback (most recent call last)",
      "File \u001b[1;32mD:\\Anaconda\\envs\\wz_py_3_8\\lib\\site-packages\\urllib3\\connectionpool.py:703\u001b[0m, in \u001b[0;36mHTTPConnectionPool.urlopen\u001b[1;34m(self, method, url, body, headers, retries, redirect, assert_same_host, timeout, pool_timeout, release_conn, chunked, body_pos, **response_kw)\u001b[0m\n\u001b[0;32m    702\u001b[0m \u001b[38;5;66;03m# Make the request on the httplib connection object.\u001b[39;00m\n\u001b[1;32m--> 703\u001b[0m httplib_response \u001b[38;5;241m=\u001b[39m \u001b[38;5;28;43mself\u001b[39;49m\u001b[38;5;241;43m.\u001b[39;49m\u001b[43m_make_request\u001b[49m\u001b[43m(\u001b[49m\n\u001b[0;32m    704\u001b[0m \u001b[43m    \u001b[49m\u001b[43mconn\u001b[49m\u001b[43m,\u001b[49m\n\u001b[0;32m    705\u001b[0m \u001b[43m    \u001b[49m\u001b[43mmethod\u001b[49m\u001b[43m,\u001b[49m\n\u001b[0;32m    706\u001b[0m \u001b[43m    \u001b[49m\u001b[43murl\u001b[49m\u001b[43m,\u001b[49m\n\u001b[0;32m    707\u001b[0m \u001b[43m    \u001b[49m\u001b[43mtimeout\u001b[49m\u001b[38;5;241;43m=\u001b[39;49m\u001b[43mtimeout_obj\u001b[49m\u001b[43m,\u001b[49m\n\u001b[0;32m    708\u001b[0m \u001b[43m    \u001b[49m\u001b[43mbody\u001b[49m\u001b[38;5;241;43m=\u001b[39;49m\u001b[43mbody\u001b[49m\u001b[43m,\u001b[49m\n\u001b[0;32m    709\u001b[0m \u001b[43m    \u001b[49m\u001b[43mheaders\u001b[49m\u001b[38;5;241;43m=\u001b[39;49m\u001b[43mheaders\u001b[49m\u001b[43m,\u001b[49m\n\u001b[0;32m    710\u001b[0m \u001b[43m    \u001b[49m\u001b[43mchunked\u001b[49m\u001b[38;5;241;43m=\u001b[39;49m\u001b[43mchunked\u001b[49m\u001b[43m,\u001b[49m\n\u001b[0;32m    711\u001b[0m \u001b[43m\u001b[49m\u001b[43m)\u001b[49m\n\u001b[0;32m    713\u001b[0m \u001b[38;5;66;03m# If we're going to release the connection in ``finally:``, then\u001b[39;00m\n\u001b[0;32m    714\u001b[0m \u001b[38;5;66;03m# the response doesn't need to know about the connection. Otherwise\u001b[39;00m\n\u001b[0;32m    715\u001b[0m \u001b[38;5;66;03m# it will also try to release it and we'll have a double-release\u001b[39;00m\n\u001b[0;32m    716\u001b[0m \u001b[38;5;66;03m# mess.\u001b[39;00m\n",
      "File \u001b[1;32mD:\\Anaconda\\envs\\wz_py_3_8\\lib\\site-packages\\urllib3\\connectionpool.py:451\u001b[0m, in \u001b[0;36mHTTPConnectionPool._make_request\u001b[1;34m(self, conn, method, url, timeout, chunked, **httplib_request_kw)\u001b[0m\n\u001b[0;32m    450\u001b[0m \u001b[38;5;28;01mexcept\u001b[39;00m (SocketTimeout, BaseSSLError, SocketError) \u001b[38;5;28;01mas\u001b[39;00m e:\n\u001b[1;32m--> 451\u001b[0m     \u001b[38;5;28;43mself\u001b[39;49m\u001b[38;5;241;43m.\u001b[39;49m\u001b[43m_raise_timeout\u001b[49m\u001b[43m(\u001b[49m\u001b[43merr\u001b[49m\u001b[38;5;241;43m=\u001b[39;49m\u001b[43me\u001b[49m\u001b[43m,\u001b[49m\u001b[43m \u001b[49m\u001b[43murl\u001b[49m\u001b[38;5;241;43m=\u001b[39;49m\u001b[43murl\u001b[49m\u001b[43m,\u001b[49m\u001b[43m \u001b[49m\u001b[43mtimeout_value\u001b[49m\u001b[38;5;241;43m=\u001b[39;49m\u001b[43mread_timeout\u001b[49m\u001b[43m)\u001b[49m\n\u001b[0;32m    452\u001b[0m     \u001b[38;5;28;01mraise\u001b[39;00m\n",
      "File \u001b[1;32mD:\\Anaconda\\envs\\wz_py_3_8\\lib\\site-packages\\urllib3\\connectionpool.py:340\u001b[0m, in \u001b[0;36mHTTPConnectionPool._raise_timeout\u001b[1;34m(self, err, url, timeout_value)\u001b[0m\n\u001b[0;32m    339\u001b[0m \u001b[38;5;28;01mif\u001b[39;00m \u001b[38;5;28misinstance\u001b[39m(err, SocketTimeout):\n\u001b[1;32m--> 340\u001b[0m     \u001b[38;5;28;01mraise\u001b[39;00m ReadTimeoutError(\n\u001b[0;32m    341\u001b[0m         \u001b[38;5;28mself\u001b[39m, url, \u001b[38;5;124m\"\u001b[39m\u001b[38;5;124mRead timed out. (read timeout=\u001b[39m\u001b[38;5;132;01m%s\u001b[39;00m\u001b[38;5;124m)\u001b[39m\u001b[38;5;124m\"\u001b[39m \u001b[38;5;241m%\u001b[39m timeout_value\n\u001b[0;32m    342\u001b[0m     )\n\u001b[0;32m    344\u001b[0m \u001b[38;5;66;03m# See the above comment about EAGAIN in Python 3. In Python 2 we have\u001b[39;00m\n\u001b[0;32m    345\u001b[0m \u001b[38;5;66;03m# to specifically catch it and throw the timeout error\u001b[39;00m\n",
      "\u001b[1;31mReadTimeoutError\u001b[0m: HTTPSConnectionPool(host='httpbin.org', port=443): Read timed out. (read timeout=1.0)",
      "\nDuring handling of the above exception, another exception occurred:\n",
      "\u001b[1;31mMaxRetryError\u001b[0m                             Traceback (most recent call last)",
      "Cell \u001b[1;32mIn[42], line 1\u001b[0m\n\u001b[1;32m----> 1\u001b[0m resp \u001b[38;5;241m=\u001b[39m \u001b[43mhttp\u001b[49m\u001b[38;5;241;43m.\u001b[39;49m\u001b[43mrequest\u001b[49m\u001b[43m(\u001b[49m\n\u001b[0;32m      2\u001b[0m \u001b[43m    \u001b[49m\u001b[38;5;124;43m\"\u001b[39;49m\u001b[38;5;124;43mGET\u001b[39;49m\u001b[38;5;124;43m\"\u001b[39;49m\u001b[43m,\u001b[49m\n\u001b[0;32m      3\u001b[0m \u001b[43m    \u001b[49m\u001b[38;5;124;43m\"\u001b[39;49m\u001b[38;5;124;43mhttps://httpbin.org/delay/3\u001b[39;49m\u001b[38;5;124;43m\"\u001b[39;49m\u001b[43m,\u001b[49m\n\u001b[0;32m      4\u001b[0m \u001b[43m    \u001b[49m\u001b[43mtimeout\u001b[49m\u001b[38;5;241;43m=\u001b[39;49m\u001b[38;5;241;43m1.0\u001b[39;49m\n\u001b[0;32m      5\u001b[0m \u001b[43m)\u001b[49m\n\u001b[0;32m      7\u001b[0m \u001b[38;5;28mprint\u001b[39m(\u001b[38;5;28mtype\u001b[39m(resp))\n",
      "File \u001b[1;32mD:\\Anaconda\\envs\\wz_py_3_8\\lib\\site-packages\\urllib3\\request.py:74\u001b[0m, in \u001b[0;36mRequestMethods.request\u001b[1;34m(self, method, url, fields, headers, **urlopen_kw)\u001b[0m\n\u001b[0;32m     71\u001b[0m urlopen_kw[\u001b[38;5;124m\"\u001b[39m\u001b[38;5;124mrequest_url\u001b[39m\u001b[38;5;124m\"\u001b[39m] \u001b[38;5;241m=\u001b[39m url\n\u001b[0;32m     73\u001b[0m \u001b[38;5;28;01mif\u001b[39;00m method \u001b[38;5;129;01min\u001b[39;00m \u001b[38;5;28mself\u001b[39m\u001b[38;5;241m.\u001b[39m_encode_url_methods:\n\u001b[1;32m---> 74\u001b[0m     \u001b[38;5;28;01mreturn\u001b[39;00m \u001b[38;5;28;43mself\u001b[39;49m\u001b[38;5;241;43m.\u001b[39;49m\u001b[43mrequest_encode_url\u001b[49m\u001b[43m(\u001b[49m\n\u001b[0;32m     75\u001b[0m \u001b[43m        \u001b[49m\u001b[43mmethod\u001b[49m\u001b[43m,\u001b[49m\u001b[43m \u001b[49m\u001b[43murl\u001b[49m\u001b[43m,\u001b[49m\u001b[43m \u001b[49m\u001b[43mfields\u001b[49m\u001b[38;5;241;43m=\u001b[39;49m\u001b[43mfields\u001b[49m\u001b[43m,\u001b[49m\u001b[43m \u001b[49m\u001b[43mheaders\u001b[49m\u001b[38;5;241;43m=\u001b[39;49m\u001b[43mheaders\u001b[49m\u001b[43m,\u001b[49m\u001b[43m \u001b[49m\u001b[38;5;241;43m*\u001b[39;49m\u001b[38;5;241;43m*\u001b[39;49m\u001b[43murlopen_kw\u001b[49m\n\u001b[0;32m     76\u001b[0m \u001b[43m    \u001b[49m\u001b[43m)\u001b[49m\n\u001b[0;32m     77\u001b[0m \u001b[38;5;28;01melse\u001b[39;00m:\n\u001b[0;32m     78\u001b[0m     \u001b[38;5;28;01mreturn\u001b[39;00m \u001b[38;5;28mself\u001b[39m\u001b[38;5;241m.\u001b[39mrequest_encode_body(\n\u001b[0;32m     79\u001b[0m         method, url, fields\u001b[38;5;241m=\u001b[39mfields, headers\u001b[38;5;241m=\u001b[39mheaders, \u001b[38;5;241m*\u001b[39m\u001b[38;5;241m*\u001b[39murlopen_kw\n\u001b[0;32m     80\u001b[0m     )\n",
      "File \u001b[1;32mD:\\Anaconda\\envs\\wz_py_3_8\\lib\\site-packages\\urllib3\\request.py:96\u001b[0m, in \u001b[0;36mRequestMethods.request_encode_url\u001b[1;34m(self, method, url, fields, headers, **urlopen_kw)\u001b[0m\n\u001b[0;32m     93\u001b[0m \u001b[38;5;28;01mif\u001b[39;00m fields:\n\u001b[0;32m     94\u001b[0m     url \u001b[38;5;241m+\u001b[39m\u001b[38;5;241m=\u001b[39m \u001b[38;5;124m\"\u001b[39m\u001b[38;5;124m?\u001b[39m\u001b[38;5;124m\"\u001b[39m \u001b[38;5;241m+\u001b[39m urlencode(fields)\n\u001b[1;32m---> 96\u001b[0m \u001b[38;5;28;01mreturn\u001b[39;00m \u001b[38;5;28;43mself\u001b[39;49m\u001b[38;5;241;43m.\u001b[39;49m\u001b[43murlopen\u001b[49m\u001b[43m(\u001b[49m\u001b[43mmethod\u001b[49m\u001b[43m,\u001b[49m\u001b[43m \u001b[49m\u001b[43murl\u001b[49m\u001b[43m,\u001b[49m\u001b[43m \u001b[49m\u001b[38;5;241;43m*\u001b[39;49m\u001b[38;5;241;43m*\u001b[39;49m\u001b[43mextra_kw\u001b[49m\u001b[43m)\u001b[49m\n",
      "File \u001b[1;32mD:\\Anaconda\\envs\\wz_py_3_8\\lib\\site-packages\\urllib3\\poolmanager.py:376\u001b[0m, in \u001b[0;36mPoolManager.urlopen\u001b[1;34m(self, method, url, redirect, **kw)\u001b[0m\n\u001b[0;32m    374\u001b[0m     response \u001b[38;5;241m=\u001b[39m conn\u001b[38;5;241m.\u001b[39murlopen(method, url, \u001b[38;5;241m*\u001b[39m\u001b[38;5;241m*\u001b[39mkw)\n\u001b[0;32m    375\u001b[0m \u001b[38;5;28;01melse\u001b[39;00m:\n\u001b[1;32m--> 376\u001b[0m     response \u001b[38;5;241m=\u001b[39m \u001b[43mconn\u001b[49m\u001b[38;5;241;43m.\u001b[39;49m\u001b[43murlopen\u001b[49m\u001b[43m(\u001b[49m\u001b[43mmethod\u001b[49m\u001b[43m,\u001b[49m\u001b[43m \u001b[49m\u001b[43mu\u001b[49m\u001b[38;5;241;43m.\u001b[39;49m\u001b[43mrequest_uri\u001b[49m\u001b[43m,\u001b[49m\u001b[43m \u001b[49m\u001b[38;5;241;43m*\u001b[39;49m\u001b[38;5;241;43m*\u001b[39;49m\u001b[43mkw\u001b[49m\u001b[43m)\u001b[49m\n\u001b[0;32m    378\u001b[0m redirect_location \u001b[38;5;241m=\u001b[39m redirect \u001b[38;5;129;01mand\u001b[39;00m response\u001b[38;5;241m.\u001b[39mget_redirect_location()\n\u001b[0;32m    379\u001b[0m \u001b[38;5;28;01mif\u001b[39;00m \u001b[38;5;129;01mnot\u001b[39;00m redirect_location:\n",
      "File \u001b[1;32mD:\\Anaconda\\envs\\wz_py_3_8\\lib\\site-packages\\urllib3\\connectionpool.py:815\u001b[0m, in \u001b[0;36mHTTPConnectionPool.urlopen\u001b[1;34m(self, method, url, body, headers, retries, redirect, assert_same_host, timeout, pool_timeout, release_conn, chunked, body_pos, **response_kw)\u001b[0m\n\u001b[0;32m    810\u001b[0m \u001b[38;5;28;01mif\u001b[39;00m \u001b[38;5;129;01mnot\u001b[39;00m conn:\n\u001b[0;32m    811\u001b[0m     \u001b[38;5;66;03m# Try again\u001b[39;00m\n\u001b[0;32m    812\u001b[0m     log\u001b[38;5;241m.\u001b[39mwarning(\n\u001b[0;32m    813\u001b[0m         \u001b[38;5;124m\"\u001b[39m\u001b[38;5;124mRetrying (\u001b[39m\u001b[38;5;132;01m%r\u001b[39;00m\u001b[38;5;124m) after connection broken by \u001b[39m\u001b[38;5;124m'\u001b[39m\u001b[38;5;132;01m%r\u001b[39;00m\u001b[38;5;124m'\u001b[39m\u001b[38;5;124m: \u001b[39m\u001b[38;5;132;01m%s\u001b[39;00m\u001b[38;5;124m\"\u001b[39m, retries, err, url\n\u001b[0;32m    814\u001b[0m     )\n\u001b[1;32m--> 815\u001b[0m     \u001b[38;5;28;01mreturn\u001b[39;00m \u001b[38;5;28;43mself\u001b[39;49m\u001b[38;5;241;43m.\u001b[39;49m\u001b[43murlopen\u001b[49m\u001b[43m(\u001b[49m\n\u001b[0;32m    816\u001b[0m \u001b[43m        \u001b[49m\u001b[43mmethod\u001b[49m\u001b[43m,\u001b[49m\n\u001b[0;32m    817\u001b[0m \u001b[43m        \u001b[49m\u001b[43murl\u001b[49m\u001b[43m,\u001b[49m\n\u001b[0;32m    818\u001b[0m \u001b[43m        \u001b[49m\u001b[43mbody\u001b[49m\u001b[43m,\u001b[49m\n\u001b[0;32m    819\u001b[0m \u001b[43m        \u001b[49m\u001b[43mheaders\u001b[49m\u001b[43m,\u001b[49m\n\u001b[0;32m    820\u001b[0m \u001b[43m        \u001b[49m\u001b[43mretries\u001b[49m\u001b[43m,\u001b[49m\n\u001b[0;32m    821\u001b[0m \u001b[43m        \u001b[49m\u001b[43mredirect\u001b[49m\u001b[43m,\u001b[49m\n\u001b[0;32m    822\u001b[0m \u001b[43m        \u001b[49m\u001b[43massert_same_host\u001b[49m\u001b[43m,\u001b[49m\n\u001b[0;32m    823\u001b[0m \u001b[43m        \u001b[49m\u001b[43mtimeout\u001b[49m\u001b[38;5;241;43m=\u001b[39;49m\u001b[43mtimeout\u001b[49m\u001b[43m,\u001b[49m\n\u001b[0;32m    824\u001b[0m \u001b[43m        \u001b[49m\u001b[43mpool_timeout\u001b[49m\u001b[38;5;241;43m=\u001b[39;49m\u001b[43mpool_timeout\u001b[49m\u001b[43m,\u001b[49m\n\u001b[0;32m    825\u001b[0m \u001b[43m        \u001b[49m\u001b[43mrelease_conn\u001b[49m\u001b[38;5;241;43m=\u001b[39;49m\u001b[43mrelease_conn\u001b[49m\u001b[43m,\u001b[49m\n\u001b[0;32m    826\u001b[0m \u001b[43m        \u001b[49m\u001b[43mchunked\u001b[49m\u001b[38;5;241;43m=\u001b[39;49m\u001b[43mchunked\u001b[49m\u001b[43m,\u001b[49m\n\u001b[0;32m    827\u001b[0m \u001b[43m        \u001b[49m\u001b[43mbody_pos\u001b[49m\u001b[38;5;241;43m=\u001b[39;49m\u001b[43mbody_pos\u001b[49m\u001b[43m,\u001b[49m\n\u001b[0;32m    828\u001b[0m \u001b[43m        \u001b[49m\u001b[38;5;241;43m*\u001b[39;49m\u001b[38;5;241;43m*\u001b[39;49m\u001b[43mresponse_kw\u001b[49m\n\u001b[0;32m    829\u001b[0m \u001b[43m    \u001b[49m\u001b[43m)\u001b[49m\n\u001b[0;32m    831\u001b[0m \u001b[38;5;66;03m# Handle redirect?\u001b[39;00m\n\u001b[0;32m    832\u001b[0m redirect_location \u001b[38;5;241m=\u001b[39m redirect \u001b[38;5;129;01mand\u001b[39;00m response\u001b[38;5;241m.\u001b[39mget_redirect_location()\n",
      "File \u001b[1;32mD:\\Anaconda\\envs\\wz_py_3_8\\lib\\site-packages\\urllib3\\connectionpool.py:815\u001b[0m, in \u001b[0;36mHTTPConnectionPool.urlopen\u001b[1;34m(self, method, url, body, headers, retries, redirect, assert_same_host, timeout, pool_timeout, release_conn, chunked, body_pos, **response_kw)\u001b[0m\n\u001b[0;32m    810\u001b[0m \u001b[38;5;28;01mif\u001b[39;00m \u001b[38;5;129;01mnot\u001b[39;00m conn:\n\u001b[0;32m    811\u001b[0m     \u001b[38;5;66;03m# Try again\u001b[39;00m\n\u001b[0;32m    812\u001b[0m     log\u001b[38;5;241m.\u001b[39mwarning(\n\u001b[0;32m    813\u001b[0m         \u001b[38;5;124m\"\u001b[39m\u001b[38;5;124mRetrying (\u001b[39m\u001b[38;5;132;01m%r\u001b[39;00m\u001b[38;5;124m) after connection broken by \u001b[39m\u001b[38;5;124m'\u001b[39m\u001b[38;5;132;01m%r\u001b[39;00m\u001b[38;5;124m'\u001b[39m\u001b[38;5;124m: \u001b[39m\u001b[38;5;132;01m%s\u001b[39;00m\u001b[38;5;124m\"\u001b[39m, retries, err, url\n\u001b[0;32m    814\u001b[0m     )\n\u001b[1;32m--> 815\u001b[0m     \u001b[38;5;28;01mreturn\u001b[39;00m \u001b[38;5;28;43mself\u001b[39;49m\u001b[38;5;241;43m.\u001b[39;49m\u001b[43murlopen\u001b[49m\u001b[43m(\u001b[49m\n\u001b[0;32m    816\u001b[0m \u001b[43m        \u001b[49m\u001b[43mmethod\u001b[49m\u001b[43m,\u001b[49m\n\u001b[0;32m    817\u001b[0m \u001b[43m        \u001b[49m\u001b[43murl\u001b[49m\u001b[43m,\u001b[49m\n\u001b[0;32m    818\u001b[0m \u001b[43m        \u001b[49m\u001b[43mbody\u001b[49m\u001b[43m,\u001b[49m\n\u001b[0;32m    819\u001b[0m \u001b[43m        \u001b[49m\u001b[43mheaders\u001b[49m\u001b[43m,\u001b[49m\n\u001b[0;32m    820\u001b[0m \u001b[43m        \u001b[49m\u001b[43mretries\u001b[49m\u001b[43m,\u001b[49m\n\u001b[0;32m    821\u001b[0m \u001b[43m        \u001b[49m\u001b[43mredirect\u001b[49m\u001b[43m,\u001b[49m\n\u001b[0;32m    822\u001b[0m \u001b[43m        \u001b[49m\u001b[43massert_same_host\u001b[49m\u001b[43m,\u001b[49m\n\u001b[0;32m    823\u001b[0m \u001b[43m        \u001b[49m\u001b[43mtimeout\u001b[49m\u001b[38;5;241;43m=\u001b[39;49m\u001b[43mtimeout\u001b[49m\u001b[43m,\u001b[49m\n\u001b[0;32m    824\u001b[0m \u001b[43m        \u001b[49m\u001b[43mpool_timeout\u001b[49m\u001b[38;5;241;43m=\u001b[39;49m\u001b[43mpool_timeout\u001b[49m\u001b[43m,\u001b[49m\n\u001b[0;32m    825\u001b[0m \u001b[43m        \u001b[49m\u001b[43mrelease_conn\u001b[49m\u001b[38;5;241;43m=\u001b[39;49m\u001b[43mrelease_conn\u001b[49m\u001b[43m,\u001b[49m\n\u001b[0;32m    826\u001b[0m \u001b[43m        \u001b[49m\u001b[43mchunked\u001b[49m\u001b[38;5;241;43m=\u001b[39;49m\u001b[43mchunked\u001b[49m\u001b[43m,\u001b[49m\n\u001b[0;32m    827\u001b[0m \u001b[43m        \u001b[49m\u001b[43mbody_pos\u001b[49m\u001b[38;5;241;43m=\u001b[39;49m\u001b[43mbody_pos\u001b[49m\u001b[43m,\u001b[49m\n\u001b[0;32m    828\u001b[0m \u001b[43m        \u001b[49m\u001b[38;5;241;43m*\u001b[39;49m\u001b[38;5;241;43m*\u001b[39;49m\u001b[43mresponse_kw\u001b[49m\n\u001b[0;32m    829\u001b[0m \u001b[43m    \u001b[49m\u001b[43m)\u001b[49m\n\u001b[0;32m    831\u001b[0m \u001b[38;5;66;03m# Handle redirect?\u001b[39;00m\n\u001b[0;32m    832\u001b[0m redirect_location \u001b[38;5;241m=\u001b[39m redirect \u001b[38;5;129;01mand\u001b[39;00m response\u001b[38;5;241m.\u001b[39mget_redirect_location()\n",
      "File \u001b[1;32mD:\\Anaconda\\envs\\wz_py_3_8\\lib\\site-packages\\urllib3\\connectionpool.py:815\u001b[0m, in \u001b[0;36mHTTPConnectionPool.urlopen\u001b[1;34m(self, method, url, body, headers, retries, redirect, assert_same_host, timeout, pool_timeout, release_conn, chunked, body_pos, **response_kw)\u001b[0m\n\u001b[0;32m    810\u001b[0m \u001b[38;5;28;01mif\u001b[39;00m \u001b[38;5;129;01mnot\u001b[39;00m conn:\n\u001b[0;32m    811\u001b[0m     \u001b[38;5;66;03m# Try again\u001b[39;00m\n\u001b[0;32m    812\u001b[0m     log\u001b[38;5;241m.\u001b[39mwarning(\n\u001b[0;32m    813\u001b[0m         \u001b[38;5;124m\"\u001b[39m\u001b[38;5;124mRetrying (\u001b[39m\u001b[38;5;132;01m%r\u001b[39;00m\u001b[38;5;124m) after connection broken by \u001b[39m\u001b[38;5;124m'\u001b[39m\u001b[38;5;132;01m%r\u001b[39;00m\u001b[38;5;124m'\u001b[39m\u001b[38;5;124m: \u001b[39m\u001b[38;5;132;01m%s\u001b[39;00m\u001b[38;5;124m\"\u001b[39m, retries, err, url\n\u001b[0;32m    814\u001b[0m     )\n\u001b[1;32m--> 815\u001b[0m     \u001b[38;5;28;01mreturn\u001b[39;00m \u001b[38;5;28;43mself\u001b[39;49m\u001b[38;5;241;43m.\u001b[39;49m\u001b[43murlopen\u001b[49m\u001b[43m(\u001b[49m\n\u001b[0;32m    816\u001b[0m \u001b[43m        \u001b[49m\u001b[43mmethod\u001b[49m\u001b[43m,\u001b[49m\n\u001b[0;32m    817\u001b[0m \u001b[43m        \u001b[49m\u001b[43murl\u001b[49m\u001b[43m,\u001b[49m\n\u001b[0;32m    818\u001b[0m \u001b[43m        \u001b[49m\u001b[43mbody\u001b[49m\u001b[43m,\u001b[49m\n\u001b[0;32m    819\u001b[0m \u001b[43m        \u001b[49m\u001b[43mheaders\u001b[49m\u001b[43m,\u001b[49m\n\u001b[0;32m    820\u001b[0m \u001b[43m        \u001b[49m\u001b[43mretries\u001b[49m\u001b[43m,\u001b[49m\n\u001b[0;32m    821\u001b[0m \u001b[43m        \u001b[49m\u001b[43mredirect\u001b[49m\u001b[43m,\u001b[49m\n\u001b[0;32m    822\u001b[0m \u001b[43m        \u001b[49m\u001b[43massert_same_host\u001b[49m\u001b[43m,\u001b[49m\n\u001b[0;32m    823\u001b[0m \u001b[43m        \u001b[49m\u001b[43mtimeout\u001b[49m\u001b[38;5;241;43m=\u001b[39;49m\u001b[43mtimeout\u001b[49m\u001b[43m,\u001b[49m\n\u001b[0;32m    824\u001b[0m \u001b[43m        \u001b[49m\u001b[43mpool_timeout\u001b[49m\u001b[38;5;241;43m=\u001b[39;49m\u001b[43mpool_timeout\u001b[49m\u001b[43m,\u001b[49m\n\u001b[0;32m    825\u001b[0m \u001b[43m        \u001b[49m\u001b[43mrelease_conn\u001b[49m\u001b[38;5;241;43m=\u001b[39;49m\u001b[43mrelease_conn\u001b[49m\u001b[43m,\u001b[49m\n\u001b[0;32m    826\u001b[0m \u001b[43m        \u001b[49m\u001b[43mchunked\u001b[49m\u001b[38;5;241;43m=\u001b[39;49m\u001b[43mchunked\u001b[49m\u001b[43m,\u001b[49m\n\u001b[0;32m    827\u001b[0m \u001b[43m        \u001b[49m\u001b[43mbody_pos\u001b[49m\u001b[38;5;241;43m=\u001b[39;49m\u001b[43mbody_pos\u001b[49m\u001b[43m,\u001b[49m\n\u001b[0;32m    828\u001b[0m \u001b[43m        \u001b[49m\u001b[38;5;241;43m*\u001b[39;49m\u001b[38;5;241;43m*\u001b[39;49m\u001b[43mresponse_kw\u001b[49m\n\u001b[0;32m    829\u001b[0m \u001b[43m    \u001b[49m\u001b[43m)\u001b[49m\n\u001b[0;32m    831\u001b[0m \u001b[38;5;66;03m# Handle redirect?\u001b[39;00m\n\u001b[0;32m    832\u001b[0m redirect_location \u001b[38;5;241m=\u001b[39m redirect \u001b[38;5;129;01mand\u001b[39;00m response\u001b[38;5;241m.\u001b[39mget_redirect_location()\n",
      "File \u001b[1;32mD:\\Anaconda\\envs\\wz_py_3_8\\lib\\site-packages\\urllib3\\connectionpool.py:787\u001b[0m, in \u001b[0;36mHTTPConnectionPool.urlopen\u001b[1;34m(self, method, url, body, headers, retries, redirect, assert_same_host, timeout, pool_timeout, release_conn, chunked, body_pos, **response_kw)\u001b[0m\n\u001b[0;32m    784\u001b[0m \u001b[38;5;28;01melif\u001b[39;00m \u001b[38;5;28misinstance\u001b[39m(e, (SocketError, HTTPException)):\n\u001b[0;32m    785\u001b[0m     e \u001b[38;5;241m=\u001b[39m ProtocolError(\u001b[38;5;124m\"\u001b[39m\u001b[38;5;124mConnection aborted.\u001b[39m\u001b[38;5;124m\"\u001b[39m, e)\n\u001b[1;32m--> 787\u001b[0m retries \u001b[38;5;241m=\u001b[39m \u001b[43mretries\u001b[49m\u001b[38;5;241;43m.\u001b[39;49m\u001b[43mincrement\u001b[49m\u001b[43m(\u001b[49m\n\u001b[0;32m    788\u001b[0m \u001b[43m    \u001b[49m\u001b[43mmethod\u001b[49m\u001b[43m,\u001b[49m\u001b[43m \u001b[49m\u001b[43murl\u001b[49m\u001b[43m,\u001b[49m\u001b[43m \u001b[49m\u001b[43merror\u001b[49m\u001b[38;5;241;43m=\u001b[39;49m\u001b[43me\u001b[49m\u001b[43m,\u001b[49m\u001b[43m \u001b[49m\u001b[43m_pool\u001b[49m\u001b[38;5;241;43m=\u001b[39;49m\u001b[38;5;28;43mself\u001b[39;49m\u001b[43m,\u001b[49m\u001b[43m \u001b[49m\u001b[43m_stacktrace\u001b[49m\u001b[38;5;241;43m=\u001b[39;49m\u001b[43msys\u001b[49m\u001b[38;5;241;43m.\u001b[39;49m\u001b[43mexc_info\u001b[49m\u001b[43m(\u001b[49m\u001b[43m)\u001b[49m\u001b[43m[\u001b[49m\u001b[38;5;241;43m2\u001b[39;49m\u001b[43m]\u001b[49m\n\u001b[0;32m    789\u001b[0m \u001b[43m\u001b[49m\u001b[43m)\u001b[49m\n\u001b[0;32m    790\u001b[0m retries\u001b[38;5;241m.\u001b[39msleep()\n\u001b[0;32m    792\u001b[0m \u001b[38;5;66;03m# Keep track of the error for the retry warning.\u001b[39;00m\n",
      "File \u001b[1;32mD:\\Anaconda\\envs\\wz_py_3_8\\lib\\site-packages\\urllib3\\util\\retry.py:592\u001b[0m, in \u001b[0;36mRetry.increment\u001b[1;34m(self, method, url, response, error, _pool, _stacktrace)\u001b[0m\n\u001b[0;32m    581\u001b[0m new_retry \u001b[38;5;241m=\u001b[39m \u001b[38;5;28mself\u001b[39m\u001b[38;5;241m.\u001b[39mnew(\n\u001b[0;32m    582\u001b[0m     total\u001b[38;5;241m=\u001b[39mtotal,\n\u001b[0;32m    583\u001b[0m     connect\u001b[38;5;241m=\u001b[39mconnect,\n\u001b[1;32m   (...)\u001b[0m\n\u001b[0;32m    588\u001b[0m     history\u001b[38;5;241m=\u001b[39mhistory,\n\u001b[0;32m    589\u001b[0m )\n\u001b[0;32m    591\u001b[0m \u001b[38;5;28;01mif\u001b[39;00m new_retry\u001b[38;5;241m.\u001b[39mis_exhausted():\n\u001b[1;32m--> 592\u001b[0m     \u001b[38;5;28;01mraise\u001b[39;00m MaxRetryError(_pool, url, error \u001b[38;5;129;01mor\u001b[39;00m ResponseError(cause))\n\u001b[0;32m    594\u001b[0m log\u001b[38;5;241m.\u001b[39mdebug(\u001b[38;5;124m\"\u001b[39m\u001b[38;5;124mIncremented Retry for (url=\u001b[39m\u001b[38;5;124m'\u001b[39m\u001b[38;5;132;01m%s\u001b[39;00m\u001b[38;5;124m'\u001b[39m\u001b[38;5;124m): \u001b[39m\u001b[38;5;132;01m%r\u001b[39;00m\u001b[38;5;124m\"\u001b[39m, url, new_retry)\n\u001b[0;32m    596\u001b[0m \u001b[38;5;28;01mreturn\u001b[39;00m new_retry\n",
      "\u001b[1;31mMaxRetryError\u001b[0m: HTTPSConnectionPool(host='httpbin.org', port=443): Max retries exceeded with url: /delay/3 (Caused by ReadTimeoutError(\"HTTPSConnectionPool(host='httpbin.org', port=443): Read timed out. (read timeout=1.0)\"))"
     ]
    }
   ],
   "source": [
    "resp = http.request(\n",
    "    \"GET\",\n",
    "    \"https://httpbin.org/delay/3\",\n",
    "    timeout=1.0\n",
    ")\n",
    "\n",
    "print(type(resp))"
   ]
  },
  {
   "cell_type": "code",
   "execution_count": 43,
   "id": "f45c10d5",
   "metadata": {},
   "outputs": [
    {
     "ename": "MaxRetryError",
     "evalue": "HTTPSConnectionPool(host='httpbin.org', port=443): Max retries exceeded with url: /delay/3 (Caused by ReadTimeoutError(\"HTTPSConnectionPool(host='httpbin.org', port=443): Read timed out. (read timeout=2.0)\"))",
     "output_type": "error",
     "traceback": [
      "\u001b[1;31m---------------------------------------------------------------------------\u001b[0m",
      "\u001b[1;31mtimeout\u001b[0m                                   Traceback (most recent call last)",
      "File \u001b[1;32mD:\\Anaconda\\envs\\wz_py_3_8\\lib\\site-packages\\urllib3\\connectionpool.py:449\u001b[0m, in \u001b[0;36mHTTPConnectionPool._make_request\u001b[1;34m(self, conn, method, url, timeout, chunked, **httplib_request_kw)\u001b[0m\n\u001b[0;32m    445\u001b[0m         \u001b[38;5;28;01mexcept\u001b[39;00m \u001b[38;5;167;01mBaseException\u001b[39;00m \u001b[38;5;28;01mas\u001b[39;00m e:\n\u001b[0;32m    446\u001b[0m             \u001b[38;5;66;03m# Remove the TypeError from the exception chain in\u001b[39;00m\n\u001b[0;32m    447\u001b[0m             \u001b[38;5;66;03m# Python 3 (including for exceptions like SystemExit).\u001b[39;00m\n\u001b[0;32m    448\u001b[0m             \u001b[38;5;66;03m# Otherwise it looks like a bug in the code.\u001b[39;00m\n\u001b[1;32m--> 449\u001b[0m             \u001b[43msix\u001b[49m\u001b[38;5;241;43m.\u001b[39;49m\u001b[43mraise_from\u001b[49m\u001b[43m(\u001b[49m\u001b[43me\u001b[49m\u001b[43m,\u001b[49m\u001b[43m \u001b[49m\u001b[38;5;28;43;01mNone\u001b[39;49;00m\u001b[43m)\u001b[49m\n\u001b[0;32m    450\u001b[0m \u001b[38;5;28;01mexcept\u001b[39;00m (SocketTimeout, BaseSSLError, SocketError) \u001b[38;5;28;01mas\u001b[39;00m e:\n",
      "File \u001b[1;32m<string>:3\u001b[0m, in \u001b[0;36mraise_from\u001b[1;34m(value, from_value)\u001b[0m\n",
      "File \u001b[1;32mD:\\Anaconda\\envs\\wz_py_3_8\\lib\\site-packages\\urllib3\\connectionpool.py:444\u001b[0m, in \u001b[0;36mHTTPConnectionPool._make_request\u001b[1;34m(self, conn, method, url, timeout, chunked, **httplib_request_kw)\u001b[0m\n\u001b[0;32m    443\u001b[0m \u001b[38;5;28;01mtry\u001b[39;00m:\n\u001b[1;32m--> 444\u001b[0m     httplib_response \u001b[38;5;241m=\u001b[39m \u001b[43mconn\u001b[49m\u001b[38;5;241;43m.\u001b[39;49m\u001b[43mgetresponse\u001b[49m\u001b[43m(\u001b[49m\u001b[43m)\u001b[49m\n\u001b[0;32m    445\u001b[0m \u001b[38;5;28;01mexcept\u001b[39;00m \u001b[38;5;167;01mBaseException\u001b[39;00m \u001b[38;5;28;01mas\u001b[39;00m e:\n\u001b[0;32m    446\u001b[0m     \u001b[38;5;66;03m# Remove the TypeError from the exception chain in\u001b[39;00m\n\u001b[0;32m    447\u001b[0m     \u001b[38;5;66;03m# Python 3 (including for exceptions like SystemExit).\u001b[39;00m\n\u001b[0;32m    448\u001b[0m     \u001b[38;5;66;03m# Otherwise it looks like a bug in the code.\u001b[39;00m\n",
      "File \u001b[1;32mD:\\Anaconda\\envs\\wz_py_3_8\\lib\\http\\client.py:1348\u001b[0m, in \u001b[0;36mHTTPConnection.getresponse\u001b[1;34m(self)\u001b[0m\n\u001b[0;32m   1347\u001b[0m \u001b[38;5;28;01mtry\u001b[39;00m:\n\u001b[1;32m-> 1348\u001b[0m     \u001b[43mresponse\u001b[49m\u001b[38;5;241;43m.\u001b[39;49m\u001b[43mbegin\u001b[49m\u001b[43m(\u001b[49m\u001b[43m)\u001b[49m\n\u001b[0;32m   1349\u001b[0m \u001b[38;5;28;01mexcept\u001b[39;00m \u001b[38;5;167;01mConnectionError\u001b[39;00m:\n",
      "File \u001b[1;32mD:\\Anaconda\\envs\\wz_py_3_8\\lib\\http\\client.py:316\u001b[0m, in \u001b[0;36mHTTPResponse.begin\u001b[1;34m(self)\u001b[0m\n\u001b[0;32m    315\u001b[0m \u001b[38;5;28;01mwhile\u001b[39;00m \u001b[38;5;28;01mTrue\u001b[39;00m:\n\u001b[1;32m--> 316\u001b[0m     version, status, reason \u001b[38;5;241m=\u001b[39m \u001b[38;5;28;43mself\u001b[39;49m\u001b[38;5;241;43m.\u001b[39;49m\u001b[43m_read_status\u001b[49m\u001b[43m(\u001b[49m\u001b[43m)\u001b[49m\n\u001b[0;32m    317\u001b[0m     \u001b[38;5;28;01mif\u001b[39;00m status \u001b[38;5;241m!=\u001b[39m CONTINUE:\n",
      "File \u001b[1;32mD:\\Anaconda\\envs\\wz_py_3_8\\lib\\http\\client.py:277\u001b[0m, in \u001b[0;36mHTTPResponse._read_status\u001b[1;34m(self)\u001b[0m\n\u001b[0;32m    276\u001b[0m \u001b[38;5;28;01mdef\u001b[39;00m \u001b[38;5;21m_read_status\u001b[39m(\u001b[38;5;28mself\u001b[39m):\n\u001b[1;32m--> 277\u001b[0m     line \u001b[38;5;241m=\u001b[39m \u001b[38;5;28mstr\u001b[39m(\u001b[38;5;28;43mself\u001b[39;49m\u001b[38;5;241;43m.\u001b[39;49m\u001b[43mfp\u001b[49m\u001b[38;5;241;43m.\u001b[39;49m\u001b[43mreadline\u001b[49m\u001b[43m(\u001b[49m\u001b[43m_MAXLINE\u001b[49m\u001b[43m \u001b[49m\u001b[38;5;241;43m+\u001b[39;49m\u001b[43m \u001b[49m\u001b[38;5;241;43m1\u001b[39;49m\u001b[43m)\u001b[49m, \u001b[38;5;124m\"\u001b[39m\u001b[38;5;124miso-8859-1\u001b[39m\u001b[38;5;124m\"\u001b[39m)\n\u001b[0;32m    278\u001b[0m     \u001b[38;5;28;01mif\u001b[39;00m \u001b[38;5;28mlen\u001b[39m(line) \u001b[38;5;241m>\u001b[39m _MAXLINE:\n",
      "File \u001b[1;32mD:\\Anaconda\\envs\\wz_py_3_8\\lib\\socket.py:669\u001b[0m, in \u001b[0;36mSocketIO.readinto\u001b[1;34m(self, b)\u001b[0m\n\u001b[0;32m    668\u001b[0m \u001b[38;5;28;01mtry\u001b[39;00m:\n\u001b[1;32m--> 669\u001b[0m     \u001b[38;5;28;01mreturn\u001b[39;00m \u001b[38;5;28;43mself\u001b[39;49m\u001b[38;5;241;43m.\u001b[39;49m\u001b[43m_sock\u001b[49m\u001b[38;5;241;43m.\u001b[39;49m\u001b[43mrecv_into\u001b[49m\u001b[43m(\u001b[49m\u001b[43mb\u001b[49m\u001b[43m)\u001b[49m\n\u001b[0;32m    670\u001b[0m \u001b[38;5;28;01mexcept\u001b[39;00m timeout:\n",
      "File \u001b[1;32mD:\\Anaconda\\envs\\wz_py_3_8\\lib\\ssl.py:1241\u001b[0m, in \u001b[0;36mSSLSocket.recv_into\u001b[1;34m(self, buffer, nbytes, flags)\u001b[0m\n\u001b[0;32m   1238\u001b[0m         \u001b[38;5;28;01mraise\u001b[39;00m \u001b[38;5;167;01mValueError\u001b[39;00m(\n\u001b[0;32m   1239\u001b[0m           \u001b[38;5;124m\"\u001b[39m\u001b[38;5;124mnon-zero flags not allowed in calls to recv_into() on \u001b[39m\u001b[38;5;132;01m%s\u001b[39;00m\u001b[38;5;124m\"\u001b[39m \u001b[38;5;241m%\u001b[39m\n\u001b[0;32m   1240\u001b[0m           \u001b[38;5;28mself\u001b[39m\u001b[38;5;241m.\u001b[39m\u001b[38;5;18m__class__\u001b[39m)\n\u001b[1;32m-> 1241\u001b[0m     \u001b[38;5;28;01mreturn\u001b[39;00m \u001b[38;5;28;43mself\u001b[39;49m\u001b[38;5;241;43m.\u001b[39;49m\u001b[43mread\u001b[49m\u001b[43m(\u001b[49m\u001b[43mnbytes\u001b[49m\u001b[43m,\u001b[49m\u001b[43m \u001b[49m\u001b[43mbuffer\u001b[49m\u001b[43m)\u001b[49m\n\u001b[0;32m   1242\u001b[0m \u001b[38;5;28;01melse\u001b[39;00m:\n",
      "File \u001b[1;32mD:\\Anaconda\\envs\\wz_py_3_8\\lib\\ssl.py:1099\u001b[0m, in \u001b[0;36mSSLSocket.read\u001b[1;34m(self, len, buffer)\u001b[0m\n\u001b[0;32m   1098\u001b[0m \u001b[38;5;28;01mif\u001b[39;00m buffer \u001b[38;5;129;01mis\u001b[39;00m \u001b[38;5;129;01mnot\u001b[39;00m \u001b[38;5;28;01mNone\u001b[39;00m:\n\u001b[1;32m-> 1099\u001b[0m     \u001b[38;5;28;01mreturn\u001b[39;00m \u001b[38;5;28;43mself\u001b[39;49m\u001b[38;5;241;43m.\u001b[39;49m\u001b[43m_sslobj\u001b[49m\u001b[38;5;241;43m.\u001b[39;49m\u001b[43mread\u001b[49m\u001b[43m(\u001b[49m\u001b[38;5;28;43mlen\u001b[39;49m\u001b[43m,\u001b[49m\u001b[43m \u001b[49m\u001b[43mbuffer\u001b[49m\u001b[43m)\u001b[49m\n\u001b[0;32m   1100\u001b[0m \u001b[38;5;28;01melse\u001b[39;00m:\n",
      "\u001b[1;31mtimeout\u001b[0m: The read operation timed out",
      "\nDuring handling of the above exception, another exception occurred:\n",
      "\u001b[1;31mReadTimeoutError\u001b[0m                          Traceback (most recent call last)",
      "File \u001b[1;32mD:\\Anaconda\\envs\\wz_py_3_8\\lib\\site-packages\\urllib3\\connectionpool.py:703\u001b[0m, in \u001b[0;36mHTTPConnectionPool.urlopen\u001b[1;34m(self, method, url, body, headers, retries, redirect, assert_same_host, timeout, pool_timeout, release_conn, chunked, body_pos, **response_kw)\u001b[0m\n\u001b[0;32m    702\u001b[0m \u001b[38;5;66;03m# Make the request on the httplib connection object.\u001b[39;00m\n\u001b[1;32m--> 703\u001b[0m httplib_response \u001b[38;5;241m=\u001b[39m \u001b[38;5;28;43mself\u001b[39;49m\u001b[38;5;241;43m.\u001b[39;49m\u001b[43m_make_request\u001b[49m\u001b[43m(\u001b[49m\n\u001b[0;32m    704\u001b[0m \u001b[43m    \u001b[49m\u001b[43mconn\u001b[49m\u001b[43m,\u001b[49m\n\u001b[0;32m    705\u001b[0m \u001b[43m    \u001b[49m\u001b[43mmethod\u001b[49m\u001b[43m,\u001b[49m\n\u001b[0;32m    706\u001b[0m \u001b[43m    \u001b[49m\u001b[43murl\u001b[49m\u001b[43m,\u001b[49m\n\u001b[0;32m    707\u001b[0m \u001b[43m    \u001b[49m\u001b[43mtimeout\u001b[49m\u001b[38;5;241;43m=\u001b[39;49m\u001b[43mtimeout_obj\u001b[49m\u001b[43m,\u001b[49m\n\u001b[0;32m    708\u001b[0m \u001b[43m    \u001b[49m\u001b[43mbody\u001b[49m\u001b[38;5;241;43m=\u001b[39;49m\u001b[43mbody\u001b[49m\u001b[43m,\u001b[49m\n\u001b[0;32m    709\u001b[0m \u001b[43m    \u001b[49m\u001b[43mheaders\u001b[49m\u001b[38;5;241;43m=\u001b[39;49m\u001b[43mheaders\u001b[49m\u001b[43m,\u001b[49m\n\u001b[0;32m    710\u001b[0m \u001b[43m    \u001b[49m\u001b[43mchunked\u001b[49m\u001b[38;5;241;43m=\u001b[39;49m\u001b[43mchunked\u001b[49m\u001b[43m,\u001b[49m\n\u001b[0;32m    711\u001b[0m \u001b[43m\u001b[49m\u001b[43m)\u001b[49m\n\u001b[0;32m    713\u001b[0m \u001b[38;5;66;03m# If we're going to release the connection in ``finally:``, then\u001b[39;00m\n\u001b[0;32m    714\u001b[0m \u001b[38;5;66;03m# the response doesn't need to know about the connection. Otherwise\u001b[39;00m\n\u001b[0;32m    715\u001b[0m \u001b[38;5;66;03m# it will also try to release it and we'll have a double-release\u001b[39;00m\n\u001b[0;32m    716\u001b[0m \u001b[38;5;66;03m# mess.\u001b[39;00m\n",
      "File \u001b[1;32mD:\\Anaconda\\envs\\wz_py_3_8\\lib\\site-packages\\urllib3\\connectionpool.py:451\u001b[0m, in \u001b[0;36mHTTPConnectionPool._make_request\u001b[1;34m(self, conn, method, url, timeout, chunked, **httplib_request_kw)\u001b[0m\n\u001b[0;32m    450\u001b[0m \u001b[38;5;28;01mexcept\u001b[39;00m (SocketTimeout, BaseSSLError, SocketError) \u001b[38;5;28;01mas\u001b[39;00m e:\n\u001b[1;32m--> 451\u001b[0m     \u001b[38;5;28;43mself\u001b[39;49m\u001b[38;5;241;43m.\u001b[39;49m\u001b[43m_raise_timeout\u001b[49m\u001b[43m(\u001b[49m\u001b[43merr\u001b[49m\u001b[38;5;241;43m=\u001b[39;49m\u001b[43me\u001b[49m\u001b[43m,\u001b[49m\u001b[43m \u001b[49m\u001b[43murl\u001b[49m\u001b[38;5;241;43m=\u001b[39;49m\u001b[43murl\u001b[49m\u001b[43m,\u001b[49m\u001b[43m \u001b[49m\u001b[43mtimeout_value\u001b[49m\u001b[38;5;241;43m=\u001b[39;49m\u001b[43mread_timeout\u001b[49m\u001b[43m)\u001b[49m\n\u001b[0;32m    452\u001b[0m     \u001b[38;5;28;01mraise\u001b[39;00m\n",
      "File \u001b[1;32mD:\\Anaconda\\envs\\wz_py_3_8\\lib\\site-packages\\urllib3\\connectionpool.py:340\u001b[0m, in \u001b[0;36mHTTPConnectionPool._raise_timeout\u001b[1;34m(self, err, url, timeout_value)\u001b[0m\n\u001b[0;32m    339\u001b[0m \u001b[38;5;28;01mif\u001b[39;00m \u001b[38;5;28misinstance\u001b[39m(err, SocketTimeout):\n\u001b[1;32m--> 340\u001b[0m     \u001b[38;5;28;01mraise\u001b[39;00m ReadTimeoutError(\n\u001b[0;32m    341\u001b[0m         \u001b[38;5;28mself\u001b[39m, url, \u001b[38;5;124m\"\u001b[39m\u001b[38;5;124mRead timed out. (read timeout=\u001b[39m\u001b[38;5;132;01m%s\u001b[39;00m\u001b[38;5;124m)\u001b[39m\u001b[38;5;124m\"\u001b[39m \u001b[38;5;241m%\u001b[39m timeout_value\n\u001b[0;32m    342\u001b[0m     )\n\u001b[0;32m    344\u001b[0m \u001b[38;5;66;03m# See the above comment about EAGAIN in Python 3. In Python 2 we have\u001b[39;00m\n\u001b[0;32m    345\u001b[0m \u001b[38;5;66;03m# to specifically catch it and throw the timeout error\u001b[39;00m\n",
      "\u001b[1;31mReadTimeoutError\u001b[0m: HTTPSConnectionPool(host='httpbin.org', port=443): Read timed out. (read timeout=2.0)",
      "\nDuring handling of the above exception, another exception occurred:\n",
      "\u001b[1;31mMaxRetryError\u001b[0m                             Traceback (most recent call last)",
      "Cell \u001b[1;32mIn[43], line 1\u001b[0m\n\u001b[1;32m----> 1\u001b[0m resp \u001b[38;5;241m=\u001b[39m \u001b[43mhttp\u001b[49m\u001b[38;5;241;43m.\u001b[39;49m\u001b[43mrequest\u001b[49m\u001b[43m(\u001b[49m\n\u001b[0;32m      2\u001b[0m \u001b[43m    \u001b[49m\u001b[38;5;124;43m\"\u001b[39;49m\u001b[38;5;124;43mGET\u001b[39;49m\u001b[38;5;124;43m\"\u001b[39;49m\u001b[43m,\u001b[49m\n\u001b[0;32m      3\u001b[0m \u001b[43m    \u001b[49m\u001b[38;5;124;43m\"\u001b[39;49m\u001b[38;5;124;43mhttps://httpbin.org/delay/3\u001b[39;49m\u001b[38;5;124;43m\"\u001b[39;49m\u001b[43m,\u001b[49m\n\u001b[0;32m      4\u001b[0m \u001b[43m    \u001b[49m\u001b[43mtimeout\u001b[49m\u001b[38;5;241;43m=\u001b[39;49m\u001b[43murllib3\u001b[49m\u001b[38;5;241;43m.\u001b[39;49m\u001b[43mTimeout\u001b[49m\u001b[43m(\u001b[49m\u001b[43mconnect\u001b[49m\u001b[38;5;241;43m=\u001b[39;49m\u001b[38;5;241;43m1.0\u001b[39;49m\u001b[43m,\u001b[49m\u001b[43m \u001b[49m\u001b[43mread\u001b[49m\u001b[38;5;241;43m=\u001b[39;49m\u001b[38;5;241;43m2.0\u001b[39;49m\u001b[43m)\u001b[49m\u001b[43m,\u001b[49m\n\u001b[0;32m      5\u001b[0m \u001b[43m)\u001b[49m\n",
      "File \u001b[1;32mD:\\Anaconda\\envs\\wz_py_3_8\\lib\\site-packages\\urllib3\\request.py:74\u001b[0m, in \u001b[0;36mRequestMethods.request\u001b[1;34m(self, method, url, fields, headers, **urlopen_kw)\u001b[0m\n\u001b[0;32m     71\u001b[0m urlopen_kw[\u001b[38;5;124m\"\u001b[39m\u001b[38;5;124mrequest_url\u001b[39m\u001b[38;5;124m\"\u001b[39m] \u001b[38;5;241m=\u001b[39m url\n\u001b[0;32m     73\u001b[0m \u001b[38;5;28;01mif\u001b[39;00m method \u001b[38;5;129;01min\u001b[39;00m \u001b[38;5;28mself\u001b[39m\u001b[38;5;241m.\u001b[39m_encode_url_methods:\n\u001b[1;32m---> 74\u001b[0m     \u001b[38;5;28;01mreturn\u001b[39;00m \u001b[38;5;28;43mself\u001b[39;49m\u001b[38;5;241;43m.\u001b[39;49m\u001b[43mrequest_encode_url\u001b[49m\u001b[43m(\u001b[49m\n\u001b[0;32m     75\u001b[0m \u001b[43m        \u001b[49m\u001b[43mmethod\u001b[49m\u001b[43m,\u001b[49m\u001b[43m \u001b[49m\u001b[43murl\u001b[49m\u001b[43m,\u001b[49m\u001b[43m \u001b[49m\u001b[43mfields\u001b[49m\u001b[38;5;241;43m=\u001b[39;49m\u001b[43mfields\u001b[49m\u001b[43m,\u001b[49m\u001b[43m \u001b[49m\u001b[43mheaders\u001b[49m\u001b[38;5;241;43m=\u001b[39;49m\u001b[43mheaders\u001b[49m\u001b[43m,\u001b[49m\u001b[43m \u001b[49m\u001b[38;5;241;43m*\u001b[39;49m\u001b[38;5;241;43m*\u001b[39;49m\u001b[43murlopen_kw\u001b[49m\n\u001b[0;32m     76\u001b[0m \u001b[43m    \u001b[49m\u001b[43m)\u001b[49m\n\u001b[0;32m     77\u001b[0m \u001b[38;5;28;01melse\u001b[39;00m:\n\u001b[0;32m     78\u001b[0m     \u001b[38;5;28;01mreturn\u001b[39;00m \u001b[38;5;28mself\u001b[39m\u001b[38;5;241m.\u001b[39mrequest_encode_body(\n\u001b[0;32m     79\u001b[0m         method, url, fields\u001b[38;5;241m=\u001b[39mfields, headers\u001b[38;5;241m=\u001b[39mheaders, \u001b[38;5;241m*\u001b[39m\u001b[38;5;241m*\u001b[39murlopen_kw\n\u001b[0;32m     80\u001b[0m     )\n",
      "File \u001b[1;32mD:\\Anaconda\\envs\\wz_py_3_8\\lib\\site-packages\\urllib3\\request.py:96\u001b[0m, in \u001b[0;36mRequestMethods.request_encode_url\u001b[1;34m(self, method, url, fields, headers, **urlopen_kw)\u001b[0m\n\u001b[0;32m     93\u001b[0m \u001b[38;5;28;01mif\u001b[39;00m fields:\n\u001b[0;32m     94\u001b[0m     url \u001b[38;5;241m+\u001b[39m\u001b[38;5;241m=\u001b[39m \u001b[38;5;124m\"\u001b[39m\u001b[38;5;124m?\u001b[39m\u001b[38;5;124m\"\u001b[39m \u001b[38;5;241m+\u001b[39m urlencode(fields)\n\u001b[1;32m---> 96\u001b[0m \u001b[38;5;28;01mreturn\u001b[39;00m \u001b[38;5;28;43mself\u001b[39;49m\u001b[38;5;241;43m.\u001b[39;49m\u001b[43murlopen\u001b[49m\u001b[43m(\u001b[49m\u001b[43mmethod\u001b[49m\u001b[43m,\u001b[49m\u001b[43m \u001b[49m\u001b[43murl\u001b[49m\u001b[43m,\u001b[49m\u001b[43m \u001b[49m\u001b[38;5;241;43m*\u001b[39;49m\u001b[38;5;241;43m*\u001b[39;49m\u001b[43mextra_kw\u001b[49m\u001b[43m)\u001b[49m\n",
      "File \u001b[1;32mD:\\Anaconda\\envs\\wz_py_3_8\\lib\\site-packages\\urllib3\\poolmanager.py:376\u001b[0m, in \u001b[0;36mPoolManager.urlopen\u001b[1;34m(self, method, url, redirect, **kw)\u001b[0m\n\u001b[0;32m    374\u001b[0m     response \u001b[38;5;241m=\u001b[39m conn\u001b[38;5;241m.\u001b[39murlopen(method, url, \u001b[38;5;241m*\u001b[39m\u001b[38;5;241m*\u001b[39mkw)\n\u001b[0;32m    375\u001b[0m \u001b[38;5;28;01melse\u001b[39;00m:\n\u001b[1;32m--> 376\u001b[0m     response \u001b[38;5;241m=\u001b[39m \u001b[43mconn\u001b[49m\u001b[38;5;241;43m.\u001b[39;49m\u001b[43murlopen\u001b[49m\u001b[43m(\u001b[49m\u001b[43mmethod\u001b[49m\u001b[43m,\u001b[49m\u001b[43m \u001b[49m\u001b[43mu\u001b[49m\u001b[38;5;241;43m.\u001b[39;49m\u001b[43mrequest_uri\u001b[49m\u001b[43m,\u001b[49m\u001b[43m \u001b[49m\u001b[38;5;241;43m*\u001b[39;49m\u001b[38;5;241;43m*\u001b[39;49m\u001b[43mkw\u001b[49m\u001b[43m)\u001b[49m\n\u001b[0;32m    378\u001b[0m redirect_location \u001b[38;5;241m=\u001b[39m redirect \u001b[38;5;129;01mand\u001b[39;00m response\u001b[38;5;241m.\u001b[39mget_redirect_location()\n\u001b[0;32m    379\u001b[0m \u001b[38;5;28;01mif\u001b[39;00m \u001b[38;5;129;01mnot\u001b[39;00m redirect_location:\n",
      "File \u001b[1;32mD:\\Anaconda\\envs\\wz_py_3_8\\lib\\site-packages\\urllib3\\connectionpool.py:815\u001b[0m, in \u001b[0;36mHTTPConnectionPool.urlopen\u001b[1;34m(self, method, url, body, headers, retries, redirect, assert_same_host, timeout, pool_timeout, release_conn, chunked, body_pos, **response_kw)\u001b[0m\n\u001b[0;32m    810\u001b[0m \u001b[38;5;28;01mif\u001b[39;00m \u001b[38;5;129;01mnot\u001b[39;00m conn:\n\u001b[0;32m    811\u001b[0m     \u001b[38;5;66;03m# Try again\u001b[39;00m\n\u001b[0;32m    812\u001b[0m     log\u001b[38;5;241m.\u001b[39mwarning(\n\u001b[0;32m    813\u001b[0m         \u001b[38;5;124m\"\u001b[39m\u001b[38;5;124mRetrying (\u001b[39m\u001b[38;5;132;01m%r\u001b[39;00m\u001b[38;5;124m) after connection broken by \u001b[39m\u001b[38;5;124m'\u001b[39m\u001b[38;5;132;01m%r\u001b[39;00m\u001b[38;5;124m'\u001b[39m\u001b[38;5;124m: \u001b[39m\u001b[38;5;132;01m%s\u001b[39;00m\u001b[38;5;124m\"\u001b[39m, retries, err, url\n\u001b[0;32m    814\u001b[0m     )\n\u001b[1;32m--> 815\u001b[0m     \u001b[38;5;28;01mreturn\u001b[39;00m \u001b[38;5;28;43mself\u001b[39;49m\u001b[38;5;241;43m.\u001b[39;49m\u001b[43murlopen\u001b[49m\u001b[43m(\u001b[49m\n\u001b[0;32m    816\u001b[0m \u001b[43m        \u001b[49m\u001b[43mmethod\u001b[49m\u001b[43m,\u001b[49m\n\u001b[0;32m    817\u001b[0m \u001b[43m        \u001b[49m\u001b[43murl\u001b[49m\u001b[43m,\u001b[49m\n\u001b[0;32m    818\u001b[0m \u001b[43m        \u001b[49m\u001b[43mbody\u001b[49m\u001b[43m,\u001b[49m\n\u001b[0;32m    819\u001b[0m \u001b[43m        \u001b[49m\u001b[43mheaders\u001b[49m\u001b[43m,\u001b[49m\n\u001b[0;32m    820\u001b[0m \u001b[43m        \u001b[49m\u001b[43mretries\u001b[49m\u001b[43m,\u001b[49m\n\u001b[0;32m    821\u001b[0m \u001b[43m        \u001b[49m\u001b[43mredirect\u001b[49m\u001b[43m,\u001b[49m\n\u001b[0;32m    822\u001b[0m \u001b[43m        \u001b[49m\u001b[43massert_same_host\u001b[49m\u001b[43m,\u001b[49m\n\u001b[0;32m    823\u001b[0m \u001b[43m        \u001b[49m\u001b[43mtimeout\u001b[49m\u001b[38;5;241;43m=\u001b[39;49m\u001b[43mtimeout\u001b[49m\u001b[43m,\u001b[49m\n\u001b[0;32m    824\u001b[0m \u001b[43m        \u001b[49m\u001b[43mpool_timeout\u001b[49m\u001b[38;5;241;43m=\u001b[39;49m\u001b[43mpool_timeout\u001b[49m\u001b[43m,\u001b[49m\n\u001b[0;32m    825\u001b[0m \u001b[43m        \u001b[49m\u001b[43mrelease_conn\u001b[49m\u001b[38;5;241;43m=\u001b[39;49m\u001b[43mrelease_conn\u001b[49m\u001b[43m,\u001b[49m\n\u001b[0;32m    826\u001b[0m \u001b[43m        \u001b[49m\u001b[43mchunked\u001b[49m\u001b[38;5;241;43m=\u001b[39;49m\u001b[43mchunked\u001b[49m\u001b[43m,\u001b[49m\n\u001b[0;32m    827\u001b[0m \u001b[43m        \u001b[49m\u001b[43mbody_pos\u001b[49m\u001b[38;5;241;43m=\u001b[39;49m\u001b[43mbody_pos\u001b[49m\u001b[43m,\u001b[49m\n\u001b[0;32m    828\u001b[0m \u001b[43m        \u001b[49m\u001b[38;5;241;43m*\u001b[39;49m\u001b[38;5;241;43m*\u001b[39;49m\u001b[43mresponse_kw\u001b[49m\n\u001b[0;32m    829\u001b[0m \u001b[43m    \u001b[49m\u001b[43m)\u001b[49m\n\u001b[0;32m    831\u001b[0m \u001b[38;5;66;03m# Handle redirect?\u001b[39;00m\n\u001b[0;32m    832\u001b[0m redirect_location \u001b[38;5;241m=\u001b[39m redirect \u001b[38;5;129;01mand\u001b[39;00m response\u001b[38;5;241m.\u001b[39mget_redirect_location()\n",
      "File \u001b[1;32mD:\\Anaconda\\envs\\wz_py_3_8\\lib\\site-packages\\urllib3\\connectionpool.py:815\u001b[0m, in \u001b[0;36mHTTPConnectionPool.urlopen\u001b[1;34m(self, method, url, body, headers, retries, redirect, assert_same_host, timeout, pool_timeout, release_conn, chunked, body_pos, **response_kw)\u001b[0m\n\u001b[0;32m    810\u001b[0m \u001b[38;5;28;01mif\u001b[39;00m \u001b[38;5;129;01mnot\u001b[39;00m conn:\n\u001b[0;32m    811\u001b[0m     \u001b[38;5;66;03m# Try again\u001b[39;00m\n\u001b[0;32m    812\u001b[0m     log\u001b[38;5;241m.\u001b[39mwarning(\n\u001b[0;32m    813\u001b[0m         \u001b[38;5;124m\"\u001b[39m\u001b[38;5;124mRetrying (\u001b[39m\u001b[38;5;132;01m%r\u001b[39;00m\u001b[38;5;124m) after connection broken by \u001b[39m\u001b[38;5;124m'\u001b[39m\u001b[38;5;132;01m%r\u001b[39;00m\u001b[38;5;124m'\u001b[39m\u001b[38;5;124m: \u001b[39m\u001b[38;5;132;01m%s\u001b[39;00m\u001b[38;5;124m\"\u001b[39m, retries, err, url\n\u001b[0;32m    814\u001b[0m     )\n\u001b[1;32m--> 815\u001b[0m     \u001b[38;5;28;01mreturn\u001b[39;00m \u001b[38;5;28;43mself\u001b[39;49m\u001b[38;5;241;43m.\u001b[39;49m\u001b[43murlopen\u001b[49m\u001b[43m(\u001b[49m\n\u001b[0;32m    816\u001b[0m \u001b[43m        \u001b[49m\u001b[43mmethod\u001b[49m\u001b[43m,\u001b[49m\n\u001b[0;32m    817\u001b[0m \u001b[43m        \u001b[49m\u001b[43murl\u001b[49m\u001b[43m,\u001b[49m\n\u001b[0;32m    818\u001b[0m \u001b[43m        \u001b[49m\u001b[43mbody\u001b[49m\u001b[43m,\u001b[49m\n\u001b[0;32m    819\u001b[0m \u001b[43m        \u001b[49m\u001b[43mheaders\u001b[49m\u001b[43m,\u001b[49m\n\u001b[0;32m    820\u001b[0m \u001b[43m        \u001b[49m\u001b[43mretries\u001b[49m\u001b[43m,\u001b[49m\n\u001b[0;32m    821\u001b[0m \u001b[43m        \u001b[49m\u001b[43mredirect\u001b[49m\u001b[43m,\u001b[49m\n\u001b[0;32m    822\u001b[0m \u001b[43m        \u001b[49m\u001b[43massert_same_host\u001b[49m\u001b[43m,\u001b[49m\n\u001b[0;32m    823\u001b[0m \u001b[43m        \u001b[49m\u001b[43mtimeout\u001b[49m\u001b[38;5;241;43m=\u001b[39;49m\u001b[43mtimeout\u001b[49m\u001b[43m,\u001b[49m\n\u001b[0;32m    824\u001b[0m \u001b[43m        \u001b[49m\u001b[43mpool_timeout\u001b[49m\u001b[38;5;241;43m=\u001b[39;49m\u001b[43mpool_timeout\u001b[49m\u001b[43m,\u001b[49m\n\u001b[0;32m    825\u001b[0m \u001b[43m        \u001b[49m\u001b[43mrelease_conn\u001b[49m\u001b[38;5;241;43m=\u001b[39;49m\u001b[43mrelease_conn\u001b[49m\u001b[43m,\u001b[49m\n\u001b[0;32m    826\u001b[0m \u001b[43m        \u001b[49m\u001b[43mchunked\u001b[49m\u001b[38;5;241;43m=\u001b[39;49m\u001b[43mchunked\u001b[49m\u001b[43m,\u001b[49m\n\u001b[0;32m    827\u001b[0m \u001b[43m        \u001b[49m\u001b[43mbody_pos\u001b[49m\u001b[38;5;241;43m=\u001b[39;49m\u001b[43mbody_pos\u001b[49m\u001b[43m,\u001b[49m\n\u001b[0;32m    828\u001b[0m \u001b[43m        \u001b[49m\u001b[38;5;241;43m*\u001b[39;49m\u001b[38;5;241;43m*\u001b[39;49m\u001b[43mresponse_kw\u001b[49m\n\u001b[0;32m    829\u001b[0m \u001b[43m    \u001b[49m\u001b[43m)\u001b[49m\n\u001b[0;32m    831\u001b[0m \u001b[38;5;66;03m# Handle redirect?\u001b[39;00m\n\u001b[0;32m    832\u001b[0m redirect_location \u001b[38;5;241m=\u001b[39m redirect \u001b[38;5;129;01mand\u001b[39;00m response\u001b[38;5;241m.\u001b[39mget_redirect_location()\n",
      "File \u001b[1;32mD:\\Anaconda\\envs\\wz_py_3_8\\lib\\site-packages\\urllib3\\connectionpool.py:815\u001b[0m, in \u001b[0;36mHTTPConnectionPool.urlopen\u001b[1;34m(self, method, url, body, headers, retries, redirect, assert_same_host, timeout, pool_timeout, release_conn, chunked, body_pos, **response_kw)\u001b[0m\n\u001b[0;32m    810\u001b[0m \u001b[38;5;28;01mif\u001b[39;00m \u001b[38;5;129;01mnot\u001b[39;00m conn:\n\u001b[0;32m    811\u001b[0m     \u001b[38;5;66;03m# Try again\u001b[39;00m\n\u001b[0;32m    812\u001b[0m     log\u001b[38;5;241m.\u001b[39mwarning(\n\u001b[0;32m    813\u001b[0m         \u001b[38;5;124m\"\u001b[39m\u001b[38;5;124mRetrying (\u001b[39m\u001b[38;5;132;01m%r\u001b[39;00m\u001b[38;5;124m) after connection broken by \u001b[39m\u001b[38;5;124m'\u001b[39m\u001b[38;5;132;01m%r\u001b[39;00m\u001b[38;5;124m'\u001b[39m\u001b[38;5;124m: \u001b[39m\u001b[38;5;132;01m%s\u001b[39;00m\u001b[38;5;124m\"\u001b[39m, retries, err, url\n\u001b[0;32m    814\u001b[0m     )\n\u001b[1;32m--> 815\u001b[0m     \u001b[38;5;28;01mreturn\u001b[39;00m \u001b[38;5;28;43mself\u001b[39;49m\u001b[38;5;241;43m.\u001b[39;49m\u001b[43murlopen\u001b[49m\u001b[43m(\u001b[49m\n\u001b[0;32m    816\u001b[0m \u001b[43m        \u001b[49m\u001b[43mmethod\u001b[49m\u001b[43m,\u001b[49m\n\u001b[0;32m    817\u001b[0m \u001b[43m        \u001b[49m\u001b[43murl\u001b[49m\u001b[43m,\u001b[49m\n\u001b[0;32m    818\u001b[0m \u001b[43m        \u001b[49m\u001b[43mbody\u001b[49m\u001b[43m,\u001b[49m\n\u001b[0;32m    819\u001b[0m \u001b[43m        \u001b[49m\u001b[43mheaders\u001b[49m\u001b[43m,\u001b[49m\n\u001b[0;32m    820\u001b[0m \u001b[43m        \u001b[49m\u001b[43mretries\u001b[49m\u001b[43m,\u001b[49m\n\u001b[0;32m    821\u001b[0m \u001b[43m        \u001b[49m\u001b[43mredirect\u001b[49m\u001b[43m,\u001b[49m\n\u001b[0;32m    822\u001b[0m \u001b[43m        \u001b[49m\u001b[43massert_same_host\u001b[49m\u001b[43m,\u001b[49m\n\u001b[0;32m    823\u001b[0m \u001b[43m        \u001b[49m\u001b[43mtimeout\u001b[49m\u001b[38;5;241;43m=\u001b[39;49m\u001b[43mtimeout\u001b[49m\u001b[43m,\u001b[49m\n\u001b[0;32m    824\u001b[0m \u001b[43m        \u001b[49m\u001b[43mpool_timeout\u001b[49m\u001b[38;5;241;43m=\u001b[39;49m\u001b[43mpool_timeout\u001b[49m\u001b[43m,\u001b[49m\n\u001b[0;32m    825\u001b[0m \u001b[43m        \u001b[49m\u001b[43mrelease_conn\u001b[49m\u001b[38;5;241;43m=\u001b[39;49m\u001b[43mrelease_conn\u001b[49m\u001b[43m,\u001b[49m\n\u001b[0;32m    826\u001b[0m \u001b[43m        \u001b[49m\u001b[43mchunked\u001b[49m\u001b[38;5;241;43m=\u001b[39;49m\u001b[43mchunked\u001b[49m\u001b[43m,\u001b[49m\n\u001b[0;32m    827\u001b[0m \u001b[43m        \u001b[49m\u001b[43mbody_pos\u001b[49m\u001b[38;5;241;43m=\u001b[39;49m\u001b[43mbody_pos\u001b[49m\u001b[43m,\u001b[49m\n\u001b[0;32m    828\u001b[0m \u001b[43m        \u001b[49m\u001b[38;5;241;43m*\u001b[39;49m\u001b[38;5;241;43m*\u001b[39;49m\u001b[43mresponse_kw\u001b[49m\n\u001b[0;32m    829\u001b[0m \u001b[43m    \u001b[49m\u001b[43m)\u001b[49m\n\u001b[0;32m    831\u001b[0m \u001b[38;5;66;03m# Handle redirect?\u001b[39;00m\n\u001b[0;32m    832\u001b[0m redirect_location \u001b[38;5;241m=\u001b[39m redirect \u001b[38;5;129;01mand\u001b[39;00m response\u001b[38;5;241m.\u001b[39mget_redirect_location()\n",
      "File \u001b[1;32mD:\\Anaconda\\envs\\wz_py_3_8\\lib\\site-packages\\urllib3\\connectionpool.py:787\u001b[0m, in \u001b[0;36mHTTPConnectionPool.urlopen\u001b[1;34m(self, method, url, body, headers, retries, redirect, assert_same_host, timeout, pool_timeout, release_conn, chunked, body_pos, **response_kw)\u001b[0m\n\u001b[0;32m    784\u001b[0m \u001b[38;5;28;01melif\u001b[39;00m \u001b[38;5;28misinstance\u001b[39m(e, (SocketError, HTTPException)):\n\u001b[0;32m    785\u001b[0m     e \u001b[38;5;241m=\u001b[39m ProtocolError(\u001b[38;5;124m\"\u001b[39m\u001b[38;5;124mConnection aborted.\u001b[39m\u001b[38;5;124m\"\u001b[39m, e)\n\u001b[1;32m--> 787\u001b[0m retries \u001b[38;5;241m=\u001b[39m \u001b[43mretries\u001b[49m\u001b[38;5;241;43m.\u001b[39;49m\u001b[43mincrement\u001b[49m\u001b[43m(\u001b[49m\n\u001b[0;32m    788\u001b[0m \u001b[43m    \u001b[49m\u001b[43mmethod\u001b[49m\u001b[43m,\u001b[49m\u001b[43m \u001b[49m\u001b[43murl\u001b[49m\u001b[43m,\u001b[49m\u001b[43m \u001b[49m\u001b[43merror\u001b[49m\u001b[38;5;241;43m=\u001b[39;49m\u001b[43me\u001b[49m\u001b[43m,\u001b[49m\u001b[43m \u001b[49m\u001b[43m_pool\u001b[49m\u001b[38;5;241;43m=\u001b[39;49m\u001b[38;5;28;43mself\u001b[39;49m\u001b[43m,\u001b[49m\u001b[43m \u001b[49m\u001b[43m_stacktrace\u001b[49m\u001b[38;5;241;43m=\u001b[39;49m\u001b[43msys\u001b[49m\u001b[38;5;241;43m.\u001b[39;49m\u001b[43mexc_info\u001b[49m\u001b[43m(\u001b[49m\u001b[43m)\u001b[49m\u001b[43m[\u001b[49m\u001b[38;5;241;43m2\u001b[39;49m\u001b[43m]\u001b[49m\n\u001b[0;32m    789\u001b[0m \u001b[43m\u001b[49m\u001b[43m)\u001b[49m\n\u001b[0;32m    790\u001b[0m retries\u001b[38;5;241m.\u001b[39msleep()\n\u001b[0;32m    792\u001b[0m \u001b[38;5;66;03m# Keep track of the error for the retry warning.\u001b[39;00m\n",
      "File \u001b[1;32mD:\\Anaconda\\envs\\wz_py_3_8\\lib\\site-packages\\urllib3\\util\\retry.py:592\u001b[0m, in \u001b[0;36mRetry.increment\u001b[1;34m(self, method, url, response, error, _pool, _stacktrace)\u001b[0m\n\u001b[0;32m    581\u001b[0m new_retry \u001b[38;5;241m=\u001b[39m \u001b[38;5;28mself\u001b[39m\u001b[38;5;241m.\u001b[39mnew(\n\u001b[0;32m    582\u001b[0m     total\u001b[38;5;241m=\u001b[39mtotal,\n\u001b[0;32m    583\u001b[0m     connect\u001b[38;5;241m=\u001b[39mconnect,\n\u001b[1;32m   (...)\u001b[0m\n\u001b[0;32m    588\u001b[0m     history\u001b[38;5;241m=\u001b[39mhistory,\n\u001b[0;32m    589\u001b[0m )\n\u001b[0;32m    591\u001b[0m \u001b[38;5;28;01mif\u001b[39;00m new_retry\u001b[38;5;241m.\u001b[39mis_exhausted():\n\u001b[1;32m--> 592\u001b[0m     \u001b[38;5;28;01mraise\u001b[39;00m MaxRetryError(_pool, url, error \u001b[38;5;129;01mor\u001b[39;00m ResponseError(cause))\n\u001b[0;32m    594\u001b[0m log\u001b[38;5;241m.\u001b[39mdebug(\u001b[38;5;124m\"\u001b[39m\u001b[38;5;124mIncremented Retry for (url=\u001b[39m\u001b[38;5;124m'\u001b[39m\u001b[38;5;132;01m%s\u001b[39;00m\u001b[38;5;124m'\u001b[39m\u001b[38;5;124m): \u001b[39m\u001b[38;5;132;01m%r\u001b[39;00m\u001b[38;5;124m\"\u001b[39m, url, new_retry)\n\u001b[0;32m    596\u001b[0m \u001b[38;5;28;01mreturn\u001b[39;00m new_retry\n",
      "\u001b[1;31mMaxRetryError\u001b[0m: HTTPSConnectionPool(host='httpbin.org', port=443): Max retries exceeded with url: /delay/3 (Caused by ReadTimeoutError(\"HTTPSConnectionPool(host='httpbin.org', port=443): Read timed out. (read timeout=2.0)\"))"
     ]
    }
   ],
   "source": [
    "resp = http.request(\n",
    "    \"GET\",\n",
    "    \"https://httpbin.org/delay/3\",\n",
    "    timeout=urllib3.Timeout(connect=1.0, read=2.0),\n",
    ")\n"
   ]
  },
  {
   "cell_type": "code",
   "execution_count": 44,
   "id": "98206c22",
   "metadata": {},
   "outputs": [
    {
     "name": "stdout",
     "output_type": "stream",
     "text": [
      "302\n"
     ]
    }
   ],
   "source": [
    "# retrying requests\n",
    "resp = http.request(\n",
    "    \"GET\",\n",
    "    \"https://httpbin.org/redirect/1\",\n",
    "    retries=False,\n",
    ")\n",
    "\n",
    "print(resp.status)"
   ]
  },
  {
   "cell_type": "code",
   "execution_count": 47,
   "id": "9827409d",
   "metadata": {},
   "outputs": [
    {
     "name": "stdout",
     "output_type": "stream",
     "text": [
      "Connection failed.\n"
     ]
    }
   ],
   "source": [
    "# Errors & Exceptions\n",
    "try:\n",
    "    http.request(\"GET\",\"https://nx.example.com\", retries=False)\n",
    "\n",
    "except urllib3.exceptions.NewConnectionError:\n",
    "    print(\"Connection failed.\")"
   ]
  },
  {
   "cell_type": "code",
   "execution_count": 48,
   "id": "276a5a64",
   "metadata": {},
   "outputs": [],
   "source": [
    "# logging\n",
    "# logging.getLogger(\"urllib3\").setLevel(logging.WARNING)"
   ]
  },
  {
   "cell_type": "code",
   "execution_count": 63,
   "id": "910c4b13",
   "metadata": {},
   "outputs": [
    {
     "name": "stdout",
     "output_type": "stream",
     "text": [
      "200\n"
     ]
    }
   ],
   "source": [
    "# Proxies\n",
    "proxy_port = \"http://127.0.0.1:10809/\"\n",
    "proxy = urllib3.ProxyManager(proxy_port)\n",
    "reps = proxy.request(\"GET\", \"https://google.com/\")\n",
    "print(reps.status)"
   ]
  }
 ],
 "metadata": {
  "kernelspec": {
   "display_name": "wz_py_3_8",
   "language": "python",
   "name": "wz_py_3_8"
  },
  "language_info": {
   "codemirror_mode": {
    "name": "ipython",
    "version": 3
   },
   "file_extension": ".py",
   "mimetype": "text/x-python",
   "name": "python",
   "nbconvert_exporter": "python",
   "pygments_lexer": "ipython3",
   "version": "3.8.16"
  }
 },
 "nbformat": 4,
 "nbformat_minor": 5
}
