{
 "cells": [
  {
   "cell_type": "code",
   "execution_count": 1,
   "metadata": {},
   "outputs": [],
   "source": [
    "import torch\n",
    "import torch.nn as nn\n",
    "import torch.optim as optim\n",
    "from torch.utils.data import DataLoader, Dataset"
   ]
  },
  {
   "cell_type": "code",
   "execution_count": 2,
   "metadata": {},
   "outputs": [
    {
     "name": "stdout",
     "output_type": "stream",
     "text": [
      "your torch library in here: ['d:\\\\Anaconda\\\\envs\\\\wz_py_3_8\\\\lib\\\\site-packages\\\\torch']\n",
      "your nn library in here: ['d:\\\\Anaconda\\\\envs\\\\wz_py_3_8\\\\lib\\\\site-packages\\\\torch\\\\nn']\n",
      "your optim library in here: ['d:\\\\Anaconda\\\\envs\\\\wz_py_3_8\\\\lib\\\\site-packages\\\\torch\\\\optim']\n"
     ]
    }
   ],
   "source": [
    "print(f\"your torch library in here: {torch.__path__}\")\n",
    "print(f\"your nn library in here: {nn.__path__}\")\n",
    "print(f\"your optim library in here: {optim.__path__}\")"
   ]
  },
  {
   "cell_type": "code",
   "execution_count": 3,
   "metadata": {},
   "outputs": [
    {
     "name": "stdout",
     "output_type": "stream",
     "text": [
      "<class 'type'> <class 'module'>\n"
     ]
    }
   ],
   "source": [
    "print(type(DataLoader), type(nn))"
   ]
  },
  {
   "cell_type": "code",
   "execution_count": null,
   "metadata": {},
   "outputs": [
    {
     "ename": "AttributeError",
     "evalue": "type object 'DataLoader' has no attribute '__path__'",
     "output_type": "error",
     "traceback": [
      "\u001b[1;31m---------------------------------------------------------------------------\u001b[0m",
      "\u001b[1;31mAttributeError\u001b[0m                            Traceback (most recent call last)",
      "Cell \u001b[1;32mIn[4], line 1\u001b[0m\n\u001b[1;32m----> 1\u001b[0m \u001b[38;5;28mprint\u001b[39m(\u001b[38;5;124mf\u001b[39m\u001b[38;5;124m\"\u001b[39m\u001b[38;5;124myour DataLoader library in here:\u001b[39m\u001b[38;5;132;01m{\u001b[39;00mDataLoader\u001b[38;5;241m.\u001b[39m__path__\u001b[38;5;132;01m}\u001b[39;00m\u001b[38;5;124m\"\u001b[39m)\n",
      "\u001b[1;31mAttributeError\u001b[0m: type object 'DataLoader' has no attribute '__path__'"
     ]
    }
   ],
   "source": [
    "# 报错: type object 'DataLoader' has no attribute '__path__'\n",
    "# print(f\"your DataLoader library in here:{DataLoader.__path__}\")"
   ]
  },
  {
   "cell_type": "code",
   "execution_count": null,
   "metadata": {},
   "outputs": [
    {
     "ename": "AttributeError",
     "evalue": "type object 'Dataset' has no attribute '__path__'",
     "output_type": "error",
     "traceback": [
      "\u001b[1;31m---------------------------------------------------------------------------\u001b[0m",
      "\u001b[1;31mAttributeError\u001b[0m                            Traceback (most recent call last)",
      "Cell \u001b[1;32mIn[5], line 1\u001b[0m\n\u001b[1;32m----> 1\u001b[0m \u001b[38;5;28mprint\u001b[39m(\u001b[38;5;124mf\u001b[39m\u001b[38;5;124m\"\u001b[39m\u001b[38;5;124myour Dataset library in here:\u001b[39m\u001b[38;5;132;01m{\u001b[39;00mDataset\u001b[38;5;241m.\u001b[39m__path__\u001b[38;5;132;01m}\u001b[39;00m\u001b[38;5;124m\"\u001b[39m)\n",
      "\u001b[1;31mAttributeError\u001b[0m: type object 'Dataset' has no attribute '__path__'"
     ]
    }
   ],
   "source": [
    "# 报错: type object 'Dataset' has no attribute '__path__'\n",
    "# print(f\"your Dataset library in here:{Dataset.__path__}\")"
   ]
  },
  {
   "cell_type": "code",
   "execution_count": 2,
   "metadata": {},
   "outputs": [],
   "source": [
    "import os\n",
    "import torch\n",
    "import torch.nn as nn\n",
    "import torch.nn.functional as F\n",
    "import torch.optim as optim\n",
    "from torch.utils.data import Dataset, DataLoader\n",
    "import torchvision.transforms as transforms\n",
    "from PIL import Image"
   ]
  },
  {
   "cell_type": "code",
   "execution_count": 3,
   "metadata": {},
   "outputs": [],
   "source": [
    "# step 1/4: 数据模块\n",
    "class COVID19Dataset(Dataset):\n",
    "    def __init__(self, root_dir: str, txt_path: str, transform: transforms.Compose):\n",
    "        \"\"\" 设置数据集路径, 预处理的方法 \"\"\"\n",
    "        self.root_dir = root_dir\n",
    "        self.txt_path = txt_path\n",
    "        self.transform = transform\n",
    "        self.img_info = []  # [(path, label), ...]\n",
    "        self.label_array = None\n",
    "        self._get_img_info()\n",
    "\n",
    "    def __len__(self):\n",
    "        \"\"\" 获取数据集长度 \"\"\"\n",
    "        if len(self.img_info) == 0:\n",
    "            raise Exception(\"\\ndata_dir:{} is a empty dir! Please checkout your path to images!\".format(\n",
    "                    self.root_dir))  # 代码具有友好的提示功能,便于debug\n",
    "        return len(self.img_info)\n",
    "\n",
    "    def __getitem__(self, index):\n",
    "        \"\"\" 根据索引获取数据 \"\"\"\n",
    "        path_img, label = self.img_info[index]\n",
    "        img = Image.open(path_img).convert('L')\n",
    "\n",
    "        if (self.transform is not None):\n",
    "            img = self.transform(img)\n",
    "        return img, label\n",
    "\n",
    "    def _get_img_info(self):\n",
    "        \"\"\" 实现去数据集的读取, 根据路径加载数据 \"\"\"\n",
    "        with open(self.txt_path, \"r\") as f:\n",
    "            txt_data = f.read().strip()\n",
    "            txt_data = txt_data.split(\"\\n\")\n",
    "\n",
    "        self.img_info = [(os.path.join(self.root_dir, i.split()[0]), int(i.split()[2]))\n",
    "                         for i in txt_data]"
   ]
  },
  {
   "cell_type": "code",
   "execution_count": null,
   "metadata": {},
   "outputs": [],
   "source": [
    "# setp 2/4: 模型模块: 构建神经网络, 用于后续训练\n",
    "class TinnyCNN(nn.Module):\n",
    "    def __init__(self, cls_num=2):\n",
    "        \"\"\" 搭建网络 \"\"\"\n",
    "        super(TinnyCNN, self).__init__()\n",
    "        self.convention_layer = nn.Conv2d(1, 1, kernel_size=(3, 3))\n",
    "        self.fc = nn.Linear(36, cls_num)\n",
    "\n",
    "    def forward(self, x):\n",
    "        \"\"\" 前向推理 \"\"\"\n",
    "        x = self.convention_layer(x)\n",
    "        x = x.view(x.size(0), -1)\n",
    "        out = self.fc(x)\n",
    "        return out"
   ]
  },
  {
   "cell_type": "code",
   "execution_count": 5,
   "metadata": {},
   "outputs": [],
   "source": [
    "def main():\n",
    "    # step 1/4: 数据模块: 构建dataset, dataloader, 实现对硬盘中数据的读取以及设定预处理方法\n",
    "    # step 2/4: 模型模块: 构建神经网络, 用于后续训练\n",
    "    # step 3/4: 优化模块: 设定损失函数与优化器, 用于在训练过程中对网络参数进行更新\n",
    "    # step 4/4: 迭代模块: 循环迭代地进行模型训练,数据一轮又一轮的喂给模型,不断优化模型,直到我们让它停止训练\n",
    "    root_dir = \"\"  # path to datasets-covid-19-demo\n",
    "    img_dir = os.path.join(root_dir, \"imgs\")\n",
    "    path_txt_train = os.path.join(root_dir, \"labels\", \"train.txt\")\n",
    "    path_txt_valid = os.path.join(root_dir, \"labels\", \"valid.txt\")\n",
    "    transforms_func = transforms.Compose([\n",
    "        transforms.Resize((8, 8)),\n",
    "        transforms.ToTensor(),\n",
    "    ])\n",
    "    train_data = COVID19Dataset(root_dir=img_dir, txt_path=path_txt_train, transform=transforms_func)\n",
    "    valid_data = COVID19Dataset(root_dir=img_dir, txt_path=path_txt_valid, transform=transforms_func)\n",
    "    train_loader = DataLoader(dataset=train_data, batch_size=2)\n",
    "    valid_loader = DataLoader(dataset=valid_data, batch_size=2)\n",
    "\n",
    "    model = TinnyCNN(2)\n",
    "\n",
    "    # step 3/4: 优化模块\n",
    "    loss_f = nn.CrossEntropyLoss()\n",
    "    optimizer = optim.SGD(model.parameters(), lr=0.1, momentum=0.9, weight_decay=5e-4)\n",
    "    scheduler = optim.lr_scheduler.StepLR(optimizer, gamma=0.1, step_size=50)\n",
    "\n",
    "    # step 4/4: 迭代模块\n",
    "    for epoch in range(100):\n",
    "        # 训练集训练\n",
    "        model.train()\n",
    "        for data, labels in train_loader:\n",
    "            # forward & backward\n",
    "            outputs = model(data)\n",
    "            optimizer.zero_grad()\n",
    "\n",
    "            # 损失计算\n",
    "            loss = loss_f(outputs, labels)\n",
    "            loss.backward()\n",
    "            optimizer.step()\n",
    "\n",
    "            # 计算分类准确率\n",
    "            _, predicted = torch.max(outputs.data, 1)\n",
    "            correct_num = (predicted == labels).sum()\n",
    "            acc = correct_num / labels.shape[0]\n",
    "            print(\"Epoch:{} Train Loss:{:.2f} Acc:{:.0%}\".format(epoch, loss, acc))\n",
    "\n",
    "        # 验证集验证\n",
    "        model.eval()\n",
    "        for data, labels in valid_data:\n",
    "            # forward\n",
    "            outputs = model(data)\n",
    "\n",
    "            # loss计算\n",
    "            loss = loss_f(outputs, labels)\n",
    "\n",
    "            # 计算分类准确率\n",
    "            _, predicted = torch.max(outputs.data, 1)\n",
    "            correct_num = (predicted == labels).sum()\n",
    "            acc_valid = correct_num / labels.shape[0]\n",
    "            print(\"Epoch:{} Valid Loss:{:.2f} Acc:{:.0%}\".format(epoch, loss, acc_valid))\n",
    "\n",
    "        # 添加停止条件\n",
    "        if acc_valid == 1:\n",
    "            break\n",
    "\n",
    "        # 学习率调整\n",
    "        scheduler.step()"
   ]
  },
  {
   "cell_type": "code",
   "execution_count": null,
   "metadata": {},
   "outputs": [],
   "source": []
  }
 ],
 "metadata": {
  "kernelspec": {
   "display_name": "wz_py_3_8",
   "language": "python",
   "name": "python3"
  },
  "language_info": {
   "codemirror_mode": {
    "name": "ipython",
    "version": 3
   },
   "file_extension": ".py",
   "mimetype": "text/x-python",
   "name": "python",
   "nbconvert_exporter": "python",
   "pygments_lexer": "ipython3",
   "version": "3.8.16"
  }
 },
 "nbformat": 4,
 "nbformat_minor": 2
}
