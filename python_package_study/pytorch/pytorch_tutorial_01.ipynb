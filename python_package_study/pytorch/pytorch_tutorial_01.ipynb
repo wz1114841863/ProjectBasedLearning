{
 "cells": [
  {
   "cell_type": "code",
   "execution_count": 1,
   "metadata": {},
   "outputs": [],
   "source": [
    "import torch\n",
    "import torch.nn as nn\n",
    "import torch.optim as optim\n",
    "from torch.utils.data import DataLoader, Dataset"
   ]
  },
  {
   "cell_type": "code",
   "execution_count": 2,
   "metadata": {},
   "outputs": [
    {
     "name": "stdout",
     "output_type": "stream",
     "text": [
      "your torch library in here: ['d:\\\\Anaconda\\\\envs\\\\wz_py_3_8\\\\lib\\\\site-packages\\\\torch']\n",
      "your nn library in here: ['d:\\\\Anaconda\\\\envs\\\\wz_py_3_8\\\\lib\\\\site-packages\\\\torch\\\\nn']\n",
      "your optim library in here: ['d:\\\\Anaconda\\\\envs\\\\wz_py_3_8\\\\lib\\\\site-packages\\\\torch\\\\optim']\n"
     ]
    }
   ],
   "source": [
    "print(f\"your torch library in here: {torch.__path__}\")\n",
    "print(f\"your nn library in here: {nn.__path__}\")\n",
    "print(f\"your optim library in here: {optim.__path__}\")"
   ]
  },
  {
   "cell_type": "code",
   "execution_count": 3,
   "metadata": {},
   "outputs": [
    {
     "name": "stdout",
     "output_type": "stream",
     "text": [
      "<class 'type'> <class 'module'>\n"
     ]
    }
   ],
   "source": [
    "print(type(DataLoader), type(nn))"
   ]
  },
  {
   "cell_type": "code",
   "execution_count": null,
   "metadata": {},
   "outputs": [
    {
     "ename": "AttributeError",
     "evalue": "type object 'DataLoader' has no attribute '__path__'",
     "output_type": "error",
     "traceback": [
      "\u001b[1;31m---------------------------------------------------------------------------\u001b[0m",
      "\u001b[1;31mAttributeError\u001b[0m                            Traceback (most recent call last)",
      "Cell \u001b[1;32mIn[4], line 1\u001b[0m\n\u001b[1;32m----> 1\u001b[0m \u001b[38;5;28mprint\u001b[39m(\u001b[38;5;124mf\u001b[39m\u001b[38;5;124m\"\u001b[39m\u001b[38;5;124myour DataLoader library in here:\u001b[39m\u001b[38;5;132;01m{\u001b[39;00mDataLoader\u001b[38;5;241m.\u001b[39m__path__\u001b[38;5;132;01m}\u001b[39;00m\u001b[38;5;124m\"\u001b[39m)\n",
      "\u001b[1;31mAttributeError\u001b[0m: type object 'DataLoader' has no attribute '__path__'"
     ]
    }
   ],
   "source": [
    "# 报错: type object 'DataLoader' has no attribute '__path__'\n",
    "# print(f\"your DataLoader library in here:{DataLoader.__path__}\")"
   ]
  },
  {
   "cell_type": "code",
   "execution_count": null,
   "metadata": {},
   "outputs": [
    {
     "ename": "AttributeError",
     "evalue": "type object 'Dataset' has no attribute '__path__'",
     "output_type": "error",
     "traceback": [
      "\u001b[1;31m---------------------------------------------------------------------------\u001b[0m",
      "\u001b[1;31mAttributeError\u001b[0m                            Traceback (most recent call last)",
      "Cell \u001b[1;32mIn[5], line 1\u001b[0m\n\u001b[1;32m----> 1\u001b[0m \u001b[38;5;28mprint\u001b[39m(\u001b[38;5;124mf\u001b[39m\u001b[38;5;124m\"\u001b[39m\u001b[38;5;124myour Dataset library in here:\u001b[39m\u001b[38;5;132;01m{\u001b[39;00mDataset\u001b[38;5;241m.\u001b[39m__path__\u001b[38;5;132;01m}\u001b[39;00m\u001b[38;5;124m\"\u001b[39m)\n",
      "\u001b[1;31mAttributeError\u001b[0m: type object 'Dataset' has no attribute '__path__'"
     ]
    }
   ],
   "source": [
    "# 报错: type object 'Dataset' has no attribute '__path__'\n",
    "# print(f\"your Dataset library in here:{Dataset.__path__}\")"
   ]
  },
  {
   "cell_type": "code",
   "execution_count": 6,
   "metadata": {},
   "outputs": [],
   "source": [
    "import os\n",
    "import torch\n",
    "import torch.nn as nn\n",
    "import torch.nn.functional as F\n",
    "import torch.optim as optim\n",
    "from torch.utils.data import Dataset, DataLoader\n",
    "import torchvision.transforms as transforms\n",
    "from PIL import Image"
   ]
  },
  {
   "cell_type": "code",
   "execution_count": null,
   "metadata": {},
   "outputs": [],
   "source": [
    "# step 1/4: 数据模块\n",
    "class COVID19Dataset(Dataset):\n",
    "    def __init__(self, root_dir: str, txt_path: str, transform: transforms):\n",
    "        \"\"\" 设置数据集路径, 预处理的方法 \"\"\"\n",
    "        self.root_dir = root_dir\n",
    "        self.txt_path = txt_path\n",
    "        self.transform = transform\n",
    "        self.img_info = []  # [(path, label), ...]\n",
    "        self.label_array = None\n",
    "        self._get_img_info()\n",
    "\n",
    "    def __len__(self):\n",
    "        \"\"\" 获取数据集长度 \"\"\"\n",
    "        if len(self.img_info) == 0:\n",
    "            raise Exception(\"\\ndata_dir:{} is a empty dir! Please checkout your path to images!\".format(\n",
    "                    self.root_dir))  # 代码具有友好的提示功能,便于debug\n",
    "        return len(self.img_info)\n",
    "\n",
    "    def __getitem__(self, index):\n",
    "        \"\"\" 根据索引获取数据 \"\"\"\n",
    "        path_img, label = self.img_info[index]\n",
    "        img = Image.open(path_img).convert('L')\n",
    "\n",
    "        if (self.transform is not None):\n",
    "            img = self.transform(img)\n",
    "        return img, label\n",
    "\n",
    "    def _get_img_info(self):\n",
    "        \"\"\" 实现去数据集的读取, 根据路径加载数据 \"\"\"\n",
    "        with open(self.txt_path, \"r\") as f:\n",
    "            txt_data = f.read().strip()\n",
    "            txt_data = txt_data.split(\"\\n\")\n",
    "\n",
    "        self.img_info = [(os.path.join(self.root_dir, i.split()[0]), int(i.split()[2]))\n",
    "                         for i in txt_data]\n"
   ]
  },
  {
   "cell_type": "code",
   "execution_count": null,
   "metadata": {},
   "outputs": [],
   "source": [
    "def main():\n",
    "    # step 1/4: 数据模块: 构建dataset, dataloader, 实现对硬盘中数据的读取以及设定预处理方法\n",
    "    # step 2/4: 模型模块: 构建神经网络, 用于后续训练\n",
    "    # step 3/4: 优化模块: 设定损失函数与优化器, 用于在训练过程中对网络参数进行更新\n",
    "    # step 4/4: 迭代模块: 循环迭代地进行模型训练,数据一轮又一轮的喂给模型,不断优化模型,直到我们让它停止训练\n",
    "    root_path = \"\"  # path to datasets-"
   ]
  }
 ],
 "metadata": {
  "kernelspec": {
   "display_name": "wz_py_3_8",
   "language": "python",
   "name": "python3"
  },
  "language_info": {
   "codemirror_mode": {
    "name": "ipython",
    "version": 3
   },
   "file_extension": ".py",
   "mimetype": "text/x-python",
   "name": "python",
   "nbconvert_exporter": "python",
   "pygments_lexer": "ipython3",
   "version": "3.8.16"
  }
 },
 "nbformat": 4,
 "nbformat_minor": 2
}
