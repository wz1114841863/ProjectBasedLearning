{
 "cells": [
  {
   "cell_type": "code",
   "execution_count": 1,
   "id": "21713bbd",
   "metadata": {},
   "outputs": [
    {
     "name": "stdout",
     "output_type": "stream",
     "text": [
      "env: HTTP_PROXY=http://127.0.0.1:10809\n",
      "env: HTTPS_PROXY=http://127.0.0.1:10809\n"
     ]
    }
   ],
   "source": [
    "%env HTTP_PROXY=http://127.0.0.1:10809\n",
    "%env HTTPS_PROXY=http://127.0.0.1:10809"
   ]
  },
  {
   "cell_type": "code",
   "execution_count": 2,
   "id": "c77250c9",
   "metadata": {},
   "outputs": [
    {
     "name": "stderr",
     "output_type": "stream",
     "text": [
      "No model was supplied, defaulted to facebook/wav2vec2-base-960h and revision 22aad52 (https://huggingface.co/facebook/wav2vec2-base-960h).\n",
      "Using a pipeline without specifying a model name and revision in production is not recommended.\n",
      "Some weights of Wav2Vec2ForCTC were not initialized from the model checkpoint at facebook/wav2vec2-base-960h and are newly initialized: ['wav2vec2.masked_spec_embed']\n",
      "You should probably TRAIN this model on a down-stream task to be able to use it for predictions and inference.\n",
      "d:\\Anaconda\\envs\\wz_py_3_8\\lib\\site-packages\\transformers\\tokenization_utils_base.py:1617: FutureWarning: `clean_up_tokenization_spaces` was not set. It will be set to `True` by default. This behavior will be deprecated in transformers v4.45, and will be then set to `False` by default. For more details check this issue: https://github.com/huggingface/transformers/issues/31884\n",
      "  warnings.warn(\n",
      "Hardware accelerator e.g. GPU is available in the environment, but no `device` argument is passed to the `Pipeline` object. Model will be on CPU.\n"
     ]
    }
   ],
   "source": [
    "from transformers import pipeline\n",
    "\n",
    "transcriber = pipeline(task=\"automatic-speech-recognition\")  # 特定的文本类型"
   ]
  },
  {
   "cell_type": "code",
   "execution_count": null,
   "id": "0bfa9db5",
   "metadata": {},
   "outputs": [],
   "source": []
  },
  {
   "cell_type": "code",
   "execution_count": 3,
   "id": "bc9ffee1",
   "metadata": {},
   "outputs": [
    {
     "data": {
      "text/plain": [
       "{'text': 'I HAVE A DREAM BUT ONE DAY THIS NATION WILL RISE UP LIVE UP THE TRUE MEANING OF ITS TREES'}"
      ]
     },
     "execution_count": 3,
     "metadata": {},
     "output_type": "execute_result"
    }
   ],
   "source": [
    "transcriber(\"https://huggingface.co/datasets/Narsil/asr_dummy/resolve/main/mlk.flac\")"
   ]
  },
  {
   "cell_type": "code",
   "execution_count": 4,
   "id": "e16d8d3f",
   "metadata": {},
   "outputs": [
    {
     "data": {
      "text/plain": [
       "[{'text': 'I HAVE A DREAM BUT ONE DAY THIS NATION WILL RISE UP LIVE UP THE TRUE MEANING OF ITS TREES'},\n",
       " {'text': 'HE HOPED THERE WOULD BE STEW FOR DINNER TURNIPS AND CARROTS AND BRUISED POTATOES AND FAT MUTTON PIECES TO BE LADLED OUT IN THICK PEPPERED FLOWER FAT AND SAUCE'}]"
      ]
     },
     "execution_count": 4,
     "metadata": {},
     "output_type": "execute_result"
    }
   ],
   "source": [
    "transcriber(\n",
    "    [\n",
    "        \"https://huggingface.co/datasets/Narsil/asr_dummy/resolve/main/mlk.flac\",\n",
    "        \"https://huggingface.co/datasets/Narsil/asr_dummy/resolve/main/1.flac\",\n",
    "    ]\n",
    ")"
   ]
  },
  {
   "cell_type": "code",
   "execution_count": 5,
   "id": "d8aac458",
   "metadata": {},
   "outputs": [
    {
     "name": "stderr",
     "output_type": "stream",
     "text": [
      "Some weights of Wav2Vec2ForCTC were not initialized from the model checkpoint at facebook/wav2vec2-base-960h and are newly initialized: ['wav2vec2.masked_spec_embed']\n",
      "You should probably TRAIN this model on a down-stream task to be able to use it for predictions and inference.\n"
     ]
    }
   ],
   "source": [
    "transcriber = pipeline(model=\"facebook/wav2vec2-base-960h\", device=0)"
   ]
  },
  {
   "cell_type": "code",
   "execution_count": 6,
   "id": "085afd1c",
   "metadata": {},
   "outputs": [
    {
     "name": "stderr",
     "output_type": "stream",
     "text": [
      "Some weights of Wav2Vec2ForCTC were not initialized from the model checkpoint at facebook/wav2vec2-base-960h and are newly initialized: ['wav2vec2.masked_spec_embed']\n",
      "You should probably TRAIN this model on a down-stream task to be able to use it for predictions and inference.\n"
     ]
    }
   ],
   "source": [
    "transcriber = pipeline(model=\"facebook/wav2vec2-base-960h\", torch_dtype=\"float16\", device=0)"
   ]
  },
  {
   "cell_type": "code",
   "execution_count": 7,
   "id": "cea96959",
   "metadata": {},
   "outputs": [
    {
     "data": {
      "text/plain": [
       "[{'text': 'I HAVE A DREAM BUT ONE DAY THIS NATION WILL RISE UP LIVE UP THE TRUE MEANING OF ITS TREES'},\n",
       " {'text': 'HE HOPED THERE WOULD BE STEW FOR DINNER TURNIPS AND CARROTS AND BRUISED POTATOES AND FAT MUTTON PIECES TO BE LADLED OUT IN THICK PEPPERED FLOWER FAT AND SAUCE'}]"
      ]
     },
     "execution_count": 7,
     "metadata": {},
     "output_type": "execute_result"
    }
   ],
   "source": [
    "transcriber(\n",
    "    [\n",
    "        \"https://huggingface.co/datasets/Narsil/asr_dummy/resolve/main/mlk.flac\",\n",
    "        \"https://huggingface.co/datasets/Narsil/asr_dummy/resolve/main/1.flac\",\n",
    "    ]\n",
    ")"
   ]
  },
  {
   "cell_type": "code",
   "execution_count": 8,
   "id": "62e6a083",
   "metadata": {},
   "outputs": [
    {
     "name": "stderr",
     "output_type": "stream",
     "text": [
      "Some weights of Wav2Vec2ForCTC were not initialized from the model checkpoint at facebook/wav2vec2-base-960h and are newly initialized: ['wav2vec2.masked_spec_embed']\n",
      "You should probably TRAIN this model on a down-stream task to be able to use it for predictions and inference.\n",
      "Hardware accelerator e.g. GPU is available in the environment, but no `device` argument is passed to the `Pipeline` object. Model will be on CPU.\n"
     ]
    },
    {
     "data": {
      "text/plain": [
       "{'text': 'I HAVE A DREAM BUT ONE DAY THIS NATION WILL RISE UP LIVE UP THE TRUE MEANING OF ITS TREES',\n",
       " 'chunks': [{'text': 'I', 'timestamp': (1.3, 1.32)},\n",
       "  {'text': ' ', 'timestamp': (1.38, 1.42)},\n",
       "  {'text': 'H', 'timestamp': (1.42, 1.46)},\n",
       "  {'text': 'A', 'timestamp': (1.5, 1.52)},\n",
       "  {'text': 'V', 'timestamp': (1.54, 1.56)},\n",
       "  {'text': 'E', 'timestamp': (1.56, 1.6)},\n",
       "  {'text': ' ', 'timestamp': (1.6, 1.66)},\n",
       "  {'text': 'A', 'timestamp': (1.66, 1.68)},\n",
       "  {'text': ' ', 'timestamp': (1.68, 1.72)},\n",
       "  {'text': 'D', 'timestamp': (1.74, 1.76)},\n",
       "  {'text': 'R', 'timestamp': (1.78, 1.82)},\n",
       "  {'text': 'E', 'timestamp': (1.88, 1.94)},\n",
       "  {'text': 'A', 'timestamp': (1.94, 2.0)},\n",
       "  {'text': 'M', 'timestamp': (2.02, 2.04)},\n",
       "  {'text': ' ', 'timestamp': (2.12, 2.2)},\n",
       "  {'text': 'B', 'timestamp': (3.66, 3.68)},\n",
       "  {'text': 'U', 'timestamp': (3.74, 3.76)},\n",
       "  {'text': 'T', 'timestamp': (3.76, 3.78)},\n",
       "  {'text': ' ', 'timestamp': (3.8, 3.84)},\n",
       "  {'text': 'O', 'timestamp': (3.96, 3.98)},\n",
       "  {'text': 'N', 'timestamp': (3.98, 4.02)},\n",
       "  {'text': 'E', 'timestamp': (4.04, 4.06)},\n",
       "  {'text': ' ', 'timestamp': (4.08, 4.12)},\n",
       "  {'text': 'D', 'timestamp': (4.14, 4.16)},\n",
       "  {'text': 'A', 'timestamp': (4.24, 4.28)},\n",
       "  {'text': 'Y', 'timestamp': (4.28, 4.32)},\n",
       "  {'text': ' ', 'timestamp': (4.32, 4.46)},\n",
       "  {'text': 'T', 'timestamp': (6.34, 6.36)},\n",
       "  {'text': 'H', 'timestamp': (6.36, 6.4)},\n",
       "  {'text': 'I', 'timestamp': (6.46, 6.48)},\n",
       "  {'text': 'S', 'timestamp': (6.5, 6.52)},\n",
       "  {'text': ' ', 'timestamp': (6.56, 6.6)},\n",
       "  {'text': 'N', 'timestamp': (6.66, 6.68)},\n",
       "  {'text': 'A', 'timestamp': (6.78, 6.8)},\n",
       "  {'text': 'T', 'timestamp': (6.9, 6.94)},\n",
       "  {'text': 'I', 'timestamp': (6.96, 6.98)},\n",
       "  {'text': 'O', 'timestamp': (7.04, 7.06)},\n",
       "  {'text': 'N', 'timestamp': (7.06, 7.1)},\n",
       "  {'text': ' ', 'timestamp': (7.16, 7.22)},\n",
       "  {'text': 'W', 'timestamp': (7.3, 7.32)},\n",
       "  {'text': 'I', 'timestamp': (7.4, 7.42)},\n",
       "  {'text': 'L', 'timestamp': (7.44, 7.48)},\n",
       "  {'text': 'L', 'timestamp': (7.58, 7.6)},\n",
       "  {'text': ' ', 'timestamp': (7.62, 7.68)},\n",
       "  {'text': 'R', 'timestamp': (7.78, 7.8)},\n",
       "  {'text': 'I', 'timestamp': (8.06, 8.08)},\n",
       "  {'text': 'S', 'timestamp': (8.14, 8.18)},\n",
       "  {'text': 'E', 'timestamp': (8.18, 8.22)},\n",
       "  {'text': ' ', 'timestamp': (8.24, 8.3)},\n",
       "  {'text': 'U', 'timestamp': (8.42, 8.44)},\n",
       "  {'text': 'P', 'timestamp': (8.44, 8.48)},\n",
       "  {'text': ' ', 'timestamp': (8.5, 8.54)},\n",
       "  {'text': 'L', 'timestamp': (10.24, 10.28)},\n",
       "  {'text': 'I', 'timestamp': (10.36, 10.38)},\n",
       "  {'text': 'V', 'timestamp': (10.42, 10.44)},\n",
       "  {'text': 'E', 'timestamp': (10.46, 10.48)},\n",
       "  {'text': ' ', 'timestamp': (10.5, 10.54)},\n",
       "  {'text': 'U', 'timestamp': (10.62, 10.66)},\n",
       "  {'text': 'P', 'timestamp': (10.68, 10.7)},\n",
       "  {'text': ' ', 'timestamp': (10.72, 10.8)},\n",
       "  {'text': 'T', 'timestamp': (10.82, 10.84)},\n",
       "  {'text': 'H', 'timestamp': (10.84, 10.86)},\n",
       "  {'text': 'E', 'timestamp': (10.88, 10.9)},\n",
       "  {'text': ' ', 'timestamp': (10.9, 10.94)},\n",
       "  {'text': 'T', 'timestamp': (10.96, 10.98)},\n",
       "  {'text': 'R', 'timestamp': (11.0, 11.04)},\n",
       "  {'text': 'U', 'timestamp': (11.1, 11.12)},\n",
       "  {'text': 'E', 'timestamp': (11.16, 11.18)},\n",
       "  {'text': ' ', 'timestamp': (11.2, 11.22)},\n",
       "  {'text': 'M', 'timestamp': (11.24, 11.28)},\n",
       "  {'text': 'E', 'timestamp': (11.3, 11.34)},\n",
       "  {'text': 'A', 'timestamp': (11.4, 11.42)},\n",
       "  {'text': 'N', 'timestamp': (11.44, 11.46)},\n",
       "  {'text': 'I', 'timestamp': (11.5, 11.52)},\n",
       "  {'text': 'N', 'timestamp': (11.52, 11.54)},\n",
       "  {'text': 'G', 'timestamp': (11.56, 11.58)},\n",
       "  {'text': ' ', 'timestamp': (11.6, 11.64)},\n",
       "  {'text': 'O', 'timestamp': (11.64, 11.66)},\n",
       "  {'text': 'F', 'timestamp': (11.66, 11.68)},\n",
       "  {'text': ' ', 'timestamp': (11.68, 11.74)},\n",
       "  {'text': 'I', 'timestamp': (11.76, 11.78)},\n",
       "  {'text': 'T', 'timestamp': (11.78, 11.82)},\n",
       "  {'text': 'S', 'timestamp': (11.84, 11.88)},\n",
       "  {'text': ' ', 'timestamp': (11.88, 11.92)},\n",
       "  {'text': 'T', 'timestamp': (11.98, 12.0)},\n",
       "  {'text': 'R', 'timestamp': (12.04, 12.06)},\n",
       "  {'text': 'E', 'timestamp': (12.14, 12.18)},\n",
       "  {'text': 'E', 'timestamp': (12.26, 12.28)},\n",
       "  {'text': 'S', 'timestamp': (12.38, 12.42)},\n",
       "  {'text': ' ', 'timestamp': (12.46, 12.52)}]}"
      ]
     },
     "execution_count": 8,
     "metadata": {},
     "output_type": "execute_result"
    }
   ],
   "source": [
    "transcriber = pipeline(model=\"facebook/wav2vec2-base-960h\", return_timestamps=\"char\")\n",
    "transcriber(\"https://huggingface.co/datasets/Narsil/asr_dummy/resolve/main/mlk.flac\")"
   ]
  },
  {
   "cell_type": "code",
   "execution_count": 9,
   "id": "926ce173",
   "metadata": {},
   "outputs": [],
   "source": [
    "from transformers.pipelines.pt_utils import KeyDataset\n",
    "from datasets import load_dataset"
   ]
  },
  {
   "cell_type": "code",
   "execution_count": 10,
   "id": "2258337d",
   "metadata": {},
   "outputs": [
    {
     "name": "stderr",
     "output_type": "stream",
     "text": [
      "d:\\Anaconda\\envs\\wz_py_3_8\\lib\\site-packages\\torch\\_utils.py:776: UserWarning: TypedStorage is deprecated. It will be removed in the future and UntypedStorage will be the only storage class. This should only matter to you if you are using storages directly.  To access UntypedStorage directly, use tensor.untyped_storage() instead of tensor.storage()\n",
      "  return self.fget.__get__(instance, owner)()\n",
      "Some weights of Wav2Vec2ForCTC were not initialized from the model checkpoint at hf-internal-testing/tiny-random-wav2vec2 and are newly initialized: ['wav2vec2.feature_extractor.conv_layers.1.layer_norm.bias', 'wav2vec2.feature_extractor.conv_layers.1.layer_norm.weight', 'wav2vec2.feature_extractor.conv_layers.2.layer_norm.bias', 'wav2vec2.feature_extractor.conv_layers.2.layer_norm.weight']\n",
      "You should probably TRAIN this model on a down-stream task to be able to use it for predictions and inference.\n",
      "d:\\Anaconda\\envs\\wz_py_3_8\\lib\\site-packages\\transformers\\tokenization_utils_base.py:1617: FutureWarning: `clean_up_tokenization_spaces` was not set. It will be set to `True` by default. This behavior will be deprecated in transformers v4.45, and will be then set to `False` by default. For more details check this issue: https://github.com/huggingface/transformers/issues/31884\n",
      "  warnings.warn(\n"
     ]
    }
   ],
   "source": [
    "pipe = pipeline(model=\"hf-internal-testing/tiny-random-wav2vec2\", device=0)\n",
    "dataset = load_dataset(\"hf-internal-testing/librispeech_asr_dummy\", \"clean\", split=\"validation[:10]\")"
   ]
  },
  {
   "cell_type": "code",
   "execution_count": 11,
   "id": "3e3f118f",
   "metadata": {},
   "outputs": [
    {
     "name": "stdout",
     "output_type": "stream",
     "text": [
      "{'text': \"EYB  ZB COE C BEZCYCZ HO MOWWB EM BWOB ZMEG  B COEB BE BEC B U OB BE BCB BEWUBB BXYWBESWYCB SBBB SSEZ C Z WH UB F IGVB SB Z<unk> XOES CZ BBXOXFBB  OBY W B VM OFOWUONFWB ZCX B M WZ Q S C Q BC CQBF FOMB BOT ZWYBZ WB  B CM B C B WZCWWW BHU EOYTO YWB BZ SHZBGEM Q OO T B BM XZ QW C OFBZMSEHB BE ZZBX M Q XB<unk> CEVWZ FOHSB W B O Z ZW S ZB O VM <s> D EUCKH XNC D Q BG B O BW U  U  MBE CBYE  WB HFQUBQBUWZ B MW BMPY F ZBU  EB B WBOF S XFOBB ZB X B MOT W B CEO WBM   BBXBBEOBECB B UM C BP FMBWB BZ WFCED Z B B FXB Z OZ OBBZ NVD UBZC W B WYCWY X CE CW B WB MWU BWN B DECF GEF'C WZS CS BYWB<s>FZ'Z<s>ZGBU ECFEY BF ZOZ O UWBSSZBBBBW   O O DBB BZWFUW ZWOZYCGOYCOT WC O CZ BD BBBBBBX X W T B BC BZC FWYBFO FBCE X Z PEZ CE B WEDBMBO BN B BY Y  W B BMCB XOXQ  BSZES Z M CF S FB BBXBB B C CSZ EF SEQF S BEC BNO BN  SU EH  WRFBS WB  W B OEZ WS X B F B X ZBBE BBEHB B BU BECBSXHB BSQWFW BSZXH BWSEG W VQETZMCZ UCXW Z DBE<s> O SXZX MB W RX YYOBSUBWOCFYEF O B O B C Z UBEZBE BTB C   CBFCB V W B BF W ZBBESBBECUT OH YCGZE W BYZBYGBEW BSBE B  B CBEBEBU BU OQB OSB CB Z Z Z HZGTXZ USZFB FC ZO C\"}\n",
      "{'text': \"BE BESBEBEZ WOE FO Z ZOZ NOS  SUCW W NW 'Z HB Z GCB'Y YNBTB T E Z  B BERB ZBWB SQBESB  S U CBWZ EBBZ Z ZBEDC BZM F F ZFZ H E C B C MBDWB BX  B B W ZWMOU B BZBBXYC ZB YB Z BUV B B MNTNZDZ GBNWF   OOOXF CEOF WBSS <unk>W NVC BCB B U UBEZ O OW B D BWZ <s> BY MEB FNT OZBR  WWFFCW  SC U GBSB Q B HWB Z C M B E BS CW BB B TZ CZ C HDSCE<s>XOWWBBQXFW BCSWQXF BBZXQWZ B BBZ XZWY FB WBSQXFE BBOWZERB WC CW W BFWWWBWWBW 'ZWEBOB SU BF Z CT B E BZT  Z DC W ZMCBF WBYZGCOYZBFSWC BCF<s>MCSZ B ZBUCZA WZ  OSW  DB EDBZWDBZ Q EOGCBSC CS ZC QE CBC OFH  BE X BZ ECEB ZB E QEOB B CZBEZS T C WZSGWFCQ<s>E  BBSB OXOXOW  BSS Z OUWCH E B MZ FZBFBBBWZBSQQW    EDU BSEGBZEUBBUOEDX<s>SU ZZWZ Z Z C CZSTWO B B C WZW WBVTBS ZU UQBESEBSEBSEQ FBSX BOX W BOF O   FX Z B C WZWZ TYBD Z XZB UEBTOCB B  OBBMOBS WFZWMB B HBSZO Z FZQZ GE O B UB ZZUEOBZ B YBUQBEQ ESBE B ZBZQB SBU B SBEBEQB B CB WBEWBX CB ZWEW\"}\n",
      "{'text': \"B OB ZBS Y MF BUZ BZZ UZCOEZ EZ FD E BDB CO QGD GS B TZC ECND ODGZE  BZB UZO T ZHB Z H B B R B  B S O ZZC MQZOEO CBF  ZWDWQSZED TB CXZ BVFW SOC ZEF T FONZBF UBE TWBC COZY CZWB ZTHVNWB  CNHWZH TWX U DTZM F BNZMWB BY EB CBFH EZEWDZSVSZB S <s> CZT EDUWCB EZOU UBFBWOTBW G X B E E BNOCZYR  BY G ZXE B CBEOG ODZB SBMYEMB BDNFQCWM BBBOXOWB BBB B CBE ZSFNDF ESBOCB  B MOZEBSB Z OWTBQMBZ SZSE B FW WBG FWEQNBFE HBHG BC BZRZBXBZ TWBWFOZWB WY UY SFBWZ F BC</s>BTBQ BEZ WZWZ CBSSS WO BBEOZ BYWZY BYEZ WSO BWCBCE G XCXS T W W MWO EB CB XQ B BZV XM UB B CU C Z BOQXFEWSQX SQF SZWEWSZX SOU ZFCS OX<s>BSB WB CE BMCS ZES WSZXE SZBESZXSZ XBTEB WC BCBEQ WFB B SE B F Q B ZXZYBOEYXB W BD C OQWBXF WBZBZCBZESB C B BZSG OC E B CM QBFC ZBS O CS GOC N ZB CUBWZF ZM BO TOOZ OB C GQ ZCZ C OB  BCBBE OB WG H ZCEDT WW B Z OWCEEB W G ZOU B B <s> B X BEBE B H OG   BZ E SCB B B OMCY WBZY M EWE Y ZSBPGOWZU  DUE UED EDFO VQ TBZW B CQQBZB O   SXB Z FBTB BB ECCE CB ECOB SZ B ZBE ZB W W BFB MWOBSZW  WM W BDB  BE BO B W BGW B BUETFHNBU FH FZ FGSC 'BBU  E BXHB ZBS Q CT OQT BF XQRGY GYWD DX CZ BZEFVWZ OB B GB BC B H FO N WB    MXGXGXQWQWQWW OBMWBS OQWBZO OBWZ ZBZEDBZFZ OBWZ QUBB  HSW OBS X EO OEO CUS BOBMB B BFEFBSEBQZ S ZUB XB OSZB W WQ CBM  CESGBY Z  BCZ X ECGWY  ECB B  C C B B B B B BZWWZCMB B CZB BZT E WZYZM Y W OBQ B WB WBE FEBECMZBFSBO BEZBUZB BFWBEZU SB BEHMECUEB GSZ B BCY TQOU CSHZW W C B OC ZBZUBCZ BZ ECB YCOB B TZBB B SZBZW BZWN BQ MF ZUOEFGV WF C C YBQO WZ B<s>HSWV F QB WB E WBOWZSZWBUEOWGF MBZ B B O G W BCW B H WFWBZ CZCSZ Y YSYSSZZSSEBC B SY DUWZBHS  GBF CWCCFCZSBZB B SZMWT BZ WQXF BBQXF BSXSZMZ DZBWZE B B B CN W  C CZ WCZ Z ZBWB Z HYTWEHFEQB Z C FOX Z O BB B W   OW BEDTZEDZ O WZ WCSWOXEDE EW XFOZBB B ECW O YBF  SSFW S QODZ YC C WBU BE ZYQWZYY OCQWUK 'O B BBZT SZX S EB Z H W Z MVMHWFWBX ZWC  BS X    WZ  M FXWZ FZB BZTBZ ZTOC CYEO B VB BVW WB B Y FT YO O BFOFXBECEDB B BQWBEB  T T EZM B EXY WQBF WSCOWC W WB CW BCD  XSNC  SZ EB XB X SQX BZSB Z ZDBF Q WQS BZUDSOZ OB BECY BW B YZBD W CB P WFBSYWW EQXWES ZMOYBDBDWEBO<s>OU XB WCBMCW BE C ZB B ZEBMWB TSZSZ W EHUBBSB OM Z WQWM QW   W  BBBZB XO BOTXBT OOXOWF X WFE WBHB XZWFB WF XBBW CXZ WBFBONZOCBNBZBEB E OW BE DW  SEBSBUBE BU CNOVCBZR ONGD YB  OW CBX WXB YB  BEBEZBEO B WEFBUEBUEBE SBB B BBUEBESUE SM BTZBSBEZ B TBE\"}\n",
      "{'text': \"WZBZ Z ZCBWZ Z W O C ZC Q WC ZW G VM SOCEWB C S <s> WU E OE NHO ESOBT GTG XC BCBB  BE B BU OBZ S Z ZSQBFS<s>BZXFBE O MF B E YBZTOZ ZDSED D S T  C W XWZWZT B EYO S BSBQZ BE SBE EZYMHB Q Q Q WZ B CW BM V B WXZ W <s>WBOZ WS BEB WSEOBSBU B BBTB FD EFBC  F C  BW BY  BM WC BM T T BF BQWZXHE C M ONC O BCBWB NT ZOBDBWMTX RS<s>B ZBB BBBCUW B C  WQ SB U ZB Z OBBQMB  W WB SBGWZWCBTWZT BECZQ SECBMZCZ H C O FW WKZBQZBEZFO ZQH EQEOT Y B B CBS BSE ZB COXC<s>VZGMWUWZZSZZCDWZ ZW O CEF SX WZB BECB Z ZFB B MZ BZXO BES ZBZ D Z BBEBUB Z Q E  BM SB C UB CT  OM O O Q BZQSZBBQWO BBEF SQWBBF BSFWZSFBEU SVYZBFBSE<s> BOB B HBBSW BSH BS B EWBM C WFB CW TBBWQW WB ZB CW EYW WBM XB OB QMBZW BM B EB EBBEBBZ ETBZ ZB CESC FB BSSOWOXQ   OBZCZCZ OW XBY  XOSM QWB  XOQ Z O BY BY B WM Y TZEOB BOBEBX BECBE SBB XUBXBUBEG UD</s>FYZO WBBBY E XBX B MBMBMBMBMBMWOWMWO QWOBOX W  ZS T EU Y <s>YB B SZ EQZN YT MWBEBHWY F EUC W WZ YZMBWSMFBNMEOZ FZ BWZWBZ BZE Z<s>B B BUCB CDWSF EFWBQ B BY BZ W ZN ZWZ XM F F EC W  Z E MBZ WSXFBYB B HZ BZB B D OE SBQX F SB O SBBZBZ  EGZB ZW Z OBZ ZSZCZ BO Z Y FHOEC SCOCZ CZ Q E ZFOCE B FB X C SE CQW OET WTZOE Z CZY<s> Z GZM BFM<s>BD BECBB B ZYZY Z NWOD WZ ZCSZED  X B OM OZWMW F ZBFOU UBBS CZ GWS EDWZBZ DWZWS EHBBZ ZWZ XB CQT OQ BE BNQ BYCMBZ BEB TF XZBBZC B BCBCBOBOZQ HZFXCW WCZ WBDC WBZ  REQEGDM V B C BZ Q QB  DB  F OCWZC WCBZ CBDFBG NT E B XBSXBS BZBE BE B  Z  B UMZ  COWYB BGWBOX S C BW BYM Z BM YS BEXBM W OT B OZ B  CWBZQC HFXXBEZBGXF SXM WM WBE O  VZN CBZ EYW OBY BYB B BMB  B C QSHXU EB Z SFW C   BZBFB BSW B<s>BB B F ZOWEZ QO SBBS E SEB B Q B BZX ONBESFCBWHWQ CBEB  HWN OB E O CEBBXEEBOWB B T H BZV B CB WBM BYBZBDHOGBXYQ B   OC B B OM R WZU CSWB ZOFMEYBZ CBYU BSWBUES S E  ZBEYFGE DBZ ZC W CEBF B Z OLWH V ZB BE ZB' MFOB BWBECBSBY EUWO'<s>F EBEZ BMCBY XO B OGU S R OBZ B Q EBU  BEOOBCB B DQBXB BTB BEFBU BE B T BY C\"}\n",
      "{'text': \"BSXO WB B F G BP SZ  B W T EC BZNBSZ BH U FOMCOMC Z ECOMTSBZ CBY BF   U BEBETB SB Q M BE UY SBESBZ EO BBSZ Z ZZT T T OUTUTU UOXOEO OXDZBCBCEWZM VYWFXZW TZ YFZO YZO  D  ZBO Z BF BC Z BF BMSEQEDUYNC O VNTCYBZYF OEYZEWZB B Z B U ZZB  Z  BSF BQE BU GCE T Z GZ CB  C B OFB Q BEDWV Q W   C B ZWV ZE CGB UOHZ CMUYE Y EZE EWF B HKFO EBERB XCZWC GCEXESECZM CFTXCFYTCE O BEM TB FB MBY  E UBSFQ W  W TE M B CZU MNC  XB ZX  D B TZ DB BOM CDWDCBB C D CZDZDBD D WWBXBECBZY W BCFBU EBZBZSB ZO W OGC SZB UD  UZ WB  BFBXCB  EYZB G EQBO EBGBEGFB ZB S  B  UVBE B B  UEG Z  MEC BX BU Y ECBSBY MZB OUOBUBZCBECB Z OE ZBEB B Z M   BZ FCQEY  Q    BSB ZU OXOSOZUBZEQFEDC F COSCB W WSGWZEZ EOT  TB W C BE RYBO B WW ONOO B T B ZF Z S OX   SF SQWBEOBSB BZBU YZ WXY BQYWB EBEBZ MB CBNZB EUWB<s>B O BT B M G E BBCS B W W BSEB XB B BEC CEOU WN UBG WCB W X BXY N X CB ZFBSEBXTWBESC YZB TF S BB CT E SVN B FSBUHWB OC CDB Z Z QZOB FCDN B Z WZCOG V BO OCBZC FC B B CD OCB C OBQX EZBUSB B  BUE H CEOWVCCZ  WO O  BBS XOE BBX<s>EC BSBZ   W W  W ZWZBOS T ET CZ O ZNUEGBV NOOXF C BBQXFW BSS Z P'ZCU OZCSEUCBW FMO O B YZC OZEGQB BU  VZSUEHBEUZ  MIBFSVZ S Z Z HEPF E OFKSZM Z SRZM<s>B B EOEBZ WD OBY FZBXOQW X C W Z BZ UB EBZYS Z B SBFB BDU   WZMTWCSZOBXE C B B ZC  CB WW C X BZM SUC WT CZQEO B  B WWWS Z WBBTQBZOWOBDQZZSZW BT ZCXSB WMT Z YWZWZM C<s>  CZVG EGY<s>YXO CB O H ZOZ EUBYX C SC</s>Z BSF MFE YB CFZ TWSUO X YBEYC M E ZXM X SC BBMBS BEC W CBY Z B QYX Z BY  NZV ECW GBX SG EEWO B ECNB BWBB B B BF S SBNCYTW XYN T M OE FO C ZFZFE FBC BOCDZU ECZY VZBW UZV F X BZ MOZBOCO S CZ WZBCOC BD C Q  C VYO C WZ BOBO F FBT  Q X SCF SE EHHUFESU Z WOEOB B WBE BOB B OVOM E B F DZCZEDWZ DWZSZ DUEDWGSZ OSW     SZCRCM B BU Z BZ WBE S YX B SW B QWST BECX BMSXBOB ZBE SYDBXTMBOXC ESX<s> CBYBNSZMBESB B X B B B B WZB SBYBXB SOBBCE E G U B BZ BBBEB CECB CU YSBFE C SZ Z ESYC B HEZ OMDZ NMC BOYFU B CB ZBTOBY SB BEBFETBS U B C BWB BEBBTOBE B OB <s>BXB BE E B B CBBX  BE BEBEOU B ZB B' B  Z MCBOIE OMON BO ME ZCZFWZ X<s> OZCUCB W WZ BOEO HSZ YZ UZCEB E CZQ Z YONQB WZ Z Y WSWSWZNCB MCB GCB O Z ZF GXZ FQMHZEZH Q BEZTBXOB BMBUEBE B OB OWZQ BBU XBESBUFBEGOB  B SQ OUFBBSZ OCD N CN <unk> R YC FCT EB  MCZSY XBXOXOEOWBBBOEOEOXYB BFCBE BDMWCWQ D H B C SOM MCO FOMO O B B QU WFHY MBZMBWZ FGDYN D TZCB YCW E Z OSZBF COBZ C WBZBWCWUOCZU Z WBY WBU CQ ZO W BZ W BW B Q CW BM  CB H WBUW WYA CB T OB S QT B B QX BWC O BNB CZBBBZ WW  WZW DZ WFWZ DS W M A WZBZ YBY GTZS OUO B BZCZBCWBVOBQCZT B CSBX U FWZBOZS  Z OBVFU BMY CWOBEM MEHZ  BU BECBHBESZBV EZE Z ZFOSSYEB OZS CBVBSZBZ BS Q  CBEFEBBBQX S F BO EF MZSZO Z B D ZBO S BZ BZ WFF WF P  DBBDBEOB  BQT BEZBYMBZBZBC CSBD BYBZBY BCBSZ E SB ZXZBET BOT Z F CXSMB XBZ FWWBSFE BZOS XFXO F        OECBSZ ZCMWC C O  FOZ Z FOXEFYBNHO F DBOZNFOZOV WNZY X B X QOY   XFW WBB QWFEWSSE BSEDZ YOBEG VC<s>BZ CC ZC D Q OC ZWCH   F  WWWQBOO FWE BSB  XOEO WC V X WBWZZ BBO X E FO BF ZBEQB OZ  ZWS TS Z NB ZV W B T B T TB  SBEQWFBBSEOX BSOOSOFCSOG WN SBYEMBNBRSZ Z P VEZMWSBUHWHB T CBGCZ B SZME BG ZC SZBZT  ZC ZXCBDBB WFB T T OX OC EBU COY  DEBZXOBQT BW BMW BBWB BECWW BF  BCSEHU E OBGHB  FGHBZOS <s>Q<s> ZTS BG ZFOV B GN EFB BE HZ OBEHBEOE BSHMFEW EXHZ FZ FCSZ T T W Z OZH Z Z HBEZFZ B W ECFO  BZCWB BZVEFOF  Q ZU TBWUVCB W GUS B CEZ WS WB WEZ WOZ BBZBW  BSX Z XZW WHGUV N BZTE S X BEHY BZBW Z B CXFQVZ HE<s>XQ BTBCBUH BCHBYUHYZ UQZ <s>IZ B  QONC VYHVWZWZWUECSZW XE B CZBGB BBXET WZBRCB YHC ME Q IQ WCWBG W ZO B WDBZHH IT CBEMVWB  BESZB OBETBWB Z BE B B B BE BE B B  WB BEZFBEB EQZXZBU BEBF BESB B SB BZX ZBX BESBE EB BEZ E BCBUBW WBEZ OWBS ZR CMZ WFB WF O BECTSMQZ O N GZ <s>GB S Z O B Z E OBEB  BEW B  B B BEBZ G BCWZCE OWZQ F OBSB  F  OXOXO  ZCE</s>OXZSBXFZ ZC RGUECB FOZOZ RF GTSZCZCZCZS XO OW BBZSBZ S G IOENECOWWDZ  TZQ X BMZQEWBSFE WCOXOB UD B B B EBCY M B F C C ZBZES W R XCZ WB O BE BZOQ BZMB B O BZ QWWO XFBSZOTB OWBSS<s>XDWBBB BW Z COC Z UBMOEBBZOR QZ NBGO C Z E GMTNZ Z B W BM BEQBW CHBU FOH FZ BGB TB  BMTZ WZWZ QBCHZFH UF H FZEDM BBW BHM MZWB W WBOXZSWSG X C ZK VXBC NBUOEWX E YC W EB ZOWOBQ Z YCY XO E Y F WMB BMC B ZYW C WBSB CB BZ BEB B  EZBBE S WT WZ SE B CXBBWBE BOBCB BZBD CB B X B ZM YZYZA TEFBF<s>Z FB DWQWVY GMQ X BXSM COZM FOZ W OZWFDZWZX BZ EC ZF CBEBNB WBZBE  BYT B YZBG Q BD Y GTDWZSZ Z ZONY ZTQ I WY WOBMQZM  <s>BF ZCZ BCQWBOEWDBZ X ZC O W WBW M  WB B B EC UE BSB MWBU N B B  ESSB   OXF  WWBSZBB SWZWC   BBSBB EBED C ZW B C FO ZB Z F W Z YSO Z EYBE Z EZ E </s>YBQB BYWZ EYB ZBE ZEZYDGEG YU  U OUBTZM EUONC O EUZF OXZO  ZZNWZC WBWB   BB BEB BZ B B X SYB WBBBU O S C T OEO C ZB B S  BEB TO ZUZXOESB BES BSE BSM X WF B Z BESBZBZBE BSXF B HN CZRCOWB  DWCBZBED BEQBZW W T YB CBGW EYWXBWQ TZSY XSOEX WY E B OBH Z CY U COB BCZBB D   BF S WZTF SBWBN BS B SOMWW RBZ BWZ SBB  XBUBFBBBZB GQ ZB Z BCEZ SZCN X T B BO WCWKBG  FWZTZOEBNWB WB XWBOO O BBSEH FBWBE ZB ES BZ WBBO T ZB BZ FEFBBCZCEZS S Z   C C C Z Z Z   CO  W B WWB W B CW OEZOEBQXBG   Z BZ CDOZCBWBWX XCBE B B BDG ZB  WC CZCOWBTB C TZBEB BB ZU WBB CQBX SQWZF B B O SB B SWB BWSBE  B B W ZYFB Z F EZYR COZECBZ M OS  OBBGBZ  SF W NOB <s>O ZM B X DCZ ZOQFCX B G ZCOBZ S</s> BYBO ZMY N WZ BO CBXS ZEBF FZ GB YC OY OMC GT B O CBW  EB BX B  XF        OBCF FWBZWB O MB  OOBZ W Z YBO S B CMZ WBEBBZ OBWFXZ CB OFGW FG S O W CZ W BZ Q CZ  CZWWBUE OWFW  ZBZESE BB EZH OZ C FQ BXC DC Y C Z SWB YZ XZ WZBW B MBW BZEWBU B Z BB BE B BX CB B ZB  BESE\"}\n",
      "{'text': \"O HW ZRBMCUBC WOG O YXZNYQOHWZV GF WZ GEKWBF  UOQ QS ZCBT B E C YOUECBEB FB CBBCBB EO ECBE BUZTHBB CFCBEO CZ Z Q W FSS  C F O B BWWCBEHWB BWCWXMCBMNB WCBVMOZU ZO   ZCWEZC FZ WOET BZ YWSSSSSBW    Z X M B B FBC  XSE FE<s> OF WCR WM BT ZYEZWSOU Z BCGTW X BXCW Z B BZM WCTBOCZBZT C G Z HN CTZWBF     WBZSE BSQX BBQXFE O  O DB Z N O W FYQ ZEZ EWCFWFYZ WO  C CYSFV FU EFCFFBCW Z SBDB B SY BZWSC BEZB WSQZ WSFUEZEHBFEO BMWBYOX BUSOWBS F B NC OYBEYOBBYB EC C BCM WDBNC XEBFBYB FBB BOG Z BMYN Z G  M BI ZWB MCNWBZX ED C<s>XQ BBEGSE BE BESB  B BE CB BUW C C BZWZBOWZW ZBOZ W UOOOOEB B  Z EBSFHT FT B CN YSB E X WBE CB SOVZ CO Z OT E B B O EB SECWU W B CZY BZT SY W BY BS Z W BBEQ BSEO BSEO BB XQ BBBB BZT B OMWY B Q  HDEDWQBZ QBSS  ZBOBOW BSQBFW B W  <s>OZ WUZB VB ZWZC CZ OBM B B BU Z Z C B FEBZOOD WE SYB MW V B ZB B B BXQ HBWEGCEZ H Z Q H V FY XV Z M FD BZ B ZV BWB R CB O N O T W BWSZCW EXBB WBZW SEYZ B GYZF O DBY N CWBZE WBWB SBDFBUSXC  B WE SCUZFGBFBEH STWBEQEBOX  F  B XBOEBQ TNCBV B HV ZB B BSBUWB WO I O OCEZBCZ BC W BFGM BZB Q E SBYBN QX  SBY XDY WZW F B  BZ ZTZ M ECBEG QB WY Z OWZDO  B<s> CZ ZGBZCZ BOQSC W WB ZB Z VHSCZSB NOCQWBM Z  CTBEC B M W YEHG FEF CSXB ZB B WFBO BDC ZFC CWB BDS EDBZ  FESBBCESB ESEZB'BX B O HB  QB GSB B D BN <s> COZ CB BYBXBX ZUZB C BYB W EYB O ZWM TF M M BZB SZDBSWZNQZ FBZ B CDSBEDWD OW XU YBZB CCC BOOXB X F X FOZEOBNMYZEXB Q YTZ O EMZ ECW BSBSS  WWOEXDI YZ EOZ WO YBBYQ O ZB B BZ MZ WFBOSZ UBUWBU Z FOB Q  DNZW SBZBYSX GBFBESNYC V B BZ S F EBCFB ZF'ST B ZBE ZB G X CBUW  W XDS BBW EBFB XBEGB BEB B E SUZU BEOB BC UE B EBOEBEPBCB BE BE F EBBEGSECBEOBUM B  B OF BE Z'CB Z\"}\n",
      "{'text': \"B ZVEGCBE BXB BBEMYBE TB  BX EG UZ UZGM <s>ZBG E B BCB EH  Y BE B OFBE UENOB B BCBESEZ EBEOBBEC WFXBF OUEMWB    BSBOWHBBB WF BB EGBBXBE BSOUOEOE FOH WB ZWDW QWZC DW EWEOZBDZZZOBSBQXB VNB S BZ BD B B EB BBUEBV O ESBT B ME EG F F ZCF  XXWDZY CZW CQYBKBT CB H Z ODCWZX BCEUZ OGBEB  Z W FBZBE  WWZWBU WSZ OZOBS ZFHBMOXQ CEHX O BS HXS'BU WSEB CBMB BVB SBESZ B B WWW CE YZOBHBZ BUBZ DB FBECBESBD EOBEB SUOE XOXDW WQ BBBSS OO Z OQ C WCFEHBZMHE FBW WD VCFZBN FC BZ<s>EBBEB Q B ND MOH BSYE O<s>MB XD CFCTBMBYBXB Z BFB TB CXWF HP O B MCSEDZZS WWYU B BOBO F F CXOXWWW SS WBBSEBBB ZUZ SXO W QW CSBWQ B ZWEBYM  CB BCDBZ W WB WBZBYSV XSZMYX  BDEBT BDMDM BOGZB EBUMB W SUBZ QB S H UC CEQ QSBFZB  B U BB B B CC SFD  <s>YBEGY M EZB TZBZB BEBXBW ON XBEB OZX BEZB BH SB B HWSEMB W CEBY B H BEFB XCXZ CX BX B BEGB B MBFBZDXY COBGB SMYB BTBZBTEZ CSYZ ZYEBYWSX WBZES BWB BUBE ZBCX B BX EZB BSEBEHEUOYA FYQG O OBGZBED BY EX ZSBW BZ CECBWSGZBZEWTB B EQBFW B SEBU<unk>NCB CE CUSCZSBEKM FBQ OEB B SB B BEH  <unk>FCX <s>N C BZ EBGBNVO W Z OD MNT Z VZO ZE BM ZO BC ZCFY\"}\n",
      "{'text': \"CZ  BEC GM FCBU BQZ BOB SBZCO Z YUE BUZ WU B ZEMOB CYWU OB ZBEI BXZR   U  BEWBBEZBEDB   BBE FBO B BSBBSCBWWFW ZB WZWZ DZW ZWCZB WZW OD B ZEC VC TBMWB BZ WSOFWB F ZTWBOBSBBBUS N V  BHCO B CBUBS E BQ BE BW Z  Z BG CXCX Z Z  SBMT TU    Z  E WZ BMWOCZ OUS WF XCM B XWZWC D C CWSES O C NC BWCBNU BC UWZG OT FXGB COB WB ZWWZ BWQ E BEC B WB WZ ZEHWZ SEDT OB CYCF UNE QBMYUBWZT NVGTBZH Z OBOU GB SG B O BZC EWZB BBCB CB B B B B BE BXZ E BEHBUCBEBZBVB X BYCB ZB TWOZ  EB BZWBZWWW B BZ BS<s>WB X S<s> BSZOCO W BDM X DO DZ  'E XW B <s>OWW  ZMY ZXW CUOXWB WSCB X OTZWFZM XBZOWNCBZWQF BBFD U YCU EB W MVF B S QBZBZ GT B B BBUCEZ WB OS W ZEZ TWZ WB GX B WBEBEWS WVZBZ <s>O ZE B BHEB XZWZ DY WOZ B MWBEZX S BMEUOZ OQBYF VFPOB  FB X SX B ZW XGSB WG BBBZ ZCZBB Z BY BZ SCWCBC S WQOX ZBTB EOBFVGQM F OBZ BSZHQ  CWB X EYTW ZT B BO MEB  DNZCYWBEHBEHO SBUEB SWEBE CB Z XOB ZCFZ O OZXMZ C<s>GQG GOEC WZOQB <unk>CZO B O OWS EFB OEZ BEOB B W HBEBU  BZZ BEWFOOB<s>EH OOQOXOXOXOXOOOX EDU BZBECB GOM WNUE F  BZ Q BDCG ZWBZ D ED B O ZWMW OFZ ZWZBZYHOB SBZ M O COUB BZW B W BWH EOCOEZW QFGBE  W ZWZBZOZBSBWWBSBB  XFE WWZUEVEGW  ZZFQ UZO C S ZYFB DBMXCOYB CZ W Q  ZBM  ZB X BUW BZBE B Z B FTZBT B WBEZ NB FM T OGTOGBFB BMWSZ WSU CBZBECB B C BXZEQ BMO M X BOZU CWY MO E CAFCBE B  Z C FCESB B BE E B  F BEB  B SB BZBXSBEZBE BX B BO BFX BEC EOEYHN BF  OZW OBZBWOSBEZWZ ZO Q SSWZ DOB C B OB C C CGO YB ECWGBZWBOQWZWFWGS GBWZ XZSCZS X E WCSZWS    ZBWXWZ ZD MZ  DBXBZ  ZDC BE C ZBCBW B QUBECZBZ F BQ OH X WEOB S FMCZ ECB<s>FZOBZ BB C B ZO X DQGQ Q Z CQOSMW ZEG WWBU Z NOZEWBMQOC' C MWZ O B  B ZOBUOZB  BG EU  YBO BS FBZZFBMQ BBEBU B  BE BU E B BE BBEGBETZBSB\"}\n",
      "{'text': 'E E YC GRWB VHNM YB  Z ONOZC T BO B BF   T OZBO WZYB YMWZ Z E XDGNOYO BZCW Z B BT BU MB BCBOB OZZB E BZ FCD T ESCYB CFSCWU B  B H Z ZOW YZ B Z BZWZWFBE FS  CUBYMF BECBSBY O BY BX BEZ YBZ O S  WBE WS Z ZBU BETB OYN CO W PZ TW T Z Z Z OZZWOWEDZXZEDZXF WCZ CZ XZ BZCU EQC  YTMOA<unk> U U ZBTWSBU B EB BEBECBUOB ZBB CWCM BWS HY EZ BECBD CBWB QEDWC W B SN  S CES BCSFBOWBS BZ T UB EBU CBXW BCTFZBDSZ D XWCZ CZU DZ DZY CDZ CZ CZW ZX CBZWFOZB CQB ZSZBS W EBBCBSECQZ BB B WZ WOEWCZ CB B ZXSBZW B CBW EBT  BYBZ BUZ BV ZBT B M Y CW TWCBZ BXBUMZ OWXBEB  B B B B E BEBESB WB B  E B B EYBB SEY B B EEMW WW BOOBDZDZD CWSSUSO ZTS W B CM ED BUXECZB OHZ HSB OUCFB B MF F V CH G UBOW BO WB B OZBE BE B BBE B B  B CB ECBEB B B B B BFZWWW   F OOOSSOBE X OZW ZY GSBSYBOME OW VFYB Z <s> Z MZF  WBZOZWSEB B ZBYBFSFBBBBBE BOB BBB  WF XZ UF CBEB SB BBEFBEF BE BB BE BE B COE S EBE WWBE BEB BE B BESBE B O E BU'}\n",
      "{'text': \"BED B  DECZ ZGR EO FOC ZOBP ZCG<s> FTHOWME WZ  ZDOQNCFGLSCZ T B FHNOBV TO U O CBE BT BOBE G  EBCBH H ZSCBH ZS OBVZCE BEWBYCB C O TBFE EHT S B B B XOXZW B CHT BF WB QT O O Z B FB EZX SS B QXFEBWZT BSUZ BBBQ QF WZOHS WCF BCF BWYB TE C B U DEC XWBSBWWWBSSSSBBB  FBCBZ  QZSXMBF WZ VZ C B E OKWCBZEZWYMH W Z S EOBSEBSEBEHB BQBUGZUYB  BT OOY M W B O WWOEZ TB B X MODE BM B H YBOZBZWEC X CB BECNS FZ CZ QB BWZ EBBWZ WB HWBSET SOYCE ZY OB B W B EOEO CXOXGXG G BT QTZBC B WYFXWOZB F OZBW Z D ZWY Y  BMYBZ ZFBSF QBMBBZCSS E SWNBF QEFNQMSG<s>Z </s> WBSZFG W ZZW B SMTWZ WMBSE CRYOTWOX CV WZ BXOUZ BBZWZWWS CX<s> BUSEE ZE OBX<s>WB WBB<s>EGB BEH S ZW BB BB  E WBSOQXFE BSSEC BSFW ZQ'W BB BBB ZWBZOEFO E B HEMB BQWSH SEOBSEBCBX H OSOX<s>WBSEOWU BZB B O F COHC WEBYMZBBSSWWBBSWF BO WBB WB X BXFB BUFBSSEUSEOEO ED WMBNB CNZWP B W F E  YEQHTE HFEZ   B Q B Z WB WBUCB B OBN FOSCWSWGBHWZF BT WNG CB FBUE BHBECBBMEOEZ CB B ZM WB Z  CZBM RB BFZBZSSZ SEQWO B N B C BGO  BEHB E E B B  YS H F ZX W W BYBOBBZBZ  S Y WESBQ WB ESNCF B SQEC B BTWBEC B B MMFYCB BEZEHOF OMH CZO O EY Q 'ZGSFN E Z <s>ZOZ DCM NCBCO OD EYNBC S O GQMCBNFC GD E FN SMMEU F BEZCMNDBU UMBOBEHZX HB HBXOEBBEGCBZU BEPQ S TB  BOE BY  WF SY  SYSZ OCESBSXO BSW SCX XFBSEO BSE BBXOWBSEQ BBEO F BBBBZBWBE O WQBZ DZWO XSZ BBZWRUH MBOCFU B WBZ STW BZWSEQB C BZQ XSU BB GT E N Q ZQ BBCZUZW BYX MFEGFUOBM  B C XEOF BFZFO X OF BTBSEBET HBE BEQ'G B S WBZY BZB B ZU QWC UEGHDOEFB QBFGQZ OBZ CS HMR HMZWS TWS TB WXZ S CY B WTWQ BZ TWYOWZSBZ XY CSE ZU   CVZ Z BNW W BC W OHD RXMB C OB OX  E ZECBXOB B  BE B CWZGCOQWZ ZSZWB ZZUN WZ YMOGB O B MBZ<s>OZOW WYS GNGXCBX Z OTZCB  EB BCT C CSEQ BE BEHMECBEH U B TZECE SZ WFETWBOT B HWXDSWCZECKOY E P ZB W COYWB BMC XEDWBCSMBZB BWF ECOEHQWB O CF U CMB BZQ WSZX YZBWBQS Y T CE BNSUBVWFY  ZSDZWOZ Z ZWBBDW Q EC WCBY QSB BE  QB B  WYWYZGW   WM M B CO VBWO B BZWO BMBO T BT  O WCQB B C  </s>FF SH BO  ZBBNH VEZ F BE B OXZOF EOWM QF  ZMCQ WB OB BE BEO O  T B EDXZOZGEFYB ZO GWBMW WZ BEDBBEZE T O CB YB SOFB W BF C U S M BZX  SW W BN O Y  EN W O QBZB V VEUOZBS SDSFBF'FE<s>EZBZ CFOY FCFBCX BOWFTMB SBYBYZT FOS B<s>EBBBTUZGF FGBBEBSYOOXFW CECECEF  Z DWEFSB SZTBHT C EBZ BCE B OZH WF BSSXOWFB BEHB S BSE EWZ  ZBZWDWD B B BSBSBB  EDS  BNBZEC WOW WC Y  CZ CZX FOZ FBZ WFCZ DH UEDWECSTV X T B CBD C QB WBD  OC SBEB  BEDW EBDW BZGUF CZ SNEZ OBFGG U<s>CVCYZBEBXUE</s>QBU V BM ZO Q ZC ZEOX C SZWYC B BZMS ZTQ<s> BEB M OE BOE  U OX      WB OOXWPX WFBY ZBYOXBXOXHEQW BOZB ZWFWZOBCY W SOBZ SZWOZ H X EMV Q OBEBZBSBWP BWZBO BESUESZ'EOB GHZCN  UM  BE WB CM B XMGWOWWV   X X  CV G C M MWMWY ZYOS Y WUG T OT B B ZEHXBBO E TZTOSOB XHBTG O E  X W WB</s>XMCEZB <s>EZB CE BO <unk> BEM O Z BGBODH W EESSEIZB TETYMO ZWEXE N HNM T OBE BOXOE BBSQZZZBWEGBYB B EEBHM GB O O EBY ZSW C BV WQU O HXF YB WW UB FG BOZOWZ DBZ EOEZBZ G E<s>BG CBS BMEWZN B B CZ B QWZBX WYBM ODB BFZFOBS OX  YBBZWCF F O O OXOWF  ZBBE U BFBEZB BZSOSBBFB B  W B BFWBSFZW EB BSE MW S F COWZ F WC WBZT S BXST B BBMWQM SZ S OE B QB VX C B BS BHWEB OSBEG BOB BE B O OW S MNCWECSWY W W CMWY </s>C B C YZ OZF OZBM   DY T EDUEDWZ O ZSBBNBFZUF BEZ F O EWL QCB CBZEBZWZC  FO CF STWZTWS SFBSS SF C BYB ZCYABZY U TYE WF   WSEOB SV UE OEZ B U WBE BDBX Z CB Z CWZ SWBOY BCF ZOW W CY Z WYMBZ ZOB BEB WS Z QX B YWWZB X BB CFOC ZUW B S  BUCWSE EZ MZOSOECO ZY ZY SZB  B SBT T SB  XEGBMCBE B BEB BE B EBEB  ZE BEH  B B W EC USB E B 'B\"}\n"
     ]
    }
   ],
   "source": [
    "for out in pipe(KeyDataset(dataset, \"audio\")):\n",
    "    print(out)"
   ]
  },
  {
   "cell_type": "code",
   "execution_count": 12,
   "id": "48bbfce0",
   "metadata": {},
   "outputs": [
    {
     "name": "stderr",
     "output_type": "stream",
     "text": [
      "Fast image processor class <class 'transformers.models.vit.image_processing_vit_fast.ViTImageProcessorFast'> is available for this model. Using slow image processor class. To use the fast image processor class set `use_fast=True`.\n",
      "Hardware accelerator e.g. GPU is available in the environment, but no `device` argument is passed to the `Pipeline` object. Model will be on CPU.\n"
     ]
    }
   ],
   "source": [
    "vision_classifier = pipeline(model=\"google/vit-base-patch16-224\")\n",
    "preds = vision_classifier(images=\"https://huggingface.co/datasets/huggingface/documentation-images/resolve/main/pipeline-cat-chonk.jpeg\")\n"
   ]
  },
  {
   "cell_type": "code",
   "execution_count": 13,
   "id": "b411775f",
   "metadata": {},
   "outputs": [
    {
     "name": "stdout",
     "output_type": "stream",
     "text": [
      "[{'label': 'lynx, catamount', 'score': 0.4334995746612549}, {'label': 'cougar, puma, catamount, mountain lion, painter, panther, Felis concolor', 'score': 0.03479619696736336}, {'label': 'snow leopard, ounce, Panthera uncia', 'score': 0.03240193426609039}, {'label': 'Egyptian cat', 'score': 0.023944802582263947}, {'label': 'tiger cat', 'score': 0.022889269515872}]\n"
     ]
    }
   ],
   "source": [
    "print(preds)"
   ]
  },
  {
   "cell_type": "code",
   "execution_count": 14,
   "id": "eaccb417",
   "metadata": {},
   "outputs": [
    {
     "name": "stderr",
     "output_type": "stream",
     "text": [
      "Fast image processor class <class 'transformers.models.vit.image_processing_vit_fast.ViTImageProcessorFast'> is available for this model. Using slow image processor class. To use the fast image processor class set `use_fast=True`.\n",
      "Hardware accelerator e.g. GPU is available in the environment, but no `device` argument is passed to the `Pipeline` object. Model will be on CPU.\n"
     ]
    },
    {
     "name": "stdout",
     "output_type": "stream",
     "text": [
      "Running on local URL:  http://127.0.0.1:7860\n",
      "\n",
      "To create a public link, set `share=True` in `launch()`.\n"
     ]
    },
    {
     "data": {
      "text/html": [
       "<div><iframe src=\"http://127.0.0.1:7860/\" width=\"100%\" height=\"500\" allow=\"autoplay; camera; microphone; clipboard-read; clipboard-write;\" frameborder=\"0\" allowfullscreen></iframe></div>"
      ],
      "text/plain": [
       "<IPython.core.display.HTML object>"
      ]
     },
     "metadata": {},
     "output_type": "display_data"
    },
    {
     "data": {
      "text/plain": []
     },
     "execution_count": 14,
     "metadata": {},
     "output_type": "execute_result"
    }
   ],
   "source": [
    "import gradio as gr\n",
    "\n",
    "pipe = pipeline(\"image-classification\", model=\"google/vit-base-patch16-224\")\n",
    "gr.Interface.from_pipeline(pipe).launch()"
   ]
  }
 ],
 "metadata": {
  "kernelspec": {
   "display_name": "wz_py_3_8",
   "language": "python",
   "name": "python3"
  },
  "language_info": {
   "codemirror_mode": {
    "name": "ipython",
    "version": 3
   },
   "file_extension": ".py",
   "mimetype": "text/x-python",
   "name": "python",
   "nbconvert_exporter": "python",
   "pygments_lexer": "ipython3",
   "version": "3.8.16"
  }
 },
 "nbformat": 4,
 "nbformat_minor": 5
}
