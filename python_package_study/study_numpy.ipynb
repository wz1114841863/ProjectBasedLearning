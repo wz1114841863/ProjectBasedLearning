{
 "cells": [
  {
   "cell_type": "code",
   "execution_count": 2,
   "id": "c88c2330",
   "metadata": {},
   "outputs": [],
   "source": [
    "import numpy as np"
   ]
  },
  {
   "cell_type": "code",
   "execution_count": 3,
   "id": "38e4a267",
   "metadata": {
    "scrolled": true
   },
   "outputs": [
    {
     "name": "stdout",
     "output_type": "stream",
     "text": [
      "[1 2 3]\n",
      "<class 'numpy.ndarray'>\n"
     ]
    }
   ],
   "source": [
    "# numpy array\n",
    "# 存储顺序连续，尽可能存储同样类型的数据\n",
    "tmp = np.array([1, 2, 3])\n",
    "print(tmp)\n",
    "print(type(tmp))"
   ]
  },
  {
   "cell_type": "code",
   "execution_count": 4,
   "id": "6ceadbd1",
   "metadata": {},
   "outputs": [
    {
     "name": "stdout",
     "output_type": "stream",
     "text": [
      "100\n",
      "100\n",
      "Python list spend 0.140s\n",
      "Numpy array spend 0.236s\n"
     ]
    }
   ],
   "source": [
    "import time\n",
    "\n",
    "# python list\n",
    "l = list(range(100))\n",
    "print(len(l))\n",
    "t0 = time.time()\n",
    "for _ in range(10000):\n",
    "    for i in range(len(l)):\n",
    "        l[i] += 1\n",
    "\n",
    "t1 = time.time()\n",
    "\n",
    "# numpy array\n",
    "n = np.array(list(range(100)))\n",
    "print(len(n))\n",
    "t2 = time.time()\n",
    "for _ in range(10000):\n",
    "    for i in range(len(n)):\n",
    "        n[i] += 1\n",
    "t3 = time.time()\n",
    "print(\"Python list spend {:.3f}s\".format(t1 - t0))\n",
    "print(\"Numpy array spend {:.3f}s\".format(t3 - t2))"
   ]
  },
  {
   "cell_type": "code",
   "execution_count": 5,
   "id": "8e708401",
   "metadata": {
    "scrolled": true
   },
   "outputs": [
    {
     "name": "stdout",
     "output_type": "stream",
     "text": [
      "数据： [ 5 10 12  6] \n",
      "维度： 1\n",
      "数据：\n",
      " [[ 5.  10.  12.   6. ]\n",
      " [ 5.1  8.2 11.   6.3]\n",
      " [ 4.4  9.1 10.   6.6]] \n",
      "维度： 2\n",
      "数据：\n",
      " [[[ 5.  10.  12.   6. ]\n",
      "  [ 5.1  8.2 11.   6.3]\n",
      "  [ 4.4  9.1 10.   6.6]]\n",
      "\n",
      " [[ 6.  11.  13.   7. ]\n",
      "  [ 6.1  9.2 12.   7.3]\n",
      "  [ 5.4 10.1 11.   7.6]]] \n",
      "维度： 3\n",
      "场地 1 数据：\n",
      " [[ 5.  10.  12.   6. ]\n",
      " [ 5.1  8.2 11.   6.3]\n",
      " [ 4.4  9.1 10.   6.6]] \n",
      "场地 1 维度： 2\n",
      "场地 2 数据：\n",
      " [[ 6.  11.  13.   7. ]\n",
      " [ 6.1  9.2 12.   7.3]\n",
      " [ 5.4 10.1 11.   7.6]] \n",
      "场地 2 维度： 2\n"
     ]
    }
   ],
   "source": [
    "# 创建多维数据\n",
    "cars = np.array([5, 10, 12, 6])\n",
    "print(\"数据：\", cars, \"\\n维度：\", cars.ndim)\n",
    "\n",
    "cars = np.array([\n",
    "[5, 10, 12, 6],\n",
    "[5.1, 8.2, 11, 6.3],\n",
    "[4.4, 9.1, 10, 6.6]\n",
    "])\n",
    "\n",
    "print(\"数据：\\n\", cars, \"\\n维度：\", cars.ndim)\n",
    "\n",
    "cars = np.array([\n",
    "[\n",
    "    [5, 10, 12, 6],\n",
    "    [5.1, 8.2, 11, 6.3],\n",
    "    [4.4, 9.1, 10, 6.6]\n",
    "],\n",
    "[\n",
    "    [6, 11, 13, 7],\n",
    "    [6.1, 9.2, 12, 7.3],\n",
    "    [5.4, 10.1, 11, 7.6]\n",
    "],\n",
    "])\n",
    "print(\"数据：\\n\", cars, \"\\n维度：\", cars.ndim)\n",
    "print(\"场地 1 数据：\\n\", cars[0], \"\\n场地 1 维度：\", cars[0].ndim)\n",
    "print(\"场地 2 数据：\\n\", cars[1], \"\\n场地 2 维度：\", cars[1].ndim)"
   ]
  },
  {
   "cell_type": "code",
   "execution_count": 6,
   "id": "e8317f95",
   "metadata": {},
   "outputs": [
    {
     "name": "stdout",
     "output_type": "stream",
     "text": [
      "[[[0. 0. 0.]\n",
      "  [0. 0. 0.]]\n",
      "\n",
      " [[0. 0. 0.]\n",
      "  [0. 0. 0.]]]\n",
      "(2, 2, 3)\n",
      "3\n",
      "12\n",
      "[[[1. 1. 1.]\n",
      "  [1. 1. 1.]]\n",
      "\n",
      " [[1. 1. 1.]\n",
      "  [1. 1. 1.]]\n",
      "\n",
      " [[1. 1. 1.]\n",
      "  [1. 1. 1.]]]\n",
      "(3, 2, 3)\n",
      "3\n",
      "18\n",
      "[[[0. 0. 0.]\n",
      "  [0. 0. 0.]]\n",
      "\n",
      " [[0. 0. 0.]\n",
      "  [0. 0. 0.]]]\n",
      "(2, 2, 3)\n",
      "3\n",
      "12\n",
      "[10 15 20 25 30 35 40 45 50 55 60 65 70 75 80 85 90 95]\n",
      "(18,)\n",
      "1\n",
      "18\n"
     ]
    }
   ],
   "source": [
    "# 创建数组\n",
    "tmp = np.zeros((2, 2, 3))\n",
    "print(tmp)\n",
    "print(tmp.shape)\n",
    "print(tmp.ndim)\n",
    "print(tmp.size)\n",
    "\n",
    "tmp = np.ones((3, 2, 3))\n",
    "print(tmp)\n",
    "print(tmp.shape)\n",
    "print(tmp.ndim)\n",
    "print(tmp.size)\n",
    "\n",
    "tmp = np.empty((2, 2, 3))\n",
    "print(tmp)\n",
    "print(tmp.shape)\n",
    "print(tmp.ndim)\n",
    "print(tmp.size)\n",
    "\n",
    "tmp = np.arange(10, 100, 5)\n",
    "print(tmp)\n",
    "print(tmp.shape)\n",
    "print(tmp.ndim)\n",
    "print(tmp.size)"
   ]
  },
  {
   "cell_type": "code",
   "execution_count": 7,
   "id": "81a090ff",
   "metadata": {},
   "outputs": [
    {
     "name": "stdout",
     "output_type": "stream",
     "text": [
      "float64\n",
      "7.788187155372276e-308\n",
      "[[ 7.53754302e-312]\n",
      " [ 9.34608432e-307]\n",
      " [-9.22841825e-191]]\n",
      "(4, 5)\n",
      "(5,)\n",
      "(5,)\n",
      "(5,)\n",
      "(5,)\n",
      "(4, 5)\n",
      "(5,)\n",
      "(5,)\n",
      "(5,)\n",
      "(5,)\n",
      "(4, 5)\n",
      "(5,)\n",
      "(5,)\n",
      "(5,)\n",
      "(5,)\n"
     ]
    }
   ],
   "source": [
    "# 访问数组\n",
    "tmp = np.empty((3,4,5))\n",
    "print(tmp.dtype)\n",
    "# 索引\n",
    "print(tmp[1][2][3])\n",
    "# 切片\n",
    "print(tmp[..., 0, :1])\n",
    "# 迭代\n",
    "for row in tmp:\n",
    "    print(row.shape)\n",
    "    for col in row:\n",
    "        print(col.shape)"
   ]
  },
  {
   "cell_type": "code",
   "execution_count": 8,
   "id": "d663b4f9",
   "metadata": {},
   "outputs": [
    {
     "name": "stdout",
     "output_type": "stream",
     "text": [
      "[[[ 5.  10.  12.   6. ]\n",
      "  [ 5.1  8.2 11.   6.3]\n",
      "  [ 4.4  9.1 10.   6.6]]\n",
      "\n",
      " [[ 6.  11.  13.   7. ]\n",
      "  [ 6.1  9.2 12.   7.3]\n",
      "  [ 5.4 10.1 11.   7.6]]]\n"
     ]
    }
   ],
   "source": [
    "# 同样支持广播操作\n",
    "tmp = np.empty((2, 3, 4))\n",
    "tmp1 = np.empty((3, 4))\n",
    "\n",
    "print(tmp + tmp1)"
   ]
  },
  {
   "cell_type": "code",
   "execution_count": 9,
   "id": "b1bf6d0d",
   "metadata": {},
   "outputs": [
    {
     "name": "stdout",
     "output_type": "stream",
     "text": [
      "8.308333333333332\n",
      "[[ 4.83333333  9.1        11.          6.3       ]\n",
      " [ 5.83333333 10.1        12.          7.3       ]]\n",
      "199.39999999999998\n",
      "[[33.  30.6 30.1]\n",
      " [37.  34.6 34.1]]\n",
      "4.4\n",
      "[[ 5.  10.  12.   6. ]\n",
      " [ 5.1  8.2 11.   6.3]\n",
      " [ 4.4  9.1 10.   6.6]]\n",
      "13.0\n",
      "[[ 5.1 10.  12.   6.6]\n",
      " [ 6.1 11.  13.   7.6]]\n"
     ]
    }
   ],
   "source": [
    "# 统计函数\n",
    "# 数组所有元素是一元操作，通过指定的axis参数可以将擦欧总应用于数组的某一具体axis\n",
    "print(tmp.mean())\n",
    "print(tmp.mean(axis=1))\n",
    "print(tmp.sum())\n",
    "print(tmp.sum(axis=2))\n",
    "print(tmp.min())\n",
    "print(tmp.min(axis=0))\n",
    "print(tmp.max())\n",
    "print(tmp.max(axis=1))"
   ]
  },
  {
   "cell_type": "code",
   "execution_count": 10,
   "id": "da0330a1",
   "metadata": {},
   "outputs": [
    {
     "name": "stdout",
     "output_type": "stream",
     "text": [
      "[[[-0.95892427 -0.54402111 -0.53657292 -0.2794155 ]\n",
      "  [-0.92581468  0.94073056 -0.99999021  0.0168139 ]\n",
      "  [-0.95160207  0.31909836 -0.54402111  0.31154136]]\n",
      "\n",
      " [[-0.2794155  -0.99999021  0.42016704  0.6569866 ]\n",
      "  [-0.1821625   0.22288991 -0.53657292  0.85043662]\n",
      "  [-0.77276449 -0.62507065 -0.99999021  0.96791967]]]\n"
     ]
    }
   ],
   "source": [
    "# 全局函数\n",
    "# 全局函数操作数组中每个元素，输出一个数组\n",
    "print(np.sin(tmp))"
   ]
  },
  {
   "cell_type": "code",
   "execution_count": 11,
   "id": "1be16893",
   "metadata": {},
   "outputs": [
    {
     "name": "stdout",
     "output_type": "stream",
     "text": [
      "[[[ 5.  10.  12.   6. ]\n",
      "  [ 5.1  8.2 11.   6.3]\n",
      "  [ 4.4  9.1 10.   6.6]]\n",
      "\n",
      " [[ 6.  11.  13.   7. ]\n",
      "  [ 6.1  9.2 12.   7.3]\n",
      "  [ 5.4 10.1 11.   7.6]]]\n",
      "[[[100.   10. ]\n",
      "  [ 12.    6. ]\n",
      "  [  5.1   8.2]\n",
      "  [ 11.    6.3]]\n",
      "\n",
      " [[  4.4   9.1]\n",
      "  [ 10.    6.6]\n",
      "  [  6.   11. ]\n",
      "  [ 13.    7. ]]\n",
      "\n",
      " [[  6.1   9.2]\n",
      "  [ 12.    7.3]\n",
      "  [  5.4  10.1]\n",
      "  [ 11.    7.6]]]\n",
      "[[[100.   10.   12.    6. ]\n",
      "  [  5.1   8.2  11.    6.3]\n",
      "  [  4.4   9.1  10.    6.6]]\n",
      "\n",
      " [[  6.   11.   13.    7. ]\n",
      "  [  6.1   9.2  12.    7.3]\n",
      "  [  5.4  10.1  11.    7.6]]]\n",
      "True\n"
     ]
    }
   ],
   "source": [
    "# 操作形状\n",
    "a = tmp.reshape((-1, 4, 2))\n",
    "print(tmp)\n",
    "a[0][0][0] = 100  # 会影响tmp\n",
    "print(a)\n",
    "print(tmp)\n",
    "print(a.base is tmp)"
   ]
  },
  {
   "cell_type": "code",
   "execution_count": 12,
   "id": "e3593546",
   "metadata": {},
   "outputs": [
    {
     "name": "stdout",
     "output_type": "stream",
     "text": [
      "[[[100.   10. ]\n",
      "  [ 12.    6. ]\n",
      "  [  5.1   8.2]\n",
      "  [ 11.    6.3]]\n",
      "\n",
      " [[  4.4   9.1]\n",
      "  [ 10.    6.6]\n",
      "  [  6.   11. ]\n",
      "  [ 13.    7. ]]\n",
      "\n",
      " [[  6.1   9.2]\n",
      "  [ 12.    7.3]\n",
      "  [  5.4  10.1]\n",
      "  [ 11.    7.6]]]\n"
     ]
    }
   ],
   "source": [
    "tmp.resize((3, 4, 2))\n",
    "print(tmp)"
   ]
  },
  {
   "cell_type": "code",
   "execution_count": 13,
   "id": "e2488a6c",
   "metadata": {},
   "outputs": [
    {
     "name": "stdout",
     "output_type": "stream",
     "text": [
      "[[3. 2.]\n",
      " [3. 2.]\n",
      " [5. 6.]\n",
      " [0. 8.]]\n",
      "[[3. 2. 5. 6.]\n",
      " [3. 2. 0. 8.]]\n"
     ]
    }
   ],
   "source": [
    "# 拼接数组\n",
    "# vstack()：垂直拼接\n",
    "# hstack()：水平拼接 数组可以通过不同的 axes 组合起来。\n",
    "a = np.floor(10 * np.random.random((2,2)))\n",
    "b = np.floor(10 * np.random.random((2,2)))\n",
    "print(np.vstack((a, b)))\n",
    "print(np.hstack((a, b)))"
   ]
  },
  {
   "cell_type": "code",
   "execution_count": 14,
   "id": "a92f3b24",
   "metadata": {},
   "outputs": [
    {
     "name": "stdout",
     "output_type": "stream",
     "text": [
      "[array([[9., 7., 3., 4.],\n",
      "       [4., 7., 7., 0.]]), array([[5., 0., 6., 6.],\n",
      "       [9., 7., 6., 5.]]), array([[3., 9., 1., 8.],\n",
      "       [2., 4., 1., 6.]])]\n"
     ]
    }
   ],
   "source": [
    "# 拆分数组\n",
    "# vsplit()：垂直拆分\n",
    "# hsplit()：水平拆分\n",
    "a = np.floor(10 * np.random.random((2, 12)))\n",
    "print(np.hsplit(a, 3))"
   ]
  },
  {
   "cell_type": "code",
   "execution_count": 15,
   "id": "c61da5c7",
   "metadata": {},
   "outputs": [
    {
     "name": "stdout",
     "output_type": "stream",
     "text": [
      "False\n",
      "True\n",
      "False\n"
     ]
    }
   ],
   "source": [
    "# 拷贝和视图\n",
    "# 不拷贝：简单的赋值不会拷贝任何数组对象和他们的数据\n",
    "# python将可变对象作为引用传递，函数调用不产生拷贝\n",
    "# 视图和浅拷贝：不同的数组对象可以分享相同的数据\n",
    "# view 方法创建了一个相同数据的新数组对象\n",
    "# 切片等操作返回一个view\n",
    "b = a.view()\n",
    "print(b is a)\n",
    "print(b.base is a)\n",
    "print(b.flags.owndata)\n"
   ]
  },
  {
   "cell_type": "code",
   "execution_count": 16,
   "id": "9867e962",
   "metadata": {},
   "outputs": [
    {
     "name": "stdout",
     "output_type": "stream",
     "text": [
      "False\n",
      "False\n",
      "True\n"
     ]
    }
   ],
   "source": [
    "# 深拷贝：\n",
    "# copy：进行深拷贝\n",
    "c = a.copy()\n",
    "print(c is a)\n",
    "print(c.base is a)\n",
    "print(c.flags.owndata)"
   ]
  },
  {
   "cell_type": "code",
   "execution_count": 17,
   "id": "b9de71b7",
   "metadata": {},
   "outputs": [
    {
     "name": "stdout",
     "output_type": "stream",
     "text": [
      "(256, 256, 3)\n",
      "(8, 7, 6, 5)\n",
      "(5, 4)\n",
      "(15, 3, 5)\n"
     ]
    }
   ],
   "source": [
    "# 广播操作\n",
    "img = np.empty((256, 256, 3))\n",
    "scale = np.empty((3))\n",
    "print((img + scale).shape)\n",
    "\n",
    "img = np.empty((8, 1, 6, 1))\n",
    "scale = np.empty((7, 1, 5))\n",
    "print((img + scale).shape)\n",
    "\n",
    "img = np.empty((5, 4))\n",
    "scale = np.empty((1))\n",
    "print((img + scale).shape)\n",
    "\n",
    "img = np.empty((15, 3, 5))\n",
    "scale = np.empty((15, 1, 1))\n",
    "print((img + scale).shape)"
   ]
  },
  {
   "cell_type": "code",
   "execution_count": 18,
   "id": "e665f465",
   "metadata": {
    "scrolled": true
   },
   "outputs": [
    {
     "name": "stdout",
     "output_type": "stream",
     "text": [
      "[ 1  4  9  1 64 25]\n",
      "[[ 9 16]\n",
      " [81 49]]\n",
      "[[ 2  5]\n",
      " [ 7 11]]\n"
     ]
    }
   ],
   "source": [
    "# 高级索引\n",
    "a = np.arange(12)**2\n",
    "i = np.array([1, 2, 3, 1, 8, 5])\n",
    "print(a[i])\n",
    "j = np.array([[3, 4], [9, 7]])\n",
    "print(a[j])\n",
    "\n",
    "a = np.arange(12).reshape(3,4)\n",
    "i = np.array([[0, 1], [1, 2]])\n",
    "j = np.array([[2, 1], [3, 3]])\n",
    "print(a[i, j])"
   ]
  },
  {
   "cell_type": "code",
   "execution_count": 19,
   "id": "d739a8a9",
   "metadata": {},
   "outputs": [
    {
     "name": "stdout",
     "output_type": "stream",
     "text": [
      "[[False False False False]\n",
      " [False  True  True  True]\n",
      " [ True  True  True  True]]\n",
      "[ 5  6  7  8  9 10 11]\n"
     ]
    }
   ],
   "source": [
    "a = np.arange(12).reshape(3,4)\n",
    "i = a > 4\n",
    "print(i)\n",
    "print(a[i])"
   ]
  }
 ],
 "metadata": {
  "kernelspec": {
   "display_name": "wz_py_3_8",
   "language": "python",
   "name": "python3"
  },
  "language_info": {
   "codemirror_mode": {
    "name": "ipython",
    "version": 3
   },
   "file_extension": ".py",
   "mimetype": "text/x-python",
   "name": "python",
   "nbconvert_exporter": "python",
   "pygments_lexer": "ipython3",
   "version": "3.8.16"
  }
 },
 "nbformat": 4,
 "nbformat_minor": 5
}
