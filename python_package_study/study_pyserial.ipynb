{
 "cells": [
  {
   "cell_type": "code",
   "execution_count": 1,
   "id": "9d38c676",
   "metadata": {},
   "outputs": [],
   "source": [
    "# 串口的使用:\n",
    "# 确定串口号\n",
    "# 配置波特率、数据位、奇偶校验位、停止位等\n",
    "# 打开串口\n",
    "# 收发数据\n",
    "# 关闭串口\n",
    "import serial\n",
    "import serial.tools.list_ports  # 必须导入，它不是 serial 模块的直接子模块"
   ]
  },
  {
   "cell_type": "code",
   "execution_count": 2,
   "id": "0b102406",
   "metadata": {},
   "outputs": [
    {
     "name": "stdout",
     "output_type": "stream",
     "text": [
      "可用的串口设备如下：\n",
      "COM3 Silicon Labs CP210x USB to UART Bridge (COM3)\n"
     ]
    }
   ],
   "source": [
    "def get_serial_port_list():\n",
    "    \"\"\"获取所有串口设备信息\"\"\"\n",
    "    ports_list = list(serial.tools.list_ports.comports())\n",
    "    if len(ports_list) > 0:\n",
    "        print(\"可用的串口设备如下：\")\n",
    "        for com_port in ports_list:\n",
    "            print(list(com_port)[0], list(com_port)[1])\n",
    "\n",
    "get_serial_port_list()"
   ]
  },
  {
   "cell_type": "code",
   "execution_count": 3,
   "id": "0653ca75",
   "metadata": {},
   "outputs": [],
   "source": [
    "def open_serial_port(com_port: str):\n",
    "    \"\"\"调用函数接口打开串口并配置参数\"\"\"\n",
    "    uart = serial.Serial(  # 构建成功后,自动打开\n",
    "        port=com_port,  # 端口\n",
    "        baudrate=9600,  # 波特率\n",
    "        bytesize=serial.EIGHTBITS,  # 数据位\n",
    "        parity=serial.PARITY_NONE,  # 校验位\n",
    "        stopbits=serial.STOPBITS_ONE,  # 停止位\n",
    "        timeout=1,  # 读超时时间，支持小数\n",
    "        write_timeout=None,  # 写超时时间\n",
    "    )\n",
    "    return uart\n",
    "uart = open_serial_port(\"COM3\")"
   ]
  },
  {
   "cell_type": "code",
   "execution_count": 4,
   "id": "8e98ce24",
   "metadata": {},
   "outputs": [
    {
     "name": "stdout",
     "output_type": "stream",
     "text": [
      "串口未关闭。\n"
     ]
    }
   ],
   "source": [
    "def close_serial_port(uart):\n",
    "    \"\"\"关闭串口\"\"\"\n",
    "    uart.close()\n",
    "    if not uart.isOpen():\n",
    "        print(\"串口成功关闭\")\n",
    "    \n",
    "if uart.isOpen():             \n",
    "    print(\"串口未关闭。\")\n",
    "else:\n",
    "    print(\"串口已关闭。\")"
   ]
  },
  {
   "cell_type": "code",
   "execution_count": 5,
   "id": "3c49bd39",
   "metadata": {},
   "outputs": [
    {
     "name": "stdout",
     "output_type": "stream",
     "text": [
      "串口发出1个字节 b'\\xab'\n"
     ]
    }
   ],
   "source": [
    "def send_data(uart, data: str):\n",
    "    \"\"\"发送数据，只能发送字节bytes数据\"\"\"\n",
    "    data = bytes.fromhex(data)\n",
    "    ret = uart.write(data)\n",
    "    print(f\"串口发出{ret}个字节\", data)\n",
    "send_data(uart, \"AB\")"
   ]
  },
  {
   "cell_type": "code",
   "execution_count": 6,
   "id": "69c23f80",
   "metadata": {},
   "outputs": [
    {
     "name": "stdout",
     "output_type": "stream",
     "text": [
      "b'\\xab'\n"
     ]
    }
   ],
   "source": [
    "def read_data(uart):\n",
    "    data = uart.read(10)\n",
    "    if data:\n",
    "        print(data)\n",
    "        \n",
    "read_data(uart)"
   ]
  },
  {
   "cell_type": "code",
   "execution_count": 7,
   "id": "f9672a78",
   "metadata": {},
   "outputs": [
    {
     "name": "stdout",
     "output_type": "stream",
     "text": [
      "串口成功关闭\n"
     ]
    }
   ],
   "source": [
    "close_serial_port(uart)"
   ]
  }
 ],
 "metadata": {
  "kernelspec": {
   "display_name": "wz_py_3_8",
   "language": "python",
   "name": "wz_py_3_8"
  },
  "language_info": {
   "codemirror_mode": {
    "name": "ipython",
    "version": 3
   },
   "file_extension": ".py",
   "mimetype": "text/x-python",
   "name": "python",
   "nbconvert_exporter": "python",
   "pygments_lexer": "ipython3",
   "version": "3.8.16"
  }
 },
 "nbformat": 4,
 "nbformat_minor": 5
}
