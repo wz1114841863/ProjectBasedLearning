{
 "cells": [
  {
   "cell_type": "code",
   "execution_count": 1,
   "id": "be1a51ea",
   "metadata": {},
   "outputs": [],
   "source": [
    "from transformers import pipeline"
   ]
  },
  {
   "cell_type": "code",
   "execution_count": 6,
   "id": "90e9d9bd",
   "metadata": {},
   "outputs": [
    {
     "name": "stdout",
     "output_type": "stream",
     "text": [
      "env: HTTP_PROXY=http://127.0.0.1:10809\n",
      "env: HTTPS_PROXY=http://127.0.0.1:10809\n"
     ]
    }
   ],
   "source": [
    "%env HTTP_PROXY=http://127.0.0.1:10809\n",
    "%env HTTPS_PROXY=http://127.0.0.1:10809"
   ]
  },
  {
   "cell_type": "code",
   "execution_count": 7,
   "id": "e278df5e",
   "metadata": {},
   "outputs": [
    {
     "name": "stdout",
     "output_type": "stream",
     "text": [
      "<!doctype html>\n",
      "<html class=\"\">\n",
      "\t<head>\n",
      "\t\t<meta charset=\"utf-8\" />\n",
      "\t\t<meta name=\"viewport\" content=\"width=device-width, initial-scale=1.0, user-scalable=no\" />\n",
      "\t\t<meta name=\"description\" content=\"We’re on a journey to advance and democratize artificial intelligence through open source and open science.\" />\n",
      "\t\t<meta property=\"fb:app_id\" content=\"1321688464574422\" />\n",
      "\t\t<meta name=\"twitter:card\" content=\"summary_large_image\" />\n",
      "\t\t<meta name=\"twitter:site\" content=\"@huggingface\" />\n",
      "\t\t<meta name=\"twitter:image\" content=\"https://huggingface.co/front/thumbnails/v2-2.png\" />\n",
      "\t\t<meta property=\"og:title\" content=\"Hugging Face – The AI community building the future.\" />\n",
      "\t\t<meta property=\"og:type\" content=\"website\" />\n",
      "\t\t<meta property=\"og:url\" content=\"https://huggingface.co/\" />\n",
      "\t\t<meta property=\"og:image\" content=\"https://huggingface.co/front/thumbnails/v2-2.png\" />\n",
      "\n",
      "\t\t<link rel=\"stylesheet\" href=\"/front/build/kube-47f8e3c/style.css\" />\n",
      "\n",
      "\t\t<link rel=\"preconnect\" href=\"https://fonts.gstatic.com\" />\n",
      "\t\t<link\n",
      "\t\t\thref=\"https://fonts.googleapis.com/css2?family=Source+Sans+Pro:ital,wght@0,200;0,300;0,400;0,600;0,700;0,900;1,200;1,300;1,400;1,600;1,700;1,900&display=swap\"\n",
      "\t\t\trel=\"stylesheet\"\n",
      "\t\t/>\n",
      "\t\t<link\n",
      "\t\t\thref=\"https://fonts.googleapis.com/css2?family=IBM+Plex+Mono:wght@400;600;700&display=swap\"\n",
      "\t\t\trel=\"stylesheet\"\n",
      "\t\t/>\n",
      "\n",
      "\t\t<link\n",
      "\t\t\trel=\"preload\"\n",
      "\t\t\thref=\"https://cdnjs.cloudflare.com/ajax/libs/KaTeX/0.12.0/katex.min.css\"\n",
      "\t\t\tas=\"style\"\n",
      "\t\t\tonload=\"this.onload=null;this.rel='stylesheet'\"\n",
      "\t\t/>\n",
      "\t\t<noscript>\n",
      "\t\t\t<link rel=\"stylesheet\" href=\"https://cdnjs.cloudflare.com/ajax/libs/KaTeX/0.12.0/katex.min.css\" />\n",
      "\t\t</noscript>\n",
      "\n",
      "\t\t<link rel=\"canonical\" href=\"https://huggingface.co/\">  <!-- HEAD_svelte-vwinwk_START --><link rel=\"alternate\" type=\"application/rss+xml\" href=\"/blog/feed.xml\" title=\"Hugging Face Blog\"><!-- HEAD_svelte-vwinwk_END -->\n",
      "\n",
      "\t\t<title>Hugging Face – The AI community building the future.</title>\n",
      "\n",
      "\t\t<script\n",
      "\t\t\tdefer\n",
      "\t\t\tdata-domain=\"huggingface.co\"\n",
      "\t\t\tevent-loggedIn=\"false\"\n",
      "\t\t\tsrc=\"/js/script.pageview-props.js\"\n",
      "\t\t></script>\n",
      "\t\t<script>\n",
      "\t\t\twindow.plausible =\n",
      "\t\t\t\twindow.plausible ||\n",
      "\t\t\t\tfunction () {\n",
      "\t\t\t\t\t(window.plausible.q = window.plausible.q || []).push(arguments);\n",
      "\t\t\t\t};\n",
      "\t\t</script>\n",
      "\t\t<script>\n",
      "\t\t\twindow.hubConfig = JSON.parse(`{\"features\":{\"signupDisabled\":false},\"sshGitUrl\":\"git@hf.co\",\"moonHttpUrl\":\"https://huggingface.co\",\"captchaApiKey\":\"bd5f2066-93dc-4bdd-a64b-a24646ca3859\",\"captchaDisabledOnSignup\":true,\"datasetViewerPublicUrl\":\"https://datasets-server.huggingface.co\",\"stripePublicKey\":\"pk_live_x2tdjFXBCvXo2FFmMybezpeM00J6gPCAAc\",\"environment\":\"production\",\"userAgent\":\"HuggingFace (production)\",\"spacesIframeDomain\":\"hf.space\",\"spacesApiUrl\":\"https://api.hf.space\",\"docSearchKey\":\"ece5e02e57300e17d152c08056145326e90c4bff3dd07d7d1ae40cf1c8d39cb6\",\"logoDev\":{\"apiUrl\":\"https://img.logo.dev/\",\"apiKey\":\"pk_UHS2HZOeRnaSOdDp7jbd5w\"}}`);\n",
      "\t\t</script>\n",
      "\t\t<script type=\"text/javascript\" src=\"https://de5282c3ca0c.edge.sdk.awswaf.com/de5282c3ca0c/526cf06acb0d/challenge.js\" defer></script>\n",
      "\t</head>\n",
      "\t<body class=\"flex flex-col min-h-dvh bg-white dark:bg-gray-950 text-black HomePage\">\n",
      "\t\t\n",
      "\n",
      "<div class=\"flex min-h-dvh flex-col\">\n",
      "\t<div class=\"SVELTE_HYDRATER contents\" data-target=\"MainHeader\" data-props=\"{&quot;classNames&quot;:&quot;!border-transparent&quot;,&quot;isWide&quot;:false,&quot;isZh&quot;:false}\"><header class=\"border-b border-gray-100 !border-transparent\"><div class=\"w-full px-4 container flex h-16 items-center\"><div class=\"flex flex-1 items-center\"><a class=\"mr-5 flex flex-none items-center lg:mr-6\" href=\"/\"><img alt=\"Hugging Face's logo\" class=\"w-7 md:mr-2\" src=\"/front/assets/huggingface_logo-noborder.svg\">\n",
      "\t\t\t\t<span class=\"hidden whitespace-nowrap text-lg font-bold md:block\">Hugging Face</span></a>\n",
      "\t\t\t<div class=\"relative flex-1 lg:max-w-sm mr-2 sm:mr-4 md:mr-3 xl:mr-6\"><input autocomplete=\"off\" class=\"w-full dark:bg-gray-950 pl-8 form-input-alt h-9 pr-3 focus:shadow-xl \" name=\"\" placeholder=\"Search models, datasets, users...\"   spellcheck=\"false\" type=\"text\" value=\"\">\n",
      "\t<svg class=\"absolute left-2.5 text-gray-400 top-1/2 transform -translate-y-1/2\" xmlns=\"http://www.w3.org/2000/svg\" xmlns:xlink=\"http://www.w3.org/1999/xlink\" aria-hidden=\"true\" focusable=\"false\" role=\"img\" width=\"1em\" height=\"1em\" preserveAspectRatio=\"xMidYMid meet\" viewBox=\"0 0 32 32\"><path d=\"M30 28.59L22.45 21A11 11 0 1 0 21 22.45L28.59 30zM5 14a9 9 0 1 1 9 9a9 9 0 0 1-9-9z\" fill=\"currentColor\"></path></svg>\n",
      "\t</div>\n",
      "\t\t\t<div class=\"flex flex-none items-center justify-center p-0.5 place-self-stretch lg:hidden\"><button class=\"relative z-40 flex h-6 w-8 items-center justify-center\" type=\"button\"><svg width=\"1em\" height=\"1em\" viewBox=\"0 0 10 10\" class=\"text-xl\" xmlns=\"http://www.w3.org/2000/svg\" xmlns:xlink=\"http://www.w3.org/1999/xlink\" aria-hidden=\"true\" focusable=\"false\" role=\"img\" preserveAspectRatio=\"xMidYMid meet\" fill=\"currentColor\"><path fill-rule=\"evenodd\" clip-rule=\"evenodd\" d=\"M1.65039 2.9999C1.65039 2.8066 1.80709 2.6499 2.00039 2.6499H8.00039C8.19369 2.6499 8.35039 2.8066 8.35039 2.9999C8.35039 3.1932 8.19369 3.3499 8.00039 3.3499H2.00039C1.80709 3.3499 1.65039 3.1932 1.65039 2.9999ZM1.65039 4.9999C1.65039 4.8066 1.80709 4.6499 2.00039 4.6499H8.00039C8.19369 4.6499 8.35039 4.8066 8.35039 4.9999C8.35039 5.1932 8.19369 5.3499 8.00039 5.3499H2.00039C1.80709 5.3499 1.65039 5.1932 1.65039 4.9999ZM2.00039 6.6499C1.80709 6.6499 1.65039 6.8066 1.65039 6.9999C1.65039 7.1932 1.80709 7.3499 2.00039 7.3499H8.00039C8.19369 7.3499 8.35039 7.1932 8.35039 6.9999C8.35039 6.8066 8.19369 6.6499 8.00039 6.6499H2.00039Z\"></path></svg>\n",
      "\t\t</button>\n",
      "\n",
      "\t</div></div>\n",
      "\t\t<nav aria-label=\"Main\" class=\"ml-auto hidden lg:block\"><ul class=\"flex items-center space-x-1.5 xl:space-x-2\"><li><a class=\"group flex items-center px-2 py-0.5 dark:hover:text-gray-400 hover:text-indigo-700\" href=\"/models\"><svg class=\"mr-1.5 text-gray-400 group-hover:text-indigo-500\" style=\"\" xmlns=\"http://www.w3.org/2000/svg\" xmlns:xlink=\"http://www.w3.org/1999/xlink\" aria-hidden=\"true\" focusable=\"false\" role=\"img\" width=\"1em\" height=\"1em\" preserveAspectRatio=\"xMidYMid meet\" viewBox=\"0 0 24 24\"><path class=\"uim-quaternary\" d=\"M20.23 7.24L12 12L3.77 7.24a1.98 1.98 0 0 1 .7-.71L11 2.76c.62-.35 1.38-.35 2 0l6.53 3.77c.29.173.531.418.7.71z\" opacity=\".25\" fill=\"currentColor\"></path><path class=\"uim-tertiary\" d=\"M12 12v9.5a2.09 2.09 0 0 1-.91-.21L4.5 17.48a2.003 2.003 0 0 1-1-1.73v-7.5a2.06 2.06 0 0 1 .27-1.01L12 12z\" opacity=\".5\" fill=\"currentColor\"></path><path class=\"uim-primary\" d=\"M20.5 8.25v7.5a2.003 2.003 0 0 1-1 1.73l-6.62 3.82c-.275.13-.576.198-.88.2V12l8.23-4.76c.175.308.268.656.27 1.01z\" fill=\"currentColor\"></path></svg>\n",
      "\t\t\t\t\tModels</a>\n",
      "\t\t\t</li><li><a class=\"group flex items-center px-2 py-0.5 dark:hover:text-gray-400 hover:text-red-700\" href=\"/datasets\"><svg class=\"mr-1.5 text-gray-400 group-hover:text-red-500\" style=\"\" xmlns=\"http://www.w3.org/2000/svg\" xmlns:xlink=\"http://www.w3.org/1999/xlink\" aria-hidden=\"true\" focusable=\"false\" role=\"img\" width=\"1em\" height=\"1em\" preserveAspectRatio=\"xMidYMid meet\" viewBox=\"0 0 25 25\"><ellipse cx=\"12.5\" cy=\"5\" fill=\"currentColor\" fill-opacity=\"0.25\" rx=\"7.5\" ry=\"2\"></ellipse><path d=\"M12.5 15C16.6421 15 20 14.1046 20 13V20C20 21.1046 16.6421 22 12.5 22C8.35786 22 5 21.1046 5 20V13C5 14.1046 8.35786 15 12.5 15Z\" fill=\"currentColor\" opacity=\"0.5\"></path><path d=\"M12.5 7C16.6421 7 20 6.10457 20 5V11.5C20 12.6046 16.6421 13.5 12.5 13.5C8.35786 13.5 5 12.6046 5 11.5V5C5 6.10457 8.35786 7 12.5 7Z\" fill=\"currentColor\" opacity=\"0.5\"></path><path d=\"M5.23628 12C5.08204 12.1598 5 12.8273 5 13C5 14.1046 8.35786 15 12.5 15C16.6421 15 20 14.1046 20 13C20 12.8273 19.918 12.1598 19.7637 12C18.9311 12.8626 15.9947 13.5 12.5 13.5C9.0053 13.5 6.06886 12.8626 5.23628 12Z\" fill=\"currentColor\"></path></svg>\n",
      "\t\t\t\t\tDatasets</a>\n",
      "\t\t\t</li><li><a class=\"group flex items-center px-2 py-0.5 dark:hover:text-gray-400 hover:text-blue-700\" href=\"/spaces\"><svg class=\"mr-1.5 text-gray-400 group-hover:text-blue-500\" xmlns=\"http://www.w3.org/2000/svg\" xmlns:xlink=\"http://www.w3.org/1999/xlink\" aria-hidden=\"true\" focusable=\"false\" role=\"img\" width=\"1em\" height=\"1em\" viewBox=\"0 0 25 25\"><path opacity=\".5\" d=\"M6.016 14.674v4.31h4.31v-4.31h-4.31ZM14.674 14.674v4.31h4.31v-4.31h-4.31ZM6.016 6.016v4.31h4.31v-4.31h-4.31Z\" fill=\"currentColor\"></path><path opacity=\".75\" fill-rule=\"evenodd\" clip-rule=\"evenodd\" d=\"M3 4.914C3 3.857 3.857 3 4.914 3h6.514c.884 0 1.628.6 1.848 1.414a5.171 5.171 0 0 1 7.31 7.31c.815.22 1.414.964 1.414 1.848v6.514A1.914 1.914 0 0 1 20.086 22H4.914A1.914 1.914 0 0 1 3 20.086V4.914Zm3.016 1.102v4.31h4.31v-4.31h-4.31Zm0 12.968v-4.31h4.31v4.31h-4.31Zm8.658 0v-4.31h4.31v4.31h-4.31Zm0-10.813a2.155 2.155 0 1 1 4.31 0 2.155 2.155 0 0 1-4.31 0Z\" fill=\"currentColor\"></path><path opacity=\".25\" d=\"M16.829 6.016a2.155 2.155 0 1 0 0 4.31 2.155 2.155 0 0 0 0-4.31Z\" fill=\"currentColor\"></path></svg>\n",
      "\t\t\t\t\tSpaces</a>\n",
      "\t\t\t</li><li><a class=\"group flex items-center px-2 py-0.5 dark:hover:text-gray-400 hover:text-yellow-700\" href=\"/posts\"><svg class=\"mr-1.5 text-gray-400 group-hover:text-yellow-500 !text-yellow-500\" xmlns=\"http://www.w3.org/2000/svg\" xmlns:xlink=\"http://www.w3.org/1999/xlink\" aria-hidden=\"true\" focusable=\"false\" role=\"img\" width=\"1em\" height=\"1em\" viewBox=\"0 0 12 12\" preserveAspectRatio=\"xMidYMid meet\"><path fill=\"currentColor\" fill-rule=\"evenodd\" d=\"M3.73 2.4A4.25 4.25 0 1 1 6 10.26H2.17l-.13-.02a.43.43 0 0 1-.3-.43l.01-.06a.43.43 0 0 1 .12-.22l.84-.84A4.26 4.26 0 0 1 3.73 2.4Z\" clip-rule=\"evenodd\"></path></svg>\n",
      "\t\t\t\t\tPosts</a>\n",
      "\t\t\t</li><li><a class=\"group flex items-center px-2 py-0.5 dark:hover:text-gray-400 hover:text-yellow-700\" href=\"/docs\"><svg xmlns=\"http://www.w3.org/2000/svg\" xmlns:xlink=\"http://www.w3.org/1999/xlink\" aria-hidden=\"true\" role=\"img\" class=\"mr-1.5 text-gray-400 group-hover:text-yellow-500\" width=\"1em\" height=\"1em\" preserveAspectRatio=\"xMidYMid meet\" viewBox=\"0 0 32 32\"><path opacity=\"0.5\" d=\"M20.9022 5.10334L10.8012 10.8791L7.76318 9.11193C8.07741 8.56791 8.5256 8.11332 9.06512 7.7914L15.9336 3.73907C17.0868 3.08811 18.5002 3.26422 19.6534 3.91519L19.3859 3.73911C19.9253 4.06087 20.5879 4.56025 20.9022 5.10334Z\" fill=\"currentColor\"></path><path d=\"M10.7999 10.8792V28.5483C10.2136 28.5475 9.63494 28.4139 9.10745 28.1578C8.5429 27.8312 8.074 27.3621 7.74761 26.7975C7.42122 26.2327 7.24878 25.5923 7.24756 24.9402V10.9908C7.25062 10.3319 7.42358 9.68487 7.74973 9.1123L10.7999 10.8792Z\" fill=\"currentColor\" fill-opacity=\"0.75\"></path><path fill-rule=\"evenodd\" clip-rule=\"evenodd\" d=\"M21.3368 10.8499V6.918C21.3331 6.25959 21.16 5.61234 20.8346 5.03949L10.7971 10.8727L10.8046 10.874L21.3368 10.8499Z\" fill=\"currentColor\"></path><path opacity=\"0.5\" d=\"M21.7937 10.8488L10.7825 10.8741V28.5486L21.7937 28.5234C23.3344 28.5234 24.5835 27.2743 24.5835 25.7335V13.6387C24.5835 12.0979 23.4365 11.1233 21.7937 10.8488Z\" fill=\"currentColor\"></path></svg>\n",
      "\t\t\t\t\tDocs</a>\n",
      "\t\t\t</li>\n",
      "\t\t<li class=\"max-2xl:hidden\"><div class=\"relative \">\n",
      "\t<button class=\"px-2 py-0.5 group hover:text-green-700 dark:hover:text-gray-400 flex items-center \" type=\"button\">\n",
      "\t\t<svg class=\"mr-1.5 text-gray-400 group-hover:text-green-500\" xmlns=\"http://www.w3.org/2000/svg\" xmlns:xlink=\"http://www.w3.org/1999/xlink\" aria-hidden=\"true\" focusable=\"false\" role=\"img\" width=\"1em\" height=\"1em\" preserveAspectRatio=\"xMidYMid meet\" viewBox=\"0 0 24 24\"><path class=\"uim-tertiary\" d=\"M19 6H5a3 3 0 0 0-3 3v2.72L8.837 14h6.326L22 11.72V9a3 3 0 0 0-3-3z\" opacity=\".5\" fill=\"currentColor\"></path><path class=\"uim-primary\" d=\"M10 6V5h4v1h2V5a2.002 2.002 0 0 0-2-2h-4a2.002 2.002 0 0 0-2 2v1h2zm-1.163 8L2 11.72V18a3.003 3.003 0 0 0 3 3h14a3.003 3.003 0 0 0 3-3v-6.28L15.163 14H8.837z\" fill=\"currentColor\"></path></svg>\n",
      "\t\t\tSolutions\n",
      "\t\t</button>\n",
      "\t\n",
      "\t\n",
      "\t</div></li>\n",
      "\t\t<li><a class=\"group flex items-center px-2 py-0.5 hover:text-gray-500 dark:hover:text-gray-400\" href=\"/pricing\">Pricing\n",
      "\t\t\t</a></li>\n",
      "\n",
      "\t\t<li><div class=\"relative group\">\n",
      "\t<button class=\"px-2 py-0.5 hover:text-gray-500 dark:hover:text-gray-600 flex items-center \" type=\"button\">\n",
      "\t\t<svg class=\" text-gray-500 w-5 group-hover:text-gray-400 dark:text-gray-300 dark:group-hover:text-gray-400\" xmlns=\"http://www.w3.org/2000/svg\" xmlns:xlink=\"http://www.w3.org/1999/xlink\" aria-hidden=\"true\" focusable=\"false\" role=\"img\" width=\"1em\" height=\"1em\" viewBox=\"0 0 32 18\" preserveAspectRatio=\"xMidYMid meet\"><path fill-rule=\"evenodd\" clip-rule=\"evenodd\" d=\"M14.4504 3.30221C14.4504 2.836 14.8284 2.45807 15.2946 2.45807H28.4933C28.9595 2.45807 29.3374 2.836 29.3374 3.30221C29.3374 3.76842 28.9595 4.14635 28.4933 4.14635H15.2946C14.8284 4.14635 14.4504 3.76842 14.4504 3.30221Z\" fill=\"currentColor\"></path><path fill-rule=\"evenodd\" clip-rule=\"evenodd\" d=\"M14.4504 9.00002C14.4504 8.53382 14.8284 8.15588 15.2946 8.15588H28.4933C28.9595 8.15588 29.3374 8.53382 29.3374 9.00002C29.3374 9.46623 28.9595 9.84417 28.4933 9.84417H15.2946C14.8284 9.84417 14.4504 9.46623 14.4504 9.00002Z\" fill=\"currentColor\"></path><path fill-rule=\"evenodd\" clip-rule=\"evenodd\" d=\"M14.4504 14.6978C14.4504 14.2316 14.8284 13.8537 15.2946 13.8537H28.4933C28.9595 13.8537 29.3374 14.2316 29.3374 14.6978C29.3374 15.164 28.9595 15.542 28.4933 15.542H15.2946C14.8284 15.542 14.4504 15.164 14.4504 14.6978Z\" fill=\"currentColor\"></path><path fill-rule=\"evenodd\" clip-rule=\"evenodd\" d=\"M1.94549 6.87377C2.27514 6.54411 2.80962 6.54411 3.13928 6.87377L6.23458 9.96907L9.32988 6.87377C9.65954 6.54411 10.194 6.54411 10.5237 6.87377C10.8533 7.20343 10.8533 7.73791 10.5237 8.06756L6.23458 12.3567L1.94549 8.06756C1.61583 7.73791 1.61583 7.20343 1.94549 6.87377Z\" fill=\"currentColor\"></path></svg>\n",
      "\t\t\t\n",
      "\t\t</button>\n",
      "\t\n",
      "\t\n",
      "\t</div></li>\n",
      "\t\t<li><hr class=\"h-5 w-0.5 border-none bg-gray-100 dark:bg-gray-800\"></li>\n",
      "\t\t<li><a class=\"block cursor-pointer px-2 py-0.5 hover:text-gray-500 dark:hover:text-gray-400\" href=\"/login\">Log In\n",
      "\t\t\t\t</a></li>\n",
      "\t\t\t<li><a class=\"rounded-full border border-transparent bg-gray-900 px-3 py-1 leading-none text-white hover:border-black hover:bg-white hover:text-black\" href=\"/join\">Sign Up\n",
      "\t\t\t\t\t</a></li></ul></nav></div></header></div>\n",
      "\t\n",
      "\t\n",
      "\t\n",
      "\t<div class=\"SVELTE_HYDRATER contents\" data-target=\"SSOBanner\" data-props=\"{}\"></div>\n",
      "\t\n",
      "\n",
      "\t<main class=\"flex flex-1 flex-col\"><div class=\"container pt-2 md:pt-14 2xl:pt-20\"><div class=\"relative flex flex-col justify-center rounded-[25px] bg-gray-950 max-lg:items-center max-lg:overflow-hidden max-lg:pt-20 max-lg:text-center lg:h-[620px] lg:p-16 xl:p-24 2xl:h-[720px]\"><a href=\"/chat\" class=\"group absolute top-4 flex h-7 w-fit items-center whitespace-nowrap rounded-lg bg-gray-500/30 px-2 text-smd leading-none text-white hover:bg-gray-500/40 max-lg:mx-auto md:top-6 lg:left-6\"><div class=\"mr-2 self-center rounded bg-gradient-to-r from-indigo-500 to-purple-500 px-1 text-xs font-semibold text-white/80\">NEW\n",
      "\t\t\t\t</div>\n",
      "\t\t\t\t<div class=\"underline decoration-gray-500 group-hover:decoration-gray-300\">AI Tools are now available in HuggingChat\n",
      "\t\t\t\t</div></a>\n",
      "\t\t\t<img src=\"/front/assets/huggingface_logo-noborder.svg\" class=\"-mt-3 mb-7 w-20\" alt=\"\">\n",
      "\n",
      "\t\t\t<h1 class=\"relative mb-6 max-w-lg text-4xl font-bold text-white lg:mb-10 lg:text-5xl 2xl:max-w-xl 2xl:text-6xl\" style=\"text-wrap:balance;\">The AI community building the future.\n",
      "\t\t\t</h1>\n",
      "\t\t\t<p class=\"max-w-lg text-gray-300/80 max-lg:mb-16 max-lg:px-6 lg:pr-6 lg:text-lg\" style=\"text-wrap: balance;\">The platform where the machine learning community collaborates on models, datasets, and applications.\n",
      "\t\t\t</p>\n",
      "\t\t\t<div class=\"grainy absolute right-2/3 h-[250px] w-[250px] translate-x-1/2 translate-y-16 rounded-full md:h-[600px] md:w-[600px] md:translate-y-2 lg:right-1/2 lg:translate-y-6\"></div>\n",
      "\t\t\t<img src=\"/front/assets/homepage/models-mobile.svg\" alt=\"Hugging Face models\" class=\"pointer-events-none relative mb-0 select-none lg:hidden\">\n",
      "\t\t\t<img src=\"/front/assets/homepage/models-tablet.svg\" alt=\"Hugging Face models\" class=\"pointer-events-none absolute bottom-0 right-0 hidden h-[650px] select-none lg:block xl:hidden 2xl:h-[760px]\">\n",
      "\t\t\t<img src=\"/front/assets/homepage/models.svg\" alt=\"Hugging Face models\" class=\"pointer-events-none absolute bottom-0 right-0 h-[650px] select-none max-xl:hidden 2xl:h-[760px]\">\n",
      "\t\t\t<div class=\"absolute inset-x-0 -bottom-4 z-10 h-5 w-full rounded-[50%] bg-white lg:h-6\"></div></div></div>\n",
      "\n",
      "\t<div class=\"container mx-auto mb-16 pt-12 sm:mb-32 sm:pt-20\"><div class=\"mb-10 flex items-center justify-center gap-2 text-xl font-bold sm:mb-14\"><div class=\"mr-2 h-px flex-1 translate-y-px bg-gradient-to-l from-gray-200 to-white\"></div>\n",
      "\t\t\tTrending on<img src=\"/front/assets/huggingface_logo-noborder.svg\" class=\"w-8\" alt=\"\">this week\n",
      "\t\t\t<div class=\"ml-2 h-px flex-1 translate-y-px bg-gradient-to-r from-gray-200 to-white\"></div></div>\n",
      "\t\t<div class=\"relative grid grid-cols-1 gap-6 lg:grid-cols-3\"><div class=\"absolute h-full w-2/3 bg-gradient-to-br from-indigo-200/30 to-red-100/40 blur-2xl max-lg:translate-x-1/3 lg:h-96 lg:w-full lg:translate-y-24 lg:-rotate-2 lg:rounded-[50%] lg:from-indigo-200/80 lg:via-red-100/60 lg:to-gray-50\"></div>\n",
      "\t\t\t<div class=\"relative col-span-1 flex flex-col items-stretch text-center\"><h2 class=\"mb-5 flex items-center justify-center gap-2 text-lg font-semibold 2xl:mb-6 2xl:text-xl\"><svg class=\"text-gray-500\" style=\"\" xmlns=\"http://www.w3.org/2000/svg\" xmlns:xlink=\"http://www.w3.org/1999/xlink\" aria-hidden=\"true\" focusable=\"false\" role=\"img\" width=\"1em\" height=\"1em\" preserveAspectRatio=\"xMidYMid meet\" viewBox=\"0 0 24 24\"><path class=\"uim-quaternary\" d=\"M20.23 7.24L12 12L3.77 7.24a1.98 1.98 0 0 1 .7-.71L11 2.76c.62-.35 1.38-.35 2 0l6.53 3.77c.29.173.531.418.7.71z\" opacity=\".25\" fill=\"currentColor\"></path><path class=\"uim-tertiary\" d=\"M12 12v9.5a2.09 2.09 0 0 1-.91-.21L4.5 17.48a2.003 2.003 0 0 1-1-1.73v-7.5a2.06 2.06 0 0 1 .27-1.01L12 12z\" opacity=\".5\" fill=\"currentColor\"></path><path class=\"uim-primary\" d=\"M20.5 8.25v7.5a2.003 2.003 0 0 1-1 1.73l-6.62 3.82c-.275.13-.576.198-.88.2V12l8.23-4.76c.175.308.268.656.27 1.01z\" fill=\"currentColor\"></path></svg>\n",
      "\t\t\t\t\tModels\n",
      "\t\t\t\t</h2>\n",
      "\t\t\t\t<div class=\"mb-3 flex flex-col gap-2.5 rounded-xl bg-white/40 p-3 backdrop-blur-lg sm:mb-7\"><article class=\"overview-card-wrapper group/repo white \"><a class=\"flex items-center justify-between gap-4 p-2\" href=\"/stepfun-ai/GOT-OCR2_0\"><div class=\"w-full truncate\"><header class=\"flex items-center mb-0.5\" title=\"stepfun-ai/GOT-OCR2_0\">\n",
      "\t\t\t\t<h4 class=\"text-md truncate font-mono text-black dark:group-hover/repo:text-yellow-500 group-hover/repo:text-indigo-600 text-smd\">stepfun-ai/GOT-OCR2_0</h4>\n",
      "\t\t\t\t</header>\n",
      "\t\t\t<div class=\"mr-1 flex items-center overflow-hidden whitespace-nowrap text-sm leading-tight text-gray-400\">\n",
      "\t\t\t\t<span class=\"truncate\">Updated\n",
      "\t\t\t\t\t<time datetime=\"2024-09-18T02:02:32\" title=\"Wed, 18 Sep 2024 02:02:32 GMT\">10 days ago</time></span>\n",
      "\t\t\t\t\n",
      "\t\t\t\t<span class=\"px-1.5 text-gray-300 dark:text-gray-500\">• </span>\n",
      "\t\t\t\t\t<svg class=\"flex-none w-3 text-gray-400 mr-0.5\" xmlns=\"http://www.w3.org/2000/svg\" xmlns:xlink=\"http://www.w3.org/1999/xlink\" aria-hidden=\"true\" focusable=\"false\" role=\"img\" width=\"1em\" height=\"1em\" viewBox=\"0 0 32 32\"><path fill=\"currentColor\" d=\"M26 24v4H6v-4H4v4a2 2 0 0 0 2 2h20a2 2 0 0 0 2-2v-4zm0-10l-1.41-1.41L17 20.17V2h-2v18.17l-7.59-7.58L6 14l10 10l10-10z\"></path></svg>\n",
      "\t\t\t\t\t145k\n",
      "\t\t\t\t\n",
      "\t\t\t\t<span class=\"px-1.5 text-gray-300 dark:text-gray-500\">• </span>\n",
      "\t\t\t\t\t<svg class=\"flex-none w-3 text-gray-400 mr-1\" xmlns=\"http://www.w3.org/2000/svg\" xmlns:xlink=\"http://www.w3.org/1999/xlink\" aria-hidden=\"true\" focusable=\"false\" role=\"img\" width=\"1em\" height=\"1em\" preserveAspectRatio=\"xMidYMid meet\" viewBox=\"0 0 32 32\" fill=\"currentColor\"><path d=\"M22.45,6a5.47,5.47,0,0,1,3.91,1.64,5.7,5.7,0,0,1,0,8L16,26.13,5.64,15.64a5.7,5.7,0,0,1,0-8,5.48,5.48,0,0,1,7.82,0L16,10.24l2.53-2.58A5.44,5.44,0,0,1,22.45,6m0-2a7.47,7.47,0,0,0-5.34,2.24L16,7.36,14.89,6.24a7.49,7.49,0,0,0-10.68,0,7.72,7.72,0,0,0,0,10.82L16,29,27.79,17.06a7.72,7.72,0,0,0,0-10.82A7.49,7.49,0,0,0,22.45,4Z\"></path></svg>\n",
      "\t\t\t\t\t816\n",
      "\n",
      "\t\t\t\t</div></div>\n",
      "\t\t</a></article><article class=\"overview-card-wrapper group/repo white \"><a class=\"flex items-center justify-between gap-4 p-2\" href=\"/black-forest-labs/FLUX.1-dev\"><div class=\"w-full truncate\"><header class=\"flex items-center mb-0.5\" title=\"black-forest-labs/FLUX.1-dev\">\n",
      "\t\t\t\t<h4 class=\"text-md truncate font-mono text-black dark:group-hover/repo:text-yellow-500 group-hover/repo:text-indigo-600 text-smd\">black-forest-labs/FLUX.1-dev</h4>\n",
      "\t\t\t\t</header>\n",
      "\t\t\t<div class=\"mr-1 flex items-center overflow-hidden whitespace-nowrap text-sm leading-tight text-gray-400\">\n",
      "\t\t\t\t<span class=\"truncate\">Updated\n",
      "\t\t\t\t\t<time datetime=\"2024-08-16T14:38:19\" title=\"Fri, 16 Aug 2024 14:38:19 GMT\">Aug 16</time></span>\n",
      "\t\t\t\t\n",
      "\t\t\t\t<span class=\"px-1.5 text-gray-300 dark:text-gray-500\">• </span>\n",
      "\t\t\t\t\t<svg class=\"flex-none w-3 text-gray-400 mr-0.5\" xmlns=\"http://www.w3.org/2000/svg\" xmlns:xlink=\"http://www.w3.org/1999/xlink\" aria-hidden=\"true\" focusable=\"false\" role=\"img\" width=\"1em\" height=\"1em\" viewBox=\"0 0 32 32\"><path fill=\"currentColor\" d=\"M26 24v4H6v-4H4v4a2 2 0 0 0 2 2h20a2 2 0 0 0 2-2v-4zm0-10l-1.41-1.41L17 20.17V2h-2v18.17l-7.59-7.58L6 14l10 10l10-10z\"></path></svg>\n",
      "\t\t\t\t\t1.06M\n",
      "\t\t\t\t\n",
      "\t\t\t\t<span class=\"px-1.5 text-gray-300 dark:text-gray-500\">• </span>\n",
      "\t\t\t\t\t<svg class=\"flex-none w-3 text-gray-400 mr-1\" xmlns=\"http://www.w3.org/2000/svg\" xmlns:xlink=\"http://www.w3.org/1999/xlink\" aria-hidden=\"true\" focusable=\"false\" role=\"img\" width=\"1em\" height=\"1em\" preserveAspectRatio=\"xMidYMid meet\" viewBox=\"0 0 32 32\" fill=\"currentColor\"><path d=\"M22.45,6a5.47,5.47,0,0,1,3.91,1.64,5.7,5.7,0,0,1,0,8L16,26.13,5.64,15.64a5.7,5.7,0,0,1,0-8,5.48,5.48,0,0,1,7.82,0L16,10.24l2.53-2.58A5.44,5.44,0,0,1,22.45,6m0-2a7.47,7.47,0,0,0-5.34,2.24L16,7.36,14.89,6.24a7.49,7.49,0,0,0-10.68,0,7.72,7.72,0,0,0,0,10.82L16,29,27.79,17.06a7.72,7.72,0,0,0,0-10.82A7.49,7.49,0,0,0,22.45,4Z\"></path></svg>\n",
      "\t\t\t\t\t4.85k\n",
      "\n",
      "\t\t\t\t</div></div>\n",
      "\t\t</a></article><article class=\"overview-card-wrapper group/repo white \"><a class=\"flex items-center justify-between gap-4 p-2\" href=\"/meta-llama/Llama-3.2-11B-Vision-Instruct\"><div class=\"w-full truncate\"><header class=\"flex items-center mb-0.5\" title=\"meta-llama/Llama-3.2-11B-Vision-Instruct\">\n",
      "\t\t\t\t<h4 class=\"text-md truncate font-mono text-black dark:group-hover/repo:text-yellow-500 group-hover/repo:text-indigo-600 text-smd\">meta-llama/Llama-3.2-11B-Vision-Instruct</h4>\n",
      "\t\t\t\t</header>\n",
      "\t\t\t<div class=\"mr-1 flex items-center overflow-hidden whitespace-nowrap text-sm leading-tight text-gray-400\">\n",
      "\t\t\t\t<span class=\"truncate\">Updated\n",
      "\t\t\t\t\t<time datetime=\"2024-09-27T19:03:32\" title=\"Fri, 27 Sep 2024 19:03:32 GMT\">about 13 hours ago</time></span>\n",
      "\t\t\t\t\n",
      "\t\t\t\t<span class=\"px-1.5 text-gray-300 dark:text-gray-500\">• </span>\n",
      "\t\t\t\t\t<svg class=\"flex-none w-3 text-gray-400 mr-0.5\" xmlns=\"http://www.w3.org/2000/svg\" xmlns:xlink=\"http://www.w3.org/1999/xlink\" aria-hidden=\"true\" focusable=\"false\" role=\"img\" width=\"1em\" height=\"1em\" viewBox=\"0 0 32 32\"><path fill=\"currentColor\" d=\"M26 24v4H6v-4H4v4a2 2 0 0 0 2 2h20a2 2 0 0 0 2-2v-4zm0-10l-1.41-1.41L17 20.17V2h-2v18.17l-7.59-7.58L6 14l10 10l10-10z\"></path></svg>\n",
      "\t\t\t\t\t46.3k\n",
      "\t\t\t\t\n",
      "\t\t\t\t<span class=\"px-1.5 text-gray-300 dark:text-gray-500\">• </span>\n",
      "\t\t\t\t\t<svg class=\"flex-none w-3 text-gray-400 mr-1\" xmlns=\"http://www.w3.org/2000/svg\" xmlns:xlink=\"http://www.w3.org/1999/xlink\" aria-hidden=\"true\" focusable=\"false\" role=\"img\" width=\"1em\" height=\"1em\" preserveAspectRatio=\"xMidYMid meet\" viewBox=\"0 0 32 32\" fill=\"currentColor\"><path d=\"M22.45,6a5.47,5.47,0,0,1,3.91,1.64,5.7,5.7,0,0,1,0,8L16,26.13,5.64,15.64a5.7,5.7,0,0,1,0-8,5.48,5.48,0,0,1,7.82,0L16,10.24l2.53-2.58A5.44,5.44,0,0,1,22.45,6m0-2a7.47,7.47,0,0,0-5.34,2.24L16,7.36,14.89,6.24a7.49,7.49,0,0,0-10.68,0,7.72,7.72,0,0,0,0,10.82L16,29,27.79,17.06a7.72,7.72,0,0,0,0-10.82A7.49,7.49,0,0,0,22.45,4Z\"></path></svg>\n",
      "\t\t\t\t\t298\n",
      "\n",
      "\t\t\t\t</div></div>\n",
      "\t\t</a></article><article class=\"overview-card-wrapper group/repo white \"><a class=\"flex items-center justify-between gap-4 p-2\" href=\"/meta-llama/Llama-3.2-1B-Instruct\"><div class=\"w-full truncate\"><header class=\"flex items-center mb-0.5\" title=\"meta-llama/Llama-3.2-1B-Instruct\">\n",
      "\t\t\t\t<h4 class=\"text-md truncate font-mono text-black dark:group-hover/repo:text-yellow-500 group-hover/repo:text-indigo-600 text-smd\">meta-llama/Llama-3.2-1B-Instruct</h4>\n",
      "\t\t\t\t</header>\n",
      "\t\t\t<div class=\"mr-1 flex items-center overflow-hidden whitespace-nowrap text-sm leading-tight text-gray-400\">\n",
      "\t\t\t\t<span class=\"truncate\">Updated\n",
      "\t\t\t\t\t<time datetime=\"2024-09-25T17:53:59\" title=\"Wed, 25 Sep 2024 17:53:59 GMT\">3 days ago</time></span>\n",
      "\t\t\t\t\n",
      "\t\t\t\t<span class=\"px-1.5 text-gray-300 dark:text-gray-500\">• </span>\n",
      "\t\t\t\t\t<svg class=\"flex-none w-3 text-gray-400 mr-0.5\" xmlns=\"http://www.w3.org/2000/svg\" xmlns:xlink=\"http://www.w3.org/1999/xlink\" aria-hidden=\"true\" focusable=\"false\" role=\"img\" width=\"1em\" height=\"1em\" viewBox=\"0 0 32 32\"><path fill=\"currentColor\" d=\"M26 24v4H6v-4H4v4a2 2 0 0 0 2 2h20a2 2 0 0 0 2-2v-4zm0-10l-1.41-1.41L17 20.17V2h-2v18.17l-7.59-7.58L6 14l10 10l10-10z\"></path></svg>\n",
      "\t\t\t\t\t25.5k\n",
      "\t\t\t\t\n",
      "\t\t\t\t<span class=\"px-1.5 text-gray-300 dark:text-gray-500\">• </span>\n",
      "\t\t\t\t\t<svg class=\"flex-none w-3 text-gray-400 mr-1\" xmlns=\"http://www.w3.org/2000/svg\" xmlns:xlink=\"http://www.w3.org/1999/xlink\" aria-hidden=\"true\" focusable=\"false\" role=\"img\" width=\"1em\" height=\"1em\" preserveAspectRatio=\"xMidYMid meet\" viewBox=\"0 0 32 32\" fill=\"currentColor\"><path d=\"M22.45,6a5.47,5.47,0,0,1,3.91,1.64,5.7,5.7,0,0,1,0,8L16,26.13,5.64,15.64a5.7,5.7,0,0,1,0-8,5.48,5.48,0,0,1,7.82,0L16,10.24l2.53-2.58A5.44,5.44,0,0,1,22.45,6m0-2a7.47,7.47,0,0,0-5.34,2.24L16,7.36,14.89,6.24a7.49,7.49,0,0,0-10.68,0,7.72,7.72,0,0,0,0,10.82L16,29,27.79,17.06a7.72,7.72,0,0,0,0-10.82A7.49,7.49,0,0,0,22.45,4Z\"></path></svg>\n",
      "\t\t\t\t\t193\n",
      "\n",
      "\t\t\t\t</div></div>\n",
      "\t\t</a></article><article class=\"overview-card-wrapper group/repo white \"><a class=\"flex items-center justify-between gap-4 p-2\" href=\"/meta-llama/Llama-3.2-1B\"><div class=\"w-full truncate\"><header class=\"flex items-center mb-0.5\" title=\"meta-llama/Llama-3.2-1B\">\n",
      "\t\t\t\t<h4 class=\"text-md truncate font-mono text-black dark:group-hover/repo:text-yellow-500 group-hover/repo:text-indigo-600 text-smd\">meta-llama/Llama-3.2-1B</h4>\n",
      "\t\t\t\t</header>\n",
      "\t\t\t<div class=\"mr-1 flex items-center overflow-hidden whitespace-nowrap text-sm leading-tight text-gray-400\">\n",
      "\t\t\t\t<span class=\"truncate\">Updated\n",
      "\t\t\t\t\t<time datetime=\"2024-09-25T17:54:11\" title=\"Wed, 25 Sep 2024 17:54:11 GMT\">3 days ago</time></span>\n",
      "\t\t\t\t\n",
      "\t\t\t\t<span class=\"px-1.5 text-gray-300 dark:text-gray-500\">• </span>\n",
      "\t\t\t\t\t<svg class=\"flex-none w-3 text-gray-400 mr-0.5\" xmlns=\"http://www.w3.org/2000/svg\" xmlns:xlink=\"http://www.w3.org/1999/xlink\" aria-hidden=\"true\" focusable=\"false\" role=\"img\" width=\"1em\" height=\"1em\" viewBox=\"0 0 32 32\"><path fill=\"currentColor\" d=\"M26 24v4H6v-4H4v4a2 2 0 0 0 2 2h20a2 2 0 0 0 2-2v-4zm0-10l-1.41-1.41L17 20.17V2h-2v18.17l-7.59-7.58L6 14l10 10l10-10z\"></path></svg>\n",
      "\t\t\t\t\t11.1k\n",
      "\t\t\t\t\n",
      "\t\t\t\t<span class=\"px-1.5 text-gray-300 dark:text-gray-500\">• </span>\n",
      "\t\t\t\t\t<svg class=\"flex-none w-3 text-gray-400 mr-1\" xmlns=\"http://www.w3.org/2000/svg\" xmlns:xlink=\"http://www.w3.org/1999/xlink\" aria-hidden=\"true\" focusable=\"false\" role=\"img\" width=\"1em\" height=\"1em\" preserveAspectRatio=\"xMidYMid meet\" viewBox=\"0 0 32 32\" fill=\"currentColor\"><path d=\"M22.45,6a5.47,5.47,0,0,1,3.91,1.64,5.7,5.7,0,0,1,0,8L16,26.13,5.64,15.64a5.7,5.7,0,0,1,0-8,5.48,5.48,0,0,1,7.82,0L16,10.24l2.53-2.58A5.44,5.44,0,0,1,22.45,6m0-2a7.47,7.47,0,0,0-5.34,2.24L16,7.36,14.89,6.24a7.49,7.49,0,0,0-10.68,0,7.72,7.72,0,0,0,0,10.82L16,29,27.79,17.06a7.72,7.72,0,0,0,0-10.82A7.49,7.49,0,0,0,22.45,4Z\"></path></svg>\n",
      "\t\t\t\t\t188\n",
      "\n",
      "\t\t\t\t</div></div>\n",
      "\t\t</a></article></div>\n",
      "\t\t\t\t<a href=\"/models\" class=\"self-center underline decoration-gray-300 underline-offset-8 transition-all hover:decoration-gray-800 hover:underline-offset-[6px] max-sm:mb-5\">Browse 400k+ models</a></div>\n",
      "\t\t\t<div class=\"relative col-span-1 flex flex-col items-stretch text-center\"><h2 class=\"mb-5 flex items-center justify-center gap-2 text-lg font-semibold 2xl:mb-6 2xl:text-xl\"><svg class=\"\" xmlns=\"http://www.w3.org/2000/svg\" xmlns:xlink=\"http://www.w3.org/1999/xlink\" aria-hidden=\"true\" focusable=\"false\" role=\"img\" width=\"1em\" height=\"1em\" preserveAspectRatio=\"xMidYMid meet\" viewBox=\"0 0 32 32\"><path d=\"M7.80914 18.7462V24.1907H13.2536V18.7462H7.80914Z\" fill=\"#FF3270\"></path><path d=\"M18.7458 18.7462V24.1907H24.1903V18.7462H18.7458Z\" fill=\"#861FFF\"></path><path d=\"M7.80914 7.80982V13.2543H13.2536V7.80982H7.80914Z\" fill=\"#097EFF\"></path><path fill-rule=\"evenodd\" clip-rule=\"evenodd\" d=\"M4 6.41775C4 5.08246 5.08246 4 6.41775 4H14.6457C15.7626 4 16.7026 4.75724 16.9802 5.78629C18.1505 4.67902 19.7302 4 21.4685 4C25.0758 4 28.0003 6.92436 28.0003 10.5317C28.0003 12.27 27.3212 13.8497 26.2139 15.02C27.243 15.2977 28.0003 16.2376 28.0003 17.3545V25.5824C28.0003 26.9177 26.9177 28.0003 25.5824 28.0003H17.0635H14.9367H6.41775C5.08246 28.0003 4 26.9177 4 25.5824V15.1587V14.9367V6.41775ZM7.80952 7.80952V13.254H13.254V7.80952H7.80952ZM7.80952 24.1907V18.7462H13.254V24.1907H7.80952ZM18.7462 24.1907V18.7462H24.1907V24.1907H18.7462ZM18.7462 10.5317C18.7462 9.0283 19.9651 7.80952 21.4685 7.80952C22.9719 7.80952 24.1907 9.0283 24.1907 10.5317C24.1907 12.0352 22.9719 13.254 21.4685 13.254C19.9651 13.254 18.7462 12.0352 18.7462 10.5317Z\" fill=\"black\"></path><path d=\"M21.4681 7.80982C19.9647 7.80982 18.7458 9.02861 18.7458 10.5321C18.7458 12.0355 19.9647 13.2543 21.4681 13.2543C22.9715 13.2543 24.1903 12.0355 24.1903 10.5321C24.1903 9.02861 22.9715 7.80982 21.4681 7.80982Z\" fill=\"#FFD702\"></path></svg>\n",
      "\t\t\t\t\tSpaces\n",
      "\t\t\t\t</h2>\n",
      "\t\t\t\t<div class=\"mb-3 flex flex-col gap-2.5 rounded-xl bg-white/40 p-3 backdrop-blur-lg sm:mb-7\"><article class=\"\">\n",
      "\t<a href=\"/spaces/Kwai-Kolors/Kolors-Virtual-Try-On\" class=\"relative z-0 mx-auto flex flex-col items-center justify-center bg-gradient-to-br p-4 filter from-purple-600 to-gray-600 overflow-hidden hover:brightness-110 h-16 rounded-lg\"><div class=\"absolute left-0 top-0 h-24 w-1/2 bg-gradient-to-br from-black/20 via-transparent to-transparent\"></div>\n",
      "\t\t<div class=\"absolute right-16 flex flex-wrap content-start gap-1 overflow-hidden hidden\">\n",
      "\t\t\t<div class=\"inline-flex cursor-pointer select-none items-center overflow-hidden font-mono  inline-flex items-center rounded border !border-white/5 bg-white/10 leading-tight text-white opacity-80\"><div class=\"inline-flex items-center px-1 py-0\">\n",
      "\t\tRunning\n",
      "\t\t\n",
      "\t\t\t<span class=\"mx-1\">on </span>\n",
      "\t\t\t<span class=\"-skew-x-6 truncate font-bold uppercase\">CPU Upgrade</span></div>\n",
      "\t</div>\n",
      "\n",
      "\t\t\t\n",
      "\n",
      "\t\t\t</div>\n",
      "\n",
      "\t\t<div class=\"absolute flex items-center rounded-xl top-2 right-3.5 text-xs\"><svg class=\"mr-1.5 text-white\" xmlns=\"http://www.w3.org/2000/svg\" xmlns:xlink=\"http://www.w3.org/1999/xlink\" aria-hidden=\"true\" focusable=\"false\" role=\"img\" width=\"1em\" height=\"1em\" preserveAspectRatio=\"xMidYMid meet\" viewBox=\"0 0 32 32\" fill=\"currentColor\"><path d=\"M22.45,6a5.47,5.47,0,0,1,3.91,1.64,5.7,5.7,0,0,1,0,8L16,26.13,5.64,15.64a5.7,5.7,0,0,1,0-8,5.48,5.48,0,0,1,7.82,0L16,10.24l2.53-2.58A5.44,5.44,0,0,1,22.45,6m0-2a7.47,7.47,0,0,0-5.34,2.24L16,7.36,14.89,6.24a7.49,7.49,0,0,0-10.68,0,7.72,7.72,0,0,0,0,10.82L16,29,27.79,17.06a7.72,7.72,0,0,0,0-10.82A7.49,7.49,0,0,0,22.45,4Z\"></path></svg>\n",
      "\t\t\t\t<span class=\"text-white\">3.25k</span></div>\n",
      "\t\t<div class=\"absolute opacity-60 text-4xl drop-shadow\">👕</div>\n",
      "\t\t<h4 class=\"z-40 max-w-full truncate text-center font-bold leading-tight text-blue-50 text-md \" style=\"text-shadow: 0px 1px 2px rgba(0, 0, 0, 0.25);\">Kolors Virtual Try-On</h4>\n",
      "\t\t</a>\n",
      "\t</article><article class=\"\">\n",
      "\t<a href=\"/spaces/fffiloni/diffusers-image-outpaint\" class=\"relative z-0 mx-auto flex flex-col items-center justify-center bg-gradient-to-br p-4 filter from-gray-600 to-purple-600 overflow-hidden hover:brightness-110 h-16 rounded-lg\"><div class=\"absolute left-0 top-0 h-24 w-1/2 bg-gradient-to-br from-black/20 via-transparent to-transparent\"></div>\n",
      "\t\t<div class=\"absolute right-16 flex flex-wrap content-start gap-1 overflow-hidden hidden\">\n",
      "\t\t\t<div class=\"inline-flex cursor-pointer select-none items-center overflow-hidden font-mono  inline-flex items-center rounded border !border-white/5 bg-white/10 leading-tight text-white opacity-80\"><div class=\"inline-flex items-center px-1 py-0\">\n",
      "\t\tRunning\n",
      "\t\t\n",
      "\t\t\t<span class=\"mx-1\">on </span>\n",
      "\t\t\t<span class=\"-skew-x-6 truncate font-bold uppercase\">Zero</span></div>\n",
      "\t</div>\n",
      "\n",
      "\t\t\t\n",
      "\n",
      "\t\t\t</div>\n",
      "\n",
      "\t\t<div class=\"absolute flex items-center rounded-xl top-2 right-3.5 text-xs\"><svg class=\"mr-1.5 text-white\" xmlns=\"http://www.w3.org/2000/svg\" xmlns:xlink=\"http://www.w3.org/1999/xlink\" aria-hidden=\"true\" focusable=\"false\" role=\"img\" width=\"1em\" height=\"1em\" preserveAspectRatio=\"xMidYMid meet\" viewBox=\"0 0 32 32\" fill=\"currentColor\"><path d=\"M22.45,6a5.47,5.47,0,0,1,3.91,1.64,5.7,5.7,0,0,1,0,8L16,26.13,5.64,15.64a5.7,5.7,0,0,1,0-8,5.48,5.48,0,0,1,7.82,0L16,10.24l2.53-2.58A5.44,5.44,0,0,1,22.45,6m0-2a7.47,7.47,0,0,0-5.34,2.24L16,7.36,14.89,6.24a7.49,7.49,0,0,0-10.68,0,7.72,7.72,0,0,0,0,10.82L16,29,27.79,17.06a7.72,7.72,0,0,0,0-10.82A7.49,7.49,0,0,0,22.45,4Z\"></path></svg>\n",
      "\t\t\t\t<span class=\"text-white\">561</span></div>\n",
      "\t\t<div class=\"absolute opacity-60 text-4xl drop-shadow\">🔅</div>\n",
      "\t\t<h4 class=\"z-40 max-w-full truncate text-center font-bold leading-tight text-blue-50 text-md \" style=\"text-shadow: 0px 1px 2px rgba(0, 0, 0, 0.25);\">Diffusers Image Outpaint</h4>\n",
      "\t\t</a>\n",
      "\t</article><article class=\"\">\n",
      "\t<a href=\"/spaces/black-forest-labs/FLUX.1-dev\" class=\"relative z-0 mx-auto flex flex-col items-center justify-center bg-gradient-to-br p-4 filter from-yellow-600 to-pink-600 overflow-hidden hover:brightness-110 h-16 rounded-lg\"><div class=\"absolute left-0 top-0 h-24 w-1/2 bg-gradient-to-br from-black/20 via-transparent to-transparent\"></div>\n",
      "\t\t<div class=\"absolute right-16 flex flex-wrap content-start gap-1 overflow-hidden hidden\">\n",
      "\t\t\t<div class=\"inline-flex cursor-pointer select-none items-center overflow-hidden font-mono  inline-flex items-center rounded border !border-white/5 bg-white/10 leading-tight text-white opacity-80\"><div class=\"inline-flex items-center px-1 py-0\">\n",
      "\t\tRunning\n",
      "\t\t\n",
      "\t\t\t<span class=\"mx-1\">on </span>\n",
      "\t\t\t<span class=\"-skew-x-6 truncate font-bold uppercase\">Zero</span></div>\n",
      "\t</div>\n",
      "\n",
      "\t\t\t\n",
      "\n",
      "\t\t\t</div>\n",
      "\n",
      "\t\t<div class=\"absolute flex items-center rounded-xl top-2 right-3.5 text-xs\"><svg class=\"mr-1.5 text-white\" xmlns=\"http://www.w3.org/2000/svg\" xmlns:xlink=\"http://www.w3.org/1999/xlink\" aria-hidden=\"true\" focusable=\"false\" role=\"img\" width=\"1em\" height=\"1em\" preserveAspectRatio=\"xMidYMid meet\" viewBox=\"0 0 32 32\" fill=\"currentColor\"><path d=\"M22.45,6a5.47,5.47,0,0,1,3.91,1.64,5.7,5.7,0,0,1,0,8L16,26.13,5.64,15.64a5.7,5.7,0,0,1,0-8,5.48,5.48,0,0,1,7.82,0L16,10.24l2.53-2.58A5.44,5.44,0,0,1,22.45,6m0-2a7.47,7.47,0,0,0-5.34,2.24L16,7.36,14.89,6.24a7.49,7.49,0,0,0-10.68,0,7.72,7.72,0,0,0,0,10.82L16,29,27.79,17.06a7.72,7.72,0,0,0,0-10.82A7.49,7.49,0,0,0,22.45,4Z\"></path></svg>\n",
      "\t\t\t\t<span class=\"text-white\">3.79k</span></div>\n",
      "\t\t<div class=\"absolute opacity-60 text-4xl drop-shadow\">🖥️</div>\n",
      "\t\t<h4 class=\"z-40 max-w-full truncate text-center font-bold leading-tight text-blue-50 text-md \" style=\"text-shadow: 0px 1px 2px rgba(0, 0, 0, 0.25);\">FLUX.1 [dev]</h4>\n",
      "\t\t</a>\n",
      "\t</article><article class=\"\">\n",
      "\t<a href=\"/spaces/lamm-mit/PDF2Audio\" class=\"relative z-0 mx-auto flex flex-col items-center justify-center bg-gradient-to-br p-4 filter from-yellow-600 to-pink-600 overflow-hidden hover:brightness-110 h-16 rounded-lg\"><div class=\"absolute left-0 top-0 h-24 w-1/2 bg-gradient-to-br from-black/20 via-transparent to-transparent\"></div>\n",
      "\t\t<div class=\"absolute right-16 flex flex-wrap content-start gap-1 overflow-hidden hidden\">\n",
      "\t\t\t<div class=\"inline-flex cursor-pointer select-none items-center overflow-hidden font-mono  inline-flex items-center rounded border !border-white/5 bg-white/10 leading-tight text-white opacity-80\"><div class=\"inline-flex items-center px-1 py-0\">\n",
      "\t\tRunning\n",
      "\t\t</div>\n",
      "\t</div>\n",
      "\n",
      "\t\t\t\n",
      "\n",
      "\t\t\t</div>\n",
      "\n",
      "\t\t<div class=\"absolute flex items-center rounded-xl top-2 right-3.5 text-xs\"><svg class=\"mr-1.5 text-white\" xmlns=\"http://www.w3.org/2000/svg\" xmlns:xlink=\"http://www.w3.org/1999/xlink\" aria-hidden=\"true\" focusable=\"false\" role=\"img\" width=\"1em\" height=\"1em\" preserveAspectRatio=\"xMidYMid meet\" viewBox=\"0 0 32 32\" fill=\"currentColor\"><path d=\"M22.45,6a5.47,5.47,0,0,1,3.91,1.64,5.7,5.7,0,0,1,0,8L16,26.13,5.64,15.64a5.7,5.7,0,0,1,0-8,5.48,5.48,0,0,1,7.82,0L16,10.24l2.53-2.58A5.44,5.44,0,0,1,22.45,6m0-2a7.47,7.47,0,0,0-5.34,2.24L16,7.36,14.89,6.24a7.49,7.49,0,0,0-10.68,0,7.72,7.72,0,0,0,0,10.82L16,29,27.79,17.06a7.72,7.72,0,0,0,0-10.82A7.49,7.49,0,0,0,22.45,4Z\"></path></svg>\n",
      "\t\t\t\t<span class=\"text-white\">229</span></div>\n",
      "\t\t<div class=\"absolute opacity-60 text-4xl drop-shadow\">📚</div>\n",
      "\t\t<h4 class=\"z-40 max-w-full truncate text-center font-bold leading-tight text-blue-50 text-md \" style=\"text-shadow: 0px 1px 2px rgba(0, 0, 0, 0.25);\">Pdf2audio</h4>\n",
      "\t\t</a>\n",
      "\t</article><article class=\"\">\n",
      "\t<a href=\"/spaces/yanze/PuLID-FLUX\" class=\"relative z-0 mx-auto flex flex-col items-center justify-center bg-gradient-to-br p-4 filter from-blue-600 to-indigo-600 overflow-hidden hover:brightness-110 h-16 rounded-lg\"><div class=\"absolute left-0 top-0 h-24 w-1/2 bg-gradient-to-br from-black/20 via-transparent to-transparent\"></div>\n",
      "\t\t<div class=\"absolute right-16 flex flex-wrap content-start gap-1 overflow-hidden hidden\">\n",
      "\t\t\t<div class=\"inline-flex cursor-pointer select-none items-center overflow-hidden font-mono  inline-flex items-center rounded border !border-white/5 bg-white/10 leading-tight text-white opacity-80\"><div class=\"inline-flex items-center px-1 py-0\">\n",
      "\t\tRunning\n",
      "\t\t\n",
      "\t\t\t<span class=\"mx-1\">on </span>\n",
      "\t\t\t<span class=\"-skew-x-6 truncate font-bold uppercase\">Zero</span></div>\n",
      "\t</div>\n",
      "\n",
      "\t\t\t\n",
      "\n",
      "\t\t\t</div>\n",
      "\n",
      "\t\t<div class=\"absolute flex items-center rounded-xl top-2 right-3.5 text-xs\"><svg class=\"mr-1.5 text-white\" xmlns=\"http://www.w3.org/2000/svg\" xmlns:xlink=\"http://www.w3.org/1999/xlink\" aria-hidden=\"true\" focusable=\"false\" role=\"img\" width=\"1em\" height=\"1em\" preserveAspectRatio=\"xMidYMid meet\" viewBox=\"0 0 32 32\" fill=\"currentColor\"><path d=\"M22.45,6a5.47,5.47,0,0,1,3.91,1.64,5.7,5.7,0,0,1,0,8L16,26.13,5.64,15.64a5.7,5.7,0,0,1,0-8,5.48,5.48,0,0,1,7.82,0L16,10.24l2.53-2.58A5.44,5.44,0,0,1,22.45,6m0-2a7.47,7.47,0,0,0-5.34,2.24L16,7.36,14.89,6.24a7.49,7.49,0,0,0-10.68,0,7.72,7.72,0,0,0,0,10.82L16,29,27.79,17.06a7.72,7.72,0,0,0,0-10.82A7.49,7.49,0,0,0,22.45,4Z\"></path></svg>\n",
      "\t\t\t\t<span class=\"text-white\">654</span></div>\n",
      "\t\t<div class=\"absolute opacity-60 text-4xl drop-shadow\">🤗</div>\n",
      "\t\t<h4 class=\"z-40 max-w-full truncate text-center font-bold leading-tight text-blue-50 text-md \" style=\"text-shadow: 0px 1px 2px rgba(0, 0, 0, 0.25);\">PuLID-FLUX</h4>\n",
      "\t\t</a>\n",
      "\t</article></div>\n",
      "\t\t\t\t<a href=\"/spaces\" class=\"self-center underline decoration-gray-300 underline-offset-8 transition-all hover:decoration-gray-800 hover:underline-offset-[6px] max-sm:mb-5\">Browse 150k+ applications</a></div>\n",
      "\t\t\t<div class=\"relative col-span-1 flex flex-col items-stretch text-center\"><h2 class=\"mb-5 flex items-center justify-center gap-2 text-lg font-semibold 2xl:mb-6 2xl:text-xl\"><svg class=\"text-gray-500\" style=\"\" xmlns=\"http://www.w3.org/2000/svg\" xmlns:xlink=\"http://www.w3.org/1999/xlink\" aria-hidden=\"true\" focusable=\"false\" role=\"img\" width=\"1em\" height=\"1em\" preserveAspectRatio=\"xMidYMid meet\" viewBox=\"0 0 25 25\"><ellipse cx=\"12.5\" cy=\"5\" fill=\"currentColor\" fill-opacity=\"0.25\" rx=\"7.5\" ry=\"2\"></ellipse><path d=\"M12.5 15C16.6421 15 20 14.1046 20 13V20C20 21.1046 16.6421 22 12.5 22C8.35786 22 5 21.1046 5 20V13C5 14.1046 8.35786 15 12.5 15Z\" fill=\"currentColor\" opacity=\"0.5\"></path><path d=\"M12.5 7C16.6421 7 20 6.10457 20 5V11.5C20 12.6046 16.6421 13.5 12.5 13.5C8.35786 13.5 5 12.6046 5 11.5V5C5 6.10457 8.35786 7 12.5 7Z\" fill=\"currentColor\" opacity=\"0.5\"></path><path d=\"M5.23628 12C5.08204 12.1598 5 12.8273 5 13C5 14.1046 8.35786 15 12.5 15C16.6421 15 20 14.1046 20 13C20 12.8273 19.918 12.1598 19.7637 12C18.9311 12.8626 15.9947 13.5 12.5 13.5C9.0053 13.5 6.06886 12.8626 5.23628 12Z\" fill=\"currentColor\"></path></svg>\n",
      "\t\t\t\t\tDatasets\n",
      "\t\t\t\t</h2>\n",
      "\t\t\t\t<div class=\"mb-3 flex flex-col gap-2.5 rounded-xl bg-white/40 p-3 backdrop-blur-lg sm:mb-7\"><article class=\"overview-card-wrapper group/repo white \"><a class=\"flex items-center justify-between gap-4 p-2\" href=\"/datasets/openai/MMMLU\"><div class=\"w-full truncate\"><header class=\"flex items-center mb-0.5\" title=\"openai/MMMLU\">\n",
      "\t\t\t\t<h4 class=\"text-md truncate font-mono text-black dark:group-hover/repo:text-yellow-500 group-hover/repo:text-red-600 text-smd\">openai/MMMLU</h4>\n",
      "\t\t\t\t</header>\n",
      "\t\t\t<div class=\"mr-1 flex items-center overflow-hidden whitespace-nowrap text-sm leading-tight text-gray-400\">\n",
      "\t\t\t\t<span class=\"truncate\">Updated\n",
      "\t\t\t\t\t<time datetime=\"2024-09-23T16:54:48\" title=\"Mon, 23 Sep 2024 16:54:48 GMT\">5 days ago</time></span>\n",
      "\t\t\t\t\n",
      "\t\t\t\t<span class=\"px-1.5 text-gray-300 dark:text-gray-500\">• </span>\n",
      "\t\t\t\t\t<svg class=\"flex-none w-3 text-gray-400 mr-0.5\" xmlns=\"http://www.w3.org/2000/svg\" xmlns:xlink=\"http://www.w3.org/1999/xlink\" aria-hidden=\"true\" focusable=\"false\" role=\"img\" width=\"1em\" height=\"1em\" viewBox=\"0 0 32 32\"><path fill=\"currentColor\" d=\"M26 24v4H6v-4H4v4a2 2 0 0 0 2 2h20a2 2 0 0 0 2-2v-4zm0-10l-1.41-1.41L17 20.17V2h-2v18.17l-7.59-7.58L6 14l10 10l10-10z\"></path></svg>\n",
      "\t\t\t\t\t994\n",
      "\t\t\t\t\n",
      "\t\t\t\t<span class=\"px-1.5 text-gray-300 dark:text-gray-500\">• </span>\n",
      "\t\t\t\t\t<svg class=\"flex-none w-3 text-gray-400 mr-1\" xmlns=\"http://www.w3.org/2000/svg\" xmlns:xlink=\"http://www.w3.org/1999/xlink\" aria-hidden=\"true\" focusable=\"false\" role=\"img\" width=\"1em\" height=\"1em\" preserveAspectRatio=\"xMidYMid meet\" viewBox=\"0 0 32 32\" fill=\"currentColor\"><path d=\"M22.45,6a5.47,5.47,0,0,1,3.91,1.64,5.7,5.7,0,0,1,0,8L16,26.13,5.64,15.64a5.7,5.7,0,0,1,0-8,5.48,5.48,0,0,1,7.82,0L16,10.24l2.53-2.58A5.44,5.44,0,0,1,22.45,6m0-2a7.47,7.47,0,0,0-5.34,2.24L16,7.36,14.89,6.24a7.49,7.49,0,0,0-10.68,0,7.72,7.72,0,0,0,0,10.82L16,29,27.79,17.06a7.72,7.72,0,0,0,0-10.82A7.49,7.49,0,0,0,22.45,4Z\"></path></svg>\n",
      "\t\t\t\t\t299\n",
      "\n",
      "\t\t\t\t</div></div>\n",
      "\t\t</a></article><article class=\"overview-card-wrapper group/repo white \"><a class=\"flex items-center justify-between gap-4 p-2\" href=\"/datasets/argilla/FinePersonas-v0.1\"><div class=\"w-full truncate\"><header class=\"flex items-center mb-0.5\" title=\"argilla/FinePersonas-v0.1\">\n",
      "\t\t\t\t<h4 class=\"text-md truncate font-mono text-black dark:group-hover/repo:text-yellow-500 group-hover/repo:text-red-600 text-smd\">argilla/FinePersonas-v0.1</h4>\n",
      "\t\t\t\t</header>\n",
      "\t\t\t<div class=\"mr-1 flex items-center overflow-hidden whitespace-nowrap text-sm leading-tight text-gray-400\">\n",
      "\t\t\t\t<span class=\"truncate\">Updated\n",
      "\t\t\t\t\t<time datetime=\"2024-09-18T14:59:42\" title=\"Wed, 18 Sep 2024 14:59:42 GMT\">10 days ago</time></span>\n",
      "\t\t\t\t\n",
      "\t\t\t\t<span class=\"px-1.5 text-gray-300 dark:text-gray-500\">• </span>\n",
      "\t\t\t\t\t<svg class=\"flex-none w-3 text-gray-400 mr-0.5\" xmlns=\"http://www.w3.org/2000/svg\" xmlns:xlink=\"http://www.w3.org/1999/xlink\" aria-hidden=\"true\" focusable=\"false\" role=\"img\" width=\"1em\" height=\"1em\" viewBox=\"0 0 32 32\"><path fill=\"currentColor\" d=\"M26 24v4H6v-4H4v4a2 2 0 0 0 2 2h20a2 2 0 0 0 2-2v-4zm0-10l-1.41-1.41L17 20.17V2h-2v18.17l-7.59-7.58L6 14l10 10l10-10z\"></path></svg>\n",
      "\t\t\t\t\t108\n",
      "\t\t\t\t\n",
      "\t\t\t\t<span class=\"px-1.5 text-gray-300 dark:text-gray-500\">• </span>\n",
      "\t\t\t\t\t<svg class=\"flex-none w-3 text-gray-400 mr-1\" xmlns=\"http://www.w3.org/2000/svg\" xmlns:xlink=\"http://www.w3.org/1999/xlink\" aria-hidden=\"true\" focusable=\"false\" role=\"img\" width=\"1em\" height=\"1em\" preserveAspectRatio=\"xMidYMid meet\" viewBox=\"0 0 32 32\" fill=\"currentColor\"><path d=\"M22.45,6a5.47,5.47,0,0,1,3.91,1.64,5.7,5.7,0,0,1,0,8L16,26.13,5.64,15.64a5.7,5.7,0,0,1,0-8,5.48,5.48,0,0,1,7.82,0L16,10.24l2.53-2.58A5.44,5.44,0,0,1,22.45,6m0-2a7.47,7.47,0,0,0-5.34,2.24L16,7.36,14.89,6.24a7.49,7.49,0,0,0-10.68,0,7.72,7.72,0,0,0,0,10.82L16,29,27.79,17.06a7.72,7.72,0,0,0,0-10.82A7.49,7.49,0,0,0,22.45,4Z\"></path></svg>\n",
      "\t\t\t\t\t266\n",
      "\n",
      "\t\t\t\t</div></div>\n",
      "\t\t</a></article><article class=\"overview-card-wrapper group/repo white \"><a class=\"flex items-center justify-between gap-4 p-2\" href=\"/datasets/fka/awesome-chatgpt-prompts\"><div class=\"w-full truncate\"><header class=\"flex items-center mb-0.5\" title=\"fka/awesome-chatgpt-prompts\">\n",
      "\t\t\t\t<h4 class=\"text-md truncate font-mono text-black dark:group-hover/repo:text-yellow-500 group-hover/repo:text-red-600 text-smd\">fka/awesome-chatgpt-prompts</h4>\n",
      "\t\t\t\t</header>\n",
      "\t\t\t<div class=\"mr-1 flex items-center overflow-hidden whitespace-nowrap text-sm leading-tight text-gray-400\">\n",
      "\t\t\t\t<span class=\"truncate\">Updated\n",
      "\t\t\t\t\t<time datetime=\"2024-09-03T21:28:41\" title=\"Tue, 03 Sep 2024 21:28:41 GMT\">24 days ago</time></span>\n",
      "\t\t\t\t\n",
      "\t\t\t\t<span class=\"px-1.5 text-gray-300 dark:text-gray-500\">• </span>\n",
      "\t\t\t\t\t<svg class=\"flex-none w-3 text-gray-400 mr-0.5\" xmlns=\"http://www.w3.org/2000/svg\" xmlns:xlink=\"http://www.w3.org/1999/xlink\" aria-hidden=\"true\" focusable=\"false\" role=\"img\" width=\"1em\" height=\"1em\" viewBox=\"0 0 32 32\"><path fill=\"currentColor\" d=\"M26 24v4H6v-4H4v4a2 2 0 0 0 2 2h20a2 2 0 0 0 2-2v-4zm0-10l-1.41-1.41L17 20.17V2h-2v18.17l-7.59-7.58L6 14l10 10l10-10z\"></path></svg>\n",
      "\t\t\t\t\t8.89k\n",
      "\t\t\t\t\n",
      "\t\t\t\t<span class=\"px-1.5 text-gray-300 dark:text-gray-500\">• </span>\n",
      "\t\t\t\t\t<svg class=\"flex-none w-3 text-gray-400 mr-1\" xmlns=\"http://www.w3.org/2000/svg\" xmlns:xlink=\"http://www.w3.org/1999/xlink\" aria-hidden=\"true\" focusable=\"false\" role=\"img\" width=\"1em\" height=\"1em\" preserveAspectRatio=\"xMidYMid meet\" viewBox=\"0 0 32 32\" fill=\"currentColor\"><path d=\"M22.45,6a5.47,5.47,0,0,1,3.91,1.64,5.7,5.7,0,0,1,0,8L16,26.13,5.64,15.64a5.7,5.7,0,0,1,0-8,5.48,5.48,0,0,1,7.82,0L16,10.24l2.53-2.58A5.44,5.44,0,0,1,22.45,6m0-2a7.47,7.47,0,0,0-5.34,2.24L16,7.36,14.89,6.24a7.49,7.49,0,0,0-10.68,0,7.72,7.72,0,0,0,0,10.82L16,29,27.79,17.06a7.72,7.72,0,0,0,0-10.82A7.49,7.49,0,0,0,22.45,4Z\"></path></svg>\n",
      "\t\t\t\t\t5.76k\n",
      "\n",
      "\t\t\t\t</div></div>\n",
      "\t\t</a></article><article class=\"overview-card-wrapper group/repo white \"><a class=\"flex items-center justify-between gap-4 p-2\" href=\"/datasets/HuggingFaceFV/finevideo\"><div class=\"w-full truncate\"><header class=\"flex items-center mb-0.5\" title=\"HuggingFaceFV/finevideo\">\n",
      "\t\t\t\t<h4 class=\"text-md truncate font-mono text-black dark:group-hover/repo:text-yellow-500 group-hover/repo:text-red-600 text-smd\">HuggingFaceFV/finevideo</h4>\n",
      "\t\t\t\t</header>\n",
      "\t\t\t<div class=\"mr-1 flex items-center overflow-hidden whitespace-nowrap text-sm leading-tight text-gray-400\">\n",
      "\t\t\t\t<span class=\"truncate\">Updated\n",
      "\t\t\t\t\t<time datetime=\"2024-09-23T14:30:45\" title=\"Mon, 23 Sep 2024 14:30:45 GMT\">5 days ago</time></span>\n",
      "\t\t\t\t\n",
      "\t\t\t\t<span class=\"px-1.5 text-gray-300 dark:text-gray-500\">• </span>\n",
      "\t\t\t\t\t<svg class=\"flex-none w-3 text-gray-400 mr-0.5\" xmlns=\"http://www.w3.org/2000/svg\" xmlns:xlink=\"http://www.w3.org/1999/xlink\" aria-hidden=\"true\" focusable=\"false\" role=\"img\" width=\"1em\" height=\"1em\" viewBox=\"0 0 32 32\"><path fill=\"currentColor\" d=\"M26 24v4H6v-4H4v4a2 2 0 0 0 2 2h20a2 2 0 0 0 2-2v-4zm0-10l-1.41-1.41L17 20.17V2h-2v18.17l-7.59-7.58L6 14l10 10l10-10z\"></path></svg>\n",
      "\t\t\t\t\t163\n",
      "\t\t\t\t\n",
      "\t\t\t\t<span class=\"px-1.5 text-gray-300 dark:text-gray-500\">• </span>\n",
      "\t\t\t\t\t<svg class=\"flex-none w-3 text-gray-400 mr-1\" xmlns=\"http://www.w3.org/2000/svg\" xmlns:xlink=\"http://www.w3.org/1999/xlink\" aria-hidden=\"true\" focusable=\"false\" role=\"img\" width=\"1em\" height=\"1em\" preserveAspectRatio=\"xMidYMid meet\" viewBox=\"0 0 32 32\" fill=\"currentColor\"><path d=\"M22.45,6a5.47,5.47,0,0,1,3.91,1.64,5.7,5.7,0,0,1,0,8L16,26.13,5.64,15.64a5.7,5.7,0,0,1,0-8,5.48,5.48,0,0,1,7.82,0L16,10.24l2.53-2.58A5.44,5.44,0,0,1,22.45,6m0-2a7.47,7.47,0,0,0-5.34,2.24L16,7.36,14.89,6.24a7.49,7.49,0,0,0-10.68,0,7.72,7.72,0,0,0,0,10.82L16,29,27.79,17.06a7.72,7.72,0,0,0,0-10.82A7.49,7.49,0,0,0,22.45,4Z\"></path></svg>\n",
      "\t\t\t\t\t231\n",
      "\n",
      "\t\t\t\t</div></div>\n",
      "\t\t</a></article><article class=\"overview-card-wrapper group/repo white \"><a class=\"flex items-center justify-between gap-4 p-2\" href=\"/datasets/SkunkworksAI/reasoning-0.01\"><div class=\"w-full truncate\"><header class=\"flex items-center mb-0.5\" title=\"SkunkworksAI/reasoning-0.01\">\n",
      "\t\t\t\t<h4 class=\"text-md truncate font-mono text-black dark:group-hover/repo:text-yellow-500 group-hover/repo:text-red-600 text-smd\">SkunkworksAI/reasoning-0.01</h4>\n",
      "\t\t\t\t</header>\n",
      "\t\t\t<div class=\"mr-1 flex items-center overflow-hidden whitespace-nowrap text-sm leading-tight text-gray-400\">\n",
      "\t\t\t\t<span class=\"truncate\">Updated\n",
      "\t\t\t\t\t<time datetime=\"2024-09-14T16:06:30\" title=\"Sat, 14 Sep 2024 16:06:30 GMT\">14 days ago</time></span>\n",
      "\t\t\t\t\n",
      "\t\t\t\t<span class=\"px-1.5 text-gray-300 dark:text-gray-500\">• </span>\n",
      "\t\t\t\t\t<svg class=\"flex-none w-3 text-gray-400 mr-0.5\" xmlns=\"http://www.w3.org/2000/svg\" xmlns:xlink=\"http://www.w3.org/1999/xlink\" aria-hidden=\"true\" focusable=\"false\" role=\"img\" width=\"1em\" height=\"1em\" viewBox=\"0 0 32 32\"><path fill=\"currentColor\" d=\"M26 24v4H6v-4H4v4a2 2 0 0 0 2 2h20a2 2 0 0 0 2-2v-4zm0-10l-1.41-1.41L17 20.17V2h-2v18.17l-7.59-7.58L6 14l10 10l10-10z\"></path></svg>\n",
      "\t\t\t\t\t640\n",
      "\t\t\t\t\n",
      "\t\t\t\t<span class=\"px-1.5 text-gray-300 dark:text-gray-500\">• </span>\n",
      "\t\t\t\t\t<svg class=\"flex-none w-3 text-gray-400 mr-1\" xmlns=\"http://www.w3.org/2000/svg\" xmlns:xlink=\"http://www.w3.org/1999/xlink\" aria-hidden=\"true\" focusable=\"false\" role=\"img\" width=\"1em\" height=\"1em\" preserveAspectRatio=\"xMidYMid meet\" viewBox=\"0 0 32 32\" fill=\"currentColor\"><path d=\"M22.45,6a5.47,5.47,0,0,1,3.91,1.64,5.7,5.7,0,0,1,0,8L16,26.13,5.64,15.64a5.7,5.7,0,0,1,0-8,5.48,5.48,0,0,1,7.82,0L16,10.24l2.53-2.58A5.44,5.44,0,0,1,22.45,6m0-2a7.47,7.47,0,0,0-5.34,2.24L16,7.36,14.89,6.24a7.49,7.49,0,0,0-10.68,0,7.72,7.72,0,0,0,0,10.82L16,29,27.79,17.06a7.72,7.72,0,0,0,0-10.82A7.49,7.49,0,0,0,22.45,4Z\"></path></svg>\n",
      "\t\t\t\t\t227\n",
      "\n",
      "\t\t\t\t</div></div>\n",
      "\t\t</a></article></div>\n",
      "\t\t\t\t<a href=\"/datasets\" class=\"self-center underline decoration-gray-300 underline-offset-8 transition-all hover:decoration-gray-800 hover:underline-offset-[6px] max-sm:mb-5\">Browse 100k+ datasets</a></div></div></div>\n",
      "\n",
      "\t<div class=\"container\"><div class=\"mb-28 flex h-48 w-full flex-col items-stretch rounded-t-[50%] bg-gradient-to-b from-gray-100/60 via-white to-white pt-24 text-center 2xl:mb-32\"><svg class=\"text-3xl 2xl:text-4xl self-center text-gray-900 mb-2 sm:mb-4 flex-none\" style=\"\" xmlns=\"http://www.w3.org/2000/svg\" xmlns:xlink=\"http://www.w3.org/1999/xlink\" aria-hidden=\"true\" focusable=\"false\" role=\"img\" width=\"1em\" height=\"1em\" preserveAspectRatio=\"xMidYMid meet\" viewBox=\"0 0 24 24\"><path class=\"uim-quaternary\" d=\"M20.23 7.24L12 12L3.77 7.24a1.98 1.98 0 0 1 .7-.71L11 2.76c.62-.35 1.38-.35 2 0l6.53 3.77c.29.173.531.418.7.71z\" opacity=\".25\" fill=\"currentColor\"></path><path class=\"uim-tertiary\" d=\"M12 12v9.5a2.09 2.09 0 0 1-.91-.21L4.5 17.48a2.003 2.003 0 0 1-1-1.73v-7.5a2.06 2.06 0 0 1 .27-1.01L12 12z\" opacity=\".5\" fill=\"currentColor\"></path><path class=\"uim-primary\" d=\"M20.5 8.25v7.5a2.003 2.003 0 0 1-1 1.73l-6.62 3.82c-.275.13-.576.198-.88.2V12l8.23-4.76c.175.308.268.656.27 1.01z\" fill=\"currentColor\"></path></svg>\n",
      "\n",
      "\t\t\t<div class=\"mb-2 flex flex-none items-center justify-center gap-2 text-xl font-bold\"><div class=\"mr-4 h-px flex-1 bg-gradient-to-l from-gray-100 to-white\"></div>\n",
      "\t\t\t\t<h2 class=\"text-3xl font-bold 2xl:text-4xl\" style=\"text-wrap: balance;\">The Home of Machine Learning</h2>\n",
      "\t\t\t\t<div class=\"ml-4 h-px flex-1 bg-gradient-to-r from-gray-100 to-white\"></div></div>\n",
      "\n",
      "\t\t\t<p class=\"flex-none text-lg text-gray-500 2xl:text-xl\" style=\"text-wrap: balance;\">Create, discover and collaborate on ML better.\n",
      "\t\t\t</p></div>\n",
      "\n",
      "\t\t<div class=\"mx-auto grid max-w-5xl gap-4 md:gap-8 lg:grid-cols-3 2xl:max-w-7xl\"><div class=\"relative col-span-1 flex h-[400px] flex-col overflow-hidden rounded-xl border bg-white shadow-sm sm:h-[420px] lg:col-span-2 2xl:h-[500px]\"><div class=\"p-6 md:p-8\"><h3 class=\"text-xl font-semibold 2xl:text-2xl\">The collaboration platform</h3>\n",
      "\t\t\t\t\t<p class=\"text-base text-gray-500 2xl:text-lg\">Host and collaborate on unlimited models, datasets and applications.\n",
      "\t\t\t\t\t</p></div>\n",
      "\t\t\t\t<img src=\"/front/assets/homepage/activity.svg\" class=\"ml-auto w-full flex-1 overflow-hidden border-t border-gray-100 object-cover object-left-top\" alt=\"Hub activity feed\">\n",
      "\t\t\t\t<div class=\"pointer-events-none absolute inset-x-0 bottom-0 h-40 select-none bg-gradient-to-tl from-white/80 to-white/0\"></div></div>\n",
      "\t\t\t<div class=\"relative col-span-1 flex h-[390px] flex-col overflow-hidden rounded-xl border bg-white shadow-sm sm:h-[420px] 2xl:h-[500px]\"><div class=\"p-6 md:p-8\"><h3 class=\"text-xl font-semibold 2xl:text-2xl\">Move faster</h3>\n",
      "\t\t\t\t\t<p class=\"text-base text-gray-500 2xl:text-lg\">With the HF Open source stack.</p></div>\n",
      "\t\t\t\t<img src=\"/front/assets/homepage/snippets.svg\" class=\"ml-auto w-full flex-1 overflow-hidden border-t border-gray-100 object-cover object-left-top\" alt=\"Code snippets from HF libraries\">\n",
      "\t\t\t\t<div class=\"pointer-events-none absolute inset-x-0 bottom-0 h-40 select-none bg-gradient-to-tl from-white/80 to-white/0\"></div></div>\n",
      "\t\t\t<div class=\"relative col-span-1 flex h-[390px] flex-col overflow-hidden rounded-xl border bg-white shadow-sm sm:h-[420px] 2xl:h-[500px]\"><div class=\"p-6 md:p-8\"><h3 class=\"text-xl font-semibold 2xl:text-2xl\">Explore all modalities</h3>\n",
      "\t\t\t\t\t<p class=\"text-base text-gray-500 2xl:text-lg\">Text, image, video, audio or even 3D.</p></div>\n",
      "\t\t\t\t<img src=\"/front/assets/homepage/modalities.svg\" class=\"ml-auto w-full overflow-hidden border-t border-gray-100 bg-gray-50 object-cover\" alt=\"Hugging face tasks \"></div>\n",
      "\t\t\t<div class=\"relative col-span-1 flex h-[390px] flex-col overflow-hidden rounded-xl border bg-white shadow-sm sm:h-[420px] lg:col-span-2 2xl:h-[500px]\"><div class=\"flex justify-between p-6 md:p-8\"><div><h3 class=\"text-xl font-semibold 2xl:text-2xl\">Build your portfolio</h3>\n",
      "\t\t\t\t\t\t<p class=\"text-base text-gray-500 2xl:text-lg\">Share your work with the world and build your ML profile.</p></div>\n",
      "\t\t\t\t\t<a class=\"flex-none self-start rounded-full border border-transparent bg-gray-900 px-2.5 py-1.5 text-smd leading-none text-white hover:border-black hover:bg-white hover:text-black\" href=\"/join\">Sign Up\n",
      "\t\t\t\t\t</a></div>\n",
      "\t\t\t\t<img src=\"/front/assets/homepage/younes.svg\" class=\"ml-auto w-full flex-1 overflow-hidden border-t border-gray-100 object-cover object-left-top\" alt=\"Younes Belkada Hugging Face profile\">\n",
      "\t\t\t\t<div class=\"pointer-events-none absolute inset-x-0 bottom-0 h-40 select-none bg-gradient-to-tl from-white/80 to-white/0\"></div></div></div>\n",
      "\n",
      "\t\t<div class=\"flex w-full flex-col items-stretch pb-24 pt-24 text-center\"><div class=\"mb-2 flex items-center justify-center gap-2 text-xl font-bold\"><div class=\"mr-4 h-px flex-1 bg-gradient-to-l from-gray-100 to-white\"></div>\n",
      "\t\t\t\t<h2 class=\"text-3xl font-bold 2xl:text-4xl\">Accelerate your ML</h2>\n",
      "\t\t\t\t<div class=\"ml-4 h-px flex-1 bg-gradient-to-r from-gray-100 to-white\"></div></div>\n",
      "\n",
      "\t\t\t<p class=\"text-lg text-gray-500 2xl:text-xl\" style=\"text-wrap: balance;\">We provide paid Compute and Enterprise solutions.\n",
      "\t\t\t</p></div>\n",
      "\t\t<div class=\"mx-auto grid max-w-5xl grid-cols-1 gap-10 2xl:max-w-7xl\"><div class=\"col-span-1 grid h-[450px] grid-cols-1 items-center overflow-hidden rounded-xl border bg-white shadow-sm lg:h-[400px] lg:grid-cols-3\"><div class=\"col-span-1 p-7 md:p-10\"><h3 class=\"mb-4 text-2xl font-semibold\">Compute</h3>\n",
      "\t\t\t\t\t<p class=\"mb-6 text-base text-gray-500 lg:mb-8 2xl:text-lg\" style=\"text-wrap: balance;\">Deploy on optimized <a class=\"underline\" href=\"/pricing#endpoints\">Inference Endpoints</a> or update your\n",
      "\t\t\t\t\t\t<a class=\"underline\" href=\"/pricing#spaces\">Spaces applications</a> to a GPU in a few clicks.\n",
      "\t\t\t\t\t</p>\n",
      "\t\t\t\t\t<div class=\"flex items-center gap-x-2.5 whitespace-nowrap sm:gap-x-3.5\"><a class=\"leading-black rounded-lg border border-transparent bg-black px-3.5 py-1 text-base text-white hover:border-black hover:bg-white hover:text-gray-900 2xl:text-lg\" href=\"/pricing\">View pricing\n",
      "\t\t\t\t\t\t</a>\n",
      "\t\t\t\t\t\t<p class=\"text-smd text-gray-400 2xl:text-base\">Starting at $0.60/hour for GPU</p></div></div>\n",
      "\t\t\t\t<div class=\"col-span-1 self-stretch lg:col-span-2\"><img src=\"/front/assets/homepage/compute.svg\" alt=\"Hugging face compute offering\" class=\"pointer-events-none h-full w-full select-none bg-bottom object-cover object-left\"></div></div>\n",
      "\t\t\t<div class=\"relative col-span-1 grid h-[450px] grid-cols-1 items-center rounded-xl bg-gradient-to-b from-gray-900 to-gray-950 text-gray-200 shadow-sm lg:h-[400px] lg:grid-cols-3\"><div class=\"col-span-1 p-7 md:p-10\"><h3 class=\"mb-4 text-2xl font-semibold\">Enterprise</h3>\n",
      "\t\t<p class=\"mb-6 text-base text-gray-500 lg:mb-8 2xl:text-lg\" style=\"text-wrap: balance;\">Give your team the most advanced platform to build AI with enterprise-grade security, access controls and\n",
      "\t\t\tdedicated support.\n",
      "\t\t</p>\n",
      "\t\t<div class=\"flex items-center gap-x-2.5 whitespace-nowrap sm:gap-x-3.5\"><a class=\"leading-black rounded-lg border border-transparent bg-gray-200 px-3.5 py-1 text-base text-gray-900 hover:border-white hover:bg-black hover:text-white 2xl:text-lg\" href=\"/enterprise\">Getting started\n",
      "\t\t\t</a>\n",
      "\t\t\t<p class=\"text-smd text-gray-400 2xl:text-base\">Starting at $20/user/month</p></div></div>\n",
      "\t<div class=\"col-span-1 self-stretch rounded-r-xl lg:relative lg:col-span-2 lg:ml-8\"><div class=\"absolute right-20 top-8 hidden h-[300px] w-full max-w-2xl lg:block\"><a href=\"/enterprise\" class=\"top-16 left-24 absolute z-2 rounded-lg border border-white/10 bg-white/10 px-4 py-2 text-sm font-semibold text-white backdrop-blur-sm transition-all duration-200 hover:bg-white/15\">Single Sign-On</a><a href=\"/enterprise\" class=\"left-1/2 -translate-x-1/2 absolute z-2 rounded-lg border border-white/10 bg-white/10 px-4 py-2 text-sm font-semibold text-white backdrop-blur-sm transition-all duration-200 hover:bg-white/15\">Regions</a><a href=\"/enterprise\" class=\"right-10 bottom-16 absolute z-2 rounded-lg border border-white/10 bg-white/10 px-4 py-2 text-sm font-semibold text-white backdrop-blur-sm transition-all duration-200 hover:bg-white/15\">Priority Support</a><a href=\"/enterprise\" class=\"left-10 xl:left-6 bottom-1/3 absolute z-2 rounded-lg border border-white/10 bg-white/10 px-4 py-2 text-sm font-semibold text-white backdrop-blur-sm transition-all duration-200 hover:bg-white/15\">Audit Logs</a><a href=\"/enterprise\" class=\"bottom-0 right-1/2 absolute z-2 rounded-lg border border-white/10 bg-white/10 px-4 py-2 text-sm font-semibold text-white backdrop-blur-sm transition-all duration-200 hover:bg-white/15\">Resource Groups</a><a href=\"/enterprise\" class=\"right-0 top-20 absolute z-2 rounded-lg border border-white/10 bg-white/10 px-4 py-2 text-sm font-semibold text-white backdrop-blur-sm transition-all duration-200 hover:bg-white/15\">Private Datasets Viewer</a></div>\n",
      "\t\t<div class=\"pointer-events-none absolute right-0 top-0 hidden h-64 w-64 overflow-hidden rounded-r-xl lg:block\"><div class=\"-translate-y-20 translate-x-16\"><svg class=\"w-full h-full animate__bounce pointer-events-none [animation-duration:11s]\" style=\"--rotation-angle: -30deg;\" xmlns=\"http://www.w3.org/2000/svg\" xmlns:xlink=\"http://www.w3.org/1999/xlink\" aria-hidden=\"true\" focusable=\"false\" role=\"img\" width=\"1em\" height=\"1em\" preserveAspectRatio=\"xMidYMid meet\" viewBox=\"0 0 24 24\"><path class=\"uim-quaternary fill-[#4A4E57]\" d=\"M20.23 7.24L12 12L3.77 7.24a1.98 1.98 0 0 1 .7-.71L11 2.76c.62-.35 1.38-.35 2 0l6.53 3.77c.29.173.531.418.7.71z\"></path><path class=\"uim-tertiary fill-[#86898F]\" d=\"M12 12v9.5a2.09 2.09 0 0 1-.91-.21L4.5 17.48a2.003 2.003 0 0 1-1-1.73v-7.5a2.06 2.06 0 0 1 .27-1.01L12 12z\"></path><path class=\"uim-primary fill-white\" d=\"M20.5 8.25v7.5a2.003 2.003 0 0 1-1 1.73l-6.62 3.82c-.275.13-.576.198-.88.2V12l8.23-4.76c.175.308.268.656.27 1.01z\"></path></svg></div></div>\n",
      "\t\t<svg class=\"absolute text-8xl z-1 -top-8 right-32 lg:left-32 animate__bounce pointer-events-none [animation-duration:12s]\" style=\"--rotation-angle: 16deg;\" xmlns=\"http://www.w3.org/2000/svg\" xmlns:xlink=\"http://www.w3.org/1999/xlink\" aria-hidden=\"true\" focusable=\"false\" role=\"img\" width=\"1em\" height=\"1em\" preserveAspectRatio=\"xMidYMid meet\" viewBox=\"0 0 24 24\"><path class=\"uim-quaternary fill-[#4A4E57]\" d=\"M20.23 7.24L12 12L3.77 7.24a1.98 1.98 0 0 1 .7-.71L11 2.76c.62-.35 1.38-.35 2 0l6.53 3.77c.29.173.531.418.7.71z\"></path><path class=\"uim-tertiary fill-[#86898F]\" d=\"M12 12v9.5a2.09 2.09 0 0 1-.91-.21L4.5 17.48a2.003 2.003 0 0 1-1-1.73v-7.5a2.06 2.06 0 0 1 .27-1.01L12 12z\"></path><path class=\"uim-primary fill-white\" d=\"M20.5 8.25v7.5a2.003 2.003 0 0 1-1 1.73l-6.62 3.82c-.275.13-.576.198-.88.2V12l8.23-4.76c.175.308.268.656.27 1.01z\"></path></svg>\n",
      "\t\t<svg class=\"absolute w-36 h-36 lg:w-44 lg:h-44 z-1 bottom-6 left-8 sm:left-16 animate__bounce pointer-events-none [animation-duration:9s]\" style=\"--rotation-angle: -75deg;\" xmlns=\"http://www.w3.org/2000/svg\" xmlns:xlink=\"http://www.w3.org/1999/xlink\" aria-hidden=\"true\" focusable=\"false\" role=\"img\" width=\"1em\" height=\"1em\" preserveAspectRatio=\"xMidYMid meet\" viewBox=\"0 0 24 24\"><path class=\"uim-quaternary fill-[#4A4E57]\" d=\"M20.23 7.24L12 12L3.77 7.24a1.98 1.98 0 0 1 .7-.71L11 2.76c.62-.35 1.38-.35 2 0l6.53 3.77c.29.173.531.418.7.71z\"></path><path class=\"uim-tertiary fill-[#86898F]\" d=\"M12 12v9.5a2.09 2.09 0 0 1-.91-.21L4.5 17.48a2.003 2.003 0 0 1-1-1.73v-7.5a2.06 2.06 0 0 1 .27-1.01L12 12z\"></path><path class=\"uim-primary fill-white\" d=\"M20.5 8.25v7.5a2.003 2.003 0 0 1-1 1.73l-6.62 3.82c-.275.13-.576.198-.88.2V12l8.23-4.76c.175.308.268.656.27 1.01z\"></path></svg>\n",
      "\t\t<svg class=\"absolute text-6xl z-1 left-1/2 top-20 animate__bounce pointer-events-none [animation-duration:7s] blur-[1px] hidden lg:block\" style=\"--rotation-angle: 35deg;\" xmlns=\"http://www.w3.org/2000/svg\" xmlns:xlink=\"http://www.w3.org/1999/xlink\" aria-hidden=\"true\" focusable=\"false\" role=\"img\" width=\"1em\" height=\"1em\" preserveAspectRatio=\"xMidYMid meet\" viewBox=\"0 0 24 24\"><path class=\"uim-quaternary fill-[#4A4E57]\" d=\"M20.23 7.24L12 12L3.77 7.24a1.98 1.98 0 0 1 .7-.71L11 2.76c.62-.35 1.38-.35 2 0l6.53 3.77c.29.173.531.418.7.71z\"></path><path class=\"uim-tertiary fill-[#86898F]\" d=\"M12 12v9.5a2.09 2.09 0 0 1-.91-.21L4.5 17.48a2.003 2.003 0 0 1-1-1.73v-7.5a2.06 2.06 0 0 1 .27-1.01L12 12z\"></path><path class=\"uim-primary fill-white\" d=\"M20.5 8.25v7.5a2.003 2.003 0 0 1-1 1.73l-6.62 3.82c-.275.13-.576.198-.88.2V12l8.23-4.76c.175.308.268.656.27 1.01z\"></path></svg>\n",
      "\t\t<svg class=\"absolute text-6xl z-1 left-1/3 top-32 animate__bounce pointer-events-none [animation-duration:13s] blur-[1px] hidden lg:block\" style=\"--rotation-angle: 28deg;\" xmlns=\"http://www.w3.org/2000/svg\" xmlns:xlink=\"http://www.w3.org/1999/xlink\" aria-hidden=\"true\" focusable=\"false\" role=\"img\" width=\"1em\" height=\"1em\" preserveAspectRatio=\"xMidYMid meet\" viewBox=\"0 0 25 25\"><ellipse cx=\"12.5\" cy=\"5\" class=\"fill-[#4A4E57]\" rx=\"7.5\" ry=\"2\"></ellipse><path d=\"M12.5 15C16.6421 15 20 14.1046 20 13V20C20 21.1046 16.6421 22 12.5 22C8.35786 22 5 21.1046 5 20V13C5 14.1046 8.35786 15 12.5 15Z\" class=\"fill-[#86898F]\"></path><path d=\"M12.5 7C16.6421 7 20 6.10457 20 5V11.5C20 12.6046 16.6421 13.5 12.5 13.5C8.35786 13.5 5 12.6046 5 11.5V5C5 6.10457 8.35786 7 12.5 7Z\" class=\"fill-[#86898F]\"></path><path d=\"M5.23628 12C5.08204 12.1598 5 12.8273 5 13C5 14.1046 8.35786 15 12.5 15C16.6421 15 20 14.1046 20 13C20 12.8273 19.918 12.1598 19.7637 12C18.9311 12.8626 15.9947 13.5 12.5 13.5C9.0053 13.5 6.06886 12.8626 5.23628 12Z\" class=\"fill-white\"></path></svg>\n",
      "\t\t<svg class=\"absolute w-44 h-44 lg:w-56 lg:h-56 z-1 -bottom-10 lg:-bottom-16 right-10 lg:right-1/4 sm:right-32 animate__bounce pointer-events-none [animation-duration:11s]\" style=\"--rotation-angle: -36deg;\" xmlns=\"http://www.w3.org/2000/svg\" xmlns:xlink=\"http://www.w3.org/1999/xlink\" aria-hidden=\"true\" focusable=\"false\" role=\"img\" width=\"1em\" height=\"1em\" preserveAspectRatio=\"xMidYMid meet\" viewBox=\"0 0 25 25\"><ellipse cx=\"12.5\" cy=\"5\" class=\"fill-[#4A4E57]\" rx=\"7.5\" ry=\"2\"></ellipse><path d=\"M12.5 15C16.6421 15 20 14.1046 20 13V20C20 21.1046 16.6421 22 12.5 22C8.35786 22 5 21.1046 5 20V13C5 14.1046 8.35786 15 12.5 15Z\" class=\"fill-[#86898F]\"></path><path d=\"M12.5 7C16.6421 7 20 6.10457 20 5V11.5C20 12.6046 16.6421 13.5 12.5 13.5C8.35786 13.5 5 12.6046 5 11.5V5C5 6.10457 8.35786 7 12.5 7Z\" class=\"fill-[#86898F]\"></path><path d=\"M5.23628 12C5.08204 12.1598 5 12.8273 5 13C5 14.1046 8.35786 15 12.5 15C16.6421 15 20 14.1046 20 13C20 12.8273 19.918 12.1598 19.7637 12C18.9311 12.8626 15.9947 13.5 12.5 13.5C9.0053 13.5 6.06886 12.8626 5.23628 12Z\" class=\"fill-white\"></path></svg></div></div>\n",
      "\t\t\t<div class=\"col-span-1 mt-0 px-4 pb-8 text-center sm:mt-12 2xl:pb-8\"><div class=\"mb-8 flex flex-none items-center justify-center gap-2\"><div class=\"mr-2 h-px flex-1 bg-gradient-to-l from-gray-100 to-white\"></div>\n",
      "\t\t\t\t\t<h2 class=\"text-base text-gray-500\" style=\"text-wrap: balance;\">More than 50,000 organizations are using Hugging Face\n",
      "\t\t\t\t\t</h2>\n",
      "\t\t\t\t\t<div class=\"ml-2 h-px flex-1 bg-gradient-to-r from-gray-100 to-white\"></div></div>\n",
      "\t\t\t\t<div class=\"grid gap-3 text-left md:grid-cols-2 lg:grid-cols-4\"><article class=\"overview-card-wrapper   \"><a class=\"flex w-max flex-1 items-center overflow-hidden p-2\" href=\"/allenai\"><img alt=\"Ai2's profile picture\" class=\"mr-3 flex-none rounded-lg h-8 w-8\" src=\"https://cdn-avatars.huggingface.co/v1/production/uploads/652db071b62cf1f8463221e2/CxxwFiaomTa1MCX_B7-pT.png\">\n",
      "\t\t<div class=\"overflow-hidden pr-0.5 text-left leading-tight\"><div class=\"flex items-center gap-3\"><h4 href=\"/allenai\" class=\"truncate font-semibold \" title=\"Ai2\">Ai2</h4>\n",
      "\t\t\t\t</div>\n",
      "\t\t\t<div class=\"truncate text-sm text-gray-400 leading-tight\"><span class=\"capitalize\">non-profit</span>\n",
      "\t\t\t\t<span class=\"px-0.5 text-xs text-gray-300\">•</span>\n",
      "\t\t\t\t333 models\n",
      "\t\t\t\t</div></div></a>\n",
      "\t</article><article class=\"overview-card-wrapper   \"><a class=\"flex w-max flex-1 items-center overflow-hidden p-2\" href=\"/facebook\"><img alt=\"AI at Meta's profile picture\" class=\"mr-3 flex-none rounded-lg h-8 w-8\" src=\"https://cdn-avatars.huggingface.co/v1/production/uploads/1592839207516-noauth.png\">\n",
      "\t\t<div class=\"overflow-hidden pr-0.5 text-left leading-tight\"><div class=\"flex items-center gap-3\"><h4 href=\"/facebook\" class=\"truncate font-semibold \" title=\"AI at Meta\">AI at Meta</h4>\n",
      "\t\t\t\t<span class=\"inline-block -skew-x-12 border border-gray-200 bg-gradient-to-br from-white to-gray-100 font-semibold leading-none text-gray-900 shadow-sm will-change-transform dark:to-gray-500 dark:text-gray-900 rounded-md px-1.5 py-0.5 text-xs \">Enterprise\n",
      "</span></div>\n",
      "\t\t\t<div class=\"truncate text-sm text-gray-400 leading-tight\"><span class=\"capitalize\">company</span>\n",
      "\t\t\t\t<span class=\"px-0.5 text-xs text-gray-300\">•</span>\n",
      "\t\t\t\t2004 models\n",
      "\t\t\t\t</div></div></a>\n",
      "\t</article><article class=\"overview-card-wrapper   \"><a class=\"flex w-max flex-1 items-center overflow-hidden p-2\" href=\"/amazon\"><img alt=\"Amazon Web Services's profile picture\" class=\"mr-3 flex-none rounded-lg h-8 w-8\" src=\"https://cdn-avatars.huggingface.co/v1/production/uploads/1625068211554-5e67de201009063689407481.png\">\n",
      "\t\t<div class=\"overflow-hidden pr-0.5 text-left leading-tight\"><div class=\"flex items-center gap-3\"><h4 href=\"/amazon\" class=\"truncate font-semibold \" title=\"Amazon Web Services\">Amazon Web Services</h4>\n",
      "\t\t\t\t</div>\n",
      "\t\t\t<div class=\"truncate text-sm text-gray-400 leading-tight\"><span class=\"capitalize\">company</span>\n",
      "\t\t\t\t<span class=\"px-0.5 text-xs text-gray-300\">•</span>\n",
      "\t\t\t\t17 models\n",
      "\t\t\t\t</div></div></a>\n",
      "\t</article><article class=\"overview-card-wrapper   \"><a class=\"flex w-max flex-1 items-center overflow-hidden p-2\" href=\"/google\"><img alt=\"Google's profile picture\" class=\"mr-3 flex-none rounded-lg h-8 w-8\" src=\"https://cdn-avatars.huggingface.co/v1/production/uploads/5dd96eb166059660ed1ee413/WtA3YYitedOr9n02eHfJe.png\">\n",
      "\t\t<div class=\"overflow-hidden pr-0.5 text-left leading-tight\"><div class=\"flex items-center gap-3\"><h4 href=\"/google\" class=\"truncate font-semibold \" title=\"Google\">Google</h4>\n",
      "\t\t\t\t</div>\n",
      "\t\t\t<div class=\"truncate text-sm text-gray-400 leading-tight\"><span class=\"capitalize\">company</span>\n",
      "\t\t\t\t<span class=\"px-0.5 text-xs text-gray-300\">•</span>\n",
      "\t\t\t\t863 models\n",
      "\t\t\t\t</div></div></a>\n",
      "\t</article><article class=\"overview-card-wrapper   \"><a class=\"flex w-max flex-1 items-center overflow-hidden p-2\" href=\"/Intel\"><img alt=\"Intel's profile picture\" class=\"mr-3 flex-none rounded-lg h-8 w-8\" src=\"https://cdn-avatars.huggingface.co/v1/production/uploads/1616186257611-60104afcc75e19ac1738fe70.png\">\n",
      "\t\t<div class=\"overflow-hidden pr-0.5 text-left leading-tight\"><div class=\"flex items-center gap-3\"><h4 href=\"/Intel\" class=\"truncate font-semibold \" title=\"Intel\">Intel</h4>\n",
      "\t\t\t\t</div>\n",
      "\t\t\t<div class=\"truncate text-sm text-gray-400 leading-tight\"><span class=\"capitalize\">company</span>\n",
      "\t\t\t\t<span class=\"px-0.5 text-xs text-gray-300\">•</span>\n",
      "\t\t\t\t200 models\n",
      "\t\t\t\t</div></div></a>\n",
      "\t</article><article class=\"overview-card-wrapper   \"><a class=\"flex w-max flex-1 items-center overflow-hidden p-2\" href=\"/microsoft\"><img alt=\"Microsoft's profile picture\" class=\"mr-3 flex-none rounded-lg h-8 w-8\" src=\"https://cdn-avatars.huggingface.co/v1/production/uploads/1583646260758-5e64858c87403103f9f1055d.png\">\n",
      "\t\t<div class=\"overflow-hidden pr-0.5 text-left leading-tight\"><div class=\"flex items-center gap-3\"><h4 href=\"/microsoft\" class=\"truncate font-semibold \" title=\"Microsoft\">Microsoft</h4>\n",
      "\t\t\t\t</div>\n",
      "\t\t\t<div class=\"truncate text-sm text-gray-400 leading-tight\"><span class=\"capitalize\">company</span>\n",
      "\t\t\t\t<span class=\"px-0.5 text-xs text-gray-300\">•</span>\n",
      "\t\t\t\t334 models\n",
      "\t\t\t\t</div></div></a>\n",
      "\t</article><article class=\"overview-card-wrapper   \"><a class=\"flex w-max flex-1 items-center overflow-hidden p-2\" href=\"/grammarly\"><img alt=\"Grammarly's profile picture\" class=\"mr-3 flex-none rounded-lg h-8 w-8\" src=\"https://cdn-avatars.huggingface.co/v1/production/uploads/60985a0547dc3dbf8a976607/rRv-TjtvhN66uwh-xYaCf.png\">\n",
      "\t\t<div class=\"overflow-hidden pr-0.5 text-left leading-tight\"><div class=\"flex items-center gap-3\"><h4 href=\"/grammarly\" class=\"truncate font-semibold \" title=\"Grammarly\">Grammarly</h4>\n",
      "\t\t\t\t</div>\n",
      "\t\t\t<div class=\"truncate text-sm text-gray-400 leading-tight\"><span class=\"capitalize\">company</span>\n",
      "\t\t\t\t<span class=\"px-0.5 text-xs text-gray-300\">•</span>\n",
      "\t\t\t\t10 models\n",
      "\t\t\t\t</div></div></a>\n",
      "\t</article><article class=\"overview-card-wrapper   \"><a class=\"flex w-max flex-1 items-center overflow-hidden p-2\" href=\"/Writer\"><img alt=\"Writer's profile picture\" class=\"mr-3 flex-none rounded-lg h-8 w-8\" src=\"https://cdn-avatars.huggingface.co/v1/production/uploads/1625001569797-60db8b5ad8b4797b129145d5.png\">\n",
      "\t\t<div class=\"overflow-hidden pr-0.5 text-left leading-tight\"><div class=\"flex items-center gap-3\"><h4 href=\"/Writer\" class=\"truncate font-semibold \" title=\"Writer\">Writer</h4>\n",
      "\t\t\t\t<span class=\"inline-block -skew-x-12 border border-gray-200 bg-gradient-to-br from-white to-gray-100 font-semibold leading-none text-gray-900 shadow-sm will-change-transform dark:to-gray-500 dark:text-gray-900 rounded-md px-1.5 py-0.5 text-xs \">Enterprise\n",
      "</span></div>\n",
      "\t\t\t<div class=\"truncate text-sm text-gray-400 leading-tight\"><span class=\"capitalize\">company</span>\n",
      "\t\t\t\t<span class=\"px-0.5 text-xs text-gray-300\">•</span>\n",
      "\t\t\t\t16 models\n",
      "\t\t\t\t</div></div></a>\n",
      "\t</article></div></div></div>\n",
      "\t\t<div class=\"mb-8 flex h-40 w-full flex-col items-stretch rounded-b-[50%] bg-gradient-to-t from-gray-100/60 via-white to-white pt-16 text-center\"></div>\n",
      "\n",
      "\t\t<div class=\"flex h-56 w-full flex-col items-stretch pt-12 text-center\"><svg class=\"text-3xl 2xl:text-4xl self-center text-gray-900 mb-2 sm:mb-4 flex-none\" xmlns=\"http://www.w3.org/2000/svg\" xmlns:xlink=\"http://www.w3.org/1999/xlink\" aria-hidden=\"true\" focusable=\"false\" role=\"img\" width=\"1em\" height=\"1em\" preserveAspectRatio=\"xMidYMid meet\" viewBox=\"0 0 16 17\"><path fill=\"currentColor\" fill-opacity=\".25\" fill-rule=\"evenodd\" d=\"M10.4 3c-1 0-1.9.8-1.9 1.8v1.8c0 1 .8 1.9 1.9 1.9h1.8c1 0 1.9-.8 1.9-1.9V4.8a2 2 0 0 0-1.9-1.9h-1.8ZM3.9 8.4c-1 0-1.9.8-1.9 1.9v1.8c0 1 .8 1.9 1.9 1.9h1.8a2 2 0 0 0 1.9-1.9v-1.8a2 2 0 0 0-1.9-1.9H4Z\" clip-rule=\"evenodd\"></path><path fill=\"currentColor\" fill-opacity=\".5\" fill-rule=\"evenodd\" d=\"M3.9 2C2.9 2 2 2.8 2 3.9v1.8c0 1 .8 1.9 1.9 1.9h1.8a2 2 0 0 0 1.9-1.9V4a2 2 0 0 0-1.9-1.9H4Zm6.5 7.4a2 2 0 0 0-1.9 1.9V13c0 1 .8 1.9 1.9 1.9h1.8c1 0 1.9-.8 1.9-1.9v-1.8a2 2 0 0 0-1.9-1.9h-1.8Z\" clip-rule=\"evenodd\"></path></svg>\n",
      "\n",
      "\t\t\t<div class=\"mb-2 flex items-center justify-center gap-2 text-xl font-bold\"><div class=\"mr-4 h-px flex-1 bg-gradient-to-l from-gray-100 to-white\"></div>\n",
      "\t\t\t\t<h2 class=\"text-3xl font-bold 2xl:text-4xl\">Our Open Source</h2>\n",
      "\t\t\t\t<div class=\"ml-4 h-px flex-1 bg-gradient-to-r from-gray-100 to-white\"></div></div>\n",
      "\n",
      "\t\t\t<p class=\"text-lg text-gray-500 2xl:text-xl\" style=\"text-wrap: balance;\">We are building the foundation of ML tooling with the community.\n",
      "\t\t\t</p></div>\n",
      "\t\t<div class=\"relative mx-auto grid max-w-6xl translate-y-14 grid-cols-2 gap-3 overflow-hidden sm:gap-5 lg:grid-cols-4 2xl:max-w-7xl\"><div class=\"absolute inset-x-0 h-1/2 translate-y-1/2 rotate-6 select-none rounded-[50%] bg-gradient-to-b from-pink-500/10 via-white to-indigo-500/10 blur-2xl\"></div>\n",
      "\t\t\t\n",
      "\t\t\t\t\n",
      "\t\t\t\t<a href=\"/docs/transformers\" class=\"relative col-span-1 flex h-48 flex-col rounded-[1.6rem] border border-gray-100 bg-white/80 p-5 shadow-sm transition-transform will-change-transform hover:translate-y-px hover:shadow-inner sm:h-56 sm:p-6 2xl:h-72 2xl:p-10  \"><h4 class=\"flex items-center gap-1.5 text-lg font-bold !leading-tight sm:gap-2 sm:text-xl 2xl:text-2xl\"><div class=\"h-2 w-2 flex-none rounded-full bg-orange-500\"></div>\n",
      "\t\t\t\t\t\t\tTransformers</h4>\n",
      "\t\t\t\t\t\t<div class=\"flex items-center gap-1.5 text-lg\"><svg class=\"text-xs text-gray-700\" xmlns=\"http://www.w3.org/2000/svg\" xmlns:xlink=\"http://www.w3.org/1999/xlink\" aria-hidden=\"true\" focusable=\"false\" role=\"img\" width=\"1.03em\" height=\"1em\" preserveAspectRatio=\"xMidYMid meet\" viewBox=\"0 0 256 250\"><path d=\"M128.001 0C57.317 0 0 57.307 0 128.001c0 56.554 36.676 104.535 87.535 121.46c6.397 1.185 8.746-2.777 8.746-6.158c0-3.052-.12-13.135-.174-23.83c-35.61 7.742-43.124-15.103-43.124-15.103c-5.823-14.795-14.213-18.73-14.213-18.73c-11.613-7.944.876-7.78.876-7.78c12.853.902 19.621 13.19 19.621 13.19c11.417 19.568 29.945 13.911 37.249 10.64c1.149-8.272 4.466-13.92 8.127-17.116c-28.431-3.236-58.318-14.212-58.318-63.258c0-13.975 5-25.394 13.188-34.358c-1.329-3.224-5.71-16.242 1.24-33.874c0 0 10.749-3.44 35.21 13.121c10.21-2.836 21.16-4.258 32.038-4.307c10.878.049 21.837 1.47 32.066 4.307c24.431-16.56 35.165-13.12 35.165-13.12c6.967 17.63 2.584 30.65 1.255 33.873c8.207 8.964 13.173 20.383 13.173 34.358c0 49.163-29.944 59.988-58.447 63.157c4.591 3.972 8.682 11.762 8.682 23.704c0 17.126-.148 30.91-.148 35.126c0 3.407 2.304 7.398 8.792 6.14C219.37 232.5 256 184.537 256 128.002C256 57.307 198.691 0 128.001 0zm-80.06 182.34c-.282.636-1.283.827-2.194.39c-.929-.417-1.45-1.284-1.15-1.922c.276-.655 1.279-.838 2.205-.399c.93.418 1.46 1.293 1.139 1.931zm6.296 5.618c-.61.566-1.804.303-2.614-.591c-.837-.892-.994-2.086-.375-2.66c.63-.566 1.787-.301 2.626.591c.838.903 1 2.088.363 2.66zm4.32 7.188c-.785.545-2.067.034-2.86-1.104c-.784-1.138-.784-2.503.017-3.05c.795-.547 2.058-.055 2.861 1.075c.782 1.157.782 2.522-.019 3.08zm7.304 8.325c-.701.774-2.196.566-3.29-.49c-1.119-1.032-1.43-2.496-.726-3.27c.71-.776 2.213-.558 3.315.49c1.11 1.03 1.45 2.505.701 3.27zm9.442 2.81c-.31 1.003-1.75 1.459-3.199 1.033c-1.448-.439-2.395-1.613-2.103-2.626c.301-1.01 1.747-1.484 3.207-1.028c1.446.436 2.396 1.602 2.095 2.622zm10.744 1.193c.036 1.055-1.193 1.93-2.715 1.95c-1.53.034-2.769-.82-2.786-1.86c0-1.065 1.202-1.932 2.733-1.958c1.522-.03 2.768.818 2.768 1.868zm10.555-.405c.182 1.03-.875 2.088-2.387 2.37c-1.485.271-2.861-.365-3.05-1.386c-.184-1.056.893-2.114 2.376-2.387c1.514-.263 2.868.356 3.061 1.403z\" fill=\"currentColor\"></path></svg>\n",
      "\t\t\t\t\t\t\t\t<span>132,671</span></div>\n",
      "\t\t\t\t\t\t<p class=\"mt-auto text-sm text-gray-500 md:text-base 2xl:text-lg\">State-of-the-art ML for Pytorch, TensorFlow, and JAX.</p>\n",
      "\t\t\t\t\t</a>\n",
      "\t\t\t\t\n",
      "\t\t\t\t<a href=\"/docs/diffusers\" class=\"relative col-span-1 flex h-48 flex-col rounded-[1.6rem] border border-gray-100 bg-white/80 p-5 shadow-sm transition-transform will-change-transform hover:translate-y-px hover:shadow-inner sm:h-56 sm:p-6 2xl:h-72 2xl:p-10 lg:translate-y-12 lg:hover:!translate-y-[calc(3rem+1px)] \"><h4 class=\"flex items-center gap-1.5 text-lg font-bold !leading-tight sm:gap-2 sm:text-xl 2xl:text-2xl\"><div class=\"h-2 w-2 flex-none rounded-full bg-violet-500\"></div>\n",
      "\t\t\t\t\t\t\tDiffusers</h4>\n",
      "\t\t\t\t\t\t<div class=\"flex items-center gap-1.5 text-lg\"><svg class=\"text-xs text-gray-700\" xmlns=\"http://www.w3.org/2000/svg\" xmlns:xlink=\"http://www.w3.org/1999/xlink\" aria-hidden=\"true\" focusable=\"false\" role=\"img\" width=\"1.03em\" height=\"1em\" preserveAspectRatio=\"xMidYMid meet\" viewBox=\"0 0 256 250\"><path d=\"M128.001 0C57.317 0 0 57.307 0 128.001c0 56.554 36.676 104.535 87.535 121.46c6.397 1.185 8.746-2.777 8.746-6.158c0-3.052-.12-13.135-.174-23.83c-35.61 7.742-43.124-15.103-43.124-15.103c-5.823-14.795-14.213-18.73-14.213-18.73c-11.613-7.944.876-7.78.876-7.78c12.853.902 19.621 13.19 19.621 13.19c11.417 19.568 29.945 13.911 37.249 10.64c1.149-8.272 4.466-13.92 8.127-17.116c-28.431-3.236-58.318-14.212-58.318-63.258c0-13.975 5-25.394 13.188-34.358c-1.329-3.224-5.71-16.242 1.24-33.874c0 0 10.749-3.44 35.21 13.121c10.21-2.836 21.16-4.258 32.038-4.307c10.878.049 21.837 1.47 32.066 4.307c24.431-16.56 35.165-13.12 35.165-13.12c6.967 17.63 2.584 30.65 1.255 33.873c8.207 8.964 13.173 20.383 13.173 34.358c0 49.163-29.944 59.988-58.447 63.157c4.591 3.972 8.682 11.762 8.682 23.704c0 17.126-.148 30.91-.148 35.126c0 3.407 2.304 7.398 8.792 6.14C219.37 232.5 256 184.537 256 128.002C256 57.307 198.691 0 128.001 0zm-80.06 182.34c-.282.636-1.283.827-2.194.39c-.929-.417-1.45-1.284-1.15-1.922c.276-.655 1.279-.838 2.205-.399c.93.418 1.46 1.293 1.139 1.931zm6.296 5.618c-.61.566-1.804.303-2.614-.591c-.837-.892-.994-2.086-.375-2.66c.63-.566 1.787-.301 2.626.591c.838.903 1 2.088.363 2.66zm4.32 7.188c-.785.545-2.067.034-2.86-1.104c-.784-1.138-.784-2.503.017-3.05c.795-.547 2.058-.055 2.861 1.075c.782 1.157.782 2.522-.019 3.08zm7.304 8.325c-.701.774-2.196.566-3.29-.49c-1.119-1.032-1.43-2.496-.726-3.27c.71-.776 2.213-.558 3.315.49c1.11 1.03 1.45 2.505.701 3.27zm9.442 2.81c-.31 1.003-1.75 1.459-3.199 1.033c-1.448-.439-2.395-1.613-2.103-2.626c.301-1.01 1.747-1.484 3.207-1.028c1.446.436 2.396 1.602 2.095 2.622zm10.744 1.193c.036 1.055-1.193 1.93-2.715 1.95c-1.53.034-2.769-.82-2.786-1.86c0-1.065 1.202-1.932 2.733-1.958c1.522-.03 2.768.818 2.768 1.868zm10.555-.405c.182 1.03-.875 2.088-2.387 2.37c-1.485.271-2.861-.365-3.05-1.386c-.184-1.056.893-2.114 2.376-2.387c1.514-.263 2.868.356 3.061 1.403z\" fill=\"currentColor\"></path></svg>\n",
      "\t\t\t\t\t\t\t\t<span>25,309</span></div>\n",
      "\t\t\t\t\t\t<p class=\"mt-auto text-sm text-gray-500 md:text-base 2xl:text-lg\">State-of-the-art diffusion models for image and audio generation in PyTorch.</p>\n",
      "\t\t\t\t\t</a>\n",
      "\t\t\t\t\n",
      "\t\t\t\t<a href=\"/docs/safetensors\" class=\"relative col-span-1 flex h-48 flex-col rounded-[1.6rem] border border-gray-100 bg-white/80 p-5 shadow-sm transition-transform will-change-transform hover:translate-y-px hover:shadow-inner sm:h-56 sm:p-6 2xl:h-72 2xl:p-10  \"><h4 class=\"flex items-center gap-1.5 text-lg font-bold !leading-tight sm:gap-2 sm:text-xl 2xl:text-2xl\"><div class=\"h-2 w-2 flex-none rounded-full bg-violet-500\"></div>\n",
      "\t\t\t\t\t\t\tSafetensors</h4>\n",
      "\t\t\t\t\t\t<div class=\"flex items-center gap-1.5 text-lg\"><svg class=\"text-xs text-gray-700\" xmlns=\"http://www.w3.org/2000/svg\" xmlns:xlink=\"http://www.w3.org/1999/xlink\" aria-hidden=\"true\" focusable=\"false\" role=\"img\" width=\"1.03em\" height=\"1em\" preserveAspectRatio=\"xMidYMid meet\" viewBox=\"0 0 256 250\"><path d=\"M128.001 0C57.317 0 0 57.307 0 128.001c0 56.554 36.676 104.535 87.535 121.46c6.397 1.185 8.746-2.777 8.746-6.158c0-3.052-.12-13.135-.174-23.83c-35.61 7.742-43.124-15.103-43.124-15.103c-5.823-14.795-14.213-18.73-14.213-18.73c-11.613-7.944.876-7.78.876-7.78c12.853.902 19.621 13.19 19.621 13.19c11.417 19.568 29.945 13.911 37.249 10.64c1.149-8.272 4.466-13.92 8.127-17.116c-28.431-3.236-58.318-14.212-58.318-63.258c0-13.975 5-25.394 13.188-34.358c-1.329-3.224-5.71-16.242 1.24-33.874c0 0 10.749-3.44 35.21 13.121c10.21-2.836 21.16-4.258 32.038-4.307c10.878.049 21.837 1.47 32.066 4.307c24.431-16.56 35.165-13.12 35.165-13.12c6.967 17.63 2.584 30.65 1.255 33.873c8.207 8.964 13.173 20.383 13.173 34.358c0 49.163-29.944 59.988-58.447 63.157c4.591 3.972 8.682 11.762 8.682 23.704c0 17.126-.148 30.91-.148 35.126c0 3.407 2.304 7.398 8.792 6.14C219.37 232.5 256 184.537 256 128.002C256 57.307 198.691 0 128.001 0zm-80.06 182.34c-.282.636-1.283.827-2.194.39c-.929-.417-1.45-1.284-1.15-1.922c.276-.655 1.279-.838 2.205-.399c.93.418 1.46 1.293 1.139 1.931zm6.296 5.618c-.61.566-1.804.303-2.614-.591c-.837-.892-.994-2.086-.375-2.66c.63-.566 1.787-.301 2.626.591c.838.903 1 2.088.363 2.66zm4.32 7.188c-.785.545-2.067.034-2.86-1.104c-.784-1.138-.784-2.503.017-3.05c.795-.547 2.058-.055 2.861 1.075c.782 1.157.782 2.522-.019 3.08zm7.304 8.325c-.701.774-2.196.566-3.29-.49c-1.119-1.032-1.43-2.496-.726-3.27c.71-.776 2.213-.558 3.315.49c1.11 1.03 1.45 2.505.701 3.27zm9.442 2.81c-.31 1.003-1.75 1.459-3.199 1.033c-1.448-.439-2.395-1.613-2.103-2.626c.301-1.01 1.747-1.484 3.207-1.028c1.446.436 2.396 1.602 2.095 2.622zm10.744 1.193c.036 1.055-1.193 1.93-2.715 1.95c-1.53.034-2.769-.82-2.786-1.86c0-1.065 1.202-1.932 2.733-1.958c1.522-.03 2.768.818 2.768 1.868zm10.555-.405c.182 1.03-.875 2.088-2.387 2.37c-1.485.271-2.861-.365-3.05-1.386c-.184-1.056.893-2.114 2.376-2.387c1.514-.263 2.868.356 3.061 1.403z\" fill=\"currentColor\"></path></svg>\n",
      "\t\t\t\t\t\t\t\t<span>2,776</span></div>\n",
      "\t\t\t\t\t\t<p class=\"mt-auto text-sm text-gray-500 md:text-base 2xl:text-lg\">Simple, safe way to store and distribute neural networks weights safely and quickly.</p>\n",
      "\t\t\t\t\t</a>\n",
      "\t\t\t\t\n",
      "\t\t\t\t<a href=\"/docs/huggingface_hub\" class=\"relative col-span-1 flex h-48 flex-col rounded-[1.6rem] border border-gray-100 bg-white/80 p-5 shadow-sm transition-transform will-change-transform hover:translate-y-px hover:shadow-inner sm:h-56 sm:p-6 2xl:h-72 2xl:p-10 lg:translate-y-12 lg:hover:!translate-y-[calc(3rem+1px)] \"><h4 class=\"flex items-center gap-1.5 text-lg font-bold !leading-tight sm:gap-2 sm:text-xl 2xl:text-2xl\"><div class=\"h-2 w-2 flex-none rounded-full bg-indigo-500\"></div>\n",
      "\t\t\t\t\t\t\tHub Python Library</h4>\n",
      "\t\t\t\t\t\t<div class=\"flex items-center gap-1.5 text-lg\"><svg class=\"text-xs text-gray-700\" xmlns=\"http://www.w3.org/2000/svg\" xmlns:xlink=\"http://www.w3.org/1999/xlink\" aria-hidden=\"true\" focusable=\"false\" role=\"img\" width=\"1.03em\" height=\"1em\" preserveAspectRatio=\"xMidYMid meet\" viewBox=\"0 0 256 250\"><path d=\"M128.001 0C57.317 0 0 57.307 0 128.001c0 56.554 36.676 104.535 87.535 121.46c6.397 1.185 8.746-2.777 8.746-6.158c0-3.052-.12-13.135-.174-23.83c-35.61 7.742-43.124-15.103-43.124-15.103c-5.823-14.795-14.213-18.73-14.213-18.73c-11.613-7.944.876-7.78.876-7.78c12.853.902 19.621 13.19 19.621 13.19c11.417 19.568 29.945 13.911 37.249 10.64c1.149-8.272 4.466-13.92 8.127-17.116c-28.431-3.236-58.318-14.212-58.318-63.258c0-13.975 5-25.394 13.188-34.358c-1.329-3.224-5.71-16.242 1.24-33.874c0 0 10.749-3.44 35.21 13.121c10.21-2.836 21.16-4.258 32.038-4.307c10.878.049 21.837 1.47 32.066 4.307c24.431-16.56 35.165-13.12 35.165-13.12c6.967 17.63 2.584 30.65 1.255 33.873c8.207 8.964 13.173 20.383 13.173 34.358c0 49.163-29.944 59.988-58.447 63.157c4.591 3.972 8.682 11.762 8.682 23.704c0 17.126-.148 30.91-.148 35.126c0 3.407 2.304 7.398 8.792 6.14C219.37 232.5 256 184.537 256 128.002C256 57.307 198.691 0 128.001 0zm-80.06 182.34c-.282.636-1.283.827-2.194.39c-.929-.417-1.45-1.284-1.15-1.922c.276-.655 1.279-.838 2.205-.399c.93.418 1.46 1.293 1.139 1.931zm6.296 5.618c-.61.566-1.804.303-2.614-.591c-.837-.892-.994-2.086-.375-2.66c.63-.566 1.787-.301 2.626.591c.838.903 1 2.088.363 2.66zm4.32 7.188c-.785.545-2.067.034-2.86-1.104c-.784-1.138-.784-2.503.017-3.05c.795-.547 2.058-.055 2.861 1.075c.782 1.157.782 2.522-.019 3.08zm7.304 8.325c-.701.774-2.196.566-3.29-.49c-1.119-1.032-1.43-2.496-.726-3.27c.71-.776 2.213-.558 3.315.49c1.11 1.03 1.45 2.505.701 3.27zm9.442 2.81c-.31 1.003-1.75 1.459-3.199 1.033c-1.448-.439-2.395-1.613-2.103-2.626c.301-1.01 1.747-1.484 3.207-1.028c1.446.436 2.396 1.602 2.095 2.622zm10.744 1.193c.036 1.055-1.193 1.93-2.715 1.95c-1.53.034-2.769-.82-2.786-1.86c0-1.065 1.202-1.932 2.733-1.958c1.522-.03 2.768.818 2.768 1.868zm10.555-.405c.182 1.03-.875 2.088-2.387 2.37c-1.485.271-2.861-.365-3.05-1.386c-.184-1.056.893-2.114 2.376-2.387c1.514-.263 2.868.356 3.061 1.403z\" fill=\"currentColor\"></path></svg>\n",
      "\t\t\t\t\t\t\t\t<span>2,003</span></div>\n",
      "\t\t\t\t\t\t<p class=\"mt-auto text-sm text-gray-500 md:text-base 2xl:text-lg\">Client library for the HF Hub: manage repositories from your Python runtime.</p>\n",
      "\t\t\t\t\t</a>\n",
      "\t\t\t\t\n",
      "\t\t\t\t<a href=\"/docs/tokenizers\" class=\"relative col-span-1 flex h-48 flex-col rounded-[1.6rem] border border-gray-100 bg-white/80 p-5 shadow-sm transition-transform will-change-transform hover:translate-y-px hover:shadow-inner sm:h-56 sm:p-6 2xl:h-72 2xl:p-10  \"><h4 class=\"flex items-center gap-1.5 text-lg font-bold !leading-tight sm:gap-2 sm:text-xl 2xl:text-2xl\"><div class=\"h-2 w-2 flex-none rounded-full bg-lime-500\"></div>\n",
      "\t\t\t\t\t\t\tTokenizers</h4>\n",
      "\t\t\t\t\t\t<div class=\"flex items-center gap-1.5 text-lg\"><svg class=\"text-xs text-gray-700\" xmlns=\"http://www.w3.org/2000/svg\" xmlns:xlink=\"http://www.w3.org/1999/xlink\" aria-hidden=\"true\" focusable=\"false\" role=\"img\" width=\"1.03em\" height=\"1em\" preserveAspectRatio=\"xMidYMid meet\" viewBox=\"0 0 256 250\"><path d=\"M128.001 0C57.317 0 0 57.307 0 128.001c0 56.554 36.676 104.535 87.535 121.46c6.397 1.185 8.746-2.777 8.746-6.158c0-3.052-.12-13.135-.174-23.83c-35.61 7.742-43.124-15.103-43.124-15.103c-5.823-14.795-14.213-18.73-14.213-18.73c-11.613-7.944.876-7.78.876-7.78c12.853.902 19.621 13.19 19.621 13.19c11.417 19.568 29.945 13.911 37.249 10.64c1.149-8.272 4.466-13.92 8.127-17.116c-28.431-3.236-58.318-14.212-58.318-63.258c0-13.975 5-25.394 13.188-34.358c-1.329-3.224-5.71-16.242 1.24-33.874c0 0 10.749-3.44 35.21 13.121c10.21-2.836 21.16-4.258 32.038-4.307c10.878.049 21.837 1.47 32.066 4.307c24.431-16.56 35.165-13.12 35.165-13.12c6.967 17.63 2.584 30.65 1.255 33.873c8.207 8.964 13.173 20.383 13.173 34.358c0 49.163-29.944 59.988-58.447 63.157c4.591 3.972 8.682 11.762 8.682 23.704c0 17.126-.148 30.91-.148 35.126c0 3.407 2.304 7.398 8.792 6.14C219.37 232.5 256 184.537 256 128.002C256 57.307 198.691 0 128.001 0zm-80.06 182.34c-.282.636-1.283.827-2.194.39c-.929-.417-1.45-1.284-1.15-1.922c.276-.655 1.279-.838 2.205-.399c.93.418 1.46 1.293 1.139 1.931zm6.296 5.618c-.61.566-1.804.303-2.614-.591c-.837-.892-.994-2.086-.375-2.66c.63-.566 1.787-.301 2.626.591c.838.903 1 2.088.363 2.66zm4.32 7.188c-.785.545-2.067.034-2.86-1.104c-.784-1.138-.784-2.503.017-3.05c.795-.547 2.058-.055 2.861 1.075c.782 1.157.782 2.522-.019 3.08zm7.304 8.325c-.701.774-2.196.566-3.29-.49c-1.119-1.032-1.43-2.496-.726-3.27c.71-.776 2.213-.558 3.315.49c1.11 1.03 1.45 2.505.701 3.27zm9.442 2.81c-.31 1.003-1.75 1.459-3.199 1.033c-1.448-.439-2.395-1.613-2.103-2.626c.301-1.01 1.747-1.484 3.207-1.028c1.446.436 2.396 1.602 2.095 2.622zm10.744 1.193c.036 1.055-1.193 1.93-2.715 1.95c-1.53.034-2.769-.82-2.786-1.86c0-1.065 1.202-1.932 2.733-1.958c1.522-.03 2.768.818 2.768 1.868zm10.555-.405c.182 1.03-.875 2.088-2.387 2.37c-1.485.271-2.861-.365-3.05-1.386c-.184-1.056.893-2.114 2.376-2.387c1.514-.263 2.868.356 3.061 1.403z\" fill=\"currentColor\"></path></svg>\n",
      "\t\t\t\t\t\t\t\t<span>8,913</span></div>\n",
      "\t\t\t\t\t\t<p class=\"mt-auto text-sm text-gray-500 md:text-base 2xl:text-lg\">Fast tokenizers, optimized for both research and production.</p>\n",
      "\t\t\t\t\t</a>\n",
      "\t\t\t\t\n",
      "\t\t\t\t<a href=\"/docs/peft\" class=\"relative col-span-1 flex h-48 flex-col rounded-[1.6rem] border border-gray-100 bg-white/80 p-5 shadow-sm transition-transform will-change-transform hover:translate-y-px hover:shadow-inner sm:h-56 sm:p-6 2xl:h-72 2xl:p-10 lg:translate-y-12 lg:hover:!translate-y-[calc(3rem+1px)] \"><h4 class=\"flex items-center gap-1.5 text-lg font-bold !leading-tight sm:gap-2 sm:text-xl 2xl:text-2xl\"><div class=\"h-2 w-2 flex-none rounded-full bg-red-500\"></div>\n",
      "\t\t\t\t\t\t\tPEFT</h4>\n",
      "\t\t\t\t\t\t<div class=\"flex items-center gap-1.5 text-lg\"><svg class=\"text-xs text-gray-700\" xmlns=\"http://www.w3.org/2000/svg\" xmlns:xlink=\"http://www.w3.org/1999/xlink\" aria-hidden=\"true\" focusable=\"false\" role=\"img\" width=\"1.03em\" height=\"1em\" preserveAspectRatio=\"xMidYMid meet\" viewBox=\"0 0 256 250\"><path d=\"M128.001 0C57.317 0 0 57.307 0 128.001c0 56.554 36.676 104.535 87.535 121.46c6.397 1.185 8.746-2.777 8.746-6.158c0-3.052-.12-13.135-.174-23.83c-35.61 7.742-43.124-15.103-43.124-15.103c-5.823-14.795-14.213-18.73-14.213-18.73c-11.613-7.944.876-7.78.876-7.78c12.853.902 19.621 13.19 19.621 13.19c11.417 19.568 29.945 13.911 37.249 10.64c1.149-8.272 4.466-13.92 8.127-17.116c-28.431-3.236-58.318-14.212-58.318-63.258c0-13.975 5-25.394 13.188-34.358c-1.329-3.224-5.71-16.242 1.24-33.874c0 0 10.749-3.44 35.21 13.121c10.21-2.836 21.16-4.258 32.038-4.307c10.878.049 21.837 1.47 32.066 4.307c24.431-16.56 35.165-13.12 35.165-13.12c6.967 17.63 2.584 30.65 1.255 33.873c8.207 8.964 13.173 20.383 13.173 34.358c0 49.163-29.944 59.988-58.447 63.157c4.591 3.972 8.682 11.762 8.682 23.704c0 17.126-.148 30.91-.148 35.126c0 3.407 2.304 7.398 8.792 6.14C219.37 232.5 256 184.537 256 128.002C256 57.307 198.691 0 128.001 0zm-80.06 182.34c-.282.636-1.283.827-2.194.39c-.929-.417-1.45-1.284-1.15-1.922c.276-.655 1.279-.838 2.205-.399c.93.418 1.46 1.293 1.139 1.931zm6.296 5.618c-.61.566-1.804.303-2.614-.591c-.837-.892-.994-2.086-.375-2.66c.63-.566 1.787-.301 2.626.591c.838.903 1 2.088.363 2.66zm4.32 7.188c-.785.545-2.067.034-2.86-1.104c-.784-1.138-.784-2.503.017-3.05c.795-.547 2.058-.055 2.861 1.075c.782 1.157.782 2.522-.019 3.08zm7.304 8.325c-.701.774-2.196.566-3.29-.49c-1.119-1.032-1.43-2.496-.726-3.27c.71-.776 2.213-.558 3.315.49c1.11 1.03 1.45 2.505.701 3.27zm9.442 2.81c-.31 1.003-1.75 1.459-3.199 1.033c-1.448-.439-2.395-1.613-2.103-2.626c.301-1.01 1.747-1.484 3.207-1.028c1.446.436 2.396 1.602 2.095 2.622zm10.744 1.193c.036 1.055-1.193 1.93-2.715 1.95c-1.53.034-2.769-.82-2.786-1.86c0-1.065 1.202-1.932 2.733-1.958c1.522-.03 2.768.818 2.768 1.868zm10.555-.405c.182 1.03-.875 2.088-2.387 2.37c-1.485.271-2.861-.365-3.05-1.386c-.184-1.056.893-2.114 2.376-2.387c1.514-.263 2.868.356 3.061 1.403z\" fill=\"currentColor\"></path></svg>\n",
      "\t\t\t\t\t\t\t\t<span>15,966</span></div>\n",
      "\t\t\t\t\t\t<p class=\"mt-auto text-sm text-gray-500 md:text-base 2xl:text-lg\">Parameter efficient finetuning methods for large models.</p>\n",
      "\t\t\t\t\t</a>\n",
      "\t\t\t\t\n",
      "\t\t\t\t<a href=\"/docs/transformers.js\" class=\"relative col-span-1 flex h-48 flex-col rounded-[1.6rem] border border-gray-100 bg-white/80 p-5 shadow-sm transition-transform will-change-transform hover:translate-y-px hover:shadow-inner sm:h-56 sm:p-6 2xl:h-72 2xl:p-10  \"><h4 class=\"flex items-center gap-1.5 text-lg font-bold !leading-tight sm:gap-2 sm:text-xl 2xl:text-2xl\"><div class=\"h-2 w-2 flex-none rounded-full bg-orange-500\"></div>\n",
      "\t\t\t\t\t\t\tTransformers.js</h4>\n",
      "\t\t\t\t\t\t<div class=\"flex items-center gap-1.5 text-lg\"><svg class=\"text-xs text-gray-700\" xmlns=\"http://www.w3.org/2000/svg\" xmlns:xlink=\"http://www.w3.org/1999/xlink\" aria-hidden=\"true\" focusable=\"false\" role=\"img\" width=\"1.03em\" height=\"1em\" preserveAspectRatio=\"xMidYMid meet\" viewBox=\"0 0 256 250\"><path d=\"M128.001 0C57.317 0 0 57.307 0 128.001c0 56.554 36.676 104.535 87.535 121.46c6.397 1.185 8.746-2.777 8.746-6.158c0-3.052-.12-13.135-.174-23.83c-35.61 7.742-43.124-15.103-43.124-15.103c-5.823-14.795-14.213-18.73-14.213-18.73c-11.613-7.944.876-7.78.876-7.78c12.853.902 19.621 13.19 19.621 13.19c11.417 19.568 29.945 13.911 37.249 10.64c1.149-8.272 4.466-13.92 8.127-17.116c-28.431-3.236-58.318-14.212-58.318-63.258c0-13.975 5-25.394 13.188-34.358c-1.329-3.224-5.71-16.242 1.24-33.874c0 0 10.749-3.44 35.21 13.121c10.21-2.836 21.16-4.258 32.038-4.307c10.878.049 21.837 1.47 32.066 4.307c24.431-16.56 35.165-13.12 35.165-13.12c6.967 17.63 2.584 30.65 1.255 33.873c8.207 8.964 13.173 20.383 13.173 34.358c0 49.163-29.944 59.988-58.447 63.157c4.591 3.972 8.682 11.762 8.682 23.704c0 17.126-.148 30.91-.148 35.126c0 3.407 2.304 7.398 8.792 6.14C219.37 232.5 256 184.537 256 128.002C256 57.307 198.691 0 128.001 0zm-80.06 182.34c-.282.636-1.283.827-2.194.39c-.929-.417-1.45-1.284-1.15-1.922c.276-.655 1.279-.838 2.205-.399c.93.418 1.46 1.293 1.139 1.931zm6.296 5.618c-.61.566-1.804.303-2.614-.591c-.837-.892-.994-2.086-.375-2.66c.63-.566 1.787-.301 2.626.591c.838.903 1 2.088.363 2.66zm4.32 7.188c-.785.545-2.067.034-2.86-1.104c-.784-1.138-.784-2.503.017-3.05c.795-.547 2.058-.055 2.861 1.075c.782 1.157.782 2.522-.019 3.08zm7.304 8.325c-.701.774-2.196.566-3.29-.49c-1.119-1.032-1.43-2.496-.726-3.27c.71-.776 2.213-.558 3.315.49c1.11 1.03 1.45 2.505.701 3.27zm9.442 2.81c-.31 1.003-1.75 1.459-3.199 1.033c-1.448-.439-2.395-1.613-2.103-2.626c.301-1.01 1.747-1.484 3.207-1.028c1.446.436 2.396 1.602 2.095 2.622zm10.744 1.193c.036 1.055-1.193 1.93-2.715 1.95c-1.53.034-2.769-.82-2.786-1.86c0-1.065 1.202-1.932 2.733-1.958c1.522-.03 2.768.818 2.768 1.868zm10.555-.405c.182 1.03-.875 2.088-2.387 2.37c-1.485.271-2.861-.365-3.05-1.386c-.184-1.056.893-2.114 2.376-2.387c1.514-.263 2.868.356 3.061 1.403z\" fill=\"currentColor\"></path></svg>\n",
      "\t\t\t\t\t\t\t\t<span>11,051</span></div>\n",
      "\t\t\t\t\t\t<p class=\"mt-auto text-sm text-gray-500 md:text-base 2xl:text-lg\">Community library to run pretrained models from Transformers in your browser.</p>\n",
      "\t\t\t\t\t</a>\n",
      "\t\t\t\t\n",
      "\t\t\t\t<a href=\"/docs/timm\" class=\"relative col-span-1 flex h-48 flex-col rounded-[1.6rem] border border-gray-100 bg-white/80 p-5 shadow-sm transition-transform will-change-transform hover:translate-y-px hover:shadow-inner sm:h-56 sm:p-6 2xl:h-72 2xl:p-10 lg:translate-y-12 lg:hover:!translate-y-[calc(3rem+1px)] \"><h4 class=\"flex items-center gap-1.5 text-lg font-bold !leading-tight sm:gap-2 sm:text-xl 2xl:text-2xl\"><div class=\"h-2 w-2 flex-none rounded-full bg-blue-500\"></div>\n",
      "\t\t\t\t\t\t\ttimm</h4>\n",
      "\t\t\t\t\t\t<div class=\"flex items-center gap-1.5 text-lg\"><svg class=\"text-xs text-gray-700\" xmlns=\"http://www.w3.org/2000/svg\" xmlns:xlink=\"http://www.w3.org/1999/xlink\" aria-hidden=\"true\" focusable=\"false\" role=\"img\" width=\"1.03em\" height=\"1em\" preserveAspectRatio=\"xMidYMid meet\" viewBox=\"0 0 256 250\"><path d=\"M128.001 0C57.317 0 0 57.307 0 128.001c0 56.554 36.676 104.535 87.535 121.46c6.397 1.185 8.746-2.777 8.746-6.158c0-3.052-.12-13.135-.174-23.83c-35.61 7.742-43.124-15.103-43.124-15.103c-5.823-14.795-14.213-18.73-14.213-18.73c-11.613-7.944.876-7.78.876-7.78c12.853.902 19.621 13.19 19.621 13.19c11.417 19.568 29.945 13.911 37.249 10.64c1.149-8.272 4.466-13.92 8.127-17.116c-28.431-3.236-58.318-14.212-58.318-63.258c0-13.975 5-25.394 13.188-34.358c-1.329-3.224-5.71-16.242 1.24-33.874c0 0 10.749-3.44 35.21 13.121c10.21-2.836 21.16-4.258 32.038-4.307c10.878.049 21.837 1.47 32.066 4.307c24.431-16.56 35.165-13.12 35.165-13.12c6.967 17.63 2.584 30.65 1.255 33.873c8.207 8.964 13.173 20.383 13.173 34.358c0 49.163-29.944 59.988-58.447 63.157c4.591 3.972 8.682 11.762 8.682 23.704c0 17.126-.148 30.91-.148 35.126c0 3.407 2.304 7.398 8.792 6.14C219.37 232.5 256 184.537 256 128.002C256 57.307 198.691 0 128.001 0zm-80.06 182.34c-.282.636-1.283.827-2.194.39c-.929-.417-1.45-1.284-1.15-1.922c.276-.655 1.279-.838 2.205-.399c.93.418 1.46 1.293 1.139 1.931zm6.296 5.618c-.61.566-1.804.303-2.614-.591c-.837-.892-.994-2.086-.375-2.66c.63-.566 1.787-.301 2.626.591c.838.903 1 2.088.363 2.66zm4.32 7.188c-.785.545-2.067.034-2.86-1.104c-.784-1.138-.784-2.503.017-3.05c.795-.547 2.058-.055 2.861 1.075c.782 1.157.782 2.522-.019 3.08zm7.304 8.325c-.701.774-2.196.566-3.29-.49c-1.119-1.032-1.43-2.496-.726-3.27c.71-.776 2.213-.558 3.315.49c1.11 1.03 1.45 2.505.701 3.27zm9.442 2.81c-.31 1.003-1.75 1.459-3.199 1.033c-1.448-.439-2.395-1.613-2.103-2.626c.301-1.01 1.747-1.484 3.207-1.028c1.446.436 2.396 1.602 2.095 2.622zm10.744 1.193c.036 1.055-1.193 1.93-2.715 1.95c-1.53.034-2.769-.82-2.786-1.86c0-1.065 1.202-1.932 2.733-1.958c1.522-.03 2.768.818 2.768 1.868zm10.555-.405c.182 1.03-.875 2.088-2.387 2.37c-1.485.271-2.861-.365-3.05-1.386c-.184-1.056.893-2.114 2.376-2.387c1.514-.263 2.868.356 3.061 1.403z\" fill=\"currentColor\"></path></svg>\n",
      "\t\t\t\t\t\t\t\t<span>31,633</span></div>\n",
      "\t\t\t\t\t\t<p class=\"mt-auto text-sm text-gray-500 md:text-base 2xl:text-lg\">State-of-the-art computer vision models, layers, optimizers, training/evaluation, and utilities.</p>\n",
      "\t\t\t\t\t</a>\n",
      "\t\t\t\t\n",
      "\t\t\t\t<a href=\"/docs/trl\" class=\"relative col-span-1 flex h-48 flex-col rounded-[1.6rem] border border-gray-100 bg-white/80 p-5 shadow-sm transition-transform will-change-transform hover:translate-y-px hover:shadow-inner sm:h-56 sm:p-6 2xl:h-72 2xl:p-10  max-lg:hidden\"><h4 class=\"flex items-center gap-1.5 text-lg font-bold !leading-tight sm:gap-2 sm:text-xl 2xl:text-2xl\"><div class=\"h-2 w-2 flex-none rounded-full bg-blue-500\"></div>\n",
      "\t\t\t\t\t\t\tTRL</h4>\n",
      "\t\t\t\t\t\t<div class=\"flex items-center gap-1.5 text-lg\"><svg class=\"text-xs text-gray-700\" xmlns=\"http://www.w3.org/2000/svg\" xmlns:xlink=\"http://www.w3.org/1999/xlink\" aria-hidden=\"true\" focusable=\"false\" role=\"img\" width=\"1.03em\" height=\"1em\" preserveAspectRatio=\"xMidYMid meet\" viewBox=\"0 0 256 250\"><path d=\"M128.001 0C57.317 0 0 57.307 0 128.001c0 56.554 36.676 104.535 87.535 121.46c6.397 1.185 8.746-2.777 8.746-6.158c0-3.052-.12-13.135-.174-23.83c-35.61 7.742-43.124-15.103-43.124-15.103c-5.823-14.795-14.213-18.73-14.213-18.73c-11.613-7.944.876-7.78.876-7.78c12.853.902 19.621 13.19 19.621 13.19c11.417 19.568 29.945 13.911 37.249 10.64c1.149-8.272 4.466-13.92 8.127-17.116c-28.431-3.236-58.318-14.212-58.318-63.258c0-13.975 5-25.394 13.188-34.358c-1.329-3.224-5.71-16.242 1.24-33.874c0 0 10.749-3.44 35.21 13.121c10.21-2.836 21.16-4.258 32.038-4.307c10.878.049 21.837 1.47 32.066 4.307c24.431-16.56 35.165-13.12 35.165-13.12c6.967 17.63 2.584 30.65 1.255 33.873c8.207 8.964 13.173 20.383 13.173 34.358c0 49.163-29.944 59.988-58.447 63.157c4.591 3.972 8.682 11.762 8.682 23.704c0 17.126-.148 30.91-.148 35.126c0 3.407 2.304 7.398 8.792 6.14C219.37 232.5 256 184.537 256 128.002C256 57.307 198.691 0 128.001 0zm-80.06 182.34c-.282.636-1.283.827-2.194.39c-.929-.417-1.45-1.284-1.15-1.922c.276-.655 1.279-.838 2.205-.399c.93.418 1.46 1.293 1.139 1.931zm6.296 5.618c-.61.566-1.804.303-2.614-.591c-.837-.892-.994-2.086-.375-2.66c.63-.566 1.787-.301 2.626.591c.838.903 1 2.088.363 2.66zm4.32 7.188c-.785.545-2.067.034-2.86-1.104c-.784-1.138-.784-2.503.017-3.05c.795-.547 2.058-.055 2.861 1.075c.782 1.157.782 2.522-.019 3.08zm7.304 8.325c-.701.774-2.196.566-3.29-.49c-1.119-1.032-1.43-2.496-.726-3.27c.71-.776 2.213-.558 3.315.49c1.11 1.03 1.45 2.505.701 3.27zm9.442 2.81c-.31 1.003-1.75 1.459-3.199 1.033c-1.448-.439-2.395-1.613-2.103-2.626c.301-1.01 1.747-1.484 3.207-1.028c1.446.436 2.396 1.602 2.095 2.622zm10.744 1.193c.036 1.055-1.193 1.93-2.715 1.95c-1.53.034-2.769-.82-2.786-1.86c0-1.065 1.202-1.932 2.733-1.958c1.522-.03 2.768.818 2.768 1.868zm10.555-.405c.182 1.03-.875 2.088-2.387 2.37c-1.485.271-2.861-.365-3.05-1.386c-.184-1.056.893-2.114 2.376-2.387c1.514-.263 2.868.356 3.061 1.403z\" fill=\"currentColor\"></path></svg>\n",
      "\t\t\t\t\t\t\t\t<span>9,397</span></div>\n",
      "\t\t\t\t\t\t<p class=\"mt-auto text-sm text-gray-500 md:text-base 2xl:text-lg\">Train transformer language models with reinforcement learning.</p>\n",
      "\t\t\t\t\t</a>\n",
      "\t\t\t\t\n",
      "\t\t\t\t<a href=\"/docs/datasets\" class=\"relative col-span-1 flex h-48 flex-col rounded-[1.6rem] border border-gray-100 bg-white/80 p-5 shadow-sm transition-transform will-change-transform hover:translate-y-px hover:shadow-inner sm:h-56 sm:p-6 2xl:h-72 2xl:p-10 lg:translate-y-12 lg:hover:!translate-y-[calc(3rem+1px)] max-lg:hidden\"><h4 class=\"flex items-center gap-1.5 text-lg font-bold !leading-tight sm:gap-2 sm:text-xl 2xl:text-2xl\"><div class=\"h-2 w-2 flex-none rounded-full bg-red-500\"></div>\n",
      "\t\t\t\t\t\t\tDatasets</h4>\n",
      "\t\t\t\t\t\t<div class=\"flex items-center gap-1.5 text-lg\"><svg class=\"text-xs text-gray-700\" xmlns=\"http://www.w3.org/2000/svg\" xmlns:xlink=\"http://www.w3.org/1999/xlink\" aria-hidden=\"true\" focusable=\"false\" role=\"img\" width=\"1.03em\" height=\"1em\" preserveAspectRatio=\"xMidYMid meet\" viewBox=\"0 0 256 250\"><path d=\"M128.001 0C57.317 0 0 57.307 0 128.001c0 56.554 36.676 104.535 87.535 121.46c6.397 1.185 8.746-2.777 8.746-6.158c0-3.052-.12-13.135-.174-23.83c-35.61 7.742-43.124-15.103-43.124-15.103c-5.823-14.795-14.213-18.73-14.213-18.73c-11.613-7.944.876-7.78.876-7.78c12.853.902 19.621 13.19 19.621 13.19c11.417 19.568 29.945 13.911 37.249 10.64c1.149-8.272 4.466-13.92 8.127-17.116c-28.431-3.236-58.318-14.212-58.318-63.258c0-13.975 5-25.394 13.188-34.358c-1.329-3.224-5.71-16.242 1.24-33.874c0 0 10.749-3.44 35.21 13.121c10.21-2.836 21.16-4.258 32.038-4.307c10.878.049 21.837 1.47 32.066 4.307c24.431-16.56 35.165-13.12 35.165-13.12c6.967 17.63 2.584 30.65 1.255 33.873c8.207 8.964 13.173 20.383 13.173 34.358c0 49.163-29.944 59.988-58.447 63.157c4.591 3.972 8.682 11.762 8.682 23.704c0 17.126-.148 30.91-.148 35.126c0 3.407 2.304 7.398 8.792 6.14C219.37 232.5 256 184.537 256 128.002C256 57.307 198.691 0 128.001 0zm-80.06 182.34c-.282.636-1.283.827-2.194.39c-.929-.417-1.45-1.284-1.15-1.922c.276-.655 1.279-.838 2.205-.399c.93.418 1.46 1.293 1.139 1.931zm6.296 5.618c-.61.566-1.804.303-2.614-.591c-.837-.892-.994-2.086-.375-2.66c.63-.566 1.787-.301 2.626.591c.838.903 1 2.088.363 2.66zm4.32 7.188c-.785.545-2.067.034-2.86-1.104c-.784-1.138-.784-2.503.017-3.05c.795-.547 2.058-.055 2.861 1.075c.782 1.157.782 2.522-.019 3.08zm7.304 8.325c-.701.774-2.196.566-3.29-.49c-1.119-1.032-1.43-2.496-.726-3.27c.71-.776 2.213-.558 3.315.49c1.11 1.03 1.45 2.505.701 3.27zm9.442 2.81c-.31 1.003-1.75 1.459-3.199 1.033c-1.448-.439-2.395-1.613-2.103-2.626c.301-1.01 1.747-1.484 3.207-1.028c1.446.436 2.396 1.602 2.095 2.622zm10.744 1.193c.036 1.055-1.193 1.93-2.715 1.95c-1.53.034-2.769-.82-2.786-1.86c0-1.065 1.202-1.932 2.733-1.958c1.522-.03 2.768.818 2.768 1.868zm10.555-.405c.182 1.03-.875 2.088-2.387 2.37c-1.485.271-2.861-.365-3.05-1.386c-.184-1.056.893-2.114 2.376-2.387c1.514-.263 2.868.356 3.061 1.403z\" fill=\"currentColor\"></path></svg>\n",
      "\t\t\t\t\t\t\t\t<span>19,054</span></div>\n",
      "\t\t\t\t\t\t<p class=\"mt-auto text-sm text-gray-500 md:text-base 2xl:text-lg\">Access and share datasets for computer vision, audio, and NLP tasks.</p>\n",
      "\t\t\t\t\t</a>\n",
      "\t\t\t\t\n",
      "\t\t\t\t<a href=\"/docs/text-generation-inference\" class=\"relative col-span-1 flex h-48 flex-col rounded-[1.6rem] border border-gray-100 bg-white/80 p-5 shadow-sm transition-transform will-change-transform hover:translate-y-px hover:shadow-inner sm:h-56 sm:p-6 2xl:h-72 2xl:p-10  max-lg:hidden\"><h4 class=\"flex items-center gap-1.5 text-lg font-bold !leading-tight sm:gap-2 sm:text-xl 2xl:text-2xl\"><div class=\"h-2 w-2 flex-none rounded-full bg-blue-500\"></div>\n",
      "\t\t\t\t\t\t\tText Generation Inference</h4>\n",
      "\t\t\t\t\t\t<div class=\"flex items-center gap-1.5 text-lg\"><svg class=\"text-xs text-gray-700\" xmlns=\"http://www.w3.org/2000/svg\" xmlns:xlink=\"http://www.w3.org/1999/xlink\" aria-hidden=\"true\" focusable=\"false\" role=\"img\" width=\"1.03em\" height=\"1em\" preserveAspectRatio=\"xMidYMid meet\" viewBox=\"0 0 256 250\"><path d=\"M128.001 0C57.317 0 0 57.307 0 128.001c0 56.554 36.676 104.535 87.535 121.46c6.397 1.185 8.746-2.777 8.746-6.158c0-3.052-.12-13.135-.174-23.83c-35.61 7.742-43.124-15.103-43.124-15.103c-5.823-14.795-14.213-18.73-14.213-18.73c-11.613-7.944.876-7.78.876-7.78c12.853.902 19.621 13.19 19.621 13.19c11.417 19.568 29.945 13.911 37.249 10.64c1.149-8.272 4.466-13.92 8.127-17.116c-28.431-3.236-58.318-14.212-58.318-63.258c0-13.975 5-25.394 13.188-34.358c-1.329-3.224-5.71-16.242 1.24-33.874c0 0 10.749-3.44 35.21 13.121c10.21-2.836 21.16-4.258 32.038-4.307c10.878.049 21.837 1.47 32.066 4.307c24.431-16.56 35.165-13.12 35.165-13.12c6.967 17.63 2.584 30.65 1.255 33.873c8.207 8.964 13.173 20.383 13.173 34.358c0 49.163-29.944 59.988-58.447 63.157c4.591 3.972 8.682 11.762 8.682 23.704c0 17.126-.148 30.91-.148 35.126c0 3.407 2.304 7.398 8.792 6.14C219.37 232.5 256 184.537 256 128.002C256 57.307 198.691 0 128.001 0zm-80.06 182.34c-.282.636-1.283.827-2.194.39c-.929-.417-1.45-1.284-1.15-1.922c.276-.655 1.279-.838 2.205-.399c.93.418 1.46 1.293 1.139 1.931zm6.296 5.618c-.61.566-1.804.303-2.614-.591c-.837-.892-.994-2.086-.375-2.66c.63-.566 1.787-.301 2.626.591c.838.903 1 2.088.363 2.66zm4.32 7.188c-.785.545-2.067.034-2.86-1.104c-.784-1.138-.784-2.503.017-3.05c.795-.547 2.058-.055 2.861 1.075c.782 1.157.782 2.522-.019 3.08zm7.304 8.325c-.701.774-2.196.566-3.29-.49c-1.119-1.032-1.43-2.496-.726-3.27c.71-.776 2.213-.558 3.315.49c1.11 1.03 1.45 2.505.701 3.27zm9.442 2.81c-.31 1.003-1.75 1.459-3.199 1.033c-1.448-.439-2.395-1.613-2.103-2.626c.301-1.01 1.747-1.484 3.207-1.028c1.446.436 2.396 1.602 2.095 2.622zm10.744 1.193c.036 1.055-1.193 1.93-2.715 1.95c-1.53.034-2.769-.82-2.786-1.86c0-1.065 1.202-1.932 2.733-1.958c1.522-.03 2.768.818 2.768 1.868zm10.555-.405c.182 1.03-.875 2.088-2.387 2.37c-1.485.271-2.861-.365-3.05-1.386c-.184-1.056.893-2.114 2.376-2.387c1.514-.263 2.868.356 3.061 1.403z\" fill=\"currentColor\"></path></svg>\n",
      "\t\t\t\t\t\t\t\t<span>8,821</span></div>\n",
      "\t\t\t\t\t\t<p class=\"mt-auto text-sm text-gray-500 md:text-base 2xl:text-lg\">Toolkit to serve Large Language Models.</p>\n",
      "\t\t\t\t\t</a>\n",
      "\t\t\t\t\n",
      "\t\t\t\t<a href=\"/docs/accelerate\" class=\"relative col-span-1 flex h-48 flex-col rounded-[1.6rem] border border-gray-100 bg-white/80 p-5 shadow-sm transition-transform will-change-transform hover:translate-y-px hover:shadow-inner sm:h-56 sm:p-6 2xl:h-72 2xl:p-10 lg:translate-y-12 lg:hover:!translate-y-[calc(3rem+1px)] max-lg:hidden\"><h4 class=\"flex items-center gap-1.5 text-lg font-bold !leading-tight sm:gap-2 sm:text-xl 2xl:text-2xl\"><div class=\"h-2 w-2 flex-none rounded-full bg-pink-500\"></div>\n",
      "\t\t\t\t\t\t\tAccelerate</h4>\n",
      "\t\t\t\t\t\t<div class=\"flex items-center gap-1.5 text-lg\"><svg class=\"text-xs text-gray-700\" xmlns=\"http://www.w3.org/2000/svg\" xmlns:xlink=\"http://www.w3.org/1999/xlink\" aria-hidden=\"true\" focusable=\"false\" role=\"img\" width=\"1.03em\" height=\"1em\" preserveAspectRatio=\"xMidYMid meet\" viewBox=\"0 0 256 250\"><path d=\"M128.001 0C57.317 0 0 57.307 0 128.001c0 56.554 36.676 104.535 87.535 121.46c6.397 1.185 8.746-2.777 8.746-6.158c0-3.052-.12-13.135-.174-23.83c-35.61 7.742-43.124-15.103-43.124-15.103c-5.823-14.795-14.213-18.73-14.213-18.73c-11.613-7.944.876-7.78.876-7.78c12.853.902 19.621 13.19 19.621 13.19c11.417 19.568 29.945 13.911 37.249 10.64c1.149-8.272 4.466-13.92 8.127-17.116c-28.431-3.236-58.318-14.212-58.318-63.258c0-13.975 5-25.394 13.188-34.358c-1.329-3.224-5.71-16.242 1.24-33.874c0 0 10.749-3.44 35.21 13.121c10.21-2.836 21.16-4.258 32.038-4.307c10.878.049 21.837 1.47 32.066 4.307c24.431-16.56 35.165-13.12 35.165-13.12c6.967 17.63 2.584 30.65 1.255 33.873c8.207 8.964 13.173 20.383 13.173 34.358c0 49.163-29.944 59.988-58.447 63.157c4.591 3.972 8.682 11.762 8.682 23.704c0 17.126-.148 30.91-.148 35.126c0 3.407 2.304 7.398 8.792 6.14C219.37 232.5 256 184.537 256 128.002C256 57.307 198.691 0 128.001 0zm-80.06 182.34c-.282.636-1.283.827-2.194.39c-.929-.417-1.45-1.284-1.15-1.922c.276-.655 1.279-.838 2.205-.399c.93.418 1.46 1.293 1.139 1.931zm6.296 5.618c-.61.566-1.804.303-2.614-.591c-.837-.892-.994-2.086-.375-2.66c.63-.566 1.787-.301 2.626.591c.838.903 1 2.088.363 2.66zm4.32 7.188c-.785.545-2.067.034-2.86-1.104c-.784-1.138-.784-2.503.017-3.05c.795-.547 2.058-.055 2.861 1.075c.782 1.157.782 2.522-.019 3.08zm7.304 8.325c-.701.774-2.196.566-3.29-.49c-1.119-1.032-1.43-2.496-.726-3.27c.71-.776 2.213-.558 3.315.49c1.11 1.03 1.45 2.505.701 3.27zm9.442 2.81c-.31 1.003-1.75 1.459-3.199 1.033c-1.448-.439-2.395-1.613-2.103-2.626c.301-1.01 1.747-1.484 3.207-1.028c1.446.436 2.396 1.602 2.095 2.622zm10.744 1.193c.036 1.055-1.193 1.93-2.715 1.95c-1.53.034-2.769-.82-2.786-1.86c0-1.065 1.202-1.932 2.733-1.958c1.522-.03 2.768.818 2.768 1.868zm10.555-.405c.182 1.03-.875 2.088-2.387 2.37c-1.485.271-2.861-.365-3.05-1.386c-.184-1.056.893-2.114 2.376-2.387c1.514-.263 2.868.356 3.061 1.403z\" fill=\"currentColor\"></path></svg>\n",
      "\t\t\t\t\t\t\t\t<span>7,753</span></div>\n",
      "\t\t\t\t\t\t<p class=\"mt-auto text-sm text-gray-500 md:text-base 2xl:text-lg\">Easily train and use PyTorch models with multi-GPU, TPU, mixed-precision.</p>\n",
      "\t\t\t\t\t</a>\n",
      "\t\t\t<div class=\"pointer-events-none absolute bottom-0 left-0 z-2 h-1/2 w-full bg-gradient-to-b from-transparent to-white\"></div></div></div>\n",
      "\t<div class=\"container relative z-2\"><img src=\"/front/assets/homepage/hugs.svg\" class=\"pointer-events-none w-full select-none max-lg:hidden\" alt=\"Pile of Hugging Face logos\">\n",
      "\t\t<img src=\"/front/assets/homepage/hugs-mobile.svg\" class=\"pointer-events-none w-full select-none lg:hidden\" alt=\"Pile of Hugging Face logos\"></div></main>\n",
      "\n",
      "\t<footer class=\"border-t border-gray-100\"><div class=\"container pb-32 pt-12\"><div class=\"grid gap-8 sm:grid-cols-2 md:grid-cols-4\"><div><div class=\"mb-4 text-lg font-semibold\">Website</div>\n",
      "\t\t\t\t<ul class=\"space-y-1 text-gray-600 md:space-y-2\"><li><a class=\"hover:underline\" href=\"/models\">Models </a></li>\n",
      "\t\t\t\t\t<li><a class=\"hover:underline\" href=\"/datasets\">Datasets </a></li>\n",
      "\t\t\t\t\t<li><a class=\"hover:underline\" href=\"/spaces\">Spaces </a></li>\n",
      "\t\t\t\t\t<li><a class=\"hover:underline\" href=\"/tasks\">Tasks </a></li>\n",
      "\t\t\t\t\t<li><a class=\"hover:underline\" href=\"https://ui.endpoints.huggingface.co\" target=\"_blank\">Inference Endpoints\n",
      "\t\t\t\t\t\t</a></li>\n",
      "\t\t\t\t\t<li><a class=\"hover:underline\" href=\"/chat\">HuggingChat </a></li></ul></div>\n",
      "\t\t\t<div><div class=\"mb-4 text-lg font-semibold\">Company</div>\n",
      "\t\t\t\t<ul class=\"space-y-1 text-gray-600 md:space-y-2\"><li><a class=\"hover:underline\" href=\"/huggingface\">About </a></li>\n",
      "\t\t\t\t\t<li><a class=\"hover:underline\" href=\"/brand\">Brand assets </a></li>\n",
      "\t\t\t\t\t<li><a class=\"hover:underline\" href=\"/terms-of-service\">Terms of service </a></li>\n",
      "\t\t\t\t\t<li><a class=\"hover:underline\" href=\"/privacy\">Privacy </a></li>\n",
      "\t\t\t\t\t<li><a class=\"hover:underline\" href=\"https://apply.workable.com/huggingface/\">Jobs </a></li>\n",
      "\t\t\t\t\t<li><a class=\"hover:underline\" href=\"mailto:press@huggingface.co\">Press </a></li></ul></div>\n",
      "\t\t\t<div><div class=\"mb-4 text-lg font-semibold\">Resources</div>\n",
      "\t\t\t\t<ul class=\"space-y-1 text-gray-600 md:space-y-2\"><li><a class=\"hover:underline\" href=\"/learn\">Learn </a></li>\n",
      "\t\t\t\t\t<li><a class=\"hover:underline\" href=\"/docs\">Documentation </a></li>\n",
      "\t\t\t\t\t<li><a class=\"hover:underline\" href=\"/blog\">Blog </a></li>\n",
      "\t\t\t\t\t<li><a class=\"hover:underline\" href=\"https://discuss.huggingface.co\">Forum </a></li>\n",
      "\t\t\t\t\t<li><a class=\"hover:underline\" href=\"https://status.huggingface.co/\">Service Status </a></li></ul></div>\n",
      "\t\t\t<div><div class=\"mb-4 text-lg font-semibold\">Social</div>\n",
      "\t\t\t\t<ul class=\"space-y-1 text-gray-600 md:space-y-2\"><li><a class=\"hover:underline\" href=\"https://github.com/huggingface\">GitHub </a></li>\n",
      "\t\t\t\t\t<li><a class=\"hover:underline\" href=\"https://twitter.com/huggingface\">Twitter </a></li>\n",
      "\t\t\t\t\t<li><a class=\"hover:underline\" href=\"https://www.linkedin.com/company/huggingface/\">LinkedIn </a></li>\n",
      "\t\t\t\t\t<li><a class=\"hover:underline\" href=\"/join/discord\">Discord </a></li>\n",
      "\t\t\t\t\t</ul></div></div></div></footer></div>\n",
      "\n",
      "\t\t<script>\n",
      "\t\t\timport(\"/front/build/kube-47f8e3c/index.js\");\n",
      "\t\t\twindow.moonSha = \"kube-47f8e3c/\";\n",
      "\t\t</script>\n",
      "\n",
      "\t\t<!-- Stripe -->\n",
      "\t\t<script>\n",
      "\t\t\tif ([\"hf.co\", \"huggingface.co\"].includes(window.location.hostname)) {\n",
      "\t\t\t\tconst script = document.createElement(\"script\");\n",
      "\t\t\t\tscript.src = \"https://js.stripe.com/v3/\";\n",
      "\t\t\t\tscript.async = true;\n",
      "\t\t\t\tdocument.head.appendChild(script);\n",
      "\t\t\t}\n",
      "\t\t</script>\n",
      "\t</body>\n",
      "</html>\n"
     ]
    },
    {
     "name": "stderr",
     "output_type": "stream",
     "text": [
      "  % Total    % Received % Xferd  Average Speed   Time    Time     Time  Current\n",
      "                                 Dload  Upload   Total   Spent    Left  Speed\n",
      "\n",
      "  0     0    0     0    0     0      0      0 --:--:-- --:--:-- --:--:--     0\n",
      "  0     0    0     0    0     0      0      0 --:--:-- --:--:-- --:--:--     0\n",
      "  0     0    0     0    0     0      0      0 --:--:--  0:00:10 --:--:--     0\n",
      " 28  108k   28 32150    0     0   2816      0  0:00:39  0:00:11  0:00:28  2816\n",
      "100  108k  100  108k    0     0   9316      0  0:00:11  0:00:11 --:--:--  9316\n"
     ]
    }
   ],
   "source": [
    "!curl https://huggingface.co/"
   ]
  },
  {
   "cell_type": "code",
   "execution_count": 8,
   "id": "7b5e99ed",
   "metadata": {},
   "outputs": [
    {
     "name": "stderr",
     "output_type": "stream",
     "text": [
      "No model was supplied, defaulted to distilbert/distilbert-base-uncased-finetuned-sst-2-english and revision 714eb0f (https://huggingface.co/distilbert/distilbert-base-uncased-finetuned-sst-2-english).\n",
      "Using a pipeline without specifying a model name and revision in production is not recommended.\n"
     ]
    },
    {
     "data": {
      "application/vnd.jupyter.widget-view+json": {
       "model_id": "ccad6186939841709513fd2e96516259",
       "version_major": 2,
       "version_minor": 0
      },
      "text/plain": [
       "config.json:   0%|          | 0.00/629 [00:00<?, ?B/s]"
      ]
     },
     "metadata": {},
     "output_type": "display_data"
    },
    {
     "name": "stderr",
     "output_type": "stream",
     "text": [
      "d:\\Anaconda\\envs\\wz_py_3_8\\lib\\site-packages\\huggingface_hub\\file_download.py:147: UserWarning: `huggingface_hub` cache-system uses symlinks by default to efficiently store duplicated files but your machine does not support them in C:\\Users\\18801\\.cache\\huggingface\\hub\\models--distilbert--distilbert-base-uncased-finetuned-sst-2-english. Caching files will still work but in a degraded version that might require more space on your disk. This warning can be disabled by setting the `HF_HUB_DISABLE_SYMLINKS_WARNING` environment variable. For more details, see https://huggingface.co/docs/huggingface_hub/how-to-cache#limitations.\n",
      "To support symlinks on Windows, you either need to activate Developer Mode or to run Python as an administrator. In order to activate developer mode, see this article: https://docs.microsoft.com/en-us/windows/apps/get-started/enable-your-device-for-development\n",
      "  warnings.warn(message)\n"
     ]
    },
    {
     "data": {
      "application/vnd.jupyter.widget-view+json": {
       "model_id": "2635bb7d31fa40649e2c6190a49d99e6",
       "version_major": 2,
       "version_minor": 0
      },
      "text/plain": [
       "model.safetensors:   0%|          | 0.00/268M [00:00<?, ?B/s]"
      ]
     },
     "metadata": {},
     "output_type": "display_data"
    },
    {
     "data": {
      "application/vnd.jupyter.widget-view+json": {
       "model_id": "5ac3da11669c447ba6e84622686190eb",
       "version_major": 2,
       "version_minor": 0
      },
      "text/plain": [
       "tokenizer_config.json:   0%|          | 0.00/48.0 [00:00<?, ?B/s]"
      ]
     },
     "metadata": {},
     "output_type": "display_data"
    },
    {
     "data": {
      "application/vnd.jupyter.widget-view+json": {
       "model_id": "3d2d11c342834e23a8bd688d053d27a8",
       "version_major": 2,
       "version_minor": 0
      },
      "text/plain": [
       "vocab.txt:   0%|          | 0.00/232k [00:00<?, ?B/s]"
      ]
     },
     "metadata": {},
     "output_type": "display_data"
    },
    {
     "name": "stderr",
     "output_type": "stream",
     "text": [
      "Hardware accelerator e.g. GPU is available in the environment, but no `device` argument is passed to the `Pipeline` object. Model will be on CPU.\n"
     ]
    }
   ],
   "source": [
    "classifier = pipeline(\"sentiment-analysis\")"
   ]
  },
  {
   "cell_type": "code",
   "execution_count": 9,
   "id": "4f046b80",
   "metadata": {},
   "outputs": [
    {
     "data": {
      "text/plain": [
       "[{'label': 'POSITIVE', 'score': 0.9997795224189758}]"
      ]
     },
     "execution_count": 9,
     "metadata": {},
     "output_type": "execute_result"
    }
   ],
   "source": [
    "classifier(\"We are very happy to show you the 🤗 Transformers library.\")"
   ]
  },
  {
   "cell_type": "code",
   "execution_count": 10,
   "id": "fb5dd2f0",
   "metadata": {},
   "outputs": [
    {
     "name": "stdout",
     "output_type": "stream",
     "text": [
      "label: POSITIVE, with score: 0.9998\n",
      "label: NEGATIVE, with score: 0.5309\n"
     ]
    }
   ],
   "source": [
    "results = classifier([\"We are very happy to show you the 🤗 Transformers library.\", \"We hope you don't hate it.\"])\n",
    "for result in results:\n",
    "    print(f\"label: {result['label']}, with score: {round(result['score'], 4)}\")"
   ]
  },
  {
   "cell_type": "code",
   "execution_count": 11,
   "id": "4764b75f",
   "metadata": {},
   "outputs": [
    {
     "data": {
      "text/plain": [
       "[{'label': 'NEGATIVE', 'score': 0.9430265426635742}]"
      ]
     },
     "execution_count": 11,
     "metadata": {},
     "output_type": "execute_result"
    }
   ],
   "source": [
    "classifier(\"我今天做事不太顺利,有点倒霉.\")"
   ]
  },
  {
   "cell_type": "code",
   "execution_count": 13,
   "id": "6baca79f",
   "metadata": {},
   "outputs": [],
   "source": [
    "import torch\n",
    "from transformers import pipeline\n",
    "from datasets import load_dataset, Audio"
   ]
  },
  {
   "cell_type": "code",
   "execution_count": 16,
   "id": "6c368f42",
   "metadata": {},
   "outputs": [
    {
     "name": "stderr",
     "output_type": "stream",
     "text": [
      "Some weights of Wav2Vec2ForCTC were not initialized from the model checkpoint at facebook/wav2vec2-base-960h and are newly initialized: ['wav2vec2.masked_spec_embed']\n",
      "You should probably TRAIN this model on a down-stream task to be able to use it for predictions and inference.\n",
      "d:\\Anaconda\\envs\\wz_py_3_8\\lib\\site-packages\\transformers\\tokenization_utils_base.py:1617: FutureWarning: `clean_up_tokenization_spaces` was not set. It will be set to `True` by default. This behavior will be deprecated in transformers v4.45, and will be then set to `False` by default. For more details check this issue: https://github.com/huggingface/transformers/issues/31884\n",
      "  warnings.warn(\n",
      "Hardware accelerator e.g. GPU is available in the environment, but no `device` argument is passed to the `Pipeline` object. Model will be on CPU.\n"
     ]
    },
    {
     "data": {
      "application/vnd.jupyter.widget-view+json": {
       "model_id": "8eeaaaaa3fd9425ead5c833b31645fb3",
       "version_major": 2,
       "version_minor": 0
      },
      "text/plain": [
       "Generating train split: 0 examples [00:00, ? examples/s]"
      ]
     },
     "metadata": {},
     "output_type": "display_data"
    }
   ],
   "source": [
    "speech_recognizer = pipeline(\"automatic-speech-recognition\", model=\"facebook/wav2vec2-base-960h\")\n",
    "dataset = load_dataset(\"PolyAI/minds14\", name=\"en-US\", split=\"train\", trust_remote_code=\"True\")"
   ]
  },
  {
   "cell_type": "code",
   "execution_count": 18,
   "id": "a3fe0fdf",
   "metadata": {},
   "outputs": [],
   "source": [
    "# 确保数据集中的音频的采样率和训练模型时采用的采样率一致\n",
    "dataset = dataset.cast_column(\"audio\", Audio(sampling_rate=speech_recognizer.feature_extractor.sampling_rate))"
   ]
  },
  {
   "cell_type": "code",
   "execution_count": 20,
   "id": "f1e9d9a7",
   "metadata": {},
   "outputs": [
    {
     "name": "stdout",
     "output_type": "stream",
     "text": [
      "['I WOULD LIKE TO SET UP A JOINT ACCOUNT WITH MY PARTNER HOW DO I PROCEED WITH DOING THAT', \"FONDERING HOW I'D SET UP A JOIN TO HELL T WITH MY WIFE AND WHERE THE AP MIGHT BE\", \"I I'D LIKE TOY SET UP A JOINT ACCOUNT WITH MY PARTNER I'M NOT SEEING THE OPTION TO DO IT ON THE APSO I CALLED IN TO GET SOME HELP CAN I JUST DO IT OVER THE PHONE WITH YOU AND GIVE YOU THE INFORMATION OR SHOULD I DO IT IN THE AP AN I'M MISSING SOMETHING UQUETTE HAD PREFERRED TO JUST DO IT OVER THE PHONE OF POSSIBLE THINGS\", 'HOW DO I FURN A JOINA COUT']\n"
     ]
    }
   ],
   "source": [
    "result = speech_recognizer(dataset[:4][\"audio\"])\n",
    "print([d[\"text\"] for d in result])"
   ]
  },
  {
   "cell_type": "markdown",
   "id": "ffbf6676",
   "metadata": {},
   "source": [
    "分词器(tokenizer)负责对文本进行预处理,将其转化为模型的输入.\n",
    "\n",
    "实例化的分词器应该和模型训练时使用的分词器相同,以确保模型能够正常推理."
   ]
  },
  {
   "cell_type": "code",
   "execution_count": 21,
   "id": "6bb30915",
   "metadata": {},
   "outputs": [
    {
     "data": {
      "application/vnd.jupyter.widget-view+json": {
       "model_id": "5f45d1d10f9445af8c9da06450680109",
       "version_major": 2,
       "version_minor": 0
      },
      "text/plain": [
       "tokenizer_config.json:   0%|          | 0.00/39.0 [00:00<?, ?B/s]"
      ]
     },
     "metadata": {},
     "output_type": "display_data"
    },
    {
     "name": "stderr",
     "output_type": "stream",
     "text": [
      "d:\\Anaconda\\envs\\wz_py_3_8\\lib\\site-packages\\huggingface_hub\\file_download.py:147: UserWarning: `huggingface_hub` cache-system uses symlinks by default to efficiently store duplicated files but your machine does not support them in C:\\Users\\18801\\.cache\\huggingface\\hub\\models--nlptown--bert-base-multilingual-uncased-sentiment. Caching files will still work but in a degraded version that might require more space on your disk. This warning can be disabled by setting the `HF_HUB_DISABLE_SYMLINKS_WARNING` environment variable. For more details, see https://huggingface.co/docs/huggingface_hub/how-to-cache#limitations.\n",
      "To support symlinks on Windows, you either need to activate Developer Mode or to run Python as an administrator. In order to activate developer mode, see this article: https://docs.microsoft.com/en-us/windows/apps/get-started/enable-your-device-for-development\n",
      "  warnings.warn(message)\n"
     ]
    },
    {
     "data": {
      "application/vnd.jupyter.widget-view+json": {
       "model_id": "cf136f8909354321b65af5b3b71d1839",
       "version_major": 2,
       "version_minor": 0
      },
      "text/plain": [
       "config.json:   0%|          | 0.00/953 [00:00<?, ?B/s]"
      ]
     },
     "metadata": {},
     "output_type": "display_data"
    },
    {
     "data": {
      "application/vnd.jupyter.widget-view+json": {
       "model_id": "e8bacf2685d34a939fbaf0d07f74648c",
       "version_major": 2,
       "version_minor": 0
      },
      "text/plain": [
       "vocab.txt:   0%|          | 0.00/872k [00:00<?, ?B/s]"
      ]
     },
     "metadata": {},
     "output_type": "display_data"
    },
    {
     "data": {
      "application/vnd.jupyter.widget-view+json": {
       "model_id": "a6bec8387d194866a8acb2ba70bbeb02",
       "version_major": 2,
       "version_minor": 0
      },
      "text/plain": [
       "special_tokens_map.json:   0%|          | 0.00/112 [00:00<?, ?B/s]"
      ]
     },
     "metadata": {},
     "output_type": "display_data"
    }
   ],
   "source": [
    "from transformers import AutoTokenizer\n",
    "\n",
    "model_name = \"nlptown/bert-base-multilingual-uncased-sentiment\"\n",
    "tokenizer = AutoTokenizer.from_pretrained(model_name)"
   ]
  },
  {
   "cell_type": "code",
   "execution_count": 22,
   "id": "fff41948",
   "metadata": {},
   "outputs": [
    {
     "name": "stdout",
     "output_type": "stream",
     "text": [
      "{'input_ids': [101, 11312, 10320, 12495, 19308, 10114, 11391, 10855, 10103, 100, 58263, 13299, 119, 102], 'token_type_ids': [0, 0, 0, 0, 0, 0, 0, 0, 0, 0, 0, 0, 0, 0], 'attention_mask': [1, 1, 1, 1, 1, 1, 1, 1, 1, 1, 1, 1, 1, 1]}\n"
     ]
    }
   ],
   "source": [
    "encoding = tokenizer(\"We are very happy to show you the 🤗 Transformers library.\")\n",
    "print(encoding)"
   ]
  },
  {
   "cell_type": "markdown",
   "id": "97fef576",
   "metadata": {},
   "source": [
    "一个分词器可以接收一串输入, 对文本进行填充/截断操作, 返回一批长度相同的文本"
   ]
  },
  {
   "cell_type": "code",
   "execution_count": 23,
   "id": "4a9e7022",
   "metadata": {},
   "outputs": [],
   "source": [
    "pt_batch = tokenizer(\n",
    "    [\"We are very happy to show you the 🤗 Transformers library.\", \"We hope you don't hate it.\"],\n",
    "    padding=True,\n",
    "    truncation=True,\n",
    "    max_length=512,\n",
    "    return_tensors=\"pt\",\n",
    ")"
   ]
  },
  {
   "cell_type": "code",
   "execution_count": 24,
   "id": "85339090",
   "metadata": {},
   "outputs": [
    {
     "name": "stdout",
     "output_type": "stream",
     "text": [
      "{'input_ids': tensor([[  101, 11312, 10320, 12495, 19308, 10114, 11391, 10855, 10103,   100,\n",
      "         58263, 13299,   119,   102],\n",
      "        [  101, 11312, 18763, 10855, 11530,   112,   162, 39487, 10197,   119,\n",
      "           102,     0,     0,     0]]), 'token_type_ids': tensor([[0, 0, 0, 0, 0, 0, 0, 0, 0, 0, 0, 0, 0, 0],\n",
      "        [0, 0, 0, 0, 0, 0, 0, 0, 0, 0, 0, 0, 0, 0]]), 'attention_mask': tensor([[1, 1, 1, 1, 1, 1, 1, 1, 1, 1, 1, 1, 1, 1],\n",
      "        [1, 1, 1, 1, 1, 1, 1, 1, 1, 1, 1, 0, 0, 0]])}\n"
     ]
    }
   ],
   "source": [
    "print(pt_batch)"
   ]
  },
  {
   "cell_type": "code",
   "execution_count": 25,
   "id": "55c9e8be",
   "metadata": {},
   "outputs": [
    {
     "data": {
      "application/vnd.jupyter.widget-view+json": {
       "model_id": "724d555f3b9a4ebf99feba3c65e3466d",
       "version_major": 2,
       "version_minor": 0
      },
      "text/plain": [
       "pytorch_model.bin:   0%|          | 0.00/669M [00:00<?, ?B/s]"
      ]
     },
     "metadata": {},
     "output_type": "display_data"
    },
    {
     "name": "stderr",
     "output_type": "stream",
     "text": [
      "d:\\Anaconda\\envs\\wz_py_3_8\\lib\\site-packages\\torch\\_utils.py:776: UserWarning: TypedStorage is deprecated. It will be removed in the future and UntypedStorage will be the only storage class. This should only matter to you if you are using storages directly.  To access UntypedStorage directly, use tensor.untyped_storage() instead of tensor.storage()\n",
      "  return self.fget.__get__(instance, owner)()\n"
     ]
    }
   ],
   "source": [
    "from transformers import AutoModelForSequenceClassification\n",
    "\n",
    "model_name = \"nlptown/bert-base-multilingual-uncased-sentiment\"\n",
    "pt_model = AutoModelForSequenceClassification.from_pretrained(model_name)"
   ]
  },
  {
   "cell_type": "code",
   "execution_count": 26,
   "id": "4916d3d3",
   "metadata": {},
   "outputs": [],
   "source": [
    "pt_outputs = pt_model(**pt_batch)"
   ]
  },
  {
   "cell_type": "code",
   "execution_count": 27,
   "id": "bbff42d2",
   "metadata": {},
   "outputs": [
    {
     "name": "stdout",
     "output_type": "stream",
     "text": [
      "tensor([[0.0021, 0.0018, 0.0115, 0.2121, 0.7725],\n",
      "        [0.2084, 0.1826, 0.1969, 0.1755, 0.2365]], grad_fn=<SoftmaxBackward0>)\n"
     ]
    }
   ],
   "source": [
    "from torch import nn\n",
    "\n",
    "pt_predictions = nn.functional.softmax(pt_outputs.logits, dim=-1)\n",
    "print(pt_predictions)"
   ]
  },
  {
   "cell_type": "code",
   "execution_count": 28,
   "id": "e92ee9f1",
   "metadata": {},
   "outputs": [],
   "source": [
    "pt_save_directory = \"./pt_save_pretrained\"\n",
    "tokenizer.save_pretrained(pt_save_directory)\n",
    "pt_model.save_pretrained(pt_save_directory)"
   ]
  },
  {
   "cell_type": "code",
   "execution_count": 29,
   "id": "e37da2ce",
   "metadata": {},
   "outputs": [
    {
     "data": {
      "application/vnd.jupyter.widget-view+json": {
       "model_id": "f433b9bff24243ceb692b33800ffdb31",
       "version_major": 2,
       "version_minor": 0
      },
      "text/plain": [
       "config.json:   0%|          | 0.00/483 [00:00<?, ?B/s]"
      ]
     },
     "metadata": {},
     "output_type": "display_data"
    },
    {
     "name": "stderr",
     "output_type": "stream",
     "text": [
      "d:\\Anaconda\\envs\\wz_py_3_8\\lib\\site-packages\\huggingface_hub\\file_download.py:147: UserWarning: `huggingface_hub` cache-system uses symlinks by default to efficiently store duplicated files but your machine does not support them in C:\\Users\\18801\\.cache\\huggingface\\hub\\models--distilbert--distilbert-base-uncased. Caching files will still work but in a degraded version that might require more space on your disk. This warning can be disabled by setting the `HF_HUB_DISABLE_SYMLINKS_WARNING` environment variable. For more details, see https://huggingface.co/docs/huggingface_hub/how-to-cache#limitations.\n",
      "To support symlinks on Windows, you either need to activate Developer Mode or to run Python as an administrator. In order to activate developer mode, see this article: https://docs.microsoft.com/en-us/windows/apps/get-started/enable-your-device-for-development\n",
      "  warnings.warn(message)\n"
     ]
    }
   ],
   "source": [
    "from transformers import AutoConfig\n",
    "from transformers import AutoModel\n",
    "\n",
    "my_config = AutoConfig.from_pretrained(\"distilbert/distilbert-base-uncased\", n_heads=12)\n",
    "my_model = AutoModel.from_config(my_config)"
   ]
  },
  {
   "cell_type": "code",
   "execution_count": 30,
   "id": "d9b2cd30",
   "metadata": {},
   "outputs": [
    {
     "data": {
      "application/vnd.jupyter.widget-view+json": {
       "model_id": "874af2faec3a4271b41b6a5e144ebef6",
       "version_major": 2,
       "version_minor": 0
      },
      "text/plain": [
       "model.safetensors:   0%|          | 0.00/268M [00:00<?, ?B/s]"
      ]
     },
     "metadata": {},
     "output_type": "display_data"
    },
    {
     "name": "stderr",
     "output_type": "stream",
     "text": [
      "Some weights of DistilBertForSequenceClassification were not initialized from the model checkpoint at distilbert/distilbert-base-uncased and are newly initialized: ['classifier.bias', 'classifier.weight', 'pre_classifier.bias', 'pre_classifier.weight']\n",
      "You should probably TRAIN this model on a down-stream task to be able to use it for predictions and inference.\n"
     ]
    }
   ],
   "source": [
    "model = AutoModelForSequenceClassification.from_pretrained(\"distilbert/distilbert-base-uncased\")"
   ]
  },
  {
   "cell_type": "code",
   "execution_count": 31,
   "id": "e71068ee",
   "metadata": {},
   "outputs": [],
   "source": [
    "from transformers import TrainingArguments\n",
    "\n",
    "training_args = TrainingArguments(\n",
    "    output_dir=\"./train_model/\",\n",
    "    learning_rate=2e-5,\n",
    "    per_device_train_batch_size=8,\n",
    "    per_device_eval_batch_size=8,\n",
    "    num_train_epochs=2,\n",
    ")"
   ]
  },
  {
   "cell_type": "code",
   "execution_count": 32,
   "id": "42d0ced8",
   "metadata": {},
   "outputs": [
    {
     "data": {
      "application/vnd.jupyter.widget-view+json": {
       "model_id": "d934fa660f7f4791a9509f734e7957a9",
       "version_major": 2,
       "version_minor": 0
      },
      "text/plain": [
       "tokenizer_config.json:   0%|          | 0.00/48.0 [00:00<?, ?B/s]"
      ]
     },
     "metadata": {},
     "output_type": "display_data"
    },
    {
     "data": {
      "application/vnd.jupyter.widget-view+json": {
       "model_id": "a1d6a436a27946a0aeff6a77b2d7f0a2",
       "version_major": 2,
       "version_minor": 0
      },
      "text/plain": [
       "vocab.txt:   0%|          | 0.00/232k [00:00<?, ?B/s]"
      ]
     },
     "metadata": {},
     "output_type": "display_data"
    },
    {
     "data": {
      "application/vnd.jupyter.widget-view+json": {
       "model_id": "333392560c1448dd9dee4939b0a2af08",
       "version_major": 2,
       "version_minor": 0
      },
      "text/plain": [
       "tokenizer.json:   0%|          | 0.00/466k [00:00<?, ?B/s]"
      ]
     },
     "metadata": {},
     "output_type": "display_data"
    },
    {
     "name": "stderr",
     "output_type": "stream",
     "text": [
      "d:\\Anaconda\\envs\\wz_py_3_8\\lib\\site-packages\\transformers\\tokenization_utils_base.py:1617: FutureWarning: `clean_up_tokenization_spaces` was not set. It will be set to `True` by default. This behavior will be deprecated in transformers v4.45, and will be then set to `False` by default. For more details check this issue: https://github.com/huggingface/transformers/issues/31884\n",
      "  warnings.warn(\n"
     ]
    }
   ],
   "source": [
    "from transformers import AutoTokenizer\n",
    "\n",
    "tokenizer = AutoTokenizer.from_pretrained(\"distilbert/distilbert-base-uncased\")"
   ]
  },
  {
   "cell_type": "code",
   "execution_count": null,
   "id": "c106083a",
   "metadata": {},
   "outputs": [],
   "source": [
    "from datasets import load_dataset\n",
    "\n",
    "dataset = load_dataset(\"rotten_tomatoes\")  # doctest: +IGNORE_RESULT"
   ]
  },
  {
   "cell_type": "code",
   "execution_count": 33,
   "id": "ed62b46c",
   "metadata": {},
   "outputs": [],
   "source": [
    "def tokenize_dataset(dataset):\n",
    "    return tokenizer(dataset[\"text\"])"
   ]
  },
  {
   "cell_type": "code",
   "execution_count": null,
   "id": "74ea475e",
   "metadata": {},
   "outputs": [],
   "source": [
    "dataset = dataset.map(tokenize_dataset, batched=True)"
   ]
  },
  {
   "cell_type": "code",
   "execution_count": null,
   "id": "736c43d3",
   "metadata": {},
   "outputs": [],
   "source": [
    "from transformers import DataCollatorWithPadding\n",
    "\n",
    "data_collator = DataCollatorWithPadding(tokenizer=tokenizer)"
   ]
  },
  {
   "cell_type": "code",
   "execution_count": null,
   "id": "be945e9c",
   "metadata": {},
   "outputs": [],
   "source": [
    "from transformers import Trainer\n",
    "\n",
    "trainer = Trainer(\n",
    "    model=model,\n",
    "    args=training_args,\n",
    "    train_dataset=dataset[\"train\"],\n",
    "    eval_dataset=dataset[\"test\"],\n",
    "    tokenizer=tokenizer,\n",
    "    data_collator=data_collator,\n",
    ")  # doctest: +SKIP"
   ]
  },
  {
   "cell_type": "code",
   "execution_count": null,
   "id": "8c1fa5e4",
   "metadata": {},
   "outputs": [],
   "source": [
    "trainer.train()"
   ]
  }
 ],
 "metadata": {
  "kernelspec": {
   "display_name": "wz_py_3_8",
   "language": "python",
   "name": "python3"
  },
  "language_info": {
   "codemirror_mode": {
    "name": "ipython",
    "version": 3
   },
   "file_extension": ".py",
   "mimetype": "text/x-python",
   "name": "python",
   "nbconvert_exporter": "python",
   "pygments_lexer": "ipython3",
   "version": "3.8.16"
  }
 },
 "nbformat": 4,
 "nbformat_minor": 5
}
