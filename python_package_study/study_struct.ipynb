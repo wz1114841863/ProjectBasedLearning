{
 "cells": [
  {
   "cell_type": "code",
   "execution_count": 15,
   "id": "c01984f9",
   "metadata": {
    "scrolled": false
   },
   "outputs": [
    {
     "name": "stdout",
     "output_type": "stream",
     "text": [
      "b'this is a bytes'\n",
      "<class 'bytes'>\n",
      "b'\\x00\\x00\\x00\\x00\\x00\\x00\\x00\\x00\\x00\\x00'\n",
      "b'\\x00\\x01\\x02\\x03\\x04\\x05\\x06\\x07\\x08\\t\\n\\x0b\\x0c\\r\\x0e\\x0f\\x10\\x11\\x12\\x13\\x14\\x15\\x16\\x17\\x18\\x19\\x1a\\x1b\\x1c\\x1d\\x1e\\x1f !\"#$%&\\'()*+,-./0123456789:;<=>?@ABCDEFGHIJKLMNOPQRSTUVWXYZ[\\\\]^_`abc'\n"
     ]
    }
   ],
   "source": [
    "# 内置类型：bytes \n",
    "bytes_str = b\"this is a bytes\"\n",
    "print(bytes_str)\n",
    "print(type(bytes_str))\n",
    "# 其他构造函数\n",
    "tmp = bytes(10)\n",
    "print(tmp)\n",
    "tmp = bytes(range(100))\n",
    "print(tmp)"
   ]
  },
  {
   "cell_type": "code",
   "execution_count": 19,
   "id": "02a6d982",
   "metadata": {},
   "outputs": [
    {
     "name": "stdout",
     "output_type": "stream",
     "text": [
      "b'\\xff\\xee'\n",
      "ffee\n",
      "[255, 238]\n"
     ]
    }
   ],
   "source": [
    "# 从十六进制字符串转为bytes, 忽略所有的空白字符\n",
    "tmp = bytes.fromhex(\"FF EE\")\n",
    "print(tmp)\n",
    "# 从字节串变为十六进制字符串\n",
    "value = tmp.hex()\n",
    "print(value)\n",
    "# 从字节串到列表\n",
    "value = list(tmp)\n",
    "print(value)"
   ]
  },
  {
   "cell_type": "code",
   "execution_count": 24,
   "id": "579c45fa",
   "metadata": {},
   "outputs": [
    {
     "name": "stdout",
     "output_type": "stream",
     "text": [
      "<class 'bytearray'>\n",
      "bytearray(b'\\x00\\x00\\x00\\x00\\x00\\x00\\x00\\x00\\x00\\x00')\n",
      "bytearray(b'\\x00\\x01\\x02\\x03\\x04\\x05\\x06\\x07\\x08\\t\\n\\x0b\\x0c\\r\\x0e\\x0f\\x10\\x11\\x12\\x13\\x14\\x15\\x16\\x17\\x18\\x19\\x1a\\x1b\\x1c\\x1d\\x1e\\x1f !\"#$%&\\'()*+,-./0123456789:;<=>?@ABCDEFGHIJKLMNOPQRSTUVWXYZ[\\\\]^_`abc')\n"
     ]
    }
   ],
   "source": [
    "# 内置类型：bytearray\n",
    "bytes_array = bytearray()\n",
    "print(type(bytes_array))\n",
    "tmp = bytearray(10)\n",
    "print(tmp)\n",
    "tmp = bytearray(range(100))\n",
    "print(tmp)"
   ]
  },
  {
   "cell_type": "code",
   "execution_count": 30,
   "id": "c171ca7a",
   "metadata": {},
   "outputs": [
    {
     "name": "stdout",
     "output_type": "stream",
     "text": [
      "\u0000\u0001\u0002\u0003\u0004\u0005\u0006\u0007\b\t\n",
      "\u000b",
      "\f",
      "\r",
      "\u000e\u000f\u0010\u0011\u0012\u0013\u0014\u0015\u0016\u0017\u0018\u0019\u001a\u001b\u001c",
      "\u001d",
      "\u001e",
      "\u001f !\"#$%&'()*+,-./0123456789:;<=>?@ABCDEFGHIJKLMNOPQRSTUVWXYZ[\\]^_`abc\n"
     ]
    }
   ],
   "source": [
    "# bytes所具有的方法bytearray同样具有\n",
    "# 此外，与bytes相同， bytearray的索引对应一个整数\n",
    "# 支持通用序列操作，可以与字符串等来回转换\n",
    "print(tmp.decode(encoding='utf-8'))"
   ]
  },
  {
   "cell_type": "code",
   "execution_count": 37,
   "id": "cac3e573",
   "metadata": {},
   "outputs": [
    {
     "name": "stdout",
     "output_type": "stream",
     "text": [
      "<class 'bytes'>\n",
      "b'\\x00\\x9c@c'\n",
      "b'\\x00\\x9c@c'\n",
      "(10240099,)\n"
     ]
    }
   ],
   "source": [
    "import struct\n",
    "# 将数据格式化为字节串\n",
    "tmp = struct.pack('>I', 10240099)  # 对应十六进制，9c4063\n",
    "print(type(tmp))\n",
    "print(tmp)\n",
    "tmp1 = \"009c4063\"\n",
    "tmp2 = bytes.fromhex(tmp1)\n",
    "print(tmp2)\n",
    "# 解包\n",
    "tmp1 = struct.unpack('>I', tmp2)\n",
    "print(tmp1)"
   ]
  },
  {
   "cell_type": "code",
   "execution_count": 39,
   "id": "6c2964d1",
   "metadata": {},
   "outputs": [],
   "source": [
    "# 所以将整数和浮点数转为十六进制可以使用struct.pack()\n",
    "def float_to_hex(num):\n",
    "    \"\"\"将 float 数据转换为字节数组\"\"\"\n",
    "    bytes_repr = ustruct.pack('>f', num)  # 大端序，四字节浮点数\n",
    "    hex_array = bytearray(bytes_repr)  # 将字节串转换为字节数组\n",
    "    return hex_array\n",
    "\n",
    "\n",
    "def int_to_hex(num):\n",
    "    \"\"\"将 int 数据转换为字节数组\n",
    "    \"\"\"\n",
    "    bytes_repr = ustruct.pack('>i', num)  # 大端序， 四字节有符号整数\n",
    "    hex_array = bytearray(bytes_repr)\n",
    "    return hex_array"
   ]
  }
 ],
 "metadata": {
  "kernelspec": {
   "display_name": "Python 3 (ipykernel)",
   "language": "python",
   "name": "python3"
  },
  "language_info": {
   "codemirror_mode": {
    "name": "ipython",
    "version": 3
   },
   "file_extension": ".py",
   "mimetype": "text/x-python",
   "name": "python",
   "nbconvert_exporter": "python",
   "pygments_lexer": "ipython3",
   "version": "3.10.9"
  }
 },
 "nbformat": 4,
 "nbformat_minor": 5
}
