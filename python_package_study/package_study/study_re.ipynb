{
 "cells": [
  {
   "cell_type": "code",
   "execution_count": 1,
   "id": "a7ea5361",
   "metadata": {},
   "outputs": [],
   "source": [
    "import re"
   ]
  },
  {
   "cell_type": "code",
   "execution_count": 2,
   "id": "149824fd",
   "metadata": {},
   "outputs": [
    {
     "name": "stdout",
     "output_type": "stream",
     "text": [
      "re.compile('ab*')\n"
     ]
    }
   ],
   "source": [
    "# 编译正则表达式，正则表达式被编译成模式对象\n",
    "# 模式对象具有各种操作的方法，例如搜索模式匹配或执行字符串替换\n",
    "pattern = re.compile(\"ab*\")\n",
    "print(pattern)"
   ]
  },
  {
   "cell_type": "code",
   "execution_count": 3,
   "id": "3b169ae9",
   "metadata": {},
   "outputs": [
    {
     "name": "stdout",
     "output_type": "stream",
     "text": [
      "re.compile('ab*', re.IGNORECASE)\n"
     ]
    }
   ],
   "source": [
    "p = re.compile('ab*', re.IGNORECASE)\n",
    "print(p)"
   ]
  },
  {
   "cell_type": "code",
   "execution_count": 5,
   "id": "49a5a5a2",
   "metadata": {},
   "outputs": [
    {
     "name": "stdout",
     "output_type": "stream",
     "text": [
      "None\n",
      "<re.Match object; span=(0, 5), match='tempo'>\n"
     ]
    }
   ],
   "source": [
    "# 模式对象\n",
    "# match: 确定正则是否从字符串的开头匹配, 未找到返回None\n",
    "# search：扫描字符串，查找此正则匹配的任何位置, 未找到返回None\n",
    "# findall: 找到正则匹配的所有子字符串，并将它们作为列表返回。\n",
    "# finditer：找到正则匹配的所有子字符串，并将它们返回为一个 iterator。\n",
    "p = re.compile(\"[a-z]+\")\n",
    "print(p.match(\"\"))\n",
    "print(p.match(\"tempo\"))"
   ]
  },
  {
   "cell_type": "code",
   "execution_count": 6,
   "id": "237cbc5f",
   "metadata": {},
   "outputs": [
    {
     "name": "stdout",
     "output_type": "stream",
     "text": [
      "tempo\n",
      "0\n",
      "5\n",
      "(0, 5)\n"
     ]
    }
   ],
   "source": [
    "# group：返回正则匹配的字符串\n",
    "# start: 返回匹配的开始位置\n",
    "# end: 返回匹配的结束位置\n",
    "# span: 返回包含匹配的位置的元组\n",
    "m = p.match(\"tempo\")\n",
    "print(m.group())\n",
    "print(m.start())\n",
    "print(m.end())\n",
    "print(m.span())"
   ]
  },
  {
   "cell_type": "code",
   "execution_count": 9,
   "id": "52f55a61",
   "metadata": {},
   "outputs": [
    {
     "name": "stdout",
     "output_type": "stream",
     "text": [
      "None\n",
      "<re.Match object; span=(4, 11), match='message'>\n"
     ]
    },
    {
     "data": {
      "text/plain": [
       "(4, 11)"
      ]
     },
     "execution_count": 9,
     "metadata": {},
     "output_type": "execute_result"
    }
   ],
   "source": [
    "print(p.match(\"::: message\"))\n",
    "m = p.search(\"::: message\")\n",
    "print(m)\n",
    "m.group()\n",
    "m.span()"
   ]
  },
  {
   "cell_type": "code",
   "execution_count": 10,
   "id": "7b07253e",
   "metadata": {},
   "outputs": [
    {
     "name": "stdout",
     "output_type": "stream",
     "text": [
      "Match found:  message\n"
     ]
    }
   ],
   "source": [
    "if m:\n",
    "    print(\"Match found: \", m.group())\n",
    "else:\n",
    "    print(\"No match\")"
   ]
  },
  {
   "cell_type": "code",
   "execution_count": 11,
   "id": "fd46f7ef",
   "metadata": {},
   "outputs": [
    {
     "name": "stdout",
     "output_type": "stream",
     "text": [
      "<re.Match object; span=(0, 2), match='12'>\n"
     ]
    },
    {
     "data": {
      "text/plain": [
       "['12', '11', '10']"
      ]
     },
     "execution_count": 11,
     "metadata": {},
     "output_type": "execute_result"
    }
   ],
   "source": [
    "p = re.compile(r'\\d+')\n",
    "match_str = \"12 drummers drumming, 11 pipers piping, 10 lords a-leaping\"\n",
    "print(p.search(match_str))\n",
    "p.findall(match_str)"
   ]
  },
  {
   "cell_type": "code",
   "execution_count": 12,
   "id": "7652a8e5",
   "metadata": {},
   "outputs": [
    {
     "name": "stdout",
     "output_type": "stream",
     "text": [
      "(0, 2)\n",
      "(22, 24)\n",
      "(40, 42)\n"
     ]
    }
   ],
   "source": [
    "iterator = p.finditer(match_str)\n",
    "iterator  \n",
    "for match in iterator:\n",
    "    print(match.span())"
   ]
  },
  {
   "cell_type": "code",
   "execution_count": 13,
   "id": "1ddfa1b2",
   "metadata": {},
   "outputs": [
    {
     "name": "stdout",
     "output_type": "stream",
     "text": [
      "None\n"
     ]
    },
    {
     "data": {
      "text/plain": [
       "<re.Match object; span=(0, 5), match='From '>"
      ]
     },
     "execution_count": 13,
     "metadata": {},
     "output_type": "execute_result"
    }
   ],
   "source": [
    "# 不用创建模式对象,直接调用顶层函数\n",
    "print(re.match(r'From\\s+', 'Fromage amk'))\n",
    "re.match(r'From\\s+', 'From amk Thu May 14 19:12:10 1998')  "
   ]
  },
  {
   "cell_type": "code",
   "execution_count": 14,
   "id": "a591eea7",
   "metadata": {},
   "outputs": [
    {
     "name": "stdout",
     "output_type": "stream",
     "text": [
      "<re.Match object; span=(0, 4), match='From'>\n",
      "None\n"
     ]
    }
   ],
   "source": [
    "print(re.search('^From', 'From Here to Eternity'))  \n",
    "print(re.search('^From', 'Reciting From Memory'))"
   ]
  },
  {
   "cell_type": "code",
   "execution_count": 15,
   "id": "332bfe47",
   "metadata": {},
   "outputs": [
    {
     "name": "stdout",
     "output_type": "stream",
     "text": [
      "<re.Match object; span=(6, 7), match='}'>\n",
      "None\n",
      "<re.Match object; span=(6, 7), match='}'>\n"
     ]
    }
   ],
   "source": [
    "print(re.search('}$', '{block}'))  \n",
    "print(re.search('}$', '{block} '))\n",
    "print(re.search('}$', '{block}\\n'))  "
   ]
  },
  {
   "cell_type": "code",
   "execution_count": 16,
   "id": "99942f42",
   "metadata": {},
   "outputs": [
    {
     "name": "stdout",
     "output_type": "stream",
     "text": [
      "(0, 10)\n"
     ]
    }
   ],
   "source": [
    "# 分组\n",
    "# 正则表达式通常用于通过将正则分成几个子组来解析字符串\n",
    "# 这些子组匹配不同的感兴趣组件\n",
    "p = re.compile('(ab)*')\n",
    "print(p.match('ababababab').span())"
   ]
  },
  {
   "cell_type": "code",
   "execution_count": null,
   "id": "3f3e8098",
   "metadata": {},
   "outputs": [],
   "source": []
  },
  {
   "cell_type": "code",
   "execution_count": 17,
   "id": "70295540",
   "metadata": {},
   "outputs": [],
   "source": [
    "# 修改字符串\n",
    "# split: 将字符串拆分为一个列表，在正则匹配的任何地方将其拆分\n",
    "# sub: 找到正则匹配的所有子字符串，并用不同的字符串替换它们\n",
    "# subn: 与 sub() 相同，但返回新字符串和替换次数"
   ]
  },
  {
   "cell_type": "code",
   "execution_count": 18,
   "id": "81e0c4c4",
   "metadata": {},
   "outputs": [
    {
     "name": "stdout",
     "output_type": "stream",
     "text": [
      "['This', 'is', 'a', 'test', 'short', 'and', 'sweet', 'of', 'split', '']\n",
      "['This', 'is', 'a', 'test, short and sweet, of split().']\n"
     ]
    }
   ],
   "source": [
    "p = re.compile(r'\\W+')\n",
    "\n",
    "print(p.split('This is a test, short and sweet, of split().'))\n",
    "print(p.split('This is a test, short and sweet, of split().', 3))"
   ]
  },
  {
   "cell_type": "code",
   "execution_count": 19,
   "id": "7973c844",
   "metadata": {},
   "outputs": [
    {
     "data": {
      "text/plain": [
       "['This', '... ', 'is', ' ', 'a', ' ', 'test', '.', '']"
      ]
     },
     "execution_count": 19,
     "metadata": {},
     "output_type": "execute_result"
    }
   ],
   "source": [
    "# 使用捕获括号，则它们的值也将作为列表的一部分返回\n",
    "p = re.compile(r'\\W+')\n",
    "p2 = re.compile(r'(\\W+)')\n",
    "\n",
    "p.split('This... is a test.')\n",
    "p2.split('This... is a test.')"
   ]
  },
  {
   "cell_type": "code",
   "execution_count": 20,
   "id": "5bccc309",
   "metadata": {},
   "outputs": [
    {
     "data": {
      "text/plain": [
       "'colour socks and red shoes'"
      ]
     },
     "execution_count": 20,
     "metadata": {},
     "output_type": "execute_result"
    }
   ],
   "source": [
    "p = re.compile('(blue|white|red)')\n",
    "\n",
    "p.sub('colour', 'blue socks and red shoes')\n",
    "p.sub('colour', 'blue socks and red shoes', count=1)"
   ]
  }
 ],
 "metadata": {
  "kernelspec": {
   "display_name": "wz_py_3_8",
   "language": "python",
   "name": "wz_py_3_8"
  },
  "language_info": {
   "codemirror_mode": {
    "name": "ipython",
    "version": 3
   },
   "file_extension": ".py",
   "mimetype": "text/x-python",
   "name": "python",
   "nbconvert_exporter": "python",
   "pygments_lexer": "ipython3",
   "version": "3.8.16"
  }
 },
 "nbformat": 4,
 "nbformat_minor": 5
}
